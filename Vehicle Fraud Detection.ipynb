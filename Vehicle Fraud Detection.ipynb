{
 "cells": [
  {
   "cell_type": "markdown",
   "id": "1f94a124",
   "metadata": {},
   "source": [
    "## 2.1 Introduction<a id='2.2_Introduction'></a>"
   ]
  },
  {
   "cell_type": "markdown",
   "id": "81d86fa5",
   "metadata": {},
   "source": [
    "\n",
    "This step focuses on collecting your data, organizing it, and making sure it's well defined. "
   ]
  },
  {
   "cell_type": "markdown",
   "id": "ee764214",
   "metadata": {},
   "source": [
    "### 2.1.1 Recap Of Data Science Problem<a id='2.2.1_Recap_Of_Data_Science_Problem'></a>\n"
   ]
  },
  {
   "cell_type": "markdown",
   "id": "278e9bb4",
   "metadata": {},
   "source": [
    "In this project, we are trying to create a fraud detection system to predict fraud from the data provided on kaggle \n",
    "https://www.kaggle.com/shivamb/vehicle-claim-fraud-detection"
   ]
  },
  {
   "cell_type": "markdown",
   "id": "211adaac",
   "metadata": {},
   "source": [
    "## 2.3 Imports<a id='2.3_Imports'></a>"
   ]
  },
  {
   "cell_type": "code",
   "execution_count": 3,
   "id": "53a5f1c9",
   "metadata": {},
   "outputs": [],
   "source": [
    "#Code task 1#\n",
    "#Import pandas, matplotlib.pyplot, and seaborn in the correct lines below\n",
    "import pandas as pd\n",
    "import matplotlib.pyplot as plt\n",
    "import seaborn as sns\n",
    "import os"
   ]
  },
  {
   "cell_type": "markdown",
   "id": "6723f88c",
   "metadata": {},
   "source": [
    "## 2.4 Objectives<a id='2.4_Objectives'></a>"
   ]
  },
  {
   "cell_type": "markdown",
   "id": "07ff2c49",
   "metadata": {},
   "source": [
    "The objectives of this project is to determine the variables leading to fraudulent transactions in auto claims"
   ]
  },
  {
   "cell_type": "markdown",
   "id": "6ef4b617",
   "metadata": {},
   "source": [
    "## 2.5 Load The Vehicle Claim Data "
   ]
  },
  {
   "cell_type": "code",
   "execution_count": 4,
   "id": "b2ff7564",
   "metadata": {},
   "outputs": [],
   "source": [
    "vf = pd.read_csv(\"fraud_oracle.csv\")"
   ]
  },
  {
   "cell_type": "code",
   "execution_count": 6,
   "id": "91cb9e02",
   "metadata": {},
   "outputs": [
    {
     "name": "stdout",
     "output_type": "stream",
     "text": [
      "<class 'pandas.core.frame.DataFrame'>\n",
      "RangeIndex: 15420 entries, 0 to 15419\n",
      "Data columns (total 33 columns):\n",
      " #   Column                Non-Null Count  Dtype \n",
      "---  ------                --------------  ----- \n",
      " 0   Month                 15420 non-null  object\n",
      " 1   WeekOfMonth           15420 non-null  int64 \n",
      " 2   DayOfWeek             15420 non-null  object\n",
      " 3   Make                  15420 non-null  object\n",
      " 4   AccidentArea          15420 non-null  object\n",
      " 5   DayOfWeekClaimed      15420 non-null  object\n",
      " 6   MonthClaimed          15420 non-null  object\n",
      " 7   WeekOfMonthClaimed    15420 non-null  int64 \n",
      " 8   Sex                   15420 non-null  object\n",
      " 9   MaritalStatus         15420 non-null  object\n",
      " 10  Age                   15420 non-null  int64 \n",
      " 11  Fault                 15420 non-null  object\n",
      " 12  PolicyType            15420 non-null  object\n",
      " 13  VehicleCategory       15420 non-null  object\n",
      " 14  VehiclePrice          15420 non-null  object\n",
      " 15  FraudFound_P          15420 non-null  int64 \n",
      " 16  PolicyNumber          15420 non-null  int64 \n",
      " 17  RepNumber             15420 non-null  int64 \n",
      " 18  Deductible            15420 non-null  int64 \n",
      " 19  DriverRating          15420 non-null  int64 \n",
      " 20  Days_Policy_Accident  15420 non-null  object\n",
      " 21  Days_Policy_Claim     15420 non-null  object\n",
      " 22  PastNumberOfClaims    15420 non-null  object\n",
      " 23  AgeOfVehicle          15420 non-null  object\n",
      " 24  AgeOfPolicyHolder     15420 non-null  object\n",
      " 25  PoliceReportFiled     15420 non-null  object\n",
      " 26  WitnessPresent        15420 non-null  object\n",
      " 27  AgentType             15420 non-null  object\n",
      " 28  NumberOfSuppliments   15420 non-null  object\n",
      " 29  AddressChange_Claim   15420 non-null  object\n",
      " 30  NumberOfCars          15420 non-null  object\n",
      " 31  Year                  15420 non-null  int64 \n",
      " 32  BasePolicy            15420 non-null  object\n",
      "dtypes: int64(9), object(24)\n",
      "memory usage: 3.9+ MB\n"
     ]
    }
   ],
   "source": [
    "#Calling  the info method on vf to see info about the data\n",
    "vf.info()"
   ]
  },
  {
   "cell_type": "markdown",
   "id": "7ff231f1",
   "metadata": {},
   "source": [
    "<b> Luckily the data looks pretty clean without any missing values<b>"
   ]
  },
  {
   "cell_type": "code",
   "execution_count": 7,
   "id": "572161be",
   "metadata": {},
   "outputs": [
    {
     "data": {
      "text/plain": [
       "Month                   0\n",
       "WeekOfMonth             0\n",
       "DayOfWeek               0\n",
       "Make                    0\n",
       "AccidentArea            0\n",
       "DayOfWeekClaimed        0\n",
       "MonthClaimed            0\n",
       "WeekOfMonthClaimed      0\n",
       "Sex                     0\n",
       "MaritalStatus           0\n",
       "Age                     0\n",
       "Fault                   0\n",
       "PolicyType              0\n",
       "VehicleCategory         0\n",
       "VehiclePrice            0\n",
       "FraudFound_P            0\n",
       "PolicyNumber            0\n",
       "RepNumber               0\n",
       "Deductible              0\n",
       "DriverRating            0\n",
       "Days_Policy_Accident    0\n",
       "Days_Policy_Claim       0\n",
       "PastNumberOfClaims      0\n",
       "AgeOfVehicle            0\n",
       "AgeOfPolicyHolder       0\n",
       "PoliceReportFiled       0\n",
       "WitnessPresent          0\n",
       "AgentType               0\n",
       "NumberOfSuppliments     0\n",
       "AddressChange_Claim     0\n",
       "NumberOfCars            0\n",
       "Year                    0\n",
       "BasePolicy              0\n",
       "dtype: int64"
      ]
     },
     "execution_count": 7,
     "metadata": {},
     "output_type": "execute_result"
    }
   ],
   "source": [
    "# Verifying the number of missing values in each feature\n",
    "vf.isna().sum()"
   ]
  },
  {
   "cell_type": "markdown",
   "id": "190a5483",
   "metadata": {},
   "source": [
    "##### We do not have any missing values"
   ]
  },
  {
   "cell_type": "code",
   "execution_count": 9,
   "id": "60088bb5",
   "metadata": {},
   "outputs": [
    {
     "data": {
      "text/html": [
       "<div>\n",
       "<style scoped>\n",
       "    .dataframe tbody tr th:only-of-type {\n",
       "        vertical-align: middle;\n",
       "    }\n",
       "\n",
       "    .dataframe tbody tr th {\n",
       "        vertical-align: top;\n",
       "    }\n",
       "\n",
       "    .dataframe thead th {\n",
       "        text-align: right;\n",
       "    }\n",
       "</style>\n",
       "<table border=\"1\" class=\"dataframe\">\n",
       "  <thead>\n",
       "    <tr style=\"text-align: right;\">\n",
       "      <th></th>\n",
       "      <th>0</th>\n",
       "      <th>1</th>\n",
       "      <th>2</th>\n",
       "      <th>3</th>\n",
       "      <th>4</th>\n",
       "    </tr>\n",
       "  </thead>\n",
       "  <tbody>\n",
       "    <tr>\n",
       "      <th>Month</th>\n",
       "      <td>Dec</td>\n",
       "      <td>Jan</td>\n",
       "      <td>Oct</td>\n",
       "      <td>Jun</td>\n",
       "      <td>Jan</td>\n",
       "    </tr>\n",
       "    <tr>\n",
       "      <th>WeekOfMonth</th>\n",
       "      <td>5</td>\n",
       "      <td>3</td>\n",
       "      <td>5</td>\n",
       "      <td>2</td>\n",
       "      <td>5</td>\n",
       "    </tr>\n",
       "    <tr>\n",
       "      <th>DayOfWeek</th>\n",
       "      <td>Wednesday</td>\n",
       "      <td>Wednesday</td>\n",
       "      <td>Friday</td>\n",
       "      <td>Saturday</td>\n",
       "      <td>Monday</td>\n",
       "    </tr>\n",
       "    <tr>\n",
       "      <th>Make</th>\n",
       "      <td>Honda</td>\n",
       "      <td>Honda</td>\n",
       "      <td>Honda</td>\n",
       "      <td>Toyota</td>\n",
       "      <td>Honda</td>\n",
       "    </tr>\n",
       "    <tr>\n",
       "      <th>AccidentArea</th>\n",
       "      <td>Urban</td>\n",
       "      <td>Urban</td>\n",
       "      <td>Urban</td>\n",
       "      <td>Rural</td>\n",
       "      <td>Urban</td>\n",
       "    </tr>\n",
       "    <tr>\n",
       "      <th>DayOfWeekClaimed</th>\n",
       "      <td>Tuesday</td>\n",
       "      <td>Monday</td>\n",
       "      <td>Thursday</td>\n",
       "      <td>Friday</td>\n",
       "      <td>Tuesday</td>\n",
       "    </tr>\n",
       "    <tr>\n",
       "      <th>MonthClaimed</th>\n",
       "      <td>Jan</td>\n",
       "      <td>Jan</td>\n",
       "      <td>Nov</td>\n",
       "      <td>Jul</td>\n",
       "      <td>Feb</td>\n",
       "    </tr>\n",
       "    <tr>\n",
       "      <th>WeekOfMonthClaimed</th>\n",
       "      <td>1</td>\n",
       "      <td>4</td>\n",
       "      <td>2</td>\n",
       "      <td>1</td>\n",
       "      <td>2</td>\n",
       "    </tr>\n",
       "    <tr>\n",
       "      <th>Sex</th>\n",
       "      <td>Female</td>\n",
       "      <td>Male</td>\n",
       "      <td>Male</td>\n",
       "      <td>Male</td>\n",
       "      <td>Female</td>\n",
       "    </tr>\n",
       "    <tr>\n",
       "      <th>MaritalStatus</th>\n",
       "      <td>Single</td>\n",
       "      <td>Single</td>\n",
       "      <td>Married</td>\n",
       "      <td>Married</td>\n",
       "      <td>Single</td>\n",
       "    </tr>\n",
       "    <tr>\n",
       "      <th>Age</th>\n",
       "      <td>21</td>\n",
       "      <td>34</td>\n",
       "      <td>47</td>\n",
       "      <td>65</td>\n",
       "      <td>27</td>\n",
       "    </tr>\n",
       "    <tr>\n",
       "      <th>Fault</th>\n",
       "      <td>Policy Holder</td>\n",
       "      <td>Policy Holder</td>\n",
       "      <td>Policy Holder</td>\n",
       "      <td>Third Party</td>\n",
       "      <td>Third Party</td>\n",
       "    </tr>\n",
       "    <tr>\n",
       "      <th>PolicyType</th>\n",
       "      <td>Sport - Liability</td>\n",
       "      <td>Sport - Collision</td>\n",
       "      <td>Sport - Collision</td>\n",
       "      <td>Sedan - Liability</td>\n",
       "      <td>Sport - Collision</td>\n",
       "    </tr>\n",
       "    <tr>\n",
       "      <th>VehicleCategory</th>\n",
       "      <td>Sport</td>\n",
       "      <td>Sport</td>\n",
       "      <td>Sport</td>\n",
       "      <td>Sport</td>\n",
       "      <td>Sport</td>\n",
       "    </tr>\n",
       "    <tr>\n",
       "      <th>VehiclePrice</th>\n",
       "      <td>more than 69000</td>\n",
       "      <td>more than 69000</td>\n",
       "      <td>more than 69000</td>\n",
       "      <td>20000 to 29000</td>\n",
       "      <td>more than 69000</td>\n",
       "    </tr>\n",
       "    <tr>\n",
       "      <th>FraudFound_P</th>\n",
       "      <td>0</td>\n",
       "      <td>0</td>\n",
       "      <td>0</td>\n",
       "      <td>0</td>\n",
       "      <td>0</td>\n",
       "    </tr>\n",
       "    <tr>\n",
       "      <th>PolicyNumber</th>\n",
       "      <td>1</td>\n",
       "      <td>2</td>\n",
       "      <td>3</td>\n",
       "      <td>4</td>\n",
       "      <td>5</td>\n",
       "    </tr>\n",
       "    <tr>\n",
       "      <th>RepNumber</th>\n",
       "      <td>12</td>\n",
       "      <td>15</td>\n",
       "      <td>7</td>\n",
       "      <td>4</td>\n",
       "      <td>3</td>\n",
       "    </tr>\n",
       "    <tr>\n",
       "      <th>Deductible</th>\n",
       "      <td>300</td>\n",
       "      <td>400</td>\n",
       "      <td>400</td>\n",
       "      <td>400</td>\n",
       "      <td>400</td>\n",
       "    </tr>\n",
       "    <tr>\n",
       "      <th>DriverRating</th>\n",
       "      <td>1</td>\n",
       "      <td>4</td>\n",
       "      <td>3</td>\n",
       "      <td>2</td>\n",
       "      <td>1</td>\n",
       "    </tr>\n",
       "    <tr>\n",
       "      <th>Days_Policy_Accident</th>\n",
       "      <td>more than 30</td>\n",
       "      <td>more than 30</td>\n",
       "      <td>more than 30</td>\n",
       "      <td>more than 30</td>\n",
       "      <td>more than 30</td>\n",
       "    </tr>\n",
       "    <tr>\n",
       "      <th>Days_Policy_Claim</th>\n",
       "      <td>more than 30</td>\n",
       "      <td>more than 30</td>\n",
       "      <td>more than 30</td>\n",
       "      <td>more than 30</td>\n",
       "      <td>more than 30</td>\n",
       "    </tr>\n",
       "    <tr>\n",
       "      <th>PastNumberOfClaims</th>\n",
       "      <td>none</td>\n",
       "      <td>none</td>\n",
       "      <td>1</td>\n",
       "      <td>1</td>\n",
       "      <td>none</td>\n",
       "    </tr>\n",
       "    <tr>\n",
       "      <th>AgeOfVehicle</th>\n",
       "      <td>3 years</td>\n",
       "      <td>6 years</td>\n",
       "      <td>7 years</td>\n",
       "      <td>more than 7</td>\n",
       "      <td>5 years</td>\n",
       "    </tr>\n",
       "    <tr>\n",
       "      <th>AgeOfPolicyHolder</th>\n",
       "      <td>26 to 30</td>\n",
       "      <td>31 to 35</td>\n",
       "      <td>41 to 50</td>\n",
       "      <td>51 to 65</td>\n",
       "      <td>31 to 35</td>\n",
       "    </tr>\n",
       "    <tr>\n",
       "      <th>PoliceReportFiled</th>\n",
       "      <td>No</td>\n",
       "      <td>Yes</td>\n",
       "      <td>No</td>\n",
       "      <td>Yes</td>\n",
       "      <td>No</td>\n",
       "    </tr>\n",
       "    <tr>\n",
       "      <th>WitnessPresent</th>\n",
       "      <td>No</td>\n",
       "      <td>No</td>\n",
       "      <td>No</td>\n",
       "      <td>No</td>\n",
       "      <td>No</td>\n",
       "    </tr>\n",
       "    <tr>\n",
       "      <th>AgentType</th>\n",
       "      <td>External</td>\n",
       "      <td>External</td>\n",
       "      <td>External</td>\n",
       "      <td>External</td>\n",
       "      <td>External</td>\n",
       "    </tr>\n",
       "    <tr>\n",
       "      <th>NumberOfSuppliments</th>\n",
       "      <td>none</td>\n",
       "      <td>none</td>\n",
       "      <td>none</td>\n",
       "      <td>more than 5</td>\n",
       "      <td>none</td>\n",
       "    </tr>\n",
       "    <tr>\n",
       "      <th>AddressChange_Claim</th>\n",
       "      <td>1 year</td>\n",
       "      <td>no change</td>\n",
       "      <td>no change</td>\n",
       "      <td>no change</td>\n",
       "      <td>no change</td>\n",
       "    </tr>\n",
       "    <tr>\n",
       "      <th>NumberOfCars</th>\n",
       "      <td>3 to 4</td>\n",
       "      <td>1 vehicle</td>\n",
       "      <td>1 vehicle</td>\n",
       "      <td>1 vehicle</td>\n",
       "      <td>1 vehicle</td>\n",
       "    </tr>\n",
       "    <tr>\n",
       "      <th>Year</th>\n",
       "      <td>1994</td>\n",
       "      <td>1994</td>\n",
       "      <td>1994</td>\n",
       "      <td>1994</td>\n",
       "      <td>1994</td>\n",
       "    </tr>\n",
       "    <tr>\n",
       "      <th>BasePolicy</th>\n",
       "      <td>Liability</td>\n",
       "      <td>Collision</td>\n",
       "      <td>Collision</td>\n",
       "      <td>Liability</td>\n",
       "      <td>Collision</td>\n",
       "    </tr>\n",
       "  </tbody>\n",
       "</table>\n",
       "</div>"
      ],
      "text/plain": [
       "                                      0                  1                  2  \\\n",
       "Month                               Dec                Jan                Oct   \n",
       "WeekOfMonth                           5                  3                  5   \n",
       "DayOfWeek                     Wednesday          Wednesday             Friday   \n",
       "Make                              Honda              Honda              Honda   \n",
       "AccidentArea                      Urban              Urban              Urban   \n",
       "DayOfWeekClaimed                Tuesday             Monday           Thursday   \n",
       "MonthClaimed                        Jan                Jan                Nov   \n",
       "WeekOfMonthClaimed                    1                  4                  2   \n",
       "Sex                              Female               Male               Male   \n",
       "MaritalStatus                    Single             Single            Married   \n",
       "Age                                  21                 34                 47   \n",
       "Fault                     Policy Holder      Policy Holder      Policy Holder   \n",
       "PolicyType            Sport - Liability  Sport - Collision  Sport - Collision   \n",
       "VehicleCategory                   Sport              Sport              Sport   \n",
       "VehiclePrice            more than 69000    more than 69000    more than 69000   \n",
       "FraudFound_P                          0                  0                  0   \n",
       "PolicyNumber                          1                  2                  3   \n",
       "RepNumber                            12                 15                  7   \n",
       "Deductible                          300                400                400   \n",
       "DriverRating                          1                  4                  3   \n",
       "Days_Policy_Accident       more than 30       more than 30       more than 30   \n",
       "Days_Policy_Claim          more than 30       more than 30       more than 30   \n",
       "PastNumberOfClaims                 none               none                  1   \n",
       "AgeOfVehicle                    3 years            6 years            7 years   \n",
       "AgeOfPolicyHolder              26 to 30           31 to 35           41 to 50   \n",
       "PoliceReportFiled                    No                Yes                 No   \n",
       "WitnessPresent                       No                 No                 No   \n",
       "AgentType                      External           External           External   \n",
       "NumberOfSuppliments                none               none               none   \n",
       "AddressChange_Claim              1 year          no change          no change   \n",
       "NumberOfCars                     3 to 4          1 vehicle          1 vehicle   \n",
       "Year                               1994               1994               1994   \n",
       "BasePolicy                    Liability          Collision          Collision   \n",
       "\n",
       "                                      3                  4  \n",
       "Month                               Jun                Jan  \n",
       "WeekOfMonth                           2                  5  \n",
       "DayOfWeek                      Saturday             Monday  \n",
       "Make                             Toyota              Honda  \n",
       "AccidentArea                      Rural              Urban  \n",
       "DayOfWeekClaimed                 Friday            Tuesday  \n",
       "MonthClaimed                        Jul                Feb  \n",
       "WeekOfMonthClaimed                    1                  2  \n",
       "Sex                                Male             Female  \n",
       "MaritalStatus                   Married             Single  \n",
       "Age                                  65                 27  \n",
       "Fault                       Third Party        Third Party  \n",
       "PolicyType            Sedan - Liability  Sport - Collision  \n",
       "VehicleCategory                   Sport              Sport  \n",
       "VehiclePrice             20000 to 29000    more than 69000  \n",
       "FraudFound_P                          0                  0  \n",
       "PolicyNumber                          4                  5  \n",
       "RepNumber                             4                  3  \n",
       "Deductible                          400                400  \n",
       "DriverRating                          2                  1  \n",
       "Days_Policy_Accident       more than 30       more than 30  \n",
       "Days_Policy_Claim          more than 30       more than 30  \n",
       "PastNumberOfClaims                    1               none  \n",
       "AgeOfVehicle                more than 7            5 years  \n",
       "AgeOfPolicyHolder              51 to 65           31 to 35  \n",
       "PoliceReportFiled                   Yes                 No  \n",
       "WitnessPresent                       No                 No  \n",
       "AgentType                      External           External  \n",
       "NumberOfSuppliments         more than 5               none  \n",
       "AddressChange_Claim           no change          no change  \n",
       "NumberOfCars                  1 vehicle          1 vehicle  \n",
       "Year                               1994               1994  \n",
       "BasePolicy                    Liability          Collision  "
      ]
     },
     "execution_count": 9,
     "metadata": {},
     "output_type": "execute_result"
    }
   ],
   "source": [
    "# Calling  the head method on vf to print the first several rows of the data\n",
    "vf.head().T"
   ]
  },
  {
   "cell_type": "code",
   "execution_count": 10,
   "id": "35698e42",
   "metadata": {},
   "outputs": [
    {
     "data": {
      "text/plain": [
       "Index(['Month', 'WeekOfMonth', 'DayOfWeek', 'Make', 'AccidentArea',\n",
       "       'DayOfWeekClaimed', 'MonthClaimed', 'WeekOfMonthClaimed', 'Sex',\n",
       "       'MaritalStatus', 'Age', 'Fault', 'PolicyType', 'VehicleCategory',\n",
       "       'VehiclePrice', 'FraudFound_P', 'PolicyNumber', 'RepNumber',\n",
       "       'Deductible', 'DriverRating', 'Days_Policy_Accident',\n",
       "       'Days_Policy_Claim', 'PastNumberOfClaims', 'AgeOfVehicle',\n",
       "       'AgeOfPolicyHolder', 'PoliceReportFiled', 'WitnessPresent', 'AgentType',\n",
       "       'NumberOfSuppliments', 'AddressChange_Claim', 'NumberOfCars', 'Year',\n",
       "       'BasePolicy'],\n",
       "      dtype='object')"
      ]
     },
     "execution_count": 10,
     "metadata": {},
     "output_type": "execute_result"
    }
   ],
   "source": [
    "vf.columns"
   ]
  },
  {
   "cell_type": "markdown",
   "id": "42b2f656",
   "metadata": {},
   "source": [
    " Amongst the column list above most of the column seems categorical, apart from deductible.\n",
    " Since we are trying to model the fraudulent transaction the \" FraudFound_P\" is our target variable which is binary "
   ]
  },
  {
   "cell_type": "markdown",
   "id": "a2cabe9b",
   "metadata": {},
   "source": [
    "### Checking the numerical features \n"
   ]
  },
  {
   "cell_type": "code",
   "execution_count": 12,
   "id": "630489d5",
   "metadata": {},
   "outputs": [
    {
     "data": {
      "text/html": [
       "<div>\n",
       "<style scoped>\n",
       "    .dataframe tbody tr th:only-of-type {\n",
       "        vertical-align: middle;\n",
       "    }\n",
       "\n",
       "    .dataframe tbody tr th {\n",
       "        vertical-align: top;\n",
       "    }\n",
       "\n",
       "    .dataframe thead th {\n",
       "        text-align: right;\n",
       "    }\n",
       "</style>\n",
       "<table border=\"1\" class=\"dataframe\">\n",
       "  <thead>\n",
       "    <tr style=\"text-align: right;\">\n",
       "      <th></th>\n",
       "      <th>count</th>\n",
       "      <th>mean</th>\n",
       "      <th>std</th>\n",
       "      <th>min</th>\n",
       "      <th>25%</th>\n",
       "      <th>50%</th>\n",
       "      <th>75%</th>\n",
       "      <th>max</th>\n",
       "    </tr>\n",
       "  </thead>\n",
       "  <tbody>\n",
       "    <tr>\n",
       "      <th>WeekOfMonth</th>\n",
       "      <td>15420.0</td>\n",
       "      <td>2.788586</td>\n",
       "      <td>1.287585</td>\n",
       "      <td>1.0</td>\n",
       "      <td>2.00</td>\n",
       "      <td>3.0</td>\n",
       "      <td>4.00</td>\n",
       "      <td>5.0</td>\n",
       "    </tr>\n",
       "    <tr>\n",
       "      <th>WeekOfMonthClaimed</th>\n",
       "      <td>15420.0</td>\n",
       "      <td>2.693969</td>\n",
       "      <td>1.259115</td>\n",
       "      <td>1.0</td>\n",
       "      <td>2.00</td>\n",
       "      <td>3.0</td>\n",
       "      <td>4.00</td>\n",
       "      <td>5.0</td>\n",
       "    </tr>\n",
       "    <tr>\n",
       "      <th>Age</th>\n",
       "      <td>15420.0</td>\n",
       "      <td>39.855707</td>\n",
       "      <td>13.492377</td>\n",
       "      <td>0.0</td>\n",
       "      <td>31.00</td>\n",
       "      <td>38.0</td>\n",
       "      <td>48.00</td>\n",
       "      <td>80.0</td>\n",
       "    </tr>\n",
       "    <tr>\n",
       "      <th>FraudFound_P</th>\n",
       "      <td>15420.0</td>\n",
       "      <td>0.059857</td>\n",
       "      <td>0.237230</td>\n",
       "      <td>0.0</td>\n",
       "      <td>0.00</td>\n",
       "      <td>0.0</td>\n",
       "      <td>0.00</td>\n",
       "      <td>1.0</td>\n",
       "    </tr>\n",
       "    <tr>\n",
       "      <th>PolicyNumber</th>\n",
       "      <td>15420.0</td>\n",
       "      <td>7710.500000</td>\n",
       "      <td>4451.514911</td>\n",
       "      <td>1.0</td>\n",
       "      <td>3855.75</td>\n",
       "      <td>7710.5</td>\n",
       "      <td>11565.25</td>\n",
       "      <td>15420.0</td>\n",
       "    </tr>\n",
       "    <tr>\n",
       "      <th>RepNumber</th>\n",
       "      <td>15420.0</td>\n",
       "      <td>8.483268</td>\n",
       "      <td>4.599948</td>\n",
       "      <td>1.0</td>\n",
       "      <td>5.00</td>\n",
       "      <td>8.0</td>\n",
       "      <td>12.00</td>\n",
       "      <td>16.0</td>\n",
       "    </tr>\n",
       "    <tr>\n",
       "      <th>Deductible</th>\n",
       "      <td>15420.0</td>\n",
       "      <td>407.704280</td>\n",
       "      <td>43.950998</td>\n",
       "      <td>300.0</td>\n",
       "      <td>400.00</td>\n",
       "      <td>400.0</td>\n",
       "      <td>400.00</td>\n",
       "      <td>700.0</td>\n",
       "    </tr>\n",
       "    <tr>\n",
       "      <th>DriverRating</th>\n",
       "      <td>15420.0</td>\n",
       "      <td>2.487808</td>\n",
       "      <td>1.119453</td>\n",
       "      <td>1.0</td>\n",
       "      <td>1.00</td>\n",
       "      <td>2.0</td>\n",
       "      <td>3.00</td>\n",
       "      <td>4.0</td>\n",
       "    </tr>\n",
       "    <tr>\n",
       "      <th>Year</th>\n",
       "      <td>15420.0</td>\n",
       "      <td>1994.866472</td>\n",
       "      <td>0.803313</td>\n",
       "      <td>1994.0</td>\n",
       "      <td>1994.00</td>\n",
       "      <td>1995.0</td>\n",
       "      <td>1996.00</td>\n",
       "      <td>1996.0</td>\n",
       "    </tr>\n",
       "  </tbody>\n",
       "</table>\n",
       "</div>"
      ],
      "text/plain": [
       "                      count         mean          std     min      25%  \\\n",
       "WeekOfMonth         15420.0     2.788586     1.287585     1.0     2.00   \n",
       "WeekOfMonthClaimed  15420.0     2.693969     1.259115     1.0     2.00   \n",
       "Age                 15420.0    39.855707    13.492377     0.0    31.00   \n",
       "FraudFound_P        15420.0     0.059857     0.237230     0.0     0.00   \n",
       "PolicyNumber        15420.0  7710.500000  4451.514911     1.0  3855.75   \n",
       "RepNumber           15420.0     8.483268     4.599948     1.0     5.00   \n",
       "Deductible          15420.0   407.704280    43.950998   300.0   400.00   \n",
       "DriverRating        15420.0     2.487808     1.119453     1.0     1.00   \n",
       "Year                15420.0  1994.866472     0.803313  1994.0  1994.00   \n",
       "\n",
       "                       50%       75%      max  \n",
       "WeekOfMonth            3.0      4.00      5.0  \n",
       "WeekOfMonthClaimed     3.0      4.00      5.0  \n",
       "Age                   38.0     48.00     80.0  \n",
       "FraudFound_P           0.0      0.00      1.0  \n",
       "PolicyNumber        7710.5  11565.25  15420.0  \n",
       "RepNumber              8.0     12.00     16.0  \n",
       "Deductible           400.0    400.00    700.0  \n",
       "DriverRating           2.0      3.00      4.0  \n",
       "Year                1995.0   1996.00   1996.0  "
      ]
     },
     "execution_count": 12,
     "metadata": {},
     "output_type": "execute_result"
    }
   ],
   "source": [
    "vf.describe().T"
   ]
  },
  {
   "cell_type": "markdown",
   "id": "e284159f",
   "metadata": {},
   "source": [
    "Amongst the numeric features week of month, week of month claimed, fraud found, driver rating seems categorical and since policy number, rep number are distinct values,they need to be converted to string"
   ]
  },
  {
   "cell_type": "code",
   "execution_count": 24,
   "id": "1baddcc2",
   "metadata": {},
   "outputs": [
    {
     "data": {
      "text/plain": [
       "0    14497\n",
       "1      923\n",
       "Name: FraudFound_P, dtype: int64"
      ]
     },
     "execution_count": 24,
     "metadata": {},
     "output_type": "execute_result"
    }
   ],
   "source": [
    "vf['FraudFound_P'].value_counts()"
   ]
  },
  {
   "cell_type": "code",
   "execution_count": 28,
   "id": "3bf0bb93",
   "metadata": {},
   "outputs": [
    {
     "data": {
      "text/plain": [
       "<AxesSubplot:xlabel='FraudFound_P', ylabel='count'>"
      ]
     },
     "execution_count": 28,
     "metadata": {},
     "output_type": "execute_result"
    },
    {
     "data": {
      "image/png": "[encoded data removed]",
      "text/plain": [
       "<Figure size 432x288 with 1 Axes>"
      ]
     },
     "metadata": {
      "needs_background": "light"
     },
     "output_type": "display_data"
    }
   ],
   "source": [
    "sns.countplot(x='FraudFound_P',data=vf)"
   ]
  },
  {
   "cell_type": "code",
   "execution_count": 33,
   "id": "6553465f",
   "metadata": {},
   "outputs": [
    {
     "data": {
      "text/plain": [
       "[Text(0, 0.5, 'Percent')]"
      ]
     },
     "execution_count": 33,
     "metadata": {},
     "output_type": "execute_result"
    },
    {
     "data": {
      "image/png": "[encoded data removed]",
      "text/plain": [
       "<Figure size 432x288 with 1 Axes>"
      ]
     },
     "metadata": {
      "needs_background": "light"
     },
     "output_type": "display_data"
    }
   ],
   "source": [
    "# PERCENTAGE BAR PLOT \n",
    "### Source Code-https://stackoverflow.com/questions/43214978/seaborn-barplot-displaying-values\n",
    "ax = sns.barplot(x='FraudFound_P', y='FraudFound_P', data=vf, estimator=lambda x: len(x) / len(vf) * 100)\n",
    "ax.bar_label(ax.containers[0])\n",
    "ax.set(ylabel=\"Percent\")"
   ]
  },
  {
   "cell_type": "markdown",
   "id": "057f3a8b",
   "metadata": {},
   "source": [
    "#### Checking the contribution of sex type on fruadulent and legitimate claims\n",
    "#### Note= 0 is fair and 1 is fraudulent claims"
   ]
  },
  {
   "cell_type": "code",
   "execution_count": 57,
   "id": "91014ac3",
   "metadata": {},
   "outputs": [
    {
     "data": {
      "image/png": "[encoded data removed]",
      "text/plain": [
       "<Figure size 432x288 with 1 Axes>"
      ]
     },
     "metadata": {},
     "output_type": "display_data"
    }
   ],
   "source": [
    "sns.set(style=\"whitegrid\")  \n",
    "ax=sns.barplot(data=vf,x='FraudFound_P', y='FraudFound_P',hue='Sex', color=\"skyblue\",estimator=lambda x: len(x) / len(vf) * 100)\n",
    "for container in ax.containers:\n",
    "    ax.bar_label(container)\n",
    "    ax.set(ylabel=\"Percent\")\n",
    "\n",
    "fig.tight_layout()"
   ]
  },
  {
   "cell_type": "code",
   "execution_count": 62,
   "id": "824c6c88",
   "metadata": {},
   "outputs": [
    {
     "data": {
      "image/png": "[encoded data removed]",
      "text/plain": [
       "<Figure size 432x288 with 1 Axes>"
      ]
     },
     "metadata": {},
     "output_type": "display_data"
    }
   ],
   "source": [
    "vf1=vf.loc[vf['FraudFound_P']==0]\n",
    "sns.set(style=\"whitegrid\")  \n",
    "ax=sns.barplot(data=vf1,x='FraudFound_P',y='FraudFound_P',hue='Sex', color=\"skyblue\",estimator=lambda x: len(x) / len(vf1) * 100)\n",
    "for container in ax.containers:\n",
    "    ax.bar_label(container)\n",
    "    ax.set(ylabel=\"Percent\")\n",
    "\n",
    "fig.tight_layout()"
   ]
  },
  {
   "cell_type": "code",
   "execution_count": 79,
   "id": "7a4eddd5",
   "metadata": {},
   "outputs": [
    {
     "data": {
      "image/png": "[encoded data removed]",
      "text/plain": [
       "<Figure size 432x288 with 1 Axes>"
      ]
     },
     "metadata": {},
     "output_type": "display_data"
    }
   ],
   "source": [
    "vf2=vf.loc[vf['FraudFound_P']==1]\n",
    "sns.set(style=\"whitegrid\") \n",
    "ax=sns.barplot(data=vf2,x='FraudFound_P',y='FraudFound_P',hue='Sex', color=\"skyblue\",estimator=lambda x: len(x) / len(vf2) * 100)\n",
    "for container in ax.containers:\n",
    "    ax.bar_label(container)\n",
    "    ax.set(ylabel=\"Percent\")\n",
    "\n",
    "fig.tight_layout()"
   ]
  },
  {
   "cell_type": "markdown",
   "id": "416c1e00",
   "metadata": {},
   "source": [
    " Close to 94% (14497 claims) tranaction are fair and 6%(923 claims) are fraudulent. However, amongst the total claims males contribute 84.03% for non-fraudulent transactions but contribute 88.62% of fraudulent transactions. Males are more likely to submit fraudulent claims"
   ]
  },
  {
   "cell_type": "markdown",
   "id": "55da666e",
   "metadata": {},
   "source": [
    "#### Checking for impact of age on claims"
   ]
  },
  {
   "cell_type": "code",
   "execution_count": 77,
   "id": "50211224",
   "metadata": {},
   "outputs": [
    {
     "ename": "AttributeError",
     "evalue": "'QuadMesh' object has no property 'estimator'",
     "output_type": "error",
     "traceback": [
      "\u001b[1;31m---------------------------------------------------------------------------\u001b[0m",
      "\u001b[1;31mAttributeError\u001b[0m                            Traceback (most recent call last)",
      "\u001b[1;32m~\\AppData\\Local\\Temp/ipykernel_28360/2294323272.py\u001b[0m in \u001b[0;36m<module>\u001b[1;34m\u001b[0m\n\u001b[0;32m      1\u001b[0m \u001b[0msns\u001b[0m\u001b[1;33m.\u001b[0m\u001b[0mset\u001b[0m\u001b[1;33m(\u001b[0m\u001b[0mstyle\u001b[0m\u001b[1;33m=\u001b[0m\u001b[1;34m\"whitegrid\"\u001b[0m\u001b[1;33m)\u001b[0m\u001b[1;33m\u001b[0m\u001b[1;33m\u001b[0m\u001b[0m\n\u001b[0;32m      2\u001b[0m \u001b[0mfigsize\u001b[0m\u001b[1;33m=\u001b[0m\u001b[1;33m(\u001b[0m\u001b[1;36m200\u001b[0m\u001b[1;33m,\u001b[0m\u001b[1;36m6\u001b[0m\u001b[1;33m)\u001b[0m\u001b[1;33m\u001b[0m\u001b[1;33m\u001b[0m\u001b[0m\n\u001b[1;32m----> 3\u001b[1;33m \u001b[0max\u001b[0m\u001b[1;33m=\u001b[0m\u001b[0msns\u001b[0m\u001b[1;33m.\u001b[0m\u001b[0mhistplot\u001b[0m\u001b[1;33m(\u001b[0m\u001b[0mdata\u001b[0m\u001b[1;33m=\u001b[0m\u001b[0mvf\u001b[0m\u001b[1;33m,\u001b[0m\u001b[0mx\u001b[0m\u001b[1;33m=\u001b[0m\u001b[1;34m'Age'\u001b[0m\u001b[1;33m,\u001b[0m\u001b[0my\u001b[0m\u001b[1;33m=\u001b[0m\u001b[1;34m'Age'\u001b[0m\u001b[1;33m,\u001b[0m\u001b[0mhue\u001b[0m\u001b[1;33m=\u001b[0m\u001b[1;34m'FraudFound_P'\u001b[0m\u001b[1;33m,\u001b[0m \u001b[0mcolor\u001b[0m\u001b[1;33m=\u001b[0m\u001b[1;34m\"skyblue\"\u001b[0m\u001b[1;33m,\u001b[0m\u001b[0mestimator\u001b[0m\u001b[1;33m=\u001b[0m\u001b[1;32mlambda\u001b[0m \u001b[0mx\u001b[0m\u001b[1;33m:\u001b[0m \u001b[0mlen\u001b[0m\u001b[1;33m(\u001b[0m\u001b[0mx\u001b[0m\u001b[1;33m)\u001b[0m \u001b[1;33m/\u001b[0m \u001b[0mlen\u001b[0m\u001b[1;33m(\u001b[0m\u001b[0mvf\u001b[0m\u001b[1;33m)\u001b[0m \u001b[1;33m*\u001b[0m \u001b[1;36m100\u001b[0m\u001b[1;33m)\u001b[0m\u001b[1;33m\u001b[0m\u001b[1;33m\u001b[0m\u001b[0m\n\u001b[0m\u001b[0;32m      4\u001b[0m \u001b[1;32mfor\u001b[0m \u001b[0mcontainer\u001b[0m \u001b[1;32min\u001b[0m \u001b[0max\u001b[0m\u001b[1;33m.\u001b[0m\u001b[0mcontainers\u001b[0m\u001b[1;33m:\u001b[0m\u001b[1;33m\u001b[0m\u001b[1;33m\u001b[0m\u001b[0m\n\u001b[0;32m      5\u001b[0m     \u001b[0max\u001b[0m\u001b[1;33m.\u001b[0m\u001b[0mbar_label\u001b[0m\u001b[1;33m(\u001b[0m\u001b[0mcontainer\u001b[0m\u001b[1;33m)\u001b[0m\u001b[1;33m\u001b[0m\u001b[1;33m\u001b[0m\u001b[0m\n",
      "\u001b[1;32m~\\Anaconda3\\lib\\site-packages\\seaborn\\distributions.py\u001b[0m in \u001b[0;36mhistplot\u001b[1;34m(data, x, y, hue, weights, stat, bins, binwidth, binrange, discrete, cumulative, common_bins, common_norm, multiple, element, fill, shrink, kde, kde_kws, line_kws, thresh, pthresh, pmax, cbar, cbar_ax, cbar_kws, palette, hue_order, hue_norm, color, log_scale, legend, ax, **kwargs)\u001b[0m\n\u001b[0;32m   1478\u001b[0m     \u001b[1;32melse\u001b[0m\u001b[1;33m:\u001b[0m\u001b[1;33m\u001b[0m\u001b[1;33m\u001b[0m\u001b[0m\n\u001b[0;32m   1479\u001b[0m \u001b[1;33m\u001b[0m\u001b[0m\n\u001b[1;32m-> 1480\u001b[1;33m         p.plot_bivariate_histogram(\n\u001b[0m\u001b[0;32m   1481\u001b[0m             \u001b[0mcommon_bins\u001b[0m\u001b[1;33m=\u001b[0m\u001b[0mcommon_bins\u001b[0m\u001b[1;33m,\u001b[0m\u001b[1;33m\u001b[0m\u001b[1;33m\u001b[0m\u001b[0m\n\u001b[0;32m   1482\u001b[0m             \u001b[0mcommon_norm\u001b[0m\u001b[1;33m=\u001b[0m\u001b[0mcommon_norm\u001b[0m\u001b[1;33m,\u001b[0m\u001b[1;33m\u001b[0m\u001b[1;33m\u001b[0m\u001b[0m\n",
      "\u001b[1;32m~\\Anaconda3\\lib\\site-packages\\seaborn\\distributions.py\u001b[0m in \u001b[0;36mplot_bivariate_histogram\u001b[1;34m(self, common_bins, common_norm, thresh, pthresh, pmax, color, legend, cbar, cbar_ax, cbar_kws, estimate_kws, **plot_kws)\u001b[0m\n\u001b[0;32m    847\u001b[0m             \u001b[0my_grid\u001b[0m \u001b[1;33m=\u001b[0m \u001b[0many\u001b[0m\u001b[1;33m(\u001b[0m\u001b[1;33m[\u001b[0m\u001b[0ml\u001b[0m\u001b[1;33m.\u001b[0m\u001b[0mget_visible\u001b[0m\u001b[1;33m(\u001b[0m\u001b[1;33m)\u001b[0m \u001b[1;32mfor\u001b[0m \u001b[0ml\u001b[0m \u001b[1;32min\u001b[0m \u001b[0max\u001b[0m\u001b[1;33m.\u001b[0m\u001b[0myaxis\u001b[0m\u001b[1;33m.\u001b[0m\u001b[0mget_gridlines\u001b[0m\u001b[1;33m(\u001b[0m\u001b[1;33m)\u001b[0m\u001b[1;33m]\u001b[0m\u001b[1;33m)\u001b[0m\u001b[1;33m\u001b[0m\u001b[1;33m\u001b[0m\u001b[0m\n\u001b[0;32m    848\u001b[0m \u001b[1;33m\u001b[0m\u001b[0m\n\u001b[1;32m--> 849\u001b[1;33m             mesh = ax.pcolormesh(\n\u001b[0m\u001b[0;32m    850\u001b[0m                 \u001b[0mx_edges\u001b[0m\u001b[1;33m,\u001b[0m\u001b[1;33m\u001b[0m\u001b[1;33m\u001b[0m\u001b[0m\n\u001b[0;32m    851\u001b[0m                 \u001b[0my_edges\u001b[0m\u001b[1;33m,\u001b[0m\u001b[1;33m\u001b[0m\u001b[1;33m\u001b[0m\u001b[0m\n",
      "\u001b[1;32m~\\Anaconda3\\lib\\site-packages\\matplotlib\\__init__.py\u001b[0m in \u001b[0;36minner\u001b[1;34m(ax, data, *args, **kwargs)\u001b[0m\n\u001b[0;32m   1359\u001b[0m     \u001b[1;32mdef\u001b[0m \u001b[0minner\u001b[0m\u001b[1;33m(\u001b[0m\u001b[0max\u001b[0m\u001b[1;33m,\u001b[0m \u001b[1;33m*\u001b[0m\u001b[0margs\u001b[0m\u001b[1;33m,\u001b[0m \u001b[0mdata\u001b[0m\u001b[1;33m=\u001b[0m\u001b[1;32mNone\u001b[0m\u001b[1;33m,\u001b[0m \u001b[1;33m**\u001b[0m\u001b[0mkwargs\u001b[0m\u001b[1;33m)\u001b[0m\u001b[1;33m:\u001b[0m\u001b[1;33m\u001b[0m\u001b[1;33m\u001b[0m\u001b[0m\n\u001b[0;32m   1360\u001b[0m         \u001b[1;32mif\u001b[0m \u001b[0mdata\u001b[0m \u001b[1;32mis\u001b[0m \u001b[1;32mNone\u001b[0m\u001b[1;33m:\u001b[0m\u001b[1;33m\u001b[0m\u001b[1;33m\u001b[0m\u001b[0m\n\u001b[1;32m-> 1361\u001b[1;33m             \u001b[1;32mreturn\u001b[0m \u001b[0mfunc\u001b[0m\u001b[1;33m(\u001b[0m\u001b[0max\u001b[0m\u001b[1;33m,\u001b[0m \u001b[1;33m*\u001b[0m\u001b[0mmap\u001b[0m\u001b[1;33m(\u001b[0m\u001b[0msanitize_sequence\u001b[0m\u001b[1;33m,\u001b[0m \u001b[0margs\u001b[0m\u001b[1;33m)\u001b[0m\u001b[1;33m,\u001b[0m \u001b[1;33m**\u001b[0m\u001b[0mkwargs\u001b[0m\u001b[1;33m)\u001b[0m\u001b[1;33m\u001b[0m\u001b[1;33m\u001b[0m\u001b[0m\n\u001b[0m\u001b[0;32m   1362\u001b[0m \u001b[1;33m\u001b[0m\u001b[0m\n\u001b[0;32m   1363\u001b[0m         \u001b[0mbound\u001b[0m \u001b[1;33m=\u001b[0m \u001b[0mnew_sig\u001b[0m\u001b[1;33m.\u001b[0m\u001b[0mbind\u001b[0m\u001b[1;33m(\u001b[0m\u001b[0max\u001b[0m\u001b[1;33m,\u001b[0m \u001b[1;33m*\u001b[0m\u001b[0margs\u001b[0m\u001b[1;33m,\u001b[0m \u001b[1;33m**\u001b[0m\u001b[0mkwargs\u001b[0m\u001b[1;33m)\u001b[0m\u001b[1;33m\u001b[0m\u001b[1;33m\u001b[0m\u001b[0m\n",
      "\u001b[1;32m~\\Anaconda3\\lib\\site-packages\\matplotlib\\axes\\_axes.py\u001b[0m in \u001b[0;36mpcolormesh\u001b[1;34m(self, alpha, norm, cmap, vmin, vmax, shading, antialiased, *args, **kwargs)\u001b[0m\n\u001b[0;32m   6190\u001b[0m         \u001b[0mC\u001b[0m \u001b[1;33m=\u001b[0m \u001b[0mC\u001b[0m\u001b[1;33m.\u001b[0m\u001b[0mravel\u001b[0m\u001b[1;33m(\u001b[0m\u001b[1;33m)\u001b[0m\u001b[1;33m\u001b[0m\u001b[1;33m\u001b[0m\u001b[0m\n\u001b[0;32m   6191\u001b[0m         \u001b[0mcoords\u001b[0m \u001b[1;33m=\u001b[0m \u001b[0mnp\u001b[0m\u001b[1;33m.\u001b[0m\u001b[0mcolumn_stack\u001b[0m\u001b[1;33m(\u001b[0m\u001b[1;33m(\u001b[0m\u001b[0mX\u001b[0m\u001b[1;33m,\u001b[0m \u001b[0mY\u001b[0m\u001b[1;33m)\u001b[0m\u001b[1;33m)\u001b[0m\u001b[1;33m.\u001b[0m\u001b[0mastype\u001b[0m\u001b[1;33m(\u001b[0m\u001b[0mfloat\u001b[0m\u001b[1;33m,\u001b[0m \u001b[0mcopy\u001b[0m\u001b[1;33m=\u001b[0m\u001b[1;32mFalse\u001b[0m\u001b[1;33m)\u001b[0m\u001b[1;33m\u001b[0m\u001b[1;33m\u001b[0m\u001b[0m\n\u001b[1;32m-> 6192\u001b[1;33m         collection = mcoll.QuadMesh(Nx - 1, Ny - 1, coords,\n\u001b[0m\u001b[0;32m   6193\u001b[0m                                     \u001b[0mantialiased\u001b[0m\u001b[1;33m=\u001b[0m\u001b[0mantialiased\u001b[0m\u001b[1;33m,\u001b[0m \u001b[0mshading\u001b[0m\u001b[1;33m=\u001b[0m\u001b[0mshading\u001b[0m\u001b[1;33m,\u001b[0m\u001b[1;33m\u001b[0m\u001b[1;33m\u001b[0m\u001b[0m\n\u001b[0;32m   6194\u001b[0m                                     **kwargs)\n",
      "\u001b[1;32m~\\Anaconda3\\lib\\site-packages\\matplotlib\\collections.py\u001b[0m in \u001b[0;36m__init__\u001b[1;34m(self, meshWidth, meshHeight, coordinates, antialiased, shading, **kwargs)\u001b[0m\n\u001b[0;32m   2001\u001b[0m     def __init__(self, meshWidth, meshHeight, coordinates,\n\u001b[0;32m   2002\u001b[0m                  antialiased=True, shading='flat', **kwargs):\n\u001b[1;32m-> 2003\u001b[1;33m         \u001b[0msuper\u001b[0m\u001b[1;33m(\u001b[0m\u001b[1;33m)\u001b[0m\u001b[1;33m.\u001b[0m\u001b[0m__init__\u001b[0m\u001b[1;33m(\u001b[0m\u001b[1;33m**\u001b[0m\u001b[0mkwargs\u001b[0m\u001b[1;33m)\u001b[0m\u001b[1;33m\u001b[0m\u001b[1;33m\u001b[0m\u001b[0m\n\u001b[0m\u001b[0;32m   2004\u001b[0m         \u001b[0mself\u001b[0m\u001b[1;33m.\u001b[0m\u001b[0m_meshWidth\u001b[0m \u001b[1;33m=\u001b[0m \u001b[0mmeshWidth\u001b[0m\u001b[1;33m\u001b[0m\u001b[1;33m\u001b[0m\u001b[0m\n\u001b[0;32m   2005\u001b[0m         \u001b[0mself\u001b[0m\u001b[1;33m.\u001b[0m\u001b[0m_meshHeight\u001b[0m \u001b[1;33m=\u001b[0m \u001b[0mmeshHeight\u001b[0m\u001b[1;33m\u001b[0m\u001b[1;33m\u001b[0m\u001b[0m\n",
      "\u001b[1;32m~\\Anaconda3\\lib\\site-packages\\matplotlib\\_api\\deprecation.py\u001b[0m in \u001b[0;36mwrapper\u001b[1;34m(*inner_args, **inner_kwargs)\u001b[0m\n\u001b[0;32m    429\u001b[0m                          \u001b[1;32melse\u001b[0m \u001b[0mdeprecation_addendum\u001b[0m\u001b[1;33m,\u001b[0m\u001b[1;33m\u001b[0m\u001b[1;33m\u001b[0m\u001b[0m\n\u001b[0;32m    430\u001b[0m                 **kwargs)\n\u001b[1;32m--> 431\u001b[1;33m         \u001b[1;32mreturn\u001b[0m \u001b[0mfunc\u001b[0m\u001b[1;33m(\u001b[0m\u001b[1;33m*\u001b[0m\u001b[0minner_args\u001b[0m\u001b[1;33m,\u001b[0m \u001b[1;33m**\u001b[0m\u001b[0minner_kwargs\u001b[0m\u001b[1;33m)\u001b[0m\u001b[1;33m\u001b[0m\u001b[1;33m\u001b[0m\u001b[0m\n\u001b[0m\u001b[0;32m    432\u001b[0m \u001b[1;33m\u001b[0m\u001b[0m\n\u001b[0;32m    433\u001b[0m     \u001b[1;32mreturn\u001b[0m \u001b[0mwrapper\u001b[0m\u001b[1;33m\u001b[0m\u001b[1;33m\u001b[0m\u001b[0m\n",
      "\u001b[1;32m~\\Anaconda3\\lib\\site-packages\\matplotlib\\collections.py\u001b[0m in \u001b[0;36m__init__\u001b[1;34m(self, edgecolors, facecolors, linewidths, linestyles, capstyle, joinstyle, antialiaseds, offsets, transOffset, norm, cmap, pickradius, hatch, urls, offset_position, zorder, **kwargs)\u001b[0m\n\u001b[0;32m    215\u001b[0m \u001b[1;33m\u001b[0m\u001b[0m\n\u001b[0;32m    216\u001b[0m         \u001b[0mself\u001b[0m\u001b[1;33m.\u001b[0m\u001b[0m_path_effects\u001b[0m \u001b[1;33m=\u001b[0m \u001b[1;32mNone\u001b[0m\u001b[1;33m\u001b[0m\u001b[1;33m\u001b[0m\u001b[0m\n\u001b[1;32m--> 217\u001b[1;33m         \u001b[0mself\u001b[0m\u001b[1;33m.\u001b[0m\u001b[0mupdate\u001b[0m\u001b[1;33m(\u001b[0m\u001b[0mkwargs\u001b[0m\u001b[1;33m)\u001b[0m\u001b[1;33m\u001b[0m\u001b[1;33m\u001b[0m\u001b[0m\n\u001b[0m\u001b[0;32m    218\u001b[0m         \u001b[0mself\u001b[0m\u001b[1;33m.\u001b[0m\u001b[0m_paths\u001b[0m \u001b[1;33m=\u001b[0m \u001b[1;32mNone\u001b[0m\u001b[1;33m\u001b[0m\u001b[1;33m\u001b[0m\u001b[0m\n\u001b[0;32m    219\u001b[0m \u001b[1;33m\u001b[0m\u001b[0m\n",
      "\u001b[1;32m~\\Anaconda3\\lib\\site-packages\\matplotlib\\artist.py\u001b[0m in \u001b[0;36mupdate\u001b[1;34m(self, props)\u001b[0m\n\u001b[0;32m   1060\u001b[0m                     \u001b[0mfunc\u001b[0m \u001b[1;33m=\u001b[0m \u001b[0mgetattr\u001b[0m\u001b[1;33m(\u001b[0m\u001b[0mself\u001b[0m\u001b[1;33m,\u001b[0m \u001b[1;34mf\"set_{k}\"\u001b[0m\u001b[1;33m,\u001b[0m \u001b[1;32mNone\u001b[0m\u001b[1;33m)\u001b[0m\u001b[1;33m\u001b[0m\u001b[1;33m\u001b[0m\u001b[0m\n\u001b[0;32m   1061\u001b[0m                     \u001b[1;32mif\u001b[0m \u001b[1;32mnot\u001b[0m \u001b[0mcallable\u001b[0m\u001b[1;33m(\u001b[0m\u001b[0mfunc\u001b[0m\u001b[1;33m)\u001b[0m\u001b[1;33m:\u001b[0m\u001b[1;33m\u001b[0m\u001b[1;33m\u001b[0m\u001b[0m\n\u001b[1;32m-> 1062\u001b[1;33m                         raise AttributeError(f\"{type(self).__name__!r} object \"\n\u001b[0m\u001b[0;32m   1063\u001b[0m                                              f\"has no property {k!r}\")\n\u001b[0;32m   1064\u001b[0m                     \u001b[0mret\u001b[0m\u001b[1;33m.\u001b[0m\u001b[0mappend\u001b[0m\u001b[1;33m(\u001b[0m\u001b[0mfunc\u001b[0m\u001b[1;33m(\u001b[0m\u001b[0mv\u001b[0m\u001b[1;33m)\u001b[0m\u001b[1;33m)\u001b[0m\u001b[1;33m\u001b[0m\u001b[1;33m\u001b[0m\u001b[0m\n",
      "\u001b[1;31mAttributeError\u001b[0m: 'QuadMesh' object has no property 'estimator'"
     ]
    },
    {
     "data": {
      "image/png": "[encoded data removed]",
      "text/plain": [
       "<Figure size 432x288 with 1 Axes>"
      ]
     },
     "metadata": {},
     "output_type": "display_data"
    }
   ],
   "source": [
    "\n",
    "sns.set(style=\"whitegrid\")  \n",
    "figsize=(200,6)\n",
    "ax=sns.histplot(data=vf,x='Age',y='Age',hue='FraudFound_P', color=\"skyblue\",estimator=lambda x: len(x) / len(vf) * 100)\n",
    "for container in ax.containers:\n",
    "    ax.bar_label(container)\n",
    "    ax.set(ylabel=\"Percent\")\n",
    "\n",
    "fig.tight_layout()"
   ]
  },
  {
   "cell_type": "markdown",
   "id": "6b0ea0db",
   "metadata": {},
   "source": [
    "Close to 94% (14497 claims) tranaction are fair and 6%(923 claims) are fraudulent"
   ]
  },
  {
   "cell_type": "code",
   "execution_count": 29,
   "id": "47b0cc72",
   "metadata": {},
   "outputs": [
    {
     "data": {
      "text/plain": [
       "\"\\n## Source Code from https://newbedev.com/python-seaborn-countplot-show-percentage-code-example\\n    \\ndef with_hue(plot, feature, Number_of_categories, hue_categories):\\n    a = [p.get_height() for p in plot.patches]\\n    patch = [p for p in plot.patches]\\n    for i in range(Number_of_categories):\\n        total = feature.value_counts().values[i]\\n        for j in range(hue_categories):\\n            percentage = '{:.1f}%'.format(100 * a[(j*Number_of_categories + i)]/total)\\n            x = patch[(j*Number_of_categories + i)].get_x() + patch[(j*Number_of_categories + i)].get_width() / 2 - 0.15\\n            y = patch[(j*Number_of_categories + i)].get_y() + patch[(j*Number_of_categories + i)].get_height() \\n            ax.annotate(percentage, (x, y), size = 12)\\n    plt.show()\\n\\ndef without_hue(plot, feature):\\n    total = len(feature)\\n    for p in ax.patches:\\n        percentage = '{:.1f}%'.format(100 * p.get_height()/total)\\n        x = p.get_x() + p.get_width() / 2 - 0.05\\n        y = p.get_y() + p.get_height()\\n        ax.annotate(percentage, (x, y), size = 12)\\n\""
      ]
     },
     "execution_count": 29,
     "metadata": {},
     "output_type": "execute_result"
    }
   ],
   "source": [
    "'''\n",
    "## Source Code from https://newbedev.com/python-seaborn-countplot-show-percentage-code-example\n",
    "    \n",
    "def with_hue(plot, feature, Number_of_categories, hue_categories):\n",
    "    a = [p.get_height() for p in plot.patches]\n",
    "    patch = [p for p in plot.patches]\n",
    "    for i in range(Number_of_categories):\n",
    "        total = feature.value_counts().values[i]\n",
    "        for j in range(hue_categories):\n",
    "            percentage = '{:.1f}%'.format(100 * a[(j*Number_of_categories + i)]/total)\n",
    "            x = patch[(j*Number_of_categories + i)].get_x() + patch[(j*Number_of_categories + i)].get_width() / 2 - 0.15\n",
    "            y = patch[(j*Number_of_categories + i)].get_y() + patch[(j*Number_of_categories + i)].get_height() \n",
    "            ax.annotate(percentage, (x, y), size = 12)\n",
    "    plt.show()\n",
    "\n",
    "def without_hue(plot, feature):\n",
    "    total = len(feature)\n",
    "    for p in ax.patches:\n",
    "        percentage = '{:.1f}%'.format(100 * p.get_height()/total)\n",
    "        x = p.get_x() + p.get_width() / 2 - 0.05\n",
    "        y = p.get_y() + p.get_height()\n",
    "        ax.annotate(percentage, (x, y), size = 12)\n",
    "'''"
   ]
  }
 ],
 "metadata": {
  "kernelspec": {
   "display_name": "Python 3 (ipykernel)",
   "language": "python",
   "name": "python3"
  },
  "language_info": {
   "codemirror_mode": {
    "name": "ipython",
    "version": 3
   },
   "file_extension": ".py",
   "mimetype": "text/x-python",
   "name": "python",
   "nbconvert_exporter": "python",
   "pygments_lexer": "ipython3",
   "version": "3.9.7"
  }
 },
 "nbformat": 4,
 "nbformat_minor": 5
}
