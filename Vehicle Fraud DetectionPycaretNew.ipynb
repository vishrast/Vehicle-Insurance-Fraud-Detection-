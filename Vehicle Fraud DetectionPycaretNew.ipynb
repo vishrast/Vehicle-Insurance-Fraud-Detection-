{
 "cells": [
  {
   "cell_type": "markdown",
   "id": "1f94a124",
   "metadata": {},
   "source": [
    "## 2.1 Introduction<a id='2.2_Introduction'></a>"
   ]
  },
  {
   "cell_type": "markdown",
   "id": "81d86fa5",
   "metadata": {},
   "source": [
    "\n",
    "This step focuses on collecting your data, organizing it, and making sure it's well defined. "
   ]
  },
  {
   "cell_type": "markdown",
   "id": "ee764214",
   "metadata": {},
   "source": [
    "### 2.1.1 Recap Of Data Science Problem<a id='2.2.1_Recap_Of_Data_Science_Problem'></a>\n"
   ]
  },
  {
   "cell_type": "markdown",
   "id": "278e9bb4",
   "metadata": {},
   "source": [
    "In this project, we are trying to create a fraud detection system to predict fraud from the data provided on kaggle \n",
    "https://www.kaggle.com/shivamb/vehicle-claim-fraud-detection"
   ]
  },
  {
   "cell_type": "markdown",
   "id": "211adaac",
   "metadata": {},
   "source": [
    "## 2.2 Imports<a id='2.3_Imports'></a>"
   ]
  },
  {
   "cell_type": "code",
   "execution_count": 1,
   "id": "53a5f1c9",
   "metadata": {},
   "outputs": [],
   "source": [
    "#Code task 1#\n",
    "#Import pandas, matplotlib.pyplot, and seaborn in the correct lines below\n",
    "import pandas as pd\n",
    "import matplotlib.pyplot as plt\n",
    "import seaborn as sns\n",
    "import os"
   ]
  },
  {
   "cell_type": "markdown",
   "id": "6723f88c",
   "metadata": {},
   "source": [
    "## 2.3 Objectives<a id='2.4_Objectives'></a>"
   ]
  },
  {
   "cell_type": "markdown",
   "id": "07ff2c49",
   "metadata": {},
   "source": [
    "The objectives of this project is to determine the variables leading to fraudulent transactions in auto claims"
   ]
  },
  {
   "cell_type": "markdown",
   "id": "6ef4b617",
   "metadata": {},
   "source": [
    "## 2.4 Load The Vehicle Claim Data "
   ]
  },
  {
   "cell_type": "code",
   "execution_count": 2,
   "id": "b2ff7564",
   "metadata": {},
   "outputs": [],
   "source": [
    "vf = pd.read_csv(\"fraud_oracle.csv\")"
   ]
  },
  {
   "cell_type": "code",
   "execution_count": 3,
   "id": "91cb9e02",
   "metadata": {},
   "outputs": [
    {
     "name": "stdout",
     "output_type": "stream",
     "text": [
      "<class 'pandas.core.frame.DataFrame'>\n",
      "RangeIndex: 15420 entries, 0 to 15419\n",
      "Data columns (total 33 columns):\n",
      " #   Column                Non-Null Count  Dtype \n",
      "---  ------                --------------  ----- \n",
      " 0   Month                 15420 non-null  object\n",
      " 1   WeekOfMonth           15420 non-null  int64 \n",
      " 2   DayOfWeek             15420 non-null  object\n",
      " 3   Make                  15420 non-null  object\n",
      " 4   AccidentArea          15420 non-null  object\n",
      " 5   DayOfWeekClaimed      15420 non-null  object\n",
      " 6   MonthClaimed          15420 non-null  object\n",
      " 7   WeekOfMonthClaimed    15420 non-null  int64 \n",
      " 8   Sex                   15420 non-null  object\n",
      " 9   MaritalStatus         15420 non-null  object\n",
      " 10  Age                   15420 non-null  int64 \n",
      " 11  Fault                 15420 non-null  object\n",
      " 12  PolicyType            15420 non-null  object\n",
      " 13  VehicleCategory       15420 non-null  object\n",
      " 14  VehiclePrice          15420 non-null  object\n",
      " 15  FraudFound_P          15420 non-null  int64 \n",
      " 16  PolicyNumber          15420 non-null  int64 \n",
      " 17  RepNumber             15420 non-null  int64 \n",
      " 18  Deductible            15420 non-null  int64 \n",
      " 19  DriverRating          15420 non-null  int64 \n",
      " 20  Days_Policy_Accident  15420 non-null  object\n",
      " 21  Days_Policy_Claim     15420 non-null  object\n",
      " 22  PastNumberOfClaims    15420 non-null  object\n",
      " 23  AgeOfVehicle          15420 non-null  object\n",
      " 24  AgeOfPolicyHolder     15420 non-null  object\n",
      " 25  PoliceReportFiled     15420 non-null  object\n",
      " 26  WitnessPresent        15420 non-null  object\n",
      " 27  AgentType             15420 non-null  object\n",
      " 28  NumberOfSuppliments   15420 non-null  object\n",
      " 29  AddressChange_Claim   15420 non-null  object\n",
      " 30  NumberOfCars          15420 non-null  object\n",
      " 31  Year                  15420 non-null  int64 \n",
      " 32  BasePolicy            15420 non-null  object\n",
      "dtypes: int64(9), object(24)\n",
      "memory usage: 3.9+ MB\n"
     ]
    }
   ],
   "source": [
    "#Calling  the info method on vf to see info about the data\n",
    "vf.info()"
   ]
  },
  {
   "cell_type": "markdown",
   "id": "7ff231f1",
   "metadata": {},
   "source": [
    "<b> Luckily the data looks pretty clean without any missing values<b>"
   ]
  },
  {
   "cell_type": "code",
   "execution_count": 4,
   "id": "572161be",
   "metadata": {},
   "outputs": [
    {
     "data": {
      "text/plain": [
       "Month                   0\n",
       "WeekOfMonth             0\n",
       "DayOfWeek               0\n",
       "Make                    0\n",
       "AccidentArea            0\n",
       "DayOfWeekClaimed        0\n",
       "MonthClaimed            0\n",
       "WeekOfMonthClaimed      0\n",
       "Sex                     0\n",
       "MaritalStatus           0\n",
       "Age                     0\n",
       "Fault                   0\n",
       "PolicyType              0\n",
       "VehicleCategory         0\n",
       "VehiclePrice            0\n",
       "FraudFound_P            0\n",
       "PolicyNumber            0\n",
       "RepNumber               0\n",
       "Deductible              0\n",
       "DriverRating            0\n",
       "Days_Policy_Accident    0\n",
       "Days_Policy_Claim       0\n",
       "PastNumberOfClaims      0\n",
       "AgeOfVehicle            0\n",
       "AgeOfPolicyHolder       0\n",
       "PoliceReportFiled       0\n",
       "WitnessPresent          0\n",
       "AgentType               0\n",
       "NumberOfSuppliments     0\n",
       "AddressChange_Claim     0\n",
       "NumberOfCars            0\n",
       "Year                    0\n",
       "BasePolicy              0\n",
       "dtype: int64"
      ]
     },
     "execution_count": 4,
     "metadata": {},
     "output_type": "execute_result"
    }
   ],
   "source": [
    "# Verifying the number of missing values in each feature\n",
    "vf.isna().sum()"
   ]
  },
  {
   "cell_type": "markdown",
   "id": "190a5483",
   "metadata": {},
   "source": [
    "##### We do not have any missing values"
   ]
  },
  {
   "cell_type": "code",
   "execution_count": 5,
   "id": "60088bb5",
   "metadata": {},
   "outputs": [
    {
     "data": {
      "text/html": [
       "<div>\n",
       "<style scoped>\n",
       "    .dataframe tbody tr th:only-of-type {\n",
       "        vertical-align: middle;\n",
       "    }\n",
       "\n",
       "    .dataframe tbody tr th {\n",
       "        vertical-align: top;\n",
       "    }\n",
       "\n",
       "    .dataframe thead th {\n",
       "        text-align: right;\n",
       "    }\n",
       "</style>\n",
       "<table border=\"1\" class=\"dataframe\">\n",
       "  <thead>\n",
       "    <tr style=\"text-align: right;\">\n",
       "      <th></th>\n",
       "      <th>0</th>\n",
       "      <th>1</th>\n",
       "      <th>2</th>\n",
       "      <th>3</th>\n",
       "      <th>4</th>\n",
       "    </tr>\n",
       "  </thead>\n",
       "  <tbody>\n",
       "    <tr>\n",
       "      <th>Month</th>\n",
       "      <td>Dec</td>\n",
       "      <td>Jan</td>\n",
       "      <td>Oct</td>\n",
       "      <td>Jun</td>\n",
       "      <td>Jan</td>\n",
       "    </tr>\n",
       "    <tr>\n",
       "      <th>WeekOfMonth</th>\n",
       "      <td>5</td>\n",
       "      <td>3</td>\n",
       "      <td>5</td>\n",
       "      <td>2</td>\n",
       "      <td>5</td>\n",
       "    </tr>\n",
       "    <tr>\n",
       "      <th>DayOfWeek</th>\n",
       "      <td>Wednesday</td>\n",
       "      <td>Wednesday</td>\n",
       "      <td>Friday</td>\n",
       "      <td>Saturday</td>\n",
       "      <td>Monday</td>\n",
       "    </tr>\n",
       "    <tr>\n",
       "      <th>Make</th>\n",
       "      <td>Honda</td>\n",
       "      <td>Honda</td>\n",
       "      <td>Honda</td>\n",
       "      <td>Toyota</td>\n",
       "      <td>Honda</td>\n",
       "    </tr>\n",
       "    <tr>\n",
       "      <th>AccidentArea</th>\n",
       "      <td>Urban</td>\n",
       "      <td>Urban</td>\n",
       "      <td>Urban</td>\n",
       "      <td>Rural</td>\n",
       "      <td>Urban</td>\n",
       "    </tr>\n",
       "    <tr>\n",
       "      <th>DayOfWeekClaimed</th>\n",
       "      <td>Tuesday</td>\n",
       "      <td>Monday</td>\n",
       "      <td>Thursday</td>\n",
       "      <td>Friday</td>\n",
       "      <td>Tuesday</td>\n",
       "    </tr>\n",
       "    <tr>\n",
       "      <th>MonthClaimed</th>\n",
       "      <td>Jan</td>\n",
       "      <td>Jan</td>\n",
       "      <td>Nov</td>\n",
       "      <td>Jul</td>\n",
       "      <td>Feb</td>\n",
       "    </tr>\n",
       "    <tr>\n",
       "      <th>WeekOfMonthClaimed</th>\n",
       "      <td>1</td>\n",
       "      <td>4</td>\n",
       "      <td>2</td>\n",
       "      <td>1</td>\n",
       "      <td>2</td>\n",
       "    </tr>\n",
       "    <tr>\n",
       "      <th>Sex</th>\n",
       "      <td>Female</td>\n",
       "      <td>Male</td>\n",
       "      <td>Male</td>\n",
       "      <td>Male</td>\n",
       "      <td>Female</td>\n",
       "    </tr>\n",
       "    <tr>\n",
       "      <th>MaritalStatus</th>\n",
       "      <td>Single</td>\n",
       "      <td>Single</td>\n",
       "      <td>Married</td>\n",
       "      <td>Married</td>\n",
       "      <td>Single</td>\n",
       "    </tr>\n",
       "    <tr>\n",
       "      <th>Age</th>\n",
       "      <td>21</td>\n",
       "      <td>34</td>\n",
       "      <td>47</td>\n",
       "      <td>65</td>\n",
       "      <td>27</td>\n",
       "    </tr>\n",
       "    <tr>\n",
       "      <th>Fault</th>\n",
       "      <td>Policy Holder</td>\n",
       "      <td>Policy Holder</td>\n",
       "      <td>Policy Holder</td>\n",
       "      <td>Third Party</td>\n",
       "      <td>Third Party</td>\n",
       "    </tr>\n",
       "    <tr>\n",
       "      <th>PolicyType</th>\n",
       "      <td>Sport - Liability</td>\n",
       "      <td>Sport - Collision</td>\n",
       "      <td>Sport - Collision</td>\n",
       "      <td>Sedan - Liability</td>\n",
       "      <td>Sport - Collision</td>\n",
       "    </tr>\n",
       "    <tr>\n",
       "      <th>VehicleCategory</th>\n",
       "      <td>Sport</td>\n",
       "      <td>Sport</td>\n",
       "      <td>Sport</td>\n",
       "      <td>Sport</td>\n",
       "      <td>Sport</td>\n",
       "    </tr>\n",
       "    <tr>\n",
       "      <th>VehiclePrice</th>\n",
       "      <td>more than 69000</td>\n",
       "      <td>more than 69000</td>\n",
       "      <td>more than 69000</td>\n",
       "      <td>20000 to 29000</td>\n",
       "      <td>more than 69000</td>\n",
       "    </tr>\n",
       "    <tr>\n",
       "      <th>FraudFound_P</th>\n",
       "      <td>0</td>\n",
       "      <td>0</td>\n",
       "      <td>0</td>\n",
       "      <td>0</td>\n",
       "      <td>0</td>\n",
       "    </tr>\n",
       "    <tr>\n",
       "      <th>PolicyNumber</th>\n",
       "      <td>1</td>\n",
       "      <td>2</td>\n",
       "      <td>3</td>\n",
       "      <td>4</td>\n",
       "      <td>5</td>\n",
       "    </tr>\n",
       "    <tr>\n",
       "      <th>RepNumber</th>\n",
       "      <td>12</td>\n",
       "      <td>15</td>\n",
       "      <td>7</td>\n",
       "      <td>4</td>\n",
       "      <td>3</td>\n",
       "    </tr>\n",
       "    <tr>\n",
       "      <th>Deductible</th>\n",
       "      <td>300</td>\n",
       "      <td>400</td>\n",
       "      <td>400</td>\n",
       "      <td>400</td>\n",
       "      <td>400</td>\n",
       "    </tr>\n",
       "    <tr>\n",
       "      <th>DriverRating</th>\n",
       "      <td>1</td>\n",
       "      <td>4</td>\n",
       "      <td>3</td>\n",
       "      <td>2</td>\n",
       "      <td>1</td>\n",
       "    </tr>\n",
       "    <tr>\n",
       "      <th>Days_Policy_Accident</th>\n",
       "      <td>more than 30</td>\n",
       "      <td>more than 30</td>\n",
       "      <td>more than 30</td>\n",
       "      <td>more than 30</td>\n",
       "      <td>more than 30</td>\n",
       "    </tr>\n",
       "    <tr>\n",
       "      <th>Days_Policy_Claim</th>\n",
       "      <td>more than 30</td>\n",
       "      <td>more than 30</td>\n",
       "      <td>more than 30</td>\n",
       "      <td>more than 30</td>\n",
       "      <td>more than 30</td>\n",
       "    </tr>\n",
       "    <tr>\n",
       "      <th>PastNumberOfClaims</th>\n",
       "      <td>none</td>\n",
       "      <td>none</td>\n",
       "      <td>1</td>\n",
       "      <td>1</td>\n",
       "      <td>none</td>\n",
       "    </tr>\n",
       "    <tr>\n",
       "      <th>AgeOfVehicle</th>\n",
       "      <td>3 years</td>\n",
       "      <td>6 years</td>\n",
       "      <td>7 years</td>\n",
       "      <td>more than 7</td>\n",
       "      <td>5 years</td>\n",
       "    </tr>\n",
       "    <tr>\n",
       "      <th>AgeOfPolicyHolder</th>\n",
       "      <td>26 to 30</td>\n",
       "      <td>31 to 35</td>\n",
       "      <td>41 to 50</td>\n",
       "      <td>51 to 65</td>\n",
       "      <td>31 to 35</td>\n",
       "    </tr>\n",
       "    <tr>\n",
       "      <th>PoliceReportFiled</th>\n",
       "      <td>No</td>\n",
       "      <td>Yes</td>\n",
       "      <td>No</td>\n",
       "      <td>Yes</td>\n",
       "      <td>No</td>\n",
       "    </tr>\n",
       "    <tr>\n",
       "      <th>WitnessPresent</th>\n",
       "      <td>No</td>\n",
       "      <td>No</td>\n",
       "      <td>No</td>\n",
       "      <td>No</td>\n",
       "      <td>No</td>\n",
       "    </tr>\n",
       "    <tr>\n",
       "      <th>AgentType</th>\n",
       "      <td>External</td>\n",
       "      <td>External</td>\n",
       "      <td>External</td>\n",
       "      <td>External</td>\n",
       "      <td>External</td>\n",
       "    </tr>\n",
       "    <tr>\n",
       "      <th>NumberOfSuppliments</th>\n",
       "      <td>none</td>\n",
       "      <td>none</td>\n",
       "      <td>none</td>\n",
       "      <td>more than 5</td>\n",
       "      <td>none</td>\n",
       "    </tr>\n",
       "    <tr>\n",
       "      <th>AddressChange_Claim</th>\n",
       "      <td>1 year</td>\n",
       "      <td>no change</td>\n",
       "      <td>no change</td>\n",
       "      <td>no change</td>\n",
       "      <td>no change</td>\n",
       "    </tr>\n",
       "    <tr>\n",
       "      <th>NumberOfCars</th>\n",
       "      <td>3 to 4</td>\n",
       "      <td>1 vehicle</td>\n",
       "      <td>1 vehicle</td>\n",
       "      <td>1 vehicle</td>\n",
       "      <td>1 vehicle</td>\n",
       "    </tr>\n",
       "    <tr>\n",
       "      <th>Year</th>\n",
       "      <td>1994</td>\n",
       "      <td>1994</td>\n",
       "      <td>1994</td>\n",
       "      <td>1994</td>\n",
       "      <td>1994</td>\n",
       "    </tr>\n",
       "    <tr>\n",
       "      <th>BasePolicy</th>\n",
       "      <td>Liability</td>\n",
       "      <td>Collision</td>\n",
       "      <td>Collision</td>\n",
       "      <td>Liability</td>\n",
       "      <td>Collision</td>\n",
       "    </tr>\n",
       "  </tbody>\n",
       "</table>\n",
       "</div>"
      ],
      "text/plain": [
       "                                      0                  1                  2  \\\n",
       "Month                               Dec                Jan                Oct   \n",
       "WeekOfMonth                           5                  3                  5   \n",
       "DayOfWeek                     Wednesday          Wednesday             Friday   \n",
       "Make                              Honda              Honda              Honda   \n",
       "AccidentArea                      Urban              Urban              Urban   \n",
       "DayOfWeekClaimed                Tuesday             Monday           Thursday   \n",
       "MonthClaimed                        Jan                Jan                Nov   \n",
       "WeekOfMonthClaimed                    1                  4                  2   \n",
       "Sex                              Female               Male               Male   \n",
       "MaritalStatus                    Single             Single            Married   \n",
       "Age                                  21                 34                 47   \n",
       "Fault                     Policy Holder      Policy Holder      Policy Holder   \n",
       "PolicyType            Sport - Liability  Sport - Collision  Sport - Collision   \n",
       "VehicleCategory                   Sport              Sport              Sport   \n",
       "VehiclePrice            more than 69000    more than 69000    more than 69000   \n",
       "FraudFound_P                          0                  0                  0   \n",
       "PolicyNumber                          1                  2                  3   \n",
       "RepNumber                            12                 15                  7   \n",
       "Deductible                          300                400                400   \n",
       "DriverRating                          1                  4                  3   \n",
       "Days_Policy_Accident       more than 30       more than 30       more than 30   \n",
       "Days_Policy_Claim          more than 30       more than 30       more than 30   \n",
       "PastNumberOfClaims                 none               none                  1   \n",
       "AgeOfVehicle                    3 years            6 years            7 years   \n",
       "AgeOfPolicyHolder              26 to 30           31 to 35           41 to 50   \n",
       "PoliceReportFiled                    No                Yes                 No   \n",
       "WitnessPresent                       No                 No                 No   \n",
       "AgentType                      External           External           External   \n",
       "NumberOfSuppliments                none               none               none   \n",
       "AddressChange_Claim              1 year          no change          no change   \n",
       "NumberOfCars                     3 to 4          1 vehicle          1 vehicle   \n",
       "Year                               1994               1994               1994   \n",
       "BasePolicy                    Liability          Collision          Collision   \n",
       "\n",
       "                                      3                  4  \n",
       "Month                               Jun                Jan  \n",
       "WeekOfMonth                           2                  5  \n",
       "DayOfWeek                      Saturday             Monday  \n",
       "Make                             Toyota              Honda  \n",
       "AccidentArea                      Rural              Urban  \n",
       "DayOfWeekClaimed                 Friday            Tuesday  \n",
       "MonthClaimed                        Jul                Feb  \n",
       "WeekOfMonthClaimed                    1                  2  \n",
       "Sex                                Male             Female  \n",
       "MaritalStatus                   Married             Single  \n",
       "Age                                  65                 27  \n",
       "Fault                       Third Party        Third Party  \n",
       "PolicyType            Sedan - Liability  Sport - Collision  \n",
       "VehicleCategory                   Sport              Sport  \n",
       "VehiclePrice             20000 to 29000    more than 69000  \n",
       "FraudFound_P                          0                  0  \n",
       "PolicyNumber                          4                  5  \n",
       "RepNumber                             4                  3  \n",
       "Deductible                          400                400  \n",
       "DriverRating                          2                  1  \n",
       "Days_Policy_Accident       more than 30       more than 30  \n",
       "Days_Policy_Claim          more than 30       more than 30  \n",
       "PastNumberOfClaims                    1               none  \n",
       "AgeOfVehicle                more than 7            5 years  \n",
       "AgeOfPolicyHolder              51 to 65           31 to 35  \n",
       "PoliceReportFiled                   Yes                 No  \n",
       "WitnessPresent                       No                 No  \n",
       "AgentType                      External           External  \n",
       "NumberOfSuppliments         more than 5               none  \n",
       "AddressChange_Claim           no change          no change  \n",
       "NumberOfCars                  1 vehicle          1 vehicle  \n",
       "Year                               1994               1994  \n",
       "BasePolicy                    Liability          Collision  "
      ]
     },
     "execution_count": 5,
     "metadata": {},
     "output_type": "execute_result"
    }
   ],
   "source": [
    "# Calling  the head method on vf to print the first several rows of the data\n",
    "vf.head().T"
   ]
  },
  {
   "cell_type": "code",
   "execution_count": 6,
   "id": "35698e42",
   "metadata": {},
   "outputs": [
    {
     "data": {
      "text/plain": [
       "Index(['Month', 'WeekOfMonth', 'DayOfWeek', 'Make', 'AccidentArea',\n",
       "       'DayOfWeekClaimed', 'MonthClaimed', 'WeekOfMonthClaimed', 'Sex',\n",
       "       'MaritalStatus', 'Age', 'Fault', 'PolicyType', 'VehicleCategory',\n",
       "       'VehiclePrice', 'FraudFound_P', 'PolicyNumber', 'RepNumber',\n",
       "       'Deductible', 'DriverRating', 'Days_Policy_Accident',\n",
       "       'Days_Policy_Claim', 'PastNumberOfClaims', 'AgeOfVehicle',\n",
       "       'AgeOfPolicyHolder', 'PoliceReportFiled', 'WitnessPresent', 'AgentType',\n",
       "       'NumberOfSuppliments', 'AddressChange_Claim', 'NumberOfCars', 'Year',\n",
       "       'BasePolicy'],\n",
       "      dtype='object')"
      ]
     },
     "execution_count": 6,
     "metadata": {},
     "output_type": "execute_result"
    }
   ],
   "source": [
    "vf.columns"
   ]
  },
  {
   "cell_type": "markdown",
   "id": "42b2f656",
   "metadata": {},
   "source": [
    " Amongst the column list above most of the column seems categorical, apart from deductible.\n",
    " Since we are trying to model the fraudulent transaction the \" FraudFound_P\" is our target variable which is binary "
   ]
  },
  {
   "cell_type": "markdown",
   "id": "a2cabe9b",
   "metadata": {},
   "source": [
    "## 2.5 Checking the numerical features \n"
   ]
  },
  {
   "cell_type": "code",
   "execution_count": 7,
   "id": "630489d5",
   "metadata": {},
   "outputs": [
    {
     "data": {
      "text/html": [
       "<div>\n",
       "<style scoped>\n",
       "    .dataframe tbody tr th:only-of-type {\n",
       "        vertical-align: middle;\n",
       "    }\n",
       "\n",
       "    .dataframe tbody tr th {\n",
       "        vertical-align: top;\n",
       "    }\n",
       "\n",
       "    .dataframe thead th {\n",
       "        text-align: right;\n",
       "    }\n",
       "</style>\n",
       "<table border=\"1\" class=\"dataframe\">\n",
       "  <thead>\n",
       "    <tr style=\"text-align: right;\">\n",
       "      <th></th>\n",
       "      <th>count</th>\n",
       "      <th>mean</th>\n",
       "      <th>std</th>\n",
       "      <th>min</th>\n",
       "      <th>25%</th>\n",
       "      <th>50%</th>\n",
       "      <th>75%</th>\n",
       "      <th>max</th>\n",
       "    </tr>\n",
       "  </thead>\n",
       "  <tbody>\n",
       "    <tr>\n",
       "      <th>WeekOfMonth</th>\n",
       "      <td>15420.0</td>\n",
       "      <td>2.788586</td>\n",
       "      <td>1.287585</td>\n",
       "      <td>1.0</td>\n",
       "      <td>2.00</td>\n",
       "      <td>3.0</td>\n",
       "      <td>4.00</td>\n",
       "      <td>5.0</td>\n",
       "    </tr>\n",
       "    <tr>\n",
       "      <th>WeekOfMonthClaimed</th>\n",
       "      <td>15420.0</td>\n",
       "      <td>2.693969</td>\n",
       "      <td>1.259115</td>\n",
       "      <td>1.0</td>\n",
       "      <td>2.00</td>\n",
       "      <td>3.0</td>\n",
       "      <td>4.00</td>\n",
       "      <td>5.0</td>\n",
       "    </tr>\n",
       "    <tr>\n",
       "      <th>Age</th>\n",
       "      <td>15420.0</td>\n",
       "      <td>39.855707</td>\n",
       "      <td>13.492377</td>\n",
       "      <td>0.0</td>\n",
       "      <td>31.00</td>\n",
       "      <td>38.0</td>\n",
       "      <td>48.00</td>\n",
       "      <td>80.0</td>\n",
       "    </tr>\n",
       "    <tr>\n",
       "      <th>FraudFound_P</th>\n",
       "      <td>15420.0</td>\n",
       "      <td>0.059857</td>\n",
       "      <td>0.237230</td>\n",
       "      <td>0.0</td>\n",
       "      <td>0.00</td>\n",
       "      <td>0.0</td>\n",
       "      <td>0.00</td>\n",
       "      <td>1.0</td>\n",
       "    </tr>\n",
       "    <tr>\n",
       "      <th>PolicyNumber</th>\n",
       "      <td>15420.0</td>\n",
       "      <td>7710.500000</td>\n",
       "      <td>4451.514911</td>\n",
       "      <td>1.0</td>\n",
       "      <td>3855.75</td>\n",
       "      <td>7710.5</td>\n",
       "      <td>11565.25</td>\n",
       "      <td>15420.0</td>\n",
       "    </tr>\n",
       "    <tr>\n",
       "      <th>RepNumber</th>\n",
       "      <td>15420.0</td>\n",
       "      <td>8.483268</td>\n",
       "      <td>4.599948</td>\n",
       "      <td>1.0</td>\n",
       "      <td>5.00</td>\n",
       "      <td>8.0</td>\n",
       "      <td>12.00</td>\n",
       "      <td>16.0</td>\n",
       "    </tr>\n",
       "    <tr>\n",
       "      <th>Deductible</th>\n",
       "      <td>15420.0</td>\n",
       "      <td>407.704280</td>\n",
       "      <td>43.950998</td>\n",
       "      <td>300.0</td>\n",
       "      <td>400.00</td>\n",
       "      <td>400.0</td>\n",
       "      <td>400.00</td>\n",
       "      <td>700.0</td>\n",
       "    </tr>\n",
       "    <tr>\n",
       "      <th>DriverRating</th>\n",
       "      <td>15420.0</td>\n",
       "      <td>2.487808</td>\n",
       "      <td>1.119453</td>\n",
       "      <td>1.0</td>\n",
       "      <td>1.00</td>\n",
       "      <td>2.0</td>\n",
       "      <td>3.00</td>\n",
       "      <td>4.0</td>\n",
       "    </tr>\n",
       "    <tr>\n",
       "      <th>Year</th>\n",
       "      <td>15420.0</td>\n",
       "      <td>1994.866472</td>\n",
       "      <td>0.803313</td>\n",
       "      <td>1994.0</td>\n",
       "      <td>1994.00</td>\n",
       "      <td>1995.0</td>\n",
       "      <td>1996.00</td>\n",
       "      <td>1996.0</td>\n",
       "    </tr>\n",
       "  </tbody>\n",
       "</table>\n",
       "</div>"
      ],
      "text/plain": [
       "                      count         mean          std     min      25%  \\\n",
       "WeekOfMonth         15420.0     2.788586     1.287585     1.0     2.00   \n",
       "WeekOfMonthClaimed  15420.0     2.693969     1.259115     1.0     2.00   \n",
       "Age                 15420.0    39.855707    13.492377     0.0    31.00   \n",
       "FraudFound_P        15420.0     0.059857     0.237230     0.0     0.00   \n",
       "PolicyNumber        15420.0  7710.500000  4451.514911     1.0  3855.75   \n",
       "RepNumber           15420.0     8.483268     4.599948     1.0     5.00   \n",
       "Deductible          15420.0   407.704280    43.950998   300.0   400.00   \n",
       "DriverRating        15420.0     2.487808     1.119453     1.0     1.00   \n",
       "Year                15420.0  1994.866472     0.803313  1994.0  1994.00   \n",
       "\n",
       "                       50%       75%      max  \n",
       "WeekOfMonth            3.0      4.00      5.0  \n",
       "WeekOfMonthClaimed     3.0      4.00      5.0  \n",
       "Age                   38.0     48.00     80.0  \n",
       "FraudFound_P           0.0      0.00      1.0  \n",
       "PolicyNumber        7710.5  11565.25  15420.0  \n",
       "RepNumber              8.0     12.00     16.0  \n",
       "Deductible           400.0    400.00    700.0  \n",
       "DriverRating           2.0      3.00      4.0  \n",
       "Year                1995.0   1996.00   1996.0  "
      ]
     },
     "execution_count": 7,
     "metadata": {},
     "output_type": "execute_result"
    }
   ],
   "source": [
    "vf.describe().T"
   ]
  },
  {
   "cell_type": "markdown",
   "id": "e284159f",
   "metadata": {},
   "source": [
    "Amongst the numeric features week of month, week of month claimed, fraud found, driver rating seems categorical and since policy number, rep number are distinct values,they need to be converted to string"
   ]
  },
  {
   "cell_type": "markdown",
   "id": "8b87cf36",
   "metadata": {},
   "source": [
    "## 2.6  Checking for categorical and numerical columns based on unique values. "
   ]
  },
  {
   "cell_type": "code",
   "execution_count": 8,
   "id": "94423db1",
   "metadata": {},
   "outputs": [
    {
     "data": {
      "text/plain": [
       "Month                      12\n",
       "WeekOfMonth                 5\n",
       "DayOfWeek                   7\n",
       "Make                       19\n",
       "AccidentArea                2\n",
       "DayOfWeekClaimed            8\n",
       "MonthClaimed               13\n",
       "WeekOfMonthClaimed          5\n",
       "Sex                         2\n",
       "MaritalStatus               4\n",
       "Age                        66\n",
       "Fault                       2\n",
       "PolicyType                  9\n",
       "VehicleCategory             3\n",
       "VehiclePrice                6\n",
       "FraudFound_P                2\n",
       "PolicyNumber            15420\n",
       "RepNumber                  16\n",
       "Deductible                  4\n",
       "DriverRating                4\n",
       "Days_Policy_Accident        5\n",
       "Days_Policy_Claim           4\n",
       "PastNumberOfClaims          4\n",
       "AgeOfVehicle                8\n",
       "AgeOfPolicyHolder           9\n",
       "PoliceReportFiled           2\n",
       "WitnessPresent              2\n",
       "AgentType                   2\n",
       "NumberOfSuppliments         4\n",
       "AddressChange_Claim         5\n",
       "NumberOfCars                5\n",
       "Year                        3\n",
       "BasePolicy                  3\n",
       "dtype: int64"
      ]
     },
     "execution_count": 8,
     "metadata": {},
     "output_type": "execute_result"
    }
   ],
   "source": [
    "vf.nunique()"
   ]
  },
  {
   "cell_type": "markdown",
   "id": "88610b8f",
   "metadata": {},
   "source": [
    "**It seems all the columns except agein years ( which is discrete in our case), should be categorical as none of the columns apart from policy number have many values. Even policy number cannot be numerical and is nominal categorical data. We cannot get any insight from the policy number as is so we are most likely to drop this later.** \n",
    "https://www.ibm.com/docs/en/watson-studio-local/1.2.3?topic=notebooks-markdown-jupyter-cheatsheet"
   ]
  },
  {
   "cell_type": "markdown",
   "id": "3b54117e",
   "metadata": {},
   "source": [
    "## 2.7  Checking histograms of numerical features so far according to the data"
   ]
  },
  {
   "cell_type": "code",
   "execution_count": 9,
   "id": "315f4b56",
   "metadata": {},
   "outputs": [
    {
     "data": {
      "image/png": "[encoded data removed]",
      "text/plain": [
       "<Figure size 1080x720 with 9 Axes>"
      ]
     },
     "metadata": {
      "needs_background": "light"
     },
     "output_type": "display_data"
    }
   ],
   "source": [
    "vf.hist(figsize=(15,10))\n",
    "plt.subplots_adjust(hspace=0.5);"
   ]
  },
  {
   "cell_type": "markdown",
   "id": "29c269b8",
   "metadata": {},
   "source": [
    "####  1. Policy numbers looks randomly distributed, may be it is just a serial number\n",
    "####  2. Most of the deductibles are in 3 categories. Most commonly involved in claims is 400\n",
    "####  3. Driver Rating are somewhat equally distributed\n",
    "####  4. Fraudulent claims have very small proportion \n",
    "####  5. Only 3 years of cars showing in the data and year 1994 ( older cars) have more involvement in accidents"
   ]
  },
  {
   "cell_type": "markdown",
   "id": "19fa5451",
   "metadata": {},
   "source": [
    "## 2.8 Checking the distribution of Categorical Columns"
   ]
  },
  {
   "cell_type": "code",
   "execution_count": 10,
   "id": "38f5a350",
   "metadata": {},
   "outputs": [],
   "source": [
    "### 1. Month"
   ]
  },
  {
   "cell_type": "code",
   "execution_count": 11,
   "id": "1baddcc2",
   "metadata": {},
   "outputs": [
    {
     "name": "stdout",
     "output_type": "stream",
     "text": [
      "Jan    0.091505\n",
      "May    0.088651\n",
      "Mar    0.088197\n",
      "Jun    0.085668\n",
      "Oct    0.084630\n",
      "Dec    0.083333\n",
      "Apr    0.083009\n",
      "Feb    0.082101\n",
      "Jul    0.081518\n",
      "Sep    0.080415\n",
      "Nov    0.077886\n",
      "Aug    0.073087\n",
      "Name: Month, dtype: float64\n"
     ]
    }
   ],
   "source": [
    "### https://www.educative.io/edpresso/how-to-count-unique-items-in-pandas\n",
    "### Proportional distribution of month values\n",
    "item_counts = vf['Month'].value_counts(normalize=True)\n",
    "print(item_counts)"
   ]
  },
  {
   "cell_type": "code",
   "execution_count": 12,
   "id": "272f8260",
   "metadata": {},
   "outputs": [
    {
     "data": {
      "image/png": "[encoded data removed]",
      "text/plain": [
       "<Figure size 360x360 with 1 Axes>"
      ]
     },
     "metadata": {
      "needs_background": "light"
     },
     "output_type": "display_data"
    }
   ],
   "source": [
    "# PERCENTAGE BAR PLOT \n",
    "### Source Code-https://stackoverflow.com/questions/43214978/seaborn-barplot-displaying-values\n",
    "sns.displot(x ='Month',stat=\"probability\",palette = 'hls',data = vf)\n",
    "plt.tight_layout()\n",
    "plt.show()\n"
   ]
  },
  {
   "cell_type": "code",
   "execution_count": 13,
   "id": "6b961d7c",
   "metadata": {},
   "outputs": [
    {
     "data": {
      "image/png": "[encoded data removed]",
      "text/plain": [
       "<Figure size 360x360 with 1 Axes>"
      ]
     },
     "metadata": {
      "needs_background": "light"
     },
     "output_type": "display_data"
    }
   ],
   "source": [
    "vf2=vf.loc[vf['FraudFound_P']==1]\n",
    "sns.displot(x ='Month',stat=\"probability\",data = vf2)\n",
    "plt.tight_layout()\n",
    "plt.show()\n"
   ]
  },
  {
   "cell_type": "markdown",
   "id": "3bab7f0f",
   "metadata": {},
   "source": [
    "**Amongst fraudulent cases months of March and May has relatively higher probablity**\n"
   ]
  },
  {
   "cell_type": "code",
   "execution_count": 14,
   "id": "494d1eca",
   "metadata": {},
   "outputs": [
    {
     "name": "stdout",
     "output_type": "stream",
     "text": [
      "Month\n",
      "Apr    0.062500\n",
      "Aug    0.074534\n",
      "Dec    0.048249\n",
      "Feb    0.064771\n",
      "Jan    0.061658\n",
      "Jul    0.047733\n",
      "Jun    0.060560\n",
      "Mar    0.075000\n",
      "May    0.068764\n",
      "Nov    0.038301\n",
      "Oct    0.053640\n",
      "Sep    0.061290\n",
      "Name: FraudFound_P, dtype: float64\n",
      "Month\n",
      "Apr    0.242156\n",
      "Aug    0.262755\n",
      "Dec    0.214375\n",
      "Feb    0.246218\n",
      "Jan    0.240619\n",
      "Jul    0.213285\n",
      "Jun    0.238612\n",
      "Mar    0.263488\n",
      "May    0.253145\n",
      "Nov    0.192003\n",
      "Oct    0.225392\n",
      "Sep    0.239959\n",
      "Name: FraudFound_P, dtype: float64\n"
     ]
    },
    {
     "data": {
      "image/png": "[encoded data removed]",
      "text/plain": [
       "<Figure size 1080x288 with 1 Axes>"
      ]
     },
     "metadata": {},
     "output_type": "display_data"
    }
   ],
   "source": [
    "sns.set(style=\"whitegrid\") \n",
    "plt.figure(figsize=(15,4))\n",
    "ax=sns.barplot(x = 'Month', y = 'FraudFound_P', data = vf,\n",
    "            palette = 'hls',\n",
    "            capsize = 0.05,             \n",
    "            saturation = 8,             \n",
    "            errcolor = 'gray', errwidth = 2,  \n",
    "            ci = 'sd'   \n",
    "            )\n",
    "\n",
    "print(vf.groupby(['Month']).mean()['FraudFound_P'])\n",
    "print(vf.groupby(['Month']).std()['FraudFound_P'])\n",
    "plt.tight_layout()\n",
    "plt.show()"
   ]
  },
  {
   "cell_type": "markdown",
   "id": "c33b3179",
   "metadata": {},
   "source": [
    "## 2.9.Checking the make of the vehicle"
   ]
  },
  {
   "cell_type": "code",
   "execution_count": 15,
   "id": "edde4f94",
   "metadata": {},
   "outputs": [
    {
     "data": {
      "image/png": "[encoded data removed]",
      "text/plain": [
       "<Figure size 864x576 with 1 Axes>"
      ]
     },
     "metadata": {},
     "output_type": "display_data"
    }
   ],
   "source": [
    "\n",
    "\n",
    "plt.figure(figsize=(12, 8))\n",
    "ax3 = sns.countplot(x=\"Make\",order=vf['Make'].value_counts().index ,data=vf)\n",
    "ax3.set(xlabel='Class', ylabel='Count')\n",
    "\n",
    "\n",
    "plt.show()"
   ]
  },
  {
   "cell_type": "markdown",
   "id": "240d1b58",
   "metadata": {},
   "source": [
    "**Pontiac, Toyota, Honda, Mazda and Chevrolet are the top 5 makes involved in claims**"
   ]
  },
  {
   "cell_type": "code",
   "execution_count": 16,
   "id": "3f8663d7",
   "metadata": {},
   "outputs": [
    {
     "data": {
      "image/png": "[encoded data removed]",
      "text/plain": [
       "<Figure size 864x576 with 1 Axes>"
      ]
     },
     "metadata": {},
     "output_type": "display_data"
    }
   ],
   "source": [
    "### https://stackoverflow.com/questions/69690399/how-to-add-percentages-on-countplot-in-seaborn\n",
    "def percentage_above_bar_relative_to_xgroup(ax):\n",
    "    all_heights = [[p.get_height() for p in bars] for bars in ax.containers]\n",
    "    for bars in ax.containers:\n",
    "        for i, p in enumerate(bars):\n",
    "            total = sum(xgroup[i] for xgroup in all_heights)\n",
    "            percentage = f'{(100 * p.get_height() / total) :.1f}%'\n",
    "            ax.annotate(percentage, (p.get_x() + p.get_width() / 2, p.get_height()), size=11, ha='center', va='bottom')\n",
    "\n",
    "#df = sns.load_dataset(\"titanic\")\n",
    "\n",
    "plt.figure(figsize=(12, 8))\n",
    "ax3 = sns.countplot(x=\"Make\",hue=\"FraudFound_P\" ,data=vf)\n",
    "ax3.set(xlabel='Class', ylabel='Count')\n",
    "\n",
    "percentage_above_bar_relative_to_xgroup(ax3)\n",
    "plt.show()"
   ]
  },
  {
   "cell_type": "code",
   "execution_count": 17,
   "id": "bc238b3e",
   "metadata": {},
   "outputs": [
    {
     "name": "stdout",
     "output_type": "stream",
     "text": [
      "Make\n",
      "Accura       0.125000\n",
      "BMW          0.066667\n",
      "Chevrolet    0.055919\n",
      "Dodge        0.018349\n",
      "Ferrari      0.000000\n",
      "Ford         0.073333\n",
      "Honda        0.063906\n",
      "Jaguar       0.000000\n",
      "Lexus        0.000000\n",
      "Mazda        0.052251\n",
      "Mecedes      0.250000\n",
      "Mercury      0.072289\n",
      "Nisson       0.033333\n",
      "Pontiac      0.055512\n",
      "Porche       0.000000\n",
      "Saab         0.101852\n",
      "Saturn       0.103448\n",
      "Toyota       0.059596\n",
      "VW           0.028269\n",
      "Name: FraudFound_P, dtype: float64\n",
      "Make\n",
      "Accura       0.331070\n",
      "BMW          0.258199\n",
      "Chevrolet    0.229834\n",
      "Dodge        0.134829\n",
      "Ferrari      0.000000\n",
      "Ford         0.260973\n",
      "Honda        0.244629\n",
      "Jaguar       0.000000\n",
      "Lexus             NaN\n",
      "Mazda        0.222581\n",
      "Mecedes      0.500000\n",
      "Mercury      0.260540\n",
      "Nisson       0.182574\n",
      "Pontiac      0.229007\n",
      "Porche       0.000000\n",
      "Saab         0.303863\n",
      "Saturn       0.307203\n",
      "Toyota       0.236775\n",
      "VW           0.166033\n",
      "Name: FraudFound_P, dtype: float64\n"
     ]
    },
    {
     "data": {
      "image/png": "[encoded data removed]",
      "text/plain": [
       "<Figure size 1080x288 with 1 Axes>"
      ]
     },
     "metadata": {},
     "output_type": "display_data"
    }
   ],
   "source": [
    "sns.set(style=\"whitegrid\") \n",
    "plt.figure(figsize=(15,4))\n",
    "ax=sns.barplot(x = 'Make', y = 'FraudFound_P', data = vf,\n",
    "            palette = 'hls',\n",
    "            capsize = 0.05,             \n",
    "            saturation = 8,             \n",
    "            errcolor = 'gray', errwidth = 2,\n",
    "            order=vf['Make'].value_counts().index,\n",
    "            ci = 'sd'   \n",
    "            )\n",
    "\n",
    "print(vf.groupby(['Make']).mean()['FraudFound_P'])\n",
    "print(vf.groupby(['Make']).std()['FraudFound_P'])\n",
    "plt.tight_layout()\n",
    "plt.show()"
   ]
  },
  {
   "cell_type": "markdown",
   "id": "708442b4",
   "metadata": {},
   "source": [
    "**Surprisingly the highest probablity of fraudulent transactions is in high end cars like Accura and Mercedes, most likely due to higher incentive for frauds as the cars being costlier**"
   ]
  },
  {
   "cell_type": "markdown",
   "id": "08c17ef1",
   "metadata": {},
   "source": [
    "## 2.10. Checking for the distribution of total claims columns"
   ]
  },
  {
   "cell_type": "code",
   "execution_count": 18,
   "id": "e63e0c65",
   "metadata": {},
   "outputs": [
    {
     "data": {
      "text/plain": [
       "0    14497\n",
       "1      923\n",
       "Name: FraudFound_P, dtype: int64"
      ]
     },
     "execution_count": 18,
     "metadata": {},
     "output_type": "execute_result"
    }
   ],
   "source": [
    "vf['FraudFound_P'].value_counts()\n"
   ]
  },
  {
   "cell_type": "code",
   "execution_count": 19,
   "id": "3bf0bb93",
   "metadata": {},
   "outputs": [
    {
     "data": {
      "image/png": "[encoded data removed]",
      "text/plain": [
       "<Figure size 432x288 with 1 Axes>"
      ]
     },
     "metadata": {},
     "output_type": "display_data"
    }
   ],
   "source": [
    "sns.countplot(x='FraudFound_P',data=vf)\n",
    "plt.tight_layout()\n",
    "plt.show()"
   ]
  },
  {
   "cell_type": "code",
   "execution_count": 20,
   "id": "6553465f",
   "metadata": {},
   "outputs": [
    {
     "data": {
      "image/png": "[encoded data removed]",
      "text/plain": [
       "<Figure size 432x288 with 1 Axes>"
      ]
     },
     "metadata": {},
     "output_type": "display_data"
    }
   ],
   "source": [
    "# PERCENTAGE BAR PLOT \n",
    "### Source Code-https://stackoverflow.com/questions/43214978/seaborn-barplot-displaying-values\n",
    "ax = sns.barplot(x='FraudFound_P', y='FraudFound_P', data=vf, estimator=lambda x: len(x) / len(vf) * 100)\n",
    "ax.bar_label(ax.containers[0])\n",
    "ax.set(ylabel=\"Percent\")\n",
    "plt.tight_layout()\n",
    "plt.show()"
   ]
  },
  {
   "cell_type": "markdown",
   "id": "2f40211b",
   "metadata": {},
   "source": [
    "### Close to 94% (14497 claims) tranaction are fair and 6%(923 claims) are fraudulent. "
   ]
  },
  {
   "cell_type": "markdown",
   "id": "057f3a8b",
   "metadata": {},
   "source": [
    "##  2.11 Checking the contribution of sex type on fruadulent and legitimate claims\n"
   ]
  },
  {
   "cell_type": "code",
   "execution_count": 21,
   "id": "91014ac3",
   "metadata": {},
   "outputs": [
    {
     "data": {
      "image/png": "[encoded data removed]",
      "text/plain": [
       "<Figure size 432x288 with 1 Axes>"
      ]
     },
     "metadata": {},
     "output_type": "display_data"
    }
   ],
   "source": [
    "sns.set(style=\"whitegrid\")\n",
    "ax=sns.barplot(data=vf,x='FraudFound_P', y='FraudFound_P',hue='Sex', color=\"skyblue\",estimator=lambda x: len(x) / len(vf) * 100)\n",
    "for container in ax.containers:\n",
    "    ax.bar_label(container)\n",
    "    ax.set(ylabel=\"Percent\")\n",
    "plt.tight_layout()\n",
    "plt.show()\n"
   ]
  },
  {
   "cell_type": "code",
   "execution_count": 22,
   "id": "824c6c88",
   "metadata": {},
   "outputs": [
    {
     "data": {
      "image/png": "[encoded data removed]",
      "text/plain": [
       "<Figure size 432x288 with 1 Axes>"
      ]
     },
     "metadata": {},
     "output_type": "display_data"
    }
   ],
   "source": [
    "vf1=vf.loc[vf['FraudFound_P']==0]\n",
    "sns.set(style=\"whitegrid\")  \n",
    "ax=sns.barplot(data=vf1,x='FraudFound_P',y='FraudFound_P',hue='Sex', color=\"skyblue\",estimator=lambda x: len(x) / len(vf1) * 100)\n",
    "for container in ax.containers:\n",
    "    ax.bar_label(container)\n",
    "    ax.set(ylabel=\"Percent\")\n",
    "    plt.tight_layout()\n",
    "plt.show()"
   ]
  },
  {
   "cell_type": "code",
   "execution_count": 23,
   "id": "7a4eddd5",
   "metadata": {},
   "outputs": [
    {
     "data": {
      "image/png": "[encoded data removed]",
      "text/plain": [
       "<Figure size 432x288 with 1 Axes>"
      ]
     },
     "metadata": {},
     "output_type": "display_data"
    }
   ],
   "source": [
    "vf2=vf.loc[vf['FraudFound_P']==1]\n",
    "sns.set(style=\"whitegrid\") \n",
    "ax=sns.barplot(data=vf2,x='FraudFound_P',y='FraudFound_P',hue='Sex', color=\"skyblue\",estimator=lambda x: len(x) / len(vf2) * 100)\n",
    "for container in ax.containers:\n",
    "    ax.bar_label(container)\n",
    "    ax.set(ylabel=\"Percent\")\n",
    "plt.tight_layout()\n",
    "plt.show()"
   ]
  },
  {
   "cell_type": "markdown",
   "id": "09b7d036",
   "metadata": {},
   "source": [
    "#### \"Amongst the total claims males contribute 84.03% for non-fraudulent transactions but contribute 88.62% of fraudulent transactions. Males are more likely to submit fraudulent claims\")<b>"
   ]
  },
  {
   "cell_type": "markdown",
   "id": "4e0909a7",
   "metadata": {},
   "source": [
    "## 2.12 Checking for relation between week of month and fraud probablistically"
   ]
  },
  {
   "cell_type": "code",
   "execution_count": 24,
   "id": "136f69b9",
   "metadata": {},
   "outputs": [
    {
     "data": {
      "image/png": "[encoded data removed]",
      "text/plain": [
       "<Figure size 448.425x360 with 1 Axes>"
      ]
     },
     "metadata": {},
     "output_type": "display_data"
    }
   ],
   "source": [
    "sns.displot(x ='WeekOfMonth', hue = \"FraudFound_P\",stat=\"probability\",data = vf)\n",
    " \n",
    "# Show the plot\n",
    "plt.show()"
   ]
  },
  {
   "cell_type": "code",
   "execution_count": 25,
   "id": "4ab63b5a",
   "metadata": {},
   "outputs": [
    {
     "data": {
      "image/png": "[encoded data removed]",
      "text/plain": [
       "<Figure size 432x288 with 1 Axes>"
      ]
     },
     "metadata": {},
     "output_type": "display_data"
    }
   ],
   "source": [
    "sns.countplot(x ='WeekOfMonth', hue = \"FraudFound_P\", data = vf2)\n",
    " \n",
    "# Show the plot\n",
    "plt.show()"
   ]
  },
  {
   "cell_type": "code",
   "execution_count": 26,
   "id": "75345d13",
   "metadata": {},
   "outputs": [
    {
     "data": {
      "image/png": "[encoded data removed]",
      "text/plain": [
       "<Figure size 360x360 with 1 Axes>"
      ]
     },
     "metadata": {},
     "output_type": "display_data"
    }
   ],
   "source": [
    "sns.displot(x ='WeekOfMonth',stat=\"probability\",data = vf2)\n",
    " \n",
    "# Show the plot\n",
    "plt.show()"
   ]
  },
  {
   "cell_type": "markdown",
   "id": "3d8e02b1",
   "metadata": {},
   "source": [
    "##  2.13. Checking for fraudulent transactions by age column"
   ]
  },
  {
   "cell_type": "code",
   "execution_count": 27,
   "id": "a01c5881",
   "metadata": {},
   "outputs": [
    {
     "data": {
      "image/png": "[encoded data removed]",
      "text/plain": [
       "<Figure size 360x360 with 1 Axes>"
      ]
     },
     "metadata": {},
     "output_type": "display_data"
    }
   ],
   "source": [
    "sns.displot(x ='Age',stat=\"probability\",data = vf2)\n",
    " \n",
    "# Show the plot\n",
    "plt.show()"
   ]
  },
  {
   "cell_type": "markdown",
   "id": "a769ec05",
   "metadata": {},
   "source": [
    "### There are several readings for age=0, which canot be driver .At this point we are not sure what that age column is. Interesting observation is the distribution of age groups and it seems like most case are clustered between age 20 and 60 with significant increase in fraudulent activities for age group 30 to40"
   ]
  },
  {
   "cell_type": "markdown",
   "id": "f95752ff",
   "metadata": {},
   "source": [
    "## 2.14 Checking value counts for age <20 as several values are showing 0 age"
   ]
  },
  {
   "cell_type": "code",
   "execution_count": 28,
   "id": "77043c02",
   "metadata": {},
   "outputs": [
    {
     "data": {
      "text/plain": [
       "0     320\n",
       "18     48\n",
       "19     32\n",
       "16      9\n",
       "17      6\n",
       "Name: Age, dtype: int64"
      ]
     },
     "execution_count": 28,
     "metadata": {},
     "output_type": "execute_result"
    }
   ],
   "source": [
    "### Proportional distribution of age values\n",
    "#vf1=vf.loc[vf['FraudFound_P']==0]\n",
    "vf4=vf.loc[vf['Age']<20]\n",
    "vf4['Age'].value_counts()"
   ]
  },
  {
   "cell_type": "markdown",
   "id": "3c560e2b",
   "metadata": {},
   "source": [
    "**This indicates there are 320 instances when the age is recorded as 0**"
   ]
  },
  {
   "cell_type": "markdown",
   "id": "8ff31493",
   "metadata": {},
   "source": [
    "## 2.16 Age column when its value is 0 requires further investigation\n",
    "**There is a seperate column for age of policy holder which is already binned in 9 buckets\n",
    " It may indicate that Age column defines the age of driver which could be different from policy holder?**\n"
   ]
  },
  {
   "cell_type": "code",
   "execution_count": 29,
   "id": "ac171453",
   "metadata": {},
   "outputs": [
    {
     "data": {
      "text/html": [
       "<div>\n",
       "<style scoped>\n",
       "    .dataframe tbody tr th:only-of-type {\n",
       "        vertical-align: middle;\n",
       "    }\n",
       "\n",
       "    .dataframe tbody tr th {\n",
       "        vertical-align: top;\n",
       "    }\n",
       "\n",
       "    .dataframe thead th {\n",
       "        text-align: right;\n",
       "    }\n",
       "</style>\n",
       "<table border=\"1\" class=\"dataframe\">\n",
       "  <thead>\n",
       "    <tr style=\"text-align: right;\">\n",
       "      <th></th>\n",
       "      <th>7</th>\n",
       "      <th>13</th>\n",
       "      <th>28</th>\n",
       "      <th>31</th>\n",
       "      <th>58</th>\n",
       "    </tr>\n",
       "  </thead>\n",
       "  <tbody>\n",
       "    <tr>\n",
       "      <th>Month</th>\n",
       "      <td>Nov</td>\n",
       "      <td>Jan</td>\n",
       "      <td>Jul</td>\n",
       "      <td>Mar</td>\n",
       "      <td>May</td>\n",
       "    </tr>\n",
       "    <tr>\n",
       "      <th>WeekOfMonth</th>\n",
       "      <td>1</td>\n",
       "      <td>5</td>\n",
       "      <td>1</td>\n",
       "      <td>1</td>\n",
       "      <td>1</td>\n",
       "    </tr>\n",
       "    <tr>\n",
       "      <th>DayOfWeek</th>\n",
       "      <td>Friday</td>\n",
       "      <td>Friday</td>\n",
       "      <td>Saturday</td>\n",
       "      <td>Sunday</td>\n",
       "      <td>Monday</td>\n",
       "    </tr>\n",
       "    <tr>\n",
       "      <th>Make</th>\n",
       "      <td>Honda</td>\n",
       "      <td>Honda</td>\n",
       "      <td>Honda</td>\n",
       "      <td>Honda</td>\n",
       "      <td>Honda</td>\n",
       "    </tr>\n",
       "    <tr>\n",
       "      <th>AccidentArea</th>\n",
       "      <td>Urban</td>\n",
       "      <td>Rural</td>\n",
       "      <td>Urban</td>\n",
       "      <td>Urban</td>\n",
       "      <td>Rural</td>\n",
       "    </tr>\n",
       "    <tr>\n",
       "      <th>DayOfWeekClaimed</th>\n",
       "      <td>Tuesday</td>\n",
       "      <td>Wednesday</td>\n",
       "      <td>Tuesday</td>\n",
       "      <td>Tuesday</td>\n",
       "      <td>Wednesday</td>\n",
       "    </tr>\n",
       "    <tr>\n",
       "      <th>MonthClaimed</th>\n",
       "      <td>Mar</td>\n",
       "      <td>Feb</td>\n",
       "      <td>Sep</td>\n",
       "      <td>Mar</td>\n",
       "      <td>May</td>\n",
       "    </tr>\n",
       "    <tr>\n",
       "      <th>WeekOfMonthClaimed</th>\n",
       "      <td>4</td>\n",
       "      <td>1</td>\n",
       "      <td>4</td>\n",
       "      <td>2</td>\n",
       "      <td>4</td>\n",
       "    </tr>\n",
       "    <tr>\n",
       "      <th>Sex</th>\n",
       "      <td>Male</td>\n",
       "      <td>Male</td>\n",
       "      <td>Male</td>\n",
       "      <td>Male</td>\n",
       "      <td>Male</td>\n",
       "    </tr>\n",
       "    <tr>\n",
       "      <th>MaritalStatus</th>\n",
       "      <td>Single</td>\n",
       "      <td>Single</td>\n",
       "      <td>Single</td>\n",
       "      <td>Single</td>\n",
       "      <td>Single</td>\n",
       "    </tr>\n",
       "    <tr>\n",
       "      <th>Age</th>\n",
       "      <td>0</td>\n",
       "      <td>0</td>\n",
       "      <td>0</td>\n",
       "      <td>0</td>\n",
       "      <td>0</td>\n",
       "    </tr>\n",
       "    <tr>\n",
       "      <th>Fault</th>\n",
       "      <td>Policy Holder</td>\n",
       "      <td>Third Party</td>\n",
       "      <td>Policy Holder</td>\n",
       "      <td>Policy Holder</td>\n",
       "      <td>Policy Holder</td>\n",
       "    </tr>\n",
       "    <tr>\n",
       "      <th>PolicyType</th>\n",
       "      <td>Sport - Collision</td>\n",
       "      <td>Sedan - Collision</td>\n",
       "      <td>Sedan - All Perils</td>\n",
       "      <td>Sedan - Collision</td>\n",
       "      <td>Sedan - Liability</td>\n",
       "    </tr>\n",
       "    <tr>\n",
       "      <th>VehicleCategory</th>\n",
       "      <td>Sport</td>\n",
       "      <td>Sedan</td>\n",
       "      <td>Sedan</td>\n",
       "      <td>Sedan</td>\n",
       "      <td>Sport</td>\n",
       "    </tr>\n",
       "    <tr>\n",
       "      <th>VehiclePrice</th>\n",
       "      <td>more than 69000</td>\n",
       "      <td>more than 69000</td>\n",
       "      <td>more than 69000</td>\n",
       "      <td>more than 69000</td>\n",
       "      <td>more than 69000</td>\n",
       "    </tr>\n",
       "    <tr>\n",
       "      <th>FraudFound_P</th>\n",
       "      <td>0</td>\n",
       "      <td>0</td>\n",
       "      <td>1</td>\n",
       "      <td>0</td>\n",
       "      <td>0</td>\n",
       "    </tr>\n",
       "    <tr>\n",
       "      <th>PolicyNumber</th>\n",
       "      <td>8</td>\n",
       "      <td>14</td>\n",
       "      <td>29</td>\n",
       "      <td>32</td>\n",
       "      <td>59</td>\n",
       "    </tr>\n",
       "    <tr>\n",
       "      <th>RepNumber</th>\n",
       "      <td>1</td>\n",
       "      <td>12</td>\n",
       "      <td>9</td>\n",
       "      <td>6</td>\n",
       "      <td>15</td>\n",
       "    </tr>\n",
       "    <tr>\n",
       "      <th>Deductible</th>\n",
       "      <td>400</td>\n",
       "      <td>400</td>\n",
       "      <td>400</td>\n",
       "      <td>400</td>\n",
       "      <td>400</td>\n",
       "    </tr>\n",
       "    <tr>\n",
       "      <th>DriverRating</th>\n",
       "      <td>4</td>\n",
       "      <td>3</td>\n",
       "      <td>1</td>\n",
       "      <td>1</td>\n",
       "      <td>4</td>\n",
       "    </tr>\n",
       "    <tr>\n",
       "      <th>Days_Policy_Accident</th>\n",
       "      <td>more than 30</td>\n",
       "      <td>more than 30</td>\n",
       "      <td>more than 30</td>\n",
       "      <td>more than 30</td>\n",
       "      <td>more than 30</td>\n",
       "    </tr>\n",
       "    <tr>\n",
       "      <th>Days_Policy_Claim</th>\n",
       "      <td>more than 30</td>\n",
       "      <td>more than 30</td>\n",
       "      <td>more than 30</td>\n",
       "      <td>more than 30</td>\n",
       "      <td>more than 30</td>\n",
       "    </tr>\n",
       "    <tr>\n",
       "      <th>PastNumberOfClaims</th>\n",
       "      <td>1</td>\n",
       "      <td>none</td>\n",
       "      <td>none</td>\n",
       "      <td>1</td>\n",
       "      <td>none</td>\n",
       "    </tr>\n",
       "    <tr>\n",
       "      <th>AgeOfVehicle</th>\n",
       "      <td>new</td>\n",
       "      <td>new</td>\n",
       "      <td>new</td>\n",
       "      <td>new</td>\n",
       "      <td>new</td>\n",
       "    </tr>\n",
       "    <tr>\n",
       "      <th>AgeOfPolicyHolder</th>\n",
       "      <td>16 to 17</td>\n",
       "      <td>16 to 17</td>\n",
       "      <td>16 to 17</td>\n",
       "      <td>16 to 17</td>\n",
       "      <td>16 to 17</td>\n",
       "    </tr>\n",
       "    <tr>\n",
       "      <th>PoliceReportFiled</th>\n",
       "      <td>No</td>\n",
       "      <td>No</td>\n",
       "      <td>No</td>\n",
       "      <td>No</td>\n",
       "      <td>No</td>\n",
       "    </tr>\n",
       "    <tr>\n",
       "      <th>WitnessPresent</th>\n",
       "      <td>No</td>\n",
       "      <td>No</td>\n",
       "      <td>No</td>\n",
       "      <td>No</td>\n",
       "      <td>No</td>\n",
       "    </tr>\n",
       "    <tr>\n",
       "      <th>AgentType</th>\n",
       "      <td>External</td>\n",
       "      <td>External</td>\n",
       "      <td>External</td>\n",
       "      <td>External</td>\n",
       "      <td>External</td>\n",
       "    </tr>\n",
       "    <tr>\n",
       "      <th>NumberOfSuppliments</th>\n",
       "      <td>none</td>\n",
       "      <td>none</td>\n",
       "      <td>none</td>\n",
       "      <td>none</td>\n",
       "      <td>none</td>\n",
       "    </tr>\n",
       "    <tr>\n",
       "      <th>AddressChange_Claim</th>\n",
       "      <td>no change</td>\n",
       "      <td>no change</td>\n",
       "      <td>no change</td>\n",
       "      <td>no change</td>\n",
       "      <td>no change</td>\n",
       "    </tr>\n",
       "    <tr>\n",
       "      <th>NumberOfCars</th>\n",
       "      <td>1 vehicle</td>\n",
       "      <td>1 vehicle</td>\n",
       "      <td>1 vehicle</td>\n",
       "      <td>1 vehicle</td>\n",
       "      <td>1 vehicle</td>\n",
       "    </tr>\n",
       "    <tr>\n",
       "      <th>Year</th>\n",
       "      <td>1994</td>\n",
       "      <td>1994</td>\n",
       "      <td>1994</td>\n",
       "      <td>1994</td>\n",
       "      <td>1994</td>\n",
       "    </tr>\n",
       "    <tr>\n",
       "      <th>BasePolicy</th>\n",
       "      <td>Collision</td>\n",
       "      <td>Collision</td>\n",
       "      <td>All Perils</td>\n",
       "      <td>Collision</td>\n",
       "      <td>Liability</td>\n",
       "    </tr>\n",
       "  </tbody>\n",
       "</table>\n",
       "</div>"
      ],
      "text/plain": [
       "                                     7                  13  \\\n",
       "Month                               Nov                Jan   \n",
       "WeekOfMonth                           1                  5   \n",
       "DayOfWeek                        Friday             Friday   \n",
       "Make                              Honda              Honda   \n",
       "AccidentArea                      Urban              Rural   \n",
       "DayOfWeekClaimed                Tuesday          Wednesday   \n",
       "MonthClaimed                        Mar                Feb   \n",
       "WeekOfMonthClaimed                    4                  1   \n",
       "Sex                                Male               Male   \n",
       "MaritalStatus                    Single             Single   \n",
       "Age                                   0                  0   \n",
       "Fault                     Policy Holder        Third Party   \n",
       "PolicyType            Sport - Collision  Sedan - Collision   \n",
       "VehicleCategory                   Sport              Sedan   \n",
       "VehiclePrice            more than 69000    more than 69000   \n",
       "FraudFound_P                          0                  0   \n",
       "PolicyNumber                          8                 14   \n",
       "RepNumber                             1                 12   \n",
       "Deductible                          400                400   \n",
       "DriverRating                          4                  3   \n",
       "Days_Policy_Accident       more than 30       more than 30   \n",
       "Days_Policy_Claim          more than 30       more than 30   \n",
       "PastNumberOfClaims                    1               none   \n",
       "AgeOfVehicle                        new                new   \n",
       "AgeOfPolicyHolder              16 to 17           16 to 17   \n",
       "PoliceReportFiled                    No                 No   \n",
       "WitnessPresent                       No                 No   \n",
       "AgentType                      External           External   \n",
       "NumberOfSuppliments                none               none   \n",
       "AddressChange_Claim           no change          no change   \n",
       "NumberOfCars                  1 vehicle          1 vehicle   \n",
       "Year                               1994               1994   \n",
       "BasePolicy                    Collision          Collision   \n",
       "\n",
       "                                      28                 31                 58  \n",
       "Month                                Jul                Mar                May  \n",
       "WeekOfMonth                            1                  1                  1  \n",
       "DayOfWeek                       Saturday             Sunday             Monday  \n",
       "Make                               Honda              Honda              Honda  \n",
       "AccidentArea                       Urban              Urban              Rural  \n",
       "DayOfWeekClaimed                 Tuesday            Tuesday          Wednesday  \n",
       "MonthClaimed                         Sep                Mar                May  \n",
       "WeekOfMonthClaimed                     4                  2                  4  \n",
       "Sex                                 Male               Male               Male  \n",
       "MaritalStatus                     Single             Single             Single  \n",
       "Age                                    0                  0                  0  \n",
       "Fault                      Policy Holder      Policy Holder      Policy Holder  \n",
       "PolicyType            Sedan - All Perils  Sedan - Collision  Sedan - Liability  \n",
       "VehicleCategory                    Sedan              Sedan              Sport  \n",
       "VehiclePrice             more than 69000    more than 69000    more than 69000  \n",
       "FraudFound_P                           1                  0                  0  \n",
       "PolicyNumber                          29                 32                 59  \n",
       "RepNumber                              9                  6                 15  \n",
       "Deductible                           400                400                400  \n",
       "DriverRating                           1                  1                  4  \n",
       "Days_Policy_Accident        more than 30       more than 30       more than 30  \n",
       "Days_Policy_Claim           more than 30       more than 30       more than 30  \n",
       "PastNumberOfClaims                  none                  1               none  \n",
       "AgeOfVehicle                         new                new                new  \n",
       "AgeOfPolicyHolder               16 to 17           16 to 17           16 to 17  \n",
       "PoliceReportFiled                     No                 No                 No  \n",
       "WitnessPresent                        No                 No                 No  \n",
       "AgentType                       External           External           External  \n",
       "NumberOfSuppliments                 none               none               none  \n",
       "AddressChange_Claim            no change          no change          no change  \n",
       "NumberOfCars                   1 vehicle          1 vehicle          1 vehicle  \n",
       "Year                                1994               1994               1994  \n",
       "BasePolicy                    All Perils          Collision          Liability  "
      ]
     },
     "execution_count": 29,
     "metadata": {},
     "output_type": "execute_result"
    }
   ],
   "source": [
    "vf5=vf.loc[vf['Age']==0]\n",
    "vf5.head().T"
   ]
  },
  {
   "cell_type": "code",
   "execution_count": 30,
   "id": "a93ea7f8",
   "metadata": {},
   "outputs": [
    {
     "data": {
      "text/plain": [
       "Month                    12\n",
       "WeekOfMonth               5\n",
       "DayOfWeek                 7\n",
       "Make                      2\n",
       "AccidentArea              2\n",
       "DayOfWeekClaimed          6\n",
       "MonthClaimed             13\n",
       "WeekOfMonthClaimed        5\n",
       "Sex                       1\n",
       "MaritalStatus             1\n",
       "Age                       1\n",
       "Fault                     2\n",
       "PolicyType                7\n",
       "VehicleCategory           3\n",
       "VehiclePrice              3\n",
       "FraudFound_P              2\n",
       "PolicyNumber            320\n",
       "RepNumber                16\n",
       "Deductible                2\n",
       "DriverRating              4\n",
       "Days_Policy_Accident      1\n",
       "Days_Policy_Claim         2\n",
       "PastNumberOfClaims        4\n",
       "AgeOfVehicle              3\n",
       "AgeOfPolicyHolder         1\n",
       "PoliceReportFiled         2\n",
       "WitnessPresent            2\n",
       "AgentType                 2\n",
       "NumberOfSuppliments       3\n",
       "AddressChange_Claim       4\n",
       "NumberOfCars              3\n",
       "Year                      3\n",
       "BasePolicy                3\n",
       "dtype: int64"
      ]
     },
     "execution_count": 30,
     "metadata": {},
     "output_type": "execute_result"
    }
   ],
   "source": [
    "vf5.nunique()"
   ]
  },
  {
   "cell_type": "code",
   "execution_count": 31,
   "id": "dc53d20d",
   "metadata": {},
   "outputs": [
    {
     "data": {
      "image/png": "[encoded data removed]",
      "text/plain": [
       "<Figure size 360x360 with 1 Axes>"
      ]
     },
     "metadata": {},
     "output_type": "display_data"
    }
   ],
   "source": [
    "ax=sns.displot(x ='Age',stat=\"probability\",bins=8,data = vf2)\n",
    "# Show the plot\n",
    "plt.show()"
   ]
  },
  {
   "cell_type": "markdown",
   "id": "8c90cfe3",
   "metadata": {},
   "source": [
    "### Age group 30-40 is most probable (0.35) had more incidences of fraudulent transaction compared to other age groups"
   ]
  },
  {
   "cell_type": "code",
   "execution_count": 32,
   "id": "4f1b4d68",
   "metadata": {},
   "outputs": [
    {
     "data": {
      "image/png": "[encoded data removed]",
      "text/plain": [
       "<Figure size 1080x288 with 1 Axes>"
      ]
     },
     "metadata": {},
     "output_type": "display_data"
    }
   ],
   "source": [
    "\n",
    "sns.set(style=\"whitegrid\") \n",
    "plt.figure(figsize=(15,4))\n",
    "ax=sns.barplot(data=vf2,x='FraudFound_P', y='FraudFound_P',hue='DayOfWeek',\n",
    "              estimator=lambda x: len(x) / len(vf2) * 100)\n",
    "for container in ax.containers:\n",
    "    ax.bar_label(container)\n",
    "    ax.set(ylabel=\"Percent\")\n",
    "plt.tight_layout()\n",
    "plt.show()\n",
    "\n"
   ]
  },
  {
   "cell_type": "code",
   "execution_count": 33,
   "id": "8aa84aae",
   "metadata": {},
   "outputs": [
    {
     "data": {
      "image/png": "[encoded data removed]",
      "text/plain": [
       "<Figure size 1080x288 with 1 Axes>"
      ]
     },
     "metadata": {},
     "output_type": "display_data"
    }
   ],
   "source": [
    "sns.set(style=\"whitegrid\") \n",
    "plt.figure(figsize=(15,4))\n",
    "ax=sns.barplot(data=vf,x='FraudFound_P', y='FraudFound_P',hue='DayOfWeek',estimator=lambda x: len(x) / len(vf) * 100)\n",
    "for container in ax.containers:\n",
    "    ax.bar_label(container)\n",
    "    ax.set(ylabel=\"Percent\")\n",
    "plt.tight_layout()\n",
    "plt.show()\n",
    "\n"
   ]
  },
  {
   "cell_type": "markdown",
   "id": "416c1e00",
   "metadata": {},
   "source": [
    " ####  % of fraudulent transacitons is higher on Monday and Friday. Similarly, the number of claims is also higher for Monday and Friday. Probably due to hurry to go to work on Monday or coming back Friday Evening. But we do not have any time data"
   ]
  },
  {
   "cell_type": "markdown",
   "id": "0c39db92",
   "metadata": {},
   "source": [
    "## 2.17 Examing the Vehicle category and impact of sex on fraudulent activites"
   ]
  },
  {
   "cell_type": "code",
   "execution_count": 34,
   "id": "2bafdd70",
   "metadata": {},
   "outputs": [
    {
     "name": "stdout",
     "output_type": "stream",
     "text": [
      "Sex     VehicleCategory\n",
      "Female  Sedan              0.066387\n",
      "        Sport              0.010121\n",
      "        Utility            0.000000\n",
      "Male    Sedan              0.084951\n",
      "        Sport              0.016934\n",
      "        Utility            0.112821\n",
      "Name: FraudFound_P, dtype: float64\n",
      "Sex     VehicleCategory\n",
      "Female  Sedan              0.249045\n",
      "        Sport              0.100146\n",
      "        Utility                 NaN\n",
      "Male    Sedan              0.278826\n",
      "        Sport              0.129038\n",
      "        Utility            0.316780\n",
      "Name: FraudFound_P, dtype: float64\n"
     ]
    },
    {
     "data": {
      "image/png": "[encoded data removed]",
      "text/plain": [
       "<Figure size 1080x288 with 1 Axes>"
      ]
     },
     "metadata": {},
     "output_type": "display_data"
    }
   ],
   "source": [
    "sns.set(style=\"whitegrid\") \n",
    "plt.figure(figsize=(15,4))\n",
    "ax=sns.barplot(x = 'Sex', y = 'FraudFound_P', hue = 'VehicleCategory', data = vf,\n",
    "            palette = 'hls',\n",
    "            order = ['Male', 'Female'],  \n",
    "            capsize = 0.05,             \n",
    "            saturation = 8,             \n",
    "            errcolor = 'gray', errwidth = 2,  \n",
    "            ci = 'sd'   \n",
    "            )\n",
    "\n",
    "print(vf.groupby(['Sex', 'VehicleCategory']).mean()['FraudFound_P'])\n",
    "print(vf.groupby(['Sex', 'VehicleCategory']).std()['FraudFound_P'])\n",
    "plt.tight_layout()\n",
    "plt.show()\n"
   ]
  },
  {
   "cell_type": "code",
   "execution_count": 35,
   "id": "2936bd02",
   "metadata": {},
   "outputs": [
    {
     "data": {
      "image/png": "[encoded data removed]",
      "text/plain": [
       "<Figure size 432x288 with 1 Axes>"
      ]
     },
     "metadata": {},
     "output_type": "display_data"
    }
   ],
   "source": [
    "vf2=vf.loc[vf['FraudFound_P']==1]\n",
    "sns.set(style=\"whitegrid\") \n",
    "ax=sns.barplot(data=vf2,x='FraudFound_P',y='FraudFound_P',hue='VehicleCategory',estimator=lambda x: len(x) / len(vf2) * 100)\n",
    "for container in ax.containers:\n",
    "    ax.bar_label(container)\n",
    "    ax.set(ylabel=\"Percent\")\n",
    "plt.tight_layout()\n",
    "plt.show()"
   ]
  },
  {
   "cell_type": "code",
   "execution_count": 36,
   "id": "1910ee47",
   "metadata": {},
   "outputs": [
    {
     "data": {
      "image/png": "[encoded data removed]",
      "text/plain": [
       "<Figure size 432x288 with 1 Axes>"
      ]
     },
     "metadata": {},
     "output_type": "display_data"
    }
   ],
   "source": [
    "sns.set(style=\"whitegrid\") \n",
    "ax=sns.barplot(data=vf,x='FraudFound_P',y='FraudFound_P',hue='VehicleCategory',estimator=lambda x: len(x) / len(vf) * 100)\n",
    "for container in ax.containers:\n",
    "    ax.bar_label(container)\n",
    "    ax.set(ylabel=\"Percent\")\n",
    "plt.tight_layout()\n",
    "plt.show()"
   ]
  },
  {
   "cell_type": "code",
   "execution_count": 37,
   "id": "77c64cd1",
   "metadata": {},
   "outputs": [
    {
     "name": "stdout",
     "output_type": "stream",
     "text": [
      "VehicleCategory\n",
      "Sedan      0.082205\n",
      "Sport      0.015677\n",
      "Utility    0.112532\n",
      "Name: FraudFound_P, dtype: float64\n",
      "VehicleCategory\n",
      "Sedan      0.274690\n",
      "Sport      0.124236\n",
      "Utility    0.316425\n",
      "Name: FraudFound_P, dtype: float64\n"
     ]
    },
    {
     "data": {
      "image/png": "[encoded data removed]",
      "text/plain": [
       "<Figure size 1080x288 with 1 Axes>"
      ]
     },
     "metadata": {},
     "output_type": "display_data"
    }
   ],
   "source": [
    "sns.set(style=\"whitegrid\") \n",
    "plt.figure(figsize=(15,4))\n",
    "ax=sns.barplot(x = 'VehicleCategory', y = 'FraudFound_P',  data = vf,\n",
    "            palette = 'hls',\n",
    "            capsize = 0.05,             \n",
    "            saturation = 8,             \n",
    "            errcolor = 'gray', errwidth = 2,  \n",
    "            ci = 'sd'   \n",
    "            )\n",
    "\n",
    "print(vf.groupby(['VehicleCategory']).mean()['FraudFound_P'])\n",
    "print(vf.groupby(['VehicleCategory']).std()['FraudFound_P'])\n",
    "plt.tight_layout()\n",
    "plt.show()"
   ]
  },
  {
   "cell_type": "code",
   "execution_count": 38,
   "id": "501f6783",
   "metadata": {},
   "outputs": [
    {
     "name": "stdout",
     "output_type": "stream",
     "text": [
      "Sex\n",
      "Female    0.043388\n",
      "Male      0.062923\n",
      "Name: FraudFound_P, dtype: float64\n",
      "Sex\n",
      "Female    0.203772\n",
      "Male      0.242834\n",
      "Name: FraudFound_P, dtype: float64\n"
     ]
    },
    {
     "data": {
      "image/png": "[encoded data removed]",
      "text/plain": [
       "<Figure size 1080x288 with 1 Axes>"
      ]
     },
     "metadata": {},
     "output_type": "display_data"
    }
   ],
   "source": [
    "sns.set(style=\"whitegrid\") \n",
    "plt.figure(figsize=(15,4))\n",
    "ax=sns.barplot(x = 'Sex', y = 'FraudFound_P',  data = vf,\n",
    "            palette = 'hls',\n",
    "            capsize = 0.05,             \n",
    "            saturation = 8,             \n",
    "            errcolor = 'gray', errwidth = 2,  \n",
    "            ci = 'sd'   \n",
    "            )\n",
    "\n",
    "print(vf.groupby(['Sex']).mean()['FraudFound_P'])\n",
    "print(vf.groupby(['Sex']).std()['FraudFound_P'])\n",
    "plt.tight_layout()\n",
    "plt.show()"
   ]
  },
  {
   "cell_type": "markdown",
   "id": "e3f4674d",
   "metadata": {},
   "source": [
    "### Few interesting observations:\n",
    "1.Males driving Utility vehicles have higher probablity of fraud, but it may be due to the fact that most utility vehicles are driven by males\n",
    "\n",
    "2. Overall, Utility vehicles have higher probablity of fraudulent transactions disproportionately.\n",
    "\n",
    "3.Sedans have some what similar probablity of frauds for males and females\n",
    "4. Males on average "
   ]
  },
  {
   "cell_type": "code",
   "execution_count": 39,
   "id": "4e5964a3",
   "metadata": {},
   "outputs": [
    {
     "data": {
      "image/png": "[encoded data removed]",
      "text/plain": [
       "<Figure size 432x288 with 1 Axes>"
      ]
     },
     "metadata": {},
     "output_type": "display_data"
    }
   ],
   "source": [
    "# PERCENTAGE BAR PLOT \n",
    "### Source Code-https://stackoverflow.com/questions/43214978/seaborn-barplot-displaying-values\n",
    "ax = sns.countplot(x='VehicleCategory', data=vf)\n",
    "plt.tight_layout()\n",
    "plt.show()"
   ]
  },
  {
   "cell_type": "markdown",
   "id": "10d9a847",
   "metadata": {},
   "source": [
    "####  One thing which stands out is , that sports vehicles are less likely to be involved in fraud. Most of the claims are coming from sedans. But they are driven the most also. Utility Vehicle involved in claims have 0.11% probable on an average to have fraudulent claims where as sports vehicles are only 0.02% likely to be involved in false claims\n",
    "VehicleCategory\n",
    "\n",
    "Sedan      0.082205\n",
    "\n",
    "Sport      0.015677\n",
    "\n",
    "Utility    0.112532"
   ]
  },
  {
   "cell_type": "code",
   "execution_count": 40,
   "id": "792ef873",
   "metadata": {},
   "outputs": [
    {
     "data": {
      "image/png": "[encoded data removed]",
      "text/plain": [
       "<Figure size 432x288 with 2 Axes>"
      ]
     },
     "metadata": {},
     "output_type": "display_data"
    }
   ],
   "source": [
    "# Group the dataset by Pclass and Survived and then unstack them\n",
    "group = vf.groupby(['VehicleCategory', 'FraudFound_P'])\n",
    "vfvcfp = group.size().unstack()\n",
    " \n",
    "# Heatmap - Color encoded 2D representation of data.\n",
    "sns.heatmap(vfvcfp, annot = True, fmt =\"d\")\n",
    "plt.show()"
   ]
  },
  {
   "cell_type": "markdown",
   "id": "9a6de6a2",
   "metadata": {},
   "source": [
    "####  Above correlation matix also indicates utility vehicles have higher expectation of being involved in fraudulent activities"
   ]
  },
  {
   "cell_type": "markdown",
   "id": "d87b84c9",
   "metadata": {},
   "source": [
    "# Pre-Processing and Training Data"
   ]
  },
  {
   "cell_type": "markdown",
   "id": "837e20ab",
   "metadata": {},
   "source": [
    "## 4.1 Introduction\n",
    "\n",
    "In this step we will do necessary feature engineering and develop the intial machine learning model"
   ]
  },
  {
   "cell_type": "markdown",
   "id": "eb01e30f",
   "metadata": {},
   "source": [
    "## 4.2 Imports"
   ]
  },
  {
   "cell_type": "code",
   "execution_count": 41,
   "id": "f1fbaf47",
   "metadata": {},
   "outputs": [],
   "source": [
    "import pandas as pd\n",
    "import numpy as np\n",
    "import os\n",
    "import pickle\n",
    "import matplotlib.pyplot as plt\n",
    "import seaborn as sns\n",
    "from sklearn import __version__ as sklearn_version\n",
    "from sklearn.decomposition import PCA\n",
    "from sklearn.preprocessing import scale\n",
    "from sklearn.model_selection import train_test_split, cross_validate, GridSearchCV, learning_curve\n",
    "from sklearn.preprocessing import StandardScaler, MinMaxScaler\n",
    "from sklearn.dummy import DummyRegressor\n",
    "from sklearn.linear_model import LinearRegression\n",
    "from sklearn.ensemble import RandomForestRegressor\n",
    "from sklearn.metrics import r2_score, mean_squared_error, mean_absolute_error\n",
    "from sklearn.pipeline import make_pipeline\n",
    "from sklearn.impute import SimpleImputer\n",
    "from sklearn.feature_selection import SelectKBest, f_regression\n",
    "import datetime\n"
   ]
  },
  {
   "cell_type": "markdown",
   "id": "fd570234",
   "metadata": {},
   "source": [
    "## 4.3  Feature Engineering\n",
    "\n",
    "### 4.3.1 Converting age column into 4 bins"
   ]
  },
  {
   "cell_type": "code",
   "execution_count": 42,
   "id": "398501a6",
   "metadata": {},
   "outputs": [],
   "source": [
    "## Converting age column into bins \n",
    "vf['age_bins'] = pd.cut(x=vf['Age'], bins=[-1,21,41,61,81], labels=['teens', 'young', 'middle','old'])"
   ]
  },
  {
   "cell_type": "markdown",
   "id": "512cb216",
   "metadata": {},
   "source": [
    "Checking the histogram to look at the distribution"
   ]
  },
  {
   "cell_type": "code",
   "execution_count": 43,
   "id": "1a0ba214",
   "metadata": {},
   "outputs": [
    {
     "data": {
      "image/png": "[encoded data removed]",
      "text/plain": [
       "<Figure size 360x360 with 1 Axes>"
      ]
     },
     "metadata": {},
     "output_type": "display_data"
    }
   ],
   "source": [
    "vf.age_bins.hist(figsize=(5,5))\n",
    "plt.show()"
   ]
  },
  {
   "cell_type": "code",
   "execution_count": 44,
   "id": "a88a8ecd",
   "metadata": {},
   "outputs": [
    {
     "data": {
      "text/plain": [
       "(15420, 34)"
      ]
     },
     "execution_count": 44,
     "metadata": {},
     "output_type": "execute_result"
    }
   ],
   "source": [
    "vf.shape"
   ]
  },
  {
   "cell_type": "markdown",
   "id": "5bd6ce4d",
   "metadata": {},
   "source": [
    "## 4.3.2 Making a copy of original data frame\n"
   ]
  },
  {
   "cell_type": "code",
   "execution_count": 45,
   "id": "d3d52ad4",
   "metadata": {},
   "outputs": [],
   "source": [
    "vfm=vf.copy()"
   ]
  },
  {
   "cell_type": "markdown",
   "id": "1a5fc04e",
   "metadata": {},
   "source": [
    "### 4.3.3 Earlier we noticed that MonthClaimed had 13 values, which cannot be true"
   ]
  },
  {
   "cell_type": "code",
   "execution_count": 46,
   "id": "dc5a999a",
   "metadata": {},
   "outputs": [
    {
     "name": "stdout",
     "output_type": "stream",
     "text": [
      "Jan    0.093774\n",
      "May    0.091505\n",
      "Mar    0.087419\n",
      "Oct    0.086835\n",
      "Jun    0.083852\n",
      "Feb    0.083463\n",
      "Nov    0.083333\n",
      "Apr    0.082425\n",
      "Sep    0.080545\n",
      "Jul    0.079442\n",
      "Dec    0.074319\n",
      "Aug    0.073022\n",
      "0      0.000065\n",
      "Name: MonthClaimed, dtype: float64\n"
     ]
    }
   ],
   "source": [
    "item_month_claimed = vf['MonthClaimed'].value_counts(normalize=True)\n",
    "print(item_month_claimed)"
   ]
  },
  {
   "cell_type": "code",
   "execution_count": 47,
   "id": "907aaa0f",
   "metadata": {},
   "outputs": [
    {
     "name": "stdout",
     "output_type": "stream",
     "text": [
      "Jan    1446\n",
      "May    1411\n",
      "Mar    1348\n",
      "Oct    1339\n",
      "Jun    1293\n",
      "Feb    1287\n",
      "Nov    1285\n",
      "Apr    1271\n",
      "Sep    1242\n",
      "Jul    1225\n",
      "Dec    1146\n",
      "Aug    1126\n",
      "0         1\n",
      "Name: MonthClaimed, dtype: int64\n"
     ]
    }
   ],
   "source": [
    "item_month_claimed1 = vf['MonthClaimed'].value_counts()\n",
    "print(item_month_claimed1)"
   ]
  },
  {
   "cell_type": "markdown",
   "id": "73b0ba1e",
   "metadata": {},
   "source": [
    "***We have one entry with month 0, but it may not impact our results***\n",
    "\n",
    "***We can impute or drop that row***\n"
   ]
  },
  {
   "cell_type": "markdown",
   "id": "86ec0c5f",
   "metadata": {},
   "source": [
    "### 4.3.4 Dropping columns which are not useful\n",
    "\n",
    "We are dropping columns like PolicyNumber,RepNumber,Age"
   ]
  },
  {
   "cell_type": "code",
   "execution_count": 48,
   "id": "46bfa419",
   "metadata": {},
   "outputs": [],
   "source": [
    "vfm.drop(['PolicyNumber','RepNumber','Age'],axis=1,inplace=True)"
   ]
  },
  {
   "cell_type": "markdown",
   "id": "511141cb",
   "metadata": {},
   "source": [
    "### 4.3.4 Checking the info about  features in new data frame"
   ]
  },
  {
   "cell_type": "code",
   "execution_count": 49,
   "id": "c762ddd8",
   "metadata": {},
   "outputs": [
    {
     "name": "stdout",
     "output_type": "stream",
     "text": [
      "<class 'pandas.core.frame.DataFrame'>\n",
      "RangeIndex: 15420 entries, 0 to 15419\n",
      "Data columns (total 31 columns):\n",
      " #   Column                Non-Null Count  Dtype   \n",
      "---  ------                --------------  -----   \n",
      " 0   Month                 15420 non-null  object  \n",
      " 1   WeekOfMonth           15420 non-null  int64   \n",
      " 2   DayOfWeek             15420 non-null  object  \n",
      " 3   Make                  15420 non-null  object  \n",
      " 4   AccidentArea          15420 non-null  object  \n",
      " 5   DayOfWeekClaimed      15420 non-null  object  \n",
      " 6   MonthClaimed          15420 non-null  object  \n",
      " 7   WeekOfMonthClaimed    15420 non-null  int64   \n",
      " 8   Sex                   15420 non-null  object  \n",
      " 9   MaritalStatus         15420 non-null  object  \n",
      " 10  Fault                 15420 non-null  object  \n",
      " 11  PolicyType            15420 non-null  object  \n",
      " 12  VehicleCategory       15420 non-null  object  \n",
      " 13  VehiclePrice          15420 non-null  object  \n",
      " 14  FraudFound_P          15420 non-null  int64   \n",
      " 15  Deductible            15420 non-null  int64   \n",
      " 16  DriverRating          15420 non-null  int64   \n",
      " 17  Days_Policy_Accident  15420 non-null  object  \n",
      " 18  Days_Policy_Claim     15420 non-null  object  \n",
      " 19  PastNumberOfClaims    15420 non-null  object  \n",
      " 20  AgeOfVehicle          15420 non-null  object  \n",
      " 21  AgeOfPolicyHolder     15420 non-null  object  \n",
      " 22  PoliceReportFiled     15420 non-null  object  \n",
      " 23  WitnessPresent        15420 non-null  object  \n",
      " 24  AgentType             15420 non-null  object  \n",
      " 25  NumberOfSuppliments   15420 non-null  object  \n",
      " 26  AddressChange_Claim   15420 non-null  object  \n",
      " 27  NumberOfCars          15420 non-null  object  \n",
      " 28  Year                  15420 non-null  int64   \n",
      " 29  BasePolicy            15420 non-null  object  \n",
      " 30  age_bins              15420 non-null  category\n",
      "dtypes: category(1), int64(6), object(24)\n",
      "memory usage: 3.5+ MB\n"
     ]
    }
   ],
   "source": [
    "vfm.info()"
   ]
  },
  {
   "cell_type": "markdown",
   "id": "e6a8e1f8",
   "metadata": {},
   "source": [
    "## 4.4.1  Premodeling using PyCaret Package \n",
    "Need to create pycaret environment : Creates issues in Python 3.9 version so downloaded Python 3.8"
   ]
  },
  {
   "cell_type": "code",
   "execution_count": 50,
   "id": "fe60c0ba",
   "metadata": {},
   "outputs": [
    {
     "name": "stdout",
     "output_type": "stream",
     "text": [
      "Requirement already satisfied: imbalanced-learn in c:\\users\\vrastogi\\anaconda3\\envs\\pycaret37\\lib\\site-packages (0.7.0)\n",
      "Requirement already satisfied: scipy>=0.19.1 in c:\\users\\vrastogi\\anaconda3\\envs\\pycaret37\\lib\\site-packages (from imbalanced-learn) (1.5.4)\n",
      "Requirement already satisfied: joblib>=0.11 in c:\\users\\vrastogi\\anaconda3\\envs\\pycaret37\\lib\\site-packages (from imbalanced-learn) (1.1.0)\n",
      "Requirement already satisfied: scikit-learn>=0.23 in c:\\users\\vrastogi\\anaconda3\\envs\\pycaret37\\lib\\site-packages (from imbalanced-learn) (0.23.2)\n",
      "Requirement already satisfied: numpy>=1.13.3 in c:\\users\\vrastogi\\anaconda3\\envs\\pycaret37\\lib\\site-packages (from imbalanced-learn) (1.19.5)\n",
      "Requirement already satisfied: threadpoolctl>=2.0.0 in c:\\users\\vrastogi\\anaconda3\\envs\\pycaret37\\lib\\site-packages (from scikit-learn>=0.23->imbalanced-learn) (3.1.0)\n"
     ]
    }
   ],
   "source": [
    "! pip install imbalanced-learn"
   ]
  },
  {
   "cell_type": "markdown",
   "id": "56e4d8a2",
   "metadata": {},
   "source": [
    "### 4.4.2 Checking the list of columns in the new dataframe"
   ]
  },
  {
   "cell_type": "code",
   "execution_count": 51,
   "id": "ed8f4794",
   "metadata": {},
   "outputs": [
    {
     "data": {
      "text/plain": [
       "Index(['Month', 'WeekOfMonth', 'DayOfWeek', 'Make', 'AccidentArea',\n",
       "       'DayOfWeekClaimed', 'MonthClaimed', 'WeekOfMonthClaimed', 'Sex',\n",
       "       'MaritalStatus', 'Fault', 'PolicyType', 'VehicleCategory',\n",
       "       'VehiclePrice', 'FraudFound_P', 'Deductible', 'DriverRating',\n",
       "       'Days_Policy_Accident', 'Days_Policy_Claim', 'PastNumberOfClaims',\n",
       "       'AgeOfVehicle', 'AgeOfPolicyHolder', 'PoliceReportFiled',\n",
       "       'WitnessPresent', 'AgentType', 'NumberOfSuppliments',\n",
       "       'AddressChange_Claim', 'NumberOfCars', 'Year', 'BasePolicy',\n",
       "       'age_bins'],\n",
       "      dtype='object')"
      ]
     },
     "execution_count": 51,
     "metadata": {},
     "output_type": "execute_result"
    }
   ],
   "source": [
    "vfm.columns\n"
   ]
  },
  {
   "cell_type": "markdown",
   "id": "7a3651ca",
   "metadata": {},
   "source": [
    "### 4.4.3 Creating the dummy variables for all columns as they are all categorical "
   ]
  },
  {
   "cell_type": "code",
   "execution_count": 52,
   "id": "af8bd041",
   "metadata": {},
   "outputs": [],
   "source": [
    "vfm_dummies=pd.get_dummies(vfm[['Month', 'WeekOfMonth', 'DayOfWeek', 'Make', 'AccidentArea',\n",
    "       'DayOfWeekClaimed', 'MonthClaimed', 'WeekOfMonthClaimed', 'Sex',\n",
    "       'MaritalStatus', 'Fault', 'PolicyType', 'VehicleCategory',\n",
    "       'VehiclePrice','Deductible','FraudFound_P', 'DriverRating',\n",
    "       'Days_Policy_Accident', 'Days_Policy_Claim', 'PastNumberOfClaims',\n",
    "       'AgeOfVehicle', 'AgeOfPolicyHolder', 'PoliceReportFiled',\n",
    "       'WitnessPresent', 'AgentType', 'NumberOfSuppliments',\n",
    "       'AddressChange_Claim', 'NumberOfCars', 'Year', 'BasePolicy',\n",
    "       'age_bins']],drop_first=True)"
   ]
  },
  {
   "cell_type": "markdown",
   "id": "7cb56ca2",
   "metadata": {},
   "source": [
    "***Making a list of dummy features***"
   ]
  },
  {
   "cell_type": "code",
   "execution_count": 53,
   "id": "14d7d4db",
   "metadata": {},
   "outputs": [
    {
     "data": {
      "text/plain": [
       "['WeekOfMonth',\n",
       " 'WeekOfMonthClaimed',\n",
       " 'Deductible',\n",
       " 'FraudFound_P',\n",
       " 'DriverRating',\n",
       " 'Year',\n",
       " 'Month_Aug',\n",
       " 'Month_Dec',\n",
       " 'Month_Feb',\n",
       " 'Month_Jan',\n",
       " 'Month_Jul',\n",
       " 'Month_Jun',\n",
       " 'Month_Mar',\n",
       " 'Month_May',\n",
       " 'Month_Nov',\n",
       " 'Month_Oct',\n",
       " 'Month_Sep',\n",
       " 'DayOfWeek_Monday',\n",
       " 'DayOfWeek_Saturday',\n",
       " 'DayOfWeek_Sunday',\n",
       " 'DayOfWeek_Thursday',\n",
       " 'DayOfWeek_Tuesday',\n",
       " 'DayOfWeek_Wednesday',\n",
       " 'Make_BMW',\n",
       " 'Make_Chevrolet',\n",
       " 'Make_Dodge',\n",
       " 'Make_Ferrari',\n",
       " 'Make_Ford',\n",
       " 'Make_Honda',\n",
       " 'Make_Jaguar',\n",
       " 'Make_Lexus',\n",
       " 'Make_Mazda',\n",
       " 'Make_Mecedes',\n",
       " 'Make_Mercury',\n",
       " 'Make_Nisson',\n",
       " 'Make_Pontiac',\n",
       " 'Make_Porche',\n",
       " 'Make_Saab',\n",
       " 'Make_Saturn',\n",
       " 'Make_Toyota',\n",
       " 'Make_VW',\n",
       " 'AccidentArea_Urban',\n",
       " 'DayOfWeekClaimed_Friday',\n",
       " 'DayOfWeekClaimed_Monday',\n",
       " 'DayOfWeekClaimed_Saturday',\n",
       " 'DayOfWeekClaimed_Sunday',\n",
       " 'DayOfWeekClaimed_Thursday',\n",
       " 'DayOfWeekClaimed_Tuesday',\n",
       " 'DayOfWeekClaimed_Wednesday',\n",
       " 'MonthClaimed_Apr',\n",
       " 'MonthClaimed_Aug',\n",
       " 'MonthClaimed_Dec',\n",
       " 'MonthClaimed_Feb',\n",
       " 'MonthClaimed_Jan',\n",
       " 'MonthClaimed_Jul',\n",
       " 'MonthClaimed_Jun',\n",
       " 'MonthClaimed_Mar',\n",
       " 'MonthClaimed_May',\n",
       " 'MonthClaimed_Nov',\n",
       " 'MonthClaimed_Oct',\n",
       " 'MonthClaimed_Sep',\n",
       " 'Sex_Male',\n",
       " 'MaritalStatus_Married',\n",
       " 'MaritalStatus_Single',\n",
       " 'MaritalStatus_Widow',\n",
       " 'Fault_Third Party',\n",
       " 'PolicyType_Sedan - Collision',\n",
       " 'PolicyType_Sedan - Liability',\n",
       " 'PolicyType_Sport - All Perils',\n",
       " 'PolicyType_Sport - Collision',\n",
       " 'PolicyType_Sport - Liability',\n",
       " 'PolicyType_Utility - All Perils',\n",
       " 'PolicyType_Utility - Collision',\n",
       " 'PolicyType_Utility - Liability',\n",
       " 'VehicleCategory_Sport',\n",
       " 'VehicleCategory_Utility',\n",
       " 'VehiclePrice_30000 to 39000',\n",
       " 'VehiclePrice_40000 to 59000',\n",
       " 'VehiclePrice_60000 to 69000',\n",
       " 'VehiclePrice_less than 20000',\n",
       " 'VehiclePrice_more than 69000',\n",
       " 'Days_Policy_Accident_15 to 30',\n",
       " 'Days_Policy_Accident_8 to 15',\n",
       " 'Days_Policy_Accident_more than 30',\n",
       " 'Days_Policy_Accident_none',\n",
       " 'Days_Policy_Claim_8 to 15',\n",
       " 'Days_Policy_Claim_more than 30',\n",
       " 'Days_Policy_Claim_none',\n",
       " 'PastNumberOfClaims_2 to 4',\n",
       " 'PastNumberOfClaims_more than 4',\n",
       " 'PastNumberOfClaims_none',\n",
       " 'AgeOfVehicle_3 years',\n",
       " 'AgeOfVehicle_4 years',\n",
       " 'AgeOfVehicle_5 years',\n",
       " 'AgeOfVehicle_6 years',\n",
       " 'AgeOfVehicle_7 years',\n",
       " 'AgeOfVehicle_more than 7',\n",
       " 'AgeOfVehicle_new',\n",
       " 'AgeOfPolicyHolder_18 to 20',\n",
       " 'AgeOfPolicyHolder_21 to 25',\n",
       " 'AgeOfPolicyHolder_26 to 30',\n",
       " 'AgeOfPolicyHolder_31 to 35',\n",
       " 'AgeOfPolicyHolder_36 to 40',\n",
       " 'AgeOfPolicyHolder_41 to 50',\n",
       " 'AgeOfPolicyHolder_51 to 65',\n",
       " 'AgeOfPolicyHolder_over 65',\n",
       " 'PoliceReportFiled_Yes',\n",
       " 'WitnessPresent_Yes',\n",
       " 'AgentType_Internal',\n",
       " 'NumberOfSuppliments_3 to 5',\n",
       " 'NumberOfSuppliments_more than 5',\n",
       " 'NumberOfSuppliments_none',\n",
       " 'AddressChange_Claim_2 to 3 years',\n",
       " 'AddressChange_Claim_4 to 8 years',\n",
       " 'AddressChange_Claim_no change',\n",
       " 'AddressChange_Claim_under 6 months',\n",
       " 'NumberOfCars_2 vehicles',\n",
       " 'NumberOfCars_3 to 4',\n",
       " 'NumberOfCars_5 to 8',\n",
       " 'NumberOfCars_more than 8',\n",
       " 'BasePolicy_Collision',\n",
       " 'BasePolicy_Liability',\n",
       " 'age_bins_young',\n",
       " 'age_bins_middle',\n",
       " 'age_bins_old']"
      ]
     },
     "execution_count": 53,
     "metadata": {},
     "output_type": "execute_result"
    }
   ],
   "source": [
    "## making a list of dummy features to ensure the process is done properly\n",
    "vfm_dummies.columns.to_list()"
   ]
  },
  {
   "cell_type": "markdown",
   "id": "bbbe833c",
   "metadata": {},
   "source": [
    "***We can see that 'WeekOfMonth','WeekOfMonthClaimed','Deductible','DriverRating','Year' are still there and they are not converted to dummies***\n",
    "\n",
    "***Converting these features to categories***"
   ]
  },
  {
   "cell_type": "code",
   "execution_count": 54,
   "id": "1913fb12",
   "metadata": {},
   "outputs": [],
   "source": [
    "## Converting the columns to categories \n",
    "for col in ['WeekOfMonth','WeekOfMonthClaimed','Deductible','DriverRating','Year']:\n",
    "    vfm_dummies[col] = vfm_dummies[col].astype('category')"
   ]
  },
  {
   "cell_type": "markdown",
   "id": "46fb77e0",
   "metadata": {},
   "source": [
    "***Creating dummy features for these categorical features now***"
   ]
  },
  {
   "cell_type": "code",
   "execution_count": 55,
   "id": "e04c298d",
   "metadata": {},
   "outputs": [],
   "source": [
    "### Creating dummy features\n",
    "vfm_dummies1=pd.get_dummies(vfm_dummies[['WeekOfMonth','WeekOfMonthClaimed','Deductible','DriverRating','Year']],drop_first=True)"
   ]
  },
  {
   "cell_type": "markdown",
   "id": "d72b17c5",
   "metadata": {},
   "source": [
    "***Checking to see the list of these dummy features***"
   ]
  },
  {
   "cell_type": "code",
   "execution_count": 56,
   "id": "b41e1910",
   "metadata": {},
   "outputs": [
    {
     "data": {
      "text/plain": [
       "['WeekOfMonth_2',\n",
       " 'WeekOfMonth_3',\n",
       " 'WeekOfMonth_4',\n",
       " 'WeekOfMonth_5',\n",
       " 'WeekOfMonthClaimed_2',\n",
       " 'WeekOfMonthClaimed_3',\n",
       " 'WeekOfMonthClaimed_4',\n",
       " 'WeekOfMonthClaimed_5',\n",
       " 'Deductible_400',\n",
       " 'Deductible_500',\n",
       " 'Deductible_700',\n",
       " 'DriverRating_2',\n",
       " 'DriverRating_3',\n",
       " 'DriverRating_4',\n",
       " 'Year_1995',\n",
       " 'Year_1996']"
      ]
     },
     "execution_count": 56,
     "metadata": {},
     "output_type": "execute_result"
    }
   ],
   "source": [
    "vfm_dummies1.columns.to_list()"
   ]
  },
  {
   "cell_type": "markdown",
   "id": "7a49aec0",
   "metadata": {},
   "source": [
    "***Making a new dataframe with all dummy features***"
   ]
  },
  {
   "cell_type": "code",
   "execution_count": 57,
   "id": "e0be1c02",
   "metadata": {},
   "outputs": [],
   "source": [
    "### Merging the dataframe with new dummy features with old one\n",
    "vfmerged=pd.concat([vfm_dummies,vfm_dummies1],axis='columns')"
   ]
  },
  {
   "cell_type": "markdown",
   "id": "49cf3ddc",
   "metadata": {},
   "source": [
    "***Dropping original features as we do not need them***"
   ]
  },
  {
   "cell_type": "code",
   "execution_count": 58,
   "id": "05a967d7",
   "metadata": {},
   "outputs": [],
   "source": [
    "### Dropping the original features so only dummy features are in the dataframe\n",
    "vfmerged.drop(['WeekOfMonth','WeekOfMonthClaimed','Deductible','DriverRating','Year'],axis=1, inplace=True)"
   ]
  },
  {
   "cell_type": "markdown",
   "id": "78c5b7eb",
   "metadata": {},
   "source": [
    "***Checking to see if all dummy features are there as we anticipated***"
   ]
  },
  {
   "cell_type": "code",
   "execution_count": 59,
   "id": "58b3ae82",
   "metadata": {},
   "outputs": [
    {
     "data": {
      "text/plain": [
       "['FraudFound_P',\n",
       " 'Month_Aug',\n",
       " 'Month_Dec',\n",
       " 'Month_Feb',\n",
       " 'Month_Jan',\n",
       " 'Month_Jul',\n",
       " 'Month_Jun',\n",
       " 'Month_Mar',\n",
       " 'Month_May',\n",
       " 'Month_Nov',\n",
       " 'Month_Oct',\n",
       " 'Month_Sep',\n",
       " 'DayOfWeek_Monday',\n",
       " 'DayOfWeek_Saturday',\n",
       " 'DayOfWeek_Sunday',\n",
       " 'DayOfWeek_Thursday',\n",
       " 'DayOfWeek_Tuesday',\n",
       " 'DayOfWeek_Wednesday',\n",
       " 'Make_BMW',\n",
       " 'Make_Chevrolet',\n",
       " 'Make_Dodge',\n",
       " 'Make_Ferrari',\n",
       " 'Make_Ford',\n",
       " 'Make_Honda',\n",
       " 'Make_Jaguar',\n",
       " 'Make_Lexus',\n",
       " 'Make_Mazda',\n",
       " 'Make_Mecedes',\n",
       " 'Make_Mercury',\n",
       " 'Make_Nisson',\n",
       " 'Make_Pontiac',\n",
       " 'Make_Porche',\n",
       " 'Make_Saab',\n",
       " 'Make_Saturn',\n",
       " 'Make_Toyota',\n",
       " 'Make_VW',\n",
       " 'AccidentArea_Urban',\n",
       " 'DayOfWeekClaimed_Friday',\n",
       " 'DayOfWeekClaimed_Monday',\n",
       " 'DayOfWeekClaimed_Saturday',\n",
       " 'DayOfWeekClaimed_Sunday',\n",
       " 'DayOfWeekClaimed_Thursday',\n",
       " 'DayOfWeekClaimed_Tuesday',\n",
       " 'DayOfWeekClaimed_Wednesday',\n",
       " 'MonthClaimed_Apr',\n",
       " 'MonthClaimed_Aug',\n",
       " 'MonthClaimed_Dec',\n",
       " 'MonthClaimed_Feb',\n",
       " 'MonthClaimed_Jan',\n",
       " 'MonthClaimed_Jul',\n",
       " 'MonthClaimed_Jun',\n",
       " 'MonthClaimed_Mar',\n",
       " 'MonthClaimed_May',\n",
       " 'MonthClaimed_Nov',\n",
       " 'MonthClaimed_Oct',\n",
       " 'MonthClaimed_Sep',\n",
       " 'Sex_Male',\n",
       " 'MaritalStatus_Married',\n",
       " 'MaritalStatus_Single',\n",
       " 'MaritalStatus_Widow',\n",
       " 'Fault_Third Party',\n",
       " 'PolicyType_Sedan - Collision',\n",
       " 'PolicyType_Sedan - Liability',\n",
       " 'PolicyType_Sport - All Perils',\n",
       " 'PolicyType_Sport - Collision',\n",
       " 'PolicyType_Sport - Liability',\n",
       " 'PolicyType_Utility - All Perils',\n",
       " 'PolicyType_Utility - Collision',\n",
       " 'PolicyType_Utility - Liability',\n",
       " 'VehicleCategory_Sport',\n",
       " 'VehicleCategory_Utility',\n",
       " 'VehiclePrice_30000 to 39000',\n",
       " 'VehiclePrice_40000 to 59000',\n",
       " 'VehiclePrice_60000 to 69000',\n",
       " 'VehiclePrice_less than 20000',\n",
       " 'VehiclePrice_more than 69000',\n",
       " 'Days_Policy_Accident_15 to 30',\n",
       " 'Days_Policy_Accident_8 to 15',\n",
       " 'Days_Policy_Accident_more than 30',\n",
       " 'Days_Policy_Accident_none',\n",
       " 'Days_Policy_Claim_8 to 15',\n",
       " 'Days_Policy_Claim_more than 30',\n",
       " 'Days_Policy_Claim_none',\n",
       " 'PastNumberOfClaims_2 to 4',\n",
       " 'PastNumberOfClaims_more than 4',\n",
       " 'PastNumberOfClaims_none',\n",
       " 'AgeOfVehicle_3 years',\n",
       " 'AgeOfVehicle_4 years',\n",
       " 'AgeOfVehicle_5 years',\n",
       " 'AgeOfVehicle_6 years',\n",
       " 'AgeOfVehicle_7 years',\n",
       " 'AgeOfVehicle_more than 7',\n",
       " 'AgeOfVehicle_new',\n",
       " 'AgeOfPolicyHolder_18 to 20',\n",
       " 'AgeOfPolicyHolder_21 to 25',\n",
       " 'AgeOfPolicyHolder_26 to 30',\n",
       " 'AgeOfPolicyHolder_31 to 35',\n",
       " 'AgeOfPolicyHolder_36 to 40',\n",
       " 'AgeOfPolicyHolder_41 to 50',\n",
       " 'AgeOfPolicyHolder_51 to 65',\n",
       " 'AgeOfPolicyHolder_over 65',\n",
       " 'PoliceReportFiled_Yes',\n",
       " 'WitnessPresent_Yes',\n",
       " 'AgentType_Internal',\n",
       " 'NumberOfSuppliments_3 to 5',\n",
       " 'NumberOfSuppliments_more than 5',\n",
       " 'NumberOfSuppliments_none',\n",
       " 'AddressChange_Claim_2 to 3 years',\n",
       " 'AddressChange_Claim_4 to 8 years',\n",
       " 'AddressChange_Claim_no change',\n",
       " 'AddressChange_Claim_under 6 months',\n",
       " 'NumberOfCars_2 vehicles',\n",
       " 'NumberOfCars_3 to 4',\n",
       " 'NumberOfCars_5 to 8',\n",
       " 'NumberOfCars_more than 8',\n",
       " 'BasePolicy_Collision',\n",
       " 'BasePolicy_Liability',\n",
       " 'age_bins_young',\n",
       " 'age_bins_middle',\n",
       " 'age_bins_old',\n",
       " 'WeekOfMonth_2',\n",
       " 'WeekOfMonth_3',\n",
       " 'WeekOfMonth_4',\n",
       " 'WeekOfMonth_5',\n",
       " 'WeekOfMonthClaimed_2',\n",
       " 'WeekOfMonthClaimed_3',\n",
       " 'WeekOfMonthClaimed_4',\n",
       " 'WeekOfMonthClaimed_5',\n",
       " 'Deductible_400',\n",
       " 'Deductible_500',\n",
       " 'Deductible_700',\n",
       " 'DriverRating_2',\n",
       " 'DriverRating_3',\n",
       " 'DriverRating_4',\n",
       " 'Year_1995',\n",
       " 'Year_1996']"
      ]
     },
     "execution_count": 59,
     "metadata": {},
     "output_type": "execute_result"
    }
   ],
   "source": [
    "vfmerged.columns.to_list()"
   ]
  },
  {
   "cell_type": "code",
   "execution_count": 60,
   "id": "d937c2b8",
   "metadata": {},
   "outputs": [
    {
     "data": {
      "text/plain": [
       "(15420, 136)"
      ]
     },
     "execution_count": 60,
     "metadata": {},
     "output_type": "execute_result"
    }
   ],
   "source": [
    "vfmerged.shape"
   ]
  },
  {
   "cell_type": "markdown",
   "id": "859cdaf3",
   "metadata": {},
   "source": [
    "***New DataFrame has 136 features***"
   ]
  },
  {
   "cell_type": "markdown",
   "id": "fdcfb577",
   "metadata": {},
   "source": [
    "###  4.4.4  Splitting the data into train and test"
   ]
  },
  {
   "cell_type": "code",
   "execution_count": 62,
   "id": "832d8c41",
   "metadata": {},
   "outputs": [],
   "source": [
    "#Peform the train test split \n",
    "X_train, X_test, y_train, y_test = train_test_split(vfmerged.drop(columns='FraudFound_P'), \n",
    "                                                    vfmerged.FraudFound_P, test_size=0.1, \n",
    "                                                    random_state=47,stratify=vfmerged.FraudFound_P)"
   ]
  },
  {
   "cell_type": "code",
   "execution_count": 63,
   "id": "d09fba3d",
   "metadata": {},
   "outputs": [
    {
     "name": "stdout",
     "output_type": "stream",
     "text": [
      "train data shape:(13878, 135)\n",
      "Test data shape:(1542, 135)\n"
     ]
    }
   ],
   "source": [
    "### checking the shape after train, test split\n",
    "print(f\"train data shape:{X_train.shape}\")\n",
    "print(f\"Test data shape:{X_test.shape}\")\n"
   ]
  },
  {
   "cell_type": "code",
   "execution_count": 64,
   "id": "fd2ba3f3",
   "metadata": {},
   "outputs": [
    {
     "name": "stdout",
     "output_type": "stream",
     "text": [
      "train target shape:(13878,)\n",
      "Test target shape:(1542,)\n"
     ]
    }
   ],
   "source": [
    "### checking the shape after train, test split\n",
    "print(f\"train target shape:{y_train.shape}\")\n",
    "print(f\"Test target shape:{y_test.shape}\")\n"
   ]
  },
  {
   "cell_type": "markdown",
   "id": "4545d323",
   "metadata": {},
   "source": [
    "### 4.4.5 Balancing the target  class using different approaches"
   ]
  },
  {
   "cell_type": "markdown",
   "id": "2e7821f7",
   "metadata": {},
   "source": [
    "We can handle imbalanced classes by balancing the classes by increasing minority or decreasing majority.\n",
    "\n",
    "We can do that by following few techniques\n",
    "\n",
    "Random Under-Sampling\n",
    "Random Over-Sampling\n",
    "SMOTE - Synthetic Minority Oversampling Technique\n",
    "ADASYN - Adaptive Synthetic Sampling Method\n",
    "SMOTETomek - Over-sampling followed by under-sampling\n",
    "Unddersampling tends to loss of data so we will not use that. We will go with Random Over-Sampling, SMOTE - Synthetic Minority Oversampling Technique, ADASYN - Adaptive Synthetic Sampling Method and see which technique works better."
   ]
  },
  {
   "cell_type": "markdown",
   "id": "6316be43",
   "metadata": {},
   "source": [
    "###  4.4.5.1 Installing and importing necessary libraries"
   ]
  },
  {
   "cell_type": "code",
   "execution_count": 65,
   "id": "ad78edcc",
   "metadata": {},
   "outputs": [
    {
     "name": "stdout",
     "output_type": "stream",
     "text": [
      "Requirement already satisfied: imbalanced-learn in c:\\users\\vrastogi\\anaconda3\\envs\\pycaret37\\lib\\site-packages (0.7.0)\n",
      "Requirement already satisfied: scipy>=0.19.1 in c:\\users\\vrastogi\\anaconda3\\envs\\pycaret37\\lib\\site-packages (from imbalanced-learn) (1.5.4)\n",
      "Requirement already satisfied: joblib>=0.11 in c:\\users\\vrastogi\\anaconda3\\envs\\pycaret37\\lib\\site-packages (from imbalanced-learn) (1.1.0)\n",
      "Requirement already satisfied: numpy>=1.13.3 in c:\\users\\vrastogi\\anaconda3\\envs\\pycaret37\\lib\\site-packages (from imbalanced-learn) (1.19.5)\n",
      "Requirement already satisfied: scikit-learn>=0.23 in c:\\users\\vrastogi\\anaconda3\\envs\\pycaret37\\lib\\site-packages (from imbalanced-learn) (0.23.2)\n",
      "Requirement already satisfied: threadpoolctl>=2.0.0 in c:\\users\\vrastogi\\anaconda3\\envs\\pycaret37\\lib\\site-packages (from scikit-learn>=0.23->imbalanced-learn) (3.1.0)\n"
     ]
    }
   ],
   "source": [
    "! pip install imbalanced-learn"
   ]
  },
  {
   "cell_type": "code",
   "execution_count": 66,
   "id": "9c4ecce6",
   "metadata": {},
   "outputs": [],
   "source": [
    "from imblearn.over_sampling import RandomOverSampler,ADASYN,SMOTE\n",
    "from collections import Counter\n",
    "from imblearn.under_sampling import RandomUnderSampler"
   ]
  },
  {
   "cell_type": "markdown",
   "id": "415418ed",
   "metadata": {},
   "source": [
    "#### 4.4.5.1 Creating 4 different training dataset with different sampling techniques"
   ]
  },
  {
   "cell_type": "code",
   "execution_count": 67,
   "id": "87f5fec3",
   "metadata": {},
   "outputs": [
    {
     "name": "stdout",
     "output_type": "stream",
     "text": [
      "Total length of len:26094\n",
      "New Distribution of out target label:[(0, 13047), (1, 13047)]\n"
     ]
    }
   ],
   "source": [
    "### https://github.com/pujappathak/Credit-Card-Fraud-Detection/blob/main/Puja%20Pathak%20-%20Capstone%20Project%20-%20Credit%20Card%20Fraud%20Detection.ipynb\n",
    "## SMOTE OVER SAMPLING\n",
    "smt = SMOTE(random_state=45, k_neighbors=5)\n",
    "X_resampled_sm, y_resampled_sm = smt.fit_resample(X_train, y_train)\n",
    "print(f\"Total length of len:{len(X_resampled_sm)}\")\n",
    "print(f\"New Distribution of out target label:{sorted(Counter(y_resampled_sm).items())}\")                        \n",
    "                            \n"
   ]
  },
  {
   "cell_type": "code",
   "execution_count": 68,
   "id": "42b130ce",
   "metadata": {},
   "outputs": [
    {
     "name": "stdout",
     "output_type": "stream",
     "text": [
      "Total length of len:26094\n",
      "New Distribution of out target label:[(0, 13047), (1, 13047)]\n"
     ]
    }
   ],
   "source": [
    "### https://github.com/pujappathak/Credit-Card-Fraud-Detection/blob/main/Puja%20Pathak%20-%20Capstone%20Project%20-%20Credit%20Card%20Fraud%20Detection.ipynb\n",
    "## Random Over Sampling\n",
    "over_sample = RandomOverSampler(sampling_strategy = 1)\n",
    "X_resampled_ro, y_resampled_ro = over_sample.fit_resample(X_train, y_train)\n",
    "print(f\"Total length of len:{len(X_resampled_ro)}\")\n",
    "print(f\"New Distribution of out target label:{sorted(Counter(y_resampled_ro).items())}\")"
   ]
  },
  {
   "cell_type": "markdown",
   "id": "fe516faf",
   "metadata": {},
   "source": [
    "***Important to remember sampling strategy=1.0 makes equal number of data points for both classes***\n",
    "\n",
    "\n",
    "***sampling strategy=0.5 had majority class= 2* minority class***"
   ]
  },
  {
   "cell_type": "code",
   "execution_count": 69,
   "id": "8e105c1d",
   "metadata": {},
   "outputs": [
    {
     "name": "stdout",
     "output_type": "stream",
     "text": [
      "Total length of len:26135\n",
      "New Distribution of out target label:[(0, 13047), (1, 13088)]\n"
     ]
    }
   ],
   "source": [
    "### https://github.com/pujappathak/Credit-Card-Fraud-Detection/blob/main/Puja%20Pathak%20-%20Capstone%20Project%20-%20Credit%20Card%20Fraud%20Detection.ipynb\n",
    "## ADASYN\n",
    "ada = ADASYN(random_state=45, n_neighbors=5)\n",
    "X_resampled_ad, y_resampled_ad = ada.fit_resample(X_train, y_train)\n",
    "print(f\"Total length of len:{len(X_resampled_ad)}\")\n",
    "print(f\"New Distribution of out target label:{sorted(Counter(y_resampled_ad).items())}\")"
   ]
  },
  {
   "cell_type": "code",
   "execution_count": 70,
   "id": "14a0066f",
   "metadata": {},
   "outputs": [
    {
     "name": "stdout",
     "output_type": "stream",
     "text": [
      "Total length of len:1662\n",
      "New Distribution of out target label:[(0, 831), (1, 831)]\n"
     ]
    }
   ],
   "source": [
    "### https://machinelearningmastery.com/smote-oversampling-for-imbalanced-classification/\n",
    "under = RandomUnderSampler(sampling_strategy=1.0)\n",
    "X_resampled_u, y_resampled_u = under.fit_resample(X_train, y_train)\n",
    "print(f\"Total length of len:{len(X_resampled_u)}\")\n",
    "print(f\"New Distribution of out target label:{sorted(Counter(y_resampled_u).items())}\")"
   ]
  },
  {
   "cell_type": "code",
   "execution_count": 71,
   "id": "13c589c6",
   "metadata": {},
   "outputs": [
    {
     "data": {
      "text/plain": [
       "(26094, 136)"
      ]
     },
     "execution_count": 71,
     "metadata": {},
     "output_type": "execute_result"
    }
   ],
   "source": [
    "### Dataframe for smote\n",
    "smote=pd.concat([X_resampled_sm, y_resampled_sm],axis=1)\n",
    "smote.shape"
   ]
  },
  {
   "cell_type": "code",
   "execution_count": 72,
   "id": "f31c1bb8",
   "metadata": {},
   "outputs": [
    {
     "data": {
      "text/plain": [
       "(26094, 136)"
      ]
     },
     "execution_count": 72,
     "metadata": {},
     "output_type": "execute_result"
    }
   ],
   "source": [
    "### Dataframe for Random Over Sampling\n",
    "os=pd.concat([X_resampled_ro, y_resampled_ro],axis=1)\n",
    "os.shape"
   ]
  },
  {
   "cell_type": "code",
   "execution_count": 73,
   "id": "a6326e04",
   "metadata": {},
   "outputs": [
    {
     "data": {
      "text/plain": [
       "(26135, 136)"
      ]
     },
     "execution_count": 73,
     "metadata": {},
     "output_type": "execute_result"
    }
   ],
   "source": [
    "Adasyn=pd.concat([X_resampled_ad, y_resampled_ad],axis=1)\n",
    "Adasyn.shape"
   ]
  },
  {
   "cell_type": "code",
   "execution_count": 74,
   "id": "cf5a6530",
   "metadata": {},
   "outputs": [
    {
     "data": {
      "text/plain": [
       "(1662, 136)"
      ]
     },
     "execution_count": 74,
     "metadata": {},
     "output_type": "execute_result"
    }
   ],
   "source": [
    "un=pd.concat([X_resampled_u, y_resampled_u],axis=1)\n",
    "un.shape"
   ]
  },
  {
   "cell_type": "markdown",
   "id": "986fc8ed",
   "metadata": {},
   "source": [
    "###  Running pycaret models for the classification for 4 different resampled train sets"
   ]
  },
  {
   "cell_type": "code",
   "execution_count": 77,
   "id": "1ed5da6e",
   "metadata": {
    "scrolled": true
   },
   "outputs": [
    {
     "data": {
      "text/html": [
       "<style type=\"text/css\">\n",
       "#T_fd314_ th {\n",
       "  text-align: left;\n",
       "}\n",
       "#T_fd314_row0_col0, #T_fd314_row0_col2, #T_fd314_row0_col3, #T_fd314_row0_col4, #T_fd314_row1_col0, #T_fd314_row1_col1, #T_fd314_row1_col2, #T_fd314_row1_col3, #T_fd314_row1_col4, #T_fd314_row1_col5, #T_fd314_row1_col6, #T_fd314_row1_col7, #T_fd314_row2_col0, #T_fd314_row2_col1, #T_fd314_row2_col3, #T_fd314_row2_col4, #T_fd314_row2_col5, #T_fd314_row2_col6, #T_fd314_row2_col7, #T_fd314_row3_col0, #T_fd314_row3_col1, #T_fd314_row3_col2, #T_fd314_row3_col3, #T_fd314_row3_col4, #T_fd314_row3_col5, #T_fd314_row3_col6, #T_fd314_row3_col7, #T_fd314_row4_col0, #T_fd314_row4_col1, #T_fd314_row4_col2, #T_fd314_row4_col3, #T_fd314_row4_col4, #T_fd314_row4_col5, #T_fd314_row4_col6, #T_fd314_row4_col7, #T_fd314_row5_col0, #T_fd314_row5_col1, #T_fd314_row5_col2, #T_fd314_row5_col3, #T_fd314_row5_col4, #T_fd314_row5_col5, #T_fd314_row5_col6, #T_fd314_row5_col7, #T_fd314_row6_col0, #T_fd314_row6_col1, #T_fd314_row6_col2, #T_fd314_row6_col3, #T_fd314_row6_col4, #T_fd314_row6_col5, #T_fd314_row6_col6, #T_fd314_row6_col7, #T_fd314_row7_col0, #T_fd314_row7_col1, #T_fd314_row7_col2, #T_fd314_row7_col3, #T_fd314_row7_col4, #T_fd314_row7_col5, #T_fd314_row7_col6, #T_fd314_row7_col7, #T_fd314_row8_col0, #T_fd314_row8_col1, #T_fd314_row8_col2, #T_fd314_row8_col3, #T_fd314_row8_col4, #T_fd314_row8_col5, #T_fd314_row8_col6, #T_fd314_row8_col7, #T_fd314_row9_col0, #T_fd314_row9_col1, #T_fd314_row9_col2, #T_fd314_row9_col3, #T_fd314_row9_col4, #T_fd314_row9_col5, #T_fd314_row9_col6, #T_fd314_row9_col7, #T_fd314_row10_col0, #T_fd314_row10_col1, #T_fd314_row10_col2, #T_fd314_row10_col3, #T_fd314_row10_col4, #T_fd314_row10_col5, #T_fd314_row10_col6, #T_fd314_row10_col7, #T_fd314_row11_col0, #T_fd314_row11_col1, #T_fd314_row11_col2, #T_fd314_row11_col3, #T_fd314_row11_col5, #T_fd314_row11_col6, #T_fd314_row11_col7, #T_fd314_row12_col0, #T_fd314_row12_col1, #T_fd314_row12_col2, #T_fd314_row12_col3, #T_fd314_row12_col5, #T_fd314_row12_col6, #T_fd314_row12_col7, #T_fd314_row13_col0, #T_fd314_row13_col1, #T_fd314_row13_col2, #T_fd314_row13_col4, #T_fd314_row13_col5, #T_fd314_row13_col6, #T_fd314_row13_col7 {\n",
       "  text-align: left;\n",
       "}\n",
       "#T_fd314_row0_col1, #T_fd314_row0_col5, #T_fd314_row0_col6, #T_fd314_row0_col7, #T_fd314_row2_col2, #T_fd314_row11_col4, #T_fd314_row12_col4, #T_fd314_row13_col3 {\n",
       "  text-align: left;\n",
       "  background-color: yellow;\n",
       "}\n",
       "#T_fd314_row0_col8, #T_fd314_row1_col8, #T_fd314_row2_col8, #T_fd314_row3_col8, #T_fd314_row4_col8, #T_fd314_row5_col8, #T_fd314_row6_col8, #T_fd314_row7_col8, #T_fd314_row8_col8, #T_fd314_row9_col8, #T_fd314_row10_col8, #T_fd314_row11_col8, #T_fd314_row12_col8 {\n",
       "  text-align: left;\n",
       "  background-color: lightgrey;\n",
       "}\n",
       "#T_fd314_row13_col8 {\n",
       "  text-align: left;\n",
       "  background-color: yellow;\n",
       "  background-color: lightgrey;\n",
       "}\n",
       "</style>\n",
       "<table id=\"T_fd314_\">\n",
       "  <thead>\n",
       "    <tr>\n",
       "      <th class=\"blank level0\" >&nbsp;</th>\n",
       "      <th class=\"col_heading level0 col0\" >Model</th>\n",
       "      <th class=\"col_heading level0 col1\" >Accuracy</th>\n",
       "      <th class=\"col_heading level0 col2\" >AUC</th>\n",
       "      <th class=\"col_heading level0 col3\" >Recall</th>\n",
       "      <th class=\"col_heading level0 col4\" >Prec.</th>\n",
       "      <th class=\"col_heading level0 col5\" >F1</th>\n",
       "      <th class=\"col_heading level0 col6\" >Kappa</th>\n",
       "      <th class=\"col_heading level0 col7\" >MCC</th>\n",
       "      <th class=\"col_heading level0 col8\" >TT (Sec)</th>\n",
       "    </tr>\n",
       "  </thead>\n",
       "  <tbody>\n",
       "    <tr>\n",
       "      <th id=\"T_fd314_level0_row0\" class=\"row_heading level0 row0\" >rf</th>\n",
       "      <td id=\"T_fd314_row0_col0\" class=\"data row0 col0\" >Random Forest Classifier</td>\n",
       "      <td id=\"T_fd314_row0_col1\" class=\"data row0 col1\" >0.9694</td>\n",
       "      <td id=\"T_fd314_row0_col2\" class=\"data row0 col2\" >0.9893</td>\n",
       "      <td id=\"T_fd314_row0_col3\" class=\"data row0 col3\" >0.9395</td>\n",
       "      <td id=\"T_fd314_row0_col4\" class=\"data row0 col4\" >0.9997</td>\n",
       "      <td id=\"T_fd314_row0_col5\" class=\"data row0 col5\" >0.9686</td>\n",
       "      <td id=\"T_fd314_row0_col6\" class=\"data row0 col6\" >0.9388</td>\n",
       "      <td id=\"T_fd314_row0_col7\" class=\"data row0 col7\" >0.9406</td>\n",
       "      <td id=\"T_fd314_row0_col8\" class=\"data row0 col8\" >0.7400</td>\n",
       "    </tr>\n",
       "    <tr>\n",
       "      <th id=\"T_fd314_level0_row1\" class=\"row_heading level0 row1\" >et</th>\n",
       "      <td id=\"T_fd314_row1_col0\" class=\"data row1 col0\" >Extra Trees Classifier</td>\n",
       "      <td id=\"T_fd314_row1_col1\" class=\"data row1 col1\" >0.9687</td>\n",
       "      <td id=\"T_fd314_row1_col2\" class=\"data row1 col2\" >0.9888</td>\n",
       "      <td id=\"T_fd314_row1_col3\" class=\"data row1 col3\" >0.9386</td>\n",
       "      <td id=\"T_fd314_row1_col4\" class=\"data row1 col4\" >0.9991</td>\n",
       "      <td id=\"T_fd314_row1_col5\" class=\"data row1 col5\" >0.9679</td>\n",
       "      <td id=\"T_fd314_row1_col6\" class=\"data row1 col6\" >0.9374</td>\n",
       "      <td id=\"T_fd314_row1_col7\" class=\"data row1 col7\" >0.9392</td>\n",
       "      <td id=\"T_fd314_row1_col8\" class=\"data row1 col8\" >1.5420</td>\n",
       "    </tr>\n",
       "    <tr>\n",
       "      <th id=\"T_fd314_level0_row2\" class=\"row_heading level0 row2\" >lightgbm</th>\n",
       "      <td id=\"T_fd314_row2_col0\" class=\"data row2 col0\" >Light Gradient Boosting Machine</td>\n",
       "      <td id=\"T_fd314_row2_col1\" class=\"data row2 col1\" >0.9675</td>\n",
       "      <td id=\"T_fd314_row2_col2\" class=\"data row2 col2\" >0.9900</td>\n",
       "      <td id=\"T_fd314_row2_col3\" class=\"data row2 col3\" >0.9359</td>\n",
       "      <td id=\"T_fd314_row2_col4\" class=\"data row2 col4\" >0.9995</td>\n",
       "      <td id=\"T_fd314_row2_col5\" class=\"data row2 col5\" >0.9666</td>\n",
       "      <td id=\"T_fd314_row2_col6\" class=\"data row2 col6\" >0.9351</td>\n",
       "      <td id=\"T_fd314_row2_col7\" class=\"data row2 col7\" >0.9370</td>\n",
       "      <td id=\"T_fd314_row2_col8\" class=\"data row2 col8\" >0.3220</td>\n",
       "    </tr>\n",
       "    <tr>\n",
       "      <th id=\"T_fd314_level0_row3\" class=\"row_heading level0 row3\" >lr</th>\n",
       "      <td id=\"T_fd314_row3_col0\" class=\"data row3 col0\" >Logistic Regression</td>\n",
       "      <td id=\"T_fd314_row3_col1\" class=\"data row3 col1\" >0.9655</td>\n",
       "      <td id=\"T_fd314_row3_col2\" class=\"data row3 col2\" >0.9848</td>\n",
       "      <td id=\"T_fd314_row3_col3\" class=\"data row3 col3\" >0.9325</td>\n",
       "      <td id=\"T_fd314_row3_col4\" class=\"data row3 col4\" >0.9988</td>\n",
       "      <td id=\"T_fd314_row3_col5\" class=\"data row3 col5\" >0.9645</td>\n",
       "      <td id=\"T_fd314_row3_col6\" class=\"data row3 col6\" >0.9310</td>\n",
       "      <td id=\"T_fd314_row3_col7\" class=\"data row3 col7\" >0.9332</td>\n",
       "      <td id=\"T_fd314_row3_col8\" class=\"data row3 col8\" >0.5440</td>\n",
       "    </tr>\n",
       "    <tr>\n",
       "      <th id=\"T_fd314_level0_row4\" class=\"row_heading level0 row4\" >gbc</th>\n",
       "      <td id=\"T_fd314_row4_col0\" class=\"data row4 col0\" >Gradient Boosting Classifier</td>\n",
       "      <td id=\"T_fd314_row4_col1\" class=\"data row4 col1\" >0.9641</td>\n",
       "      <td id=\"T_fd314_row4_col2\" class=\"data row4 col2\" >0.9873</td>\n",
       "      <td id=\"T_fd314_row4_col3\" class=\"data row4 col3\" >0.9289</td>\n",
       "      <td id=\"T_fd314_row4_col4\" class=\"data row4 col4\" >0.9998</td>\n",
       "      <td id=\"T_fd314_row4_col5\" class=\"data row4 col5\" >0.9630</td>\n",
       "      <td id=\"T_fd314_row4_col6\" class=\"data row4 col6\" >0.9283</td>\n",
       "      <td id=\"T_fd314_row4_col7\" class=\"data row4 col7\" >0.9307</td>\n",
       "      <td id=\"T_fd314_row4_col8\" class=\"data row4 col8\" >1.4940</td>\n",
       "    </tr>\n",
       "    <tr>\n",
       "      <th id=\"T_fd314_level0_row5\" class=\"row_heading level0 row5\" >qda</th>\n",
       "      <td id=\"T_fd314_row5_col0\" class=\"data row5 col0\" >Quadratic Discriminant Analysis</td>\n",
       "      <td id=\"T_fd314_row5_col1\" class=\"data row5 col1\" >0.9634</td>\n",
       "      <td id=\"T_fd314_row5_col2\" class=\"data row5 col2\" >0.9671</td>\n",
       "      <td id=\"T_fd314_row5_col3\" class=\"data row5 col3\" >0.9336</td>\n",
       "      <td id=\"T_fd314_row5_col4\" class=\"data row5 col4\" >0.9933</td>\n",
       "      <td id=\"T_fd314_row5_col5\" class=\"data row5 col5\" >0.9625</td>\n",
       "      <td id=\"T_fd314_row5_col6\" class=\"data row5 col6\" >0.9269</td>\n",
       "      <td id=\"T_fd314_row5_col7\" class=\"data row5 col7\" >0.9286</td>\n",
       "      <td id=\"T_fd314_row5_col8\" class=\"data row5 col8\" >0.1540</td>\n",
       "    </tr>\n",
       "    <tr>\n",
       "      <th id=\"T_fd314_level0_row6\" class=\"row_heading level0 row6\" >ada</th>\n",
       "      <td id=\"T_fd314_row6_col0\" class=\"data row6 col0\" >Ada Boost Classifier</td>\n",
       "      <td id=\"T_fd314_row6_col1\" class=\"data row6 col1\" >0.9633</td>\n",
       "      <td id=\"T_fd314_row6_col2\" class=\"data row6 col2\" >0.9863</td>\n",
       "      <td id=\"T_fd314_row6_col3\" class=\"data row6 col3\" >0.9324</td>\n",
       "      <td id=\"T_fd314_row6_col4\" class=\"data row6 col4\" >0.9942</td>\n",
       "      <td id=\"T_fd314_row6_col5\" class=\"data row6 col5\" >0.9623</td>\n",
       "      <td id=\"T_fd314_row6_col6\" class=\"data row6 col6\" >0.9265</td>\n",
       "      <td id=\"T_fd314_row6_col7\" class=\"data row6 col7\" >0.9284</td>\n",
       "      <td id=\"T_fd314_row6_col8\" class=\"data row6 col8\" >0.7460</td>\n",
       "    </tr>\n",
       "    <tr>\n",
       "      <th id=\"T_fd314_level0_row7\" class=\"row_heading level0 row7\" >nb</th>\n",
       "      <td id=\"T_fd314_row7_col0\" class=\"data row7 col0\" >Naive Bayes</td>\n",
       "      <td id=\"T_fd314_row7_col1\" class=\"data row7 col1\" >0.9599</td>\n",
       "      <td id=\"T_fd314_row7_col2\" class=\"data row7 col2\" >0.9660</td>\n",
       "      <td id=\"T_fd314_row7_col3\" class=\"data row7 col3\" >0.9232</td>\n",
       "      <td id=\"T_fd314_row7_col4\" class=\"data row7 col4\" >0.9968</td>\n",
       "      <td id=\"T_fd314_row7_col5\" class=\"data row7 col5\" >0.9586</td>\n",
       "      <td id=\"T_fd314_row7_col6\" class=\"data row7 col6\" >0.9199</td>\n",
       "      <td id=\"T_fd314_row7_col7\" class=\"data row7 col7\" >0.9225</td>\n",
       "      <td id=\"T_fd314_row7_col8\" class=\"data row7 col8\" >0.0820</td>\n",
       "    </tr>\n",
       "    <tr>\n",
       "      <th id=\"T_fd314_level0_row8\" class=\"row_heading level0 row8\" >knn</th>\n",
       "      <td id=\"T_fd314_row8_col0\" class=\"data row8 col0\" >K Neighbors Classifier</td>\n",
       "      <td id=\"T_fd314_row8_col1\" class=\"data row8 col1\" >0.9525</td>\n",
       "      <td id=\"T_fd314_row8_col2\" class=\"data row8 col2\" >0.9708</td>\n",
       "      <td id=\"T_fd314_row8_col3\" class=\"data row8 col3\" >0.9114</td>\n",
       "      <td id=\"T_fd314_row8_col4\" class=\"data row8 col4\" >0.9937</td>\n",
       "      <td id=\"T_fd314_row8_col5\" class=\"data row8 col5\" >0.9507</td>\n",
       "      <td id=\"T_fd314_row8_col6\" class=\"data row8 col6\" >0.9051</td>\n",
       "      <td id=\"T_fd314_row8_col7\" class=\"data row8 col7\" >0.9083</td>\n",
       "      <td id=\"T_fd314_row8_col8\" class=\"data row8 col8\" >5.9680</td>\n",
       "    </tr>\n",
       "    <tr>\n",
       "      <th id=\"T_fd314_level0_row9\" class=\"row_heading level0 row9\" >svm</th>\n",
       "      <td id=\"T_fd314_row9_col0\" class=\"data row9 col0\" >SVM - Linear Kernel</td>\n",
       "      <td id=\"T_fd314_row9_col1\" class=\"data row9 col1\" >0.9485</td>\n",
       "      <td id=\"T_fd314_row9_col2\" class=\"data row9 col2\" >0.0000</td>\n",
       "      <td id=\"T_fd314_row9_col3\" class=\"data row9 col3\" >0.9366</td>\n",
       "      <td id=\"T_fd314_row9_col4\" class=\"data row9 col4\" >0.9602</td>\n",
       "      <td id=\"T_fd314_row9_col5\" class=\"data row9 col5\" >0.9482</td>\n",
       "      <td id=\"T_fd314_row9_col6\" class=\"data row9 col6\" >0.8971</td>\n",
       "      <td id=\"T_fd314_row9_col7\" class=\"data row9 col7\" >0.8975</td>\n",
       "      <td id=\"T_fd314_row9_col8\" class=\"data row9 col8\" >0.8940</td>\n",
       "    </tr>\n",
       "    <tr>\n",
       "      <th id=\"T_fd314_level0_row10\" class=\"row_heading level0 row10\" >dt</th>\n",
       "      <td id=\"T_fd314_row10_col0\" class=\"data row10 col0\" >Decision Tree Classifier</td>\n",
       "      <td id=\"T_fd314_row10_col1\" class=\"data row10 col1\" >0.9442</td>\n",
       "      <td id=\"T_fd314_row10_col2\" class=\"data row10 col2\" >0.9442</td>\n",
       "      <td id=\"T_fd314_row10_col3\" class=\"data row10 col3\" >0.9479</td>\n",
       "      <td id=\"T_fd314_row10_col4\" class=\"data row10 col4\" >0.9415</td>\n",
       "      <td id=\"T_fd314_row10_col5\" class=\"data row10 col5\" >0.9447</td>\n",
       "      <td id=\"T_fd314_row10_col6\" class=\"data row10 col6\" >0.8884</td>\n",
       "      <td id=\"T_fd314_row10_col7\" class=\"data row10 col7\" >0.8885</td>\n",
       "      <td id=\"T_fd314_row10_col8\" class=\"data row10 col8\" >0.1620</td>\n",
       "    </tr>\n",
       "    <tr>\n",
       "      <th id=\"T_fd314_level0_row11\" class=\"row_heading level0 row11\" >ridge</th>\n",
       "      <td id=\"T_fd314_row11_col0\" class=\"data row11 col0\" >Ridge Classifier</td>\n",
       "      <td id=\"T_fd314_row11_col1\" class=\"data row11 col1\" >0.8487</td>\n",
       "      <td id=\"T_fd314_row11_col2\" class=\"data row11 col2\" >0.0000</td>\n",
       "      <td id=\"T_fd314_row11_col3\" class=\"data row11 col3\" >0.6991</td>\n",
       "      <td id=\"T_fd314_row11_col4\" class=\"data row11 col4\" >1.0000</td>\n",
       "      <td id=\"T_fd314_row11_col5\" class=\"data row11 col5\" >0.8227</td>\n",
       "      <td id=\"T_fd314_row11_col6\" class=\"data row11 col6\" >0.6980</td>\n",
       "      <td id=\"T_fd314_row11_col7\" class=\"data row11 col7\" >0.7322</td>\n",
       "      <td id=\"T_fd314_row11_col8\" class=\"data row11 col8\" >0.0560</td>\n",
       "    </tr>\n",
       "    <tr>\n",
       "      <th id=\"T_fd314_level0_row12\" class=\"row_heading level0 row12\" >lda</th>\n",
       "      <td id=\"T_fd314_row12_col0\" class=\"data row12 col0\" >Linear Discriminant Analysis</td>\n",
       "      <td id=\"T_fd314_row12_col1\" class=\"data row12 col1\" >0.8487</td>\n",
       "      <td id=\"T_fd314_row12_col2\" class=\"data row12 col2\" >0.9662</td>\n",
       "      <td id=\"T_fd314_row12_col3\" class=\"data row12 col3\" >0.6991</td>\n",
       "      <td id=\"T_fd314_row12_col4\" class=\"data row12 col4\" >1.0000</td>\n",
       "      <td id=\"T_fd314_row12_col5\" class=\"data row12 col5\" >0.8227</td>\n",
       "      <td id=\"T_fd314_row12_col6\" class=\"data row12 col6\" >0.6980</td>\n",
       "      <td id=\"T_fd314_row12_col7\" class=\"data row12 col7\" >0.7322</td>\n",
       "      <td id=\"T_fd314_row12_col8\" class=\"data row12 col8\" >0.2600</td>\n",
       "    </tr>\n",
       "    <tr>\n",
       "      <th id=\"T_fd314_level0_row13\" class=\"row_heading level0 row13\" >dummy</th>\n",
       "      <td id=\"T_fd314_row13_col0\" class=\"data row13 col0\" >Dummy Classifier</td>\n",
       "      <td id=\"T_fd314_row13_col1\" class=\"data row13 col1\" >0.5028</td>\n",
       "      <td id=\"T_fd314_row13_col2\" class=\"data row13 col2\" >0.5000</td>\n",
       "      <td id=\"T_fd314_row13_col3\" class=\"data row13 col3\" >1.0000</td>\n",
       "      <td id=\"T_fd314_row13_col4\" class=\"data row13 col4\" >0.5028</td>\n",
       "      <td id=\"T_fd314_row13_col5\" class=\"data row13 col5\" >0.6691</td>\n",
       "      <td id=\"T_fd314_row13_col6\" class=\"data row13 col6\" >0.0000</td>\n",
       "      <td id=\"T_fd314_row13_col7\" class=\"data row13 col7\" >0.0000</td>\n",
       "      <td id=\"T_fd314_row13_col8\" class=\"data row13 col8\" >0.0340</td>\n",
       "    </tr>\n",
       "  </tbody>\n",
       "</table>\n"
      ],
      "text/plain": [
       "<pandas.io.formats.style.Styler at 0x2a436180888>"
      ]
     },
     "metadata": {},
     "output_type": "display_data"
    }
   ],
   "source": [
    "from pycaret.classification import *\n",
    "sm = setup(smote, target = 'FraudFound_P',session_id=1122)\n",
    "smote_best = compare_models(fold=5)"
   ]
  },
  {
   "cell_type": "code",
   "execution_count": 78,
   "id": "2caa111b",
   "metadata": {},
   "outputs": [
    {
     "data": {
      "text/html": [
       "<style type=\"text/css\">\n",
       "#T_89b86_row5_col0, #T_89b86_row5_col1, #T_89b86_row5_col2, #T_89b86_row5_col3, #T_89b86_row5_col4, #T_89b86_row5_col5, #T_89b86_row5_col6 {\n",
       "  background: yellow;\n",
       "}\n",
       "</style>\n",
       "<table id=\"T_89b86_\">\n",
       "  <thead>\n",
       "    <tr>\n",
       "      <th class=\"blank level0\" >&nbsp;</th>\n",
       "      <th class=\"col_heading level0 col0\" >Accuracy</th>\n",
       "      <th class=\"col_heading level0 col1\" >AUC</th>\n",
       "      <th class=\"col_heading level0 col2\" >Recall</th>\n",
       "      <th class=\"col_heading level0 col3\" >Prec.</th>\n",
       "      <th class=\"col_heading level0 col4\" >F1</th>\n",
       "      <th class=\"col_heading level0 col5\" >Kappa</th>\n",
       "      <th class=\"col_heading level0 col6\" >MCC</th>\n",
       "    </tr>\n",
       "    <tr>\n",
       "      <th class=\"index_name level0\" >Fold</th>\n",
       "      <th class=\"blank col0\" >&nbsp;</th>\n",
       "      <th class=\"blank col1\" >&nbsp;</th>\n",
       "      <th class=\"blank col2\" >&nbsp;</th>\n",
       "      <th class=\"blank col3\" >&nbsp;</th>\n",
       "      <th class=\"blank col4\" >&nbsp;</th>\n",
       "      <th class=\"blank col5\" >&nbsp;</th>\n",
       "      <th class=\"blank col6\" >&nbsp;</th>\n",
       "    </tr>\n",
       "  </thead>\n",
       "  <tbody>\n",
       "    <tr>\n",
       "      <th id=\"T_89b86_level0_row0\" class=\"row_heading level0 row0\" >0</th>\n",
       "      <td id=\"T_89b86_row0_col0\" class=\"data row0 col0\" >0.9532</td>\n",
       "      <td id=\"T_89b86_row0_col1\" class=\"data row0 col1\" >0.9833</td>\n",
       "      <td id=\"T_89b86_row0_col2\" class=\"data row0 col2\" >0.9069</td>\n",
       "      <td id=\"T_89b86_row0_col3\" class=\"data row0 col3\" >1.0000</td>\n",
       "      <td id=\"T_89b86_row0_col4\" class=\"data row0 col4\" >0.9512</td>\n",
       "      <td id=\"T_89b86_row0_col5\" class=\"data row0 col5\" >0.9064</td>\n",
       "      <td id=\"T_89b86_row0_col6\" class=\"data row0 col6\" >0.9104</td>\n",
       "    </tr>\n",
       "    <tr>\n",
       "      <th id=\"T_89b86_level0_row1\" class=\"row_heading level0 row1\" >1</th>\n",
       "      <td id=\"T_89b86_row1_col0\" class=\"data row1 col0\" >0.9614</td>\n",
       "      <td id=\"T_89b86_row1_col1\" class=\"data row1 col1\" >0.9868</td>\n",
       "      <td id=\"T_89b86_row1_col2\" class=\"data row1 col2\" >0.9232</td>\n",
       "      <td id=\"T_89b86_row1_col3\" class=\"data row1 col3\" >1.0000</td>\n",
       "      <td id=\"T_89b86_row1_col4\" class=\"data row1 col4\" >0.9601</td>\n",
       "      <td id=\"T_89b86_row1_col5\" class=\"data row1 col5\" >0.9228</td>\n",
       "      <td id=\"T_89b86_row1_col6\" class=\"data row1 col6\" >0.9256</td>\n",
       "    </tr>\n",
       "    <tr>\n",
       "      <th id=\"T_89b86_level0_row2\" class=\"row_heading level0 row2\" >2</th>\n",
       "      <td id=\"T_89b86_row2_col0\" class=\"data row2 col0\" >0.9584</td>\n",
       "      <td id=\"T_89b86_row2_col1\" class=\"data row2 col1\" >0.9850</td>\n",
       "      <td id=\"T_89b86_row2_col2\" class=\"data row2 col2\" >0.9173</td>\n",
       "      <td id=\"T_89b86_row2_col3\" class=\"data row2 col3\" >1.0000</td>\n",
       "      <td id=\"T_89b86_row2_col4\" class=\"data row2 col4\" >0.9568</td>\n",
       "      <td id=\"T_89b86_row2_col5\" class=\"data row2 col5\" >0.9168</td>\n",
       "      <td id=\"T_89b86_row2_col6\" class=\"data row2 col6\" >0.9200</td>\n",
       "    </tr>\n",
       "    <tr>\n",
       "      <th id=\"T_89b86_level0_row3\" class=\"row_heading level0 row3\" >3</th>\n",
       "      <td id=\"T_89b86_row3_col0\" class=\"data row3 col0\" >0.9584</td>\n",
       "      <td id=\"T_89b86_row3_col1\" class=\"data row3 col1\" >0.9831</td>\n",
       "      <td id=\"T_89b86_row3_col2\" class=\"data row3 col2\" >0.9172</td>\n",
       "      <td id=\"T_89b86_row3_col3\" class=\"data row3 col3\" >1.0000</td>\n",
       "      <td id=\"T_89b86_row3_col4\" class=\"data row3 col4\" >0.9568</td>\n",
       "      <td id=\"T_89b86_row3_col5\" class=\"data row3 col5\" >0.9168</td>\n",
       "      <td id=\"T_89b86_row3_col6\" class=\"data row3 col6\" >0.9200</td>\n",
       "    </tr>\n",
       "    <tr>\n",
       "      <th id=\"T_89b86_level0_row4\" class=\"row_heading level0 row4\" >4</th>\n",
       "      <td id=\"T_89b86_row4_col0\" class=\"data row4 col0\" >0.9595</td>\n",
       "      <td id=\"T_89b86_row4_col1\" class=\"data row4 col1\" >0.9848</td>\n",
       "      <td id=\"T_89b86_row4_col2\" class=\"data row4 col2\" >0.9194</td>\n",
       "      <td id=\"T_89b86_row4_col3\" class=\"data row4 col3\" >1.0000</td>\n",
       "      <td id=\"T_89b86_row4_col4\" class=\"data row4 col4\" >0.9580</td>\n",
       "      <td id=\"T_89b86_row4_col5\" class=\"data row4 col5\" >0.9190</td>\n",
       "      <td id=\"T_89b86_row4_col6\" class=\"data row4 col6\" >0.9220</td>\n",
       "    </tr>\n",
       "    <tr>\n",
       "      <th id=\"T_89b86_level0_row5\" class=\"row_heading level0 row5\" >Mean</th>\n",
       "      <td id=\"T_89b86_row5_col0\" class=\"data row5 col0\" >0.9582</td>\n",
       "      <td id=\"T_89b86_row5_col1\" class=\"data row5 col1\" >0.9846</td>\n",
       "      <td id=\"T_89b86_row5_col2\" class=\"data row5 col2\" >0.9168</td>\n",
       "      <td id=\"T_89b86_row5_col3\" class=\"data row5 col3\" >1.0000</td>\n",
       "      <td id=\"T_89b86_row5_col4\" class=\"data row5 col4\" >0.9566</td>\n",
       "      <td id=\"T_89b86_row5_col5\" class=\"data row5 col5\" >0.9164</td>\n",
       "      <td id=\"T_89b86_row5_col6\" class=\"data row5 col6\" >0.9196</td>\n",
       "    </tr>\n",
       "    <tr>\n",
       "      <th id=\"T_89b86_level0_row6\" class=\"row_heading level0 row6\" >Std</th>\n",
       "      <td id=\"T_89b86_row6_col0\" class=\"data row6 col0\" >0.0027</td>\n",
       "      <td id=\"T_89b86_row6_col1\" class=\"data row6 col1\" >0.0014</td>\n",
       "      <td id=\"T_89b86_row6_col2\" class=\"data row6 col2\" >0.0054</td>\n",
       "      <td id=\"T_89b86_row6_col3\" class=\"data row6 col3\" >0.0000</td>\n",
       "      <td id=\"T_89b86_row6_col4\" class=\"data row6 col4\" >0.0030</td>\n",
       "      <td id=\"T_89b86_row6_col5\" class=\"data row6 col5\" >0.0054</td>\n",
       "      <td id=\"T_89b86_row6_col6\" class=\"data row6 col6\" >0.0050</td>\n",
       "    </tr>\n",
       "  </tbody>\n",
       "</table>\n"
      ],
      "text/plain": [
       "<pandas.io.formats.style.Styler at 0x2a4305e72c8>"
      ]
     },
     "metadata": {},
     "output_type": "display_data"
    },
    {
     "name": "stdout",
     "output_type": "stream",
     "text": [
      "RandomForestClassifier(bootstrap=True, ccp_alpha=0.0,\n",
      "                       class_weight='balanced_subsample', criterion='gini',\n",
      "                       max_depth=8, max_features='log2', max_leaf_nodes=None,\n",
      "                       max_samples=None, min_impurity_decrease=0.0001,\n",
      "                       min_impurity_split=None, min_samples_leaf=4,\n",
      "                       min_samples_split=10, min_weight_fraction_leaf=0.0,\n",
      "                       n_estimators=160, n_jobs=-1, oob_score=False,\n",
      "                       random_state=1122, verbose=0, warm_start=False)\n"
     ]
    }
   ],
   "source": [
    "### Random Forest Classifier gave best prediction. Use it for hyper parameter tuning\n",
    "smote_rf = create_model('rf',fold=5)\n",
    "tuned_smote_rf=tune_model(smote_rf,optimize='Precision',fold=5)\n",
    "print(tuned_smote_rf)\n"
   ]
  },
  {
   "cell_type": "code",
   "execution_count": 80,
   "id": "1151205e",
   "metadata": {},
   "outputs": [
    {
     "data": {
      "text/html": [
       "<style type=\"text/css\">\n",
       "</style>\n",
       "<table id=\"T_0defa_\">\n",
       "  <thead>\n",
       "    <tr>\n",
       "      <th class=\"blank level0\" >&nbsp;</th>\n",
       "      <th class=\"col_heading level0 col0\" >Model</th>\n",
       "      <th class=\"col_heading level0 col1\" >Accuracy</th>\n",
       "      <th class=\"col_heading level0 col2\" >AUC</th>\n",
       "      <th class=\"col_heading level0 col3\" >Recall</th>\n",
       "      <th class=\"col_heading level0 col4\" >Prec.</th>\n",
       "      <th class=\"col_heading level0 col5\" >F1</th>\n",
       "      <th class=\"col_heading level0 col6\" >Kappa</th>\n",
       "      <th class=\"col_heading level0 col7\" >MCC</th>\n",
       "    </tr>\n",
       "  </thead>\n",
       "  <tbody>\n",
       "    <tr>\n",
       "      <th id=\"T_0defa_level0_row0\" class=\"row_heading level0 row0\" >0</th>\n",
       "      <td id=\"T_0defa_row0_col0\" class=\"data row0 col0\" >Random Forest Classifier</td>\n",
       "      <td id=\"T_0defa_row0_col1\" class=\"data row0 col1\" >0.9591</td>\n",
       "      <td id=\"T_0defa_row0_col2\" class=\"data row0 col2\" >0.9832</td>\n",
       "      <td id=\"T_0defa_row0_col3\" class=\"data row0 col3\" >0.9172</td>\n",
       "      <td id=\"T_0defa_row0_col4\" class=\"data row0 col4\" >1.0000</td>\n",
       "      <td id=\"T_0defa_row0_col5\" class=\"data row0 col5\" >0.9568</td>\n",
       "      <td id=\"T_0defa_row0_col6\" class=\"data row0 col6\" >0.9182</td>\n",
       "      <td id=\"T_0defa_row0_col7\" class=\"data row0 col7\" >0.9212</td>\n",
       "    </tr>\n",
       "  </tbody>\n",
       "</table>\n"
      ],
      "text/plain": [
       "<pandas.io.formats.style.Styler at 0x2a435ea45c8>"
      ]
     },
     "metadata": {},
     "output_type": "display_data"
    }
   ],
   "source": [
    "pred_smote_rf=predict_model(tuned_smote_rf)\n"
   ]
  },
  {
   "cell_type": "markdown",
   "id": "7645654b",
   "metadata": {},
   "source": [
    "### Testing the model on unseen data we hold out earlier"
   ]
  },
  {
   "cell_type": "code",
   "execution_count": 81,
   "id": "9b2f4bef",
   "metadata": {},
   "outputs": [
    {
     "data": {
      "text/plain": [
       "(1542, 136)"
      ]
     },
     "execution_count": 81,
     "metadata": {},
     "output_type": "execute_result"
    }
   ],
   "source": [
    "Test=pd.concat([X_test,y_test],axis=1)\n",
    "Test.shape"
   ]
  },
  {
   "cell_type": "code",
   "execution_count": 82,
   "id": "7eb1eeaa",
   "metadata": {},
   "outputs": [
    {
     "data": {
      "text/html": [
       "<style type=\"text/css\">\n",
       "</style>\n",
       "<table id=\"T_9865c_\">\n",
       "  <thead>\n",
       "    <tr>\n",
       "      <th class=\"blank level0\" >&nbsp;</th>\n",
       "      <th class=\"col_heading level0 col0\" >Model</th>\n",
       "      <th class=\"col_heading level0 col1\" >Accuracy</th>\n",
       "      <th class=\"col_heading level0 col2\" >AUC</th>\n",
       "      <th class=\"col_heading level0 col3\" >Recall</th>\n",
       "      <th class=\"col_heading level0 col4\" >Prec.</th>\n",
       "      <th class=\"col_heading level0 col5\" >F1</th>\n",
       "      <th class=\"col_heading level0 col6\" >Kappa</th>\n",
       "      <th class=\"col_heading level0 col7\" >MCC</th>\n",
       "    </tr>\n",
       "  </thead>\n",
       "  <tbody>\n",
       "    <tr>\n",
       "      <th id=\"T_9865c_level0_row0\" class=\"row_heading level0 row0\" >0</th>\n",
       "      <td id=\"T_9865c_row0_col0\" class=\"data row0 col0\" >Random Forest Classifier</td>\n",
       "      <td id=\"T_9865c_row0_col1\" class=\"data row0 col1\" >0.9403</td>\n",
       "      <td id=\"T_9865c_row0_col2\" class=\"data row0 col2\" >0.7994</td>\n",
       "      <td id=\"T_9865c_row0_col3\" class=\"data row0 col3\" >0.0000</td>\n",
       "      <td id=\"T_9865c_row0_col4\" class=\"data row0 col4\" >0.0000</td>\n",
       "      <td id=\"T_9865c_row0_col5\" class=\"data row0 col5\" >0.0000</td>\n",
       "      <td id=\"T_9865c_row0_col6\" class=\"data row0 col6\" >0.0000</td>\n",
       "      <td id=\"T_9865c_row0_col7\" class=\"data row0 col7\" >0.0000</td>\n",
       "    </tr>\n",
       "  </tbody>\n",
       "</table>\n"
      ],
      "text/plain": [
       "<pandas.io.formats.style.Styler at 0x2a42f832888>"
      ]
     },
     "metadata": {},
     "output_type": "display_data"
    },
    {
     "name": "stdout",
     "output_type": "stream",
     "text": [
      "      Month_Aug  Month_Dec  Month_Feb  Month_Jan  Month_Jul  Month_Jun  \\\n",
      "2141          0          0          0          0          0          0   \n",
      "\n",
      "      Month_Mar  Month_May  Month_Nov  Month_Oct  ...  Deductible_500  \\\n",
      "2141          1          0          0          0  ...               0   \n",
      "\n",
      "      Deductible_700  DriverRating_2  DriverRating_3  DriverRating_4  \\\n",
      "2141               0               1               0               0   \n",
      "\n",
      "      Year_1995  Year_1996  FraudFound_P  Label   Score  \n",
      "2141          0          0             1      0  0.5936  \n",
      "\n",
      "[1 rows x 138 columns]\n"
     ]
    }
   ],
   "source": [
    "predsmoterf=predict_model(tuned_smote_rf, data=Test)\n",
    "print(predsmoterf.head(1))\n",
    "#from pycaret.utils import check_metric\n",
    "#check_metric(predsmoterf['default'], predsmoterf['Label'], metric = 'Precision')"
   ]
  },
  {
   "cell_type": "markdown",
   "id": "eb7399db",
   "metadata": {},
   "source": [
    "***This model did not generalize well on unseen data***"
   ]
  },
  {
   "cell_type": "markdown",
   "id": "7a6154de",
   "metadata": {},
   "source": [
    "### Taking different approach:\n",
    "1. May be number of features are too high.\n",
    "2. May use label encoding \n",
    "3. We can do bivariate analyis and see if we need to remove some features"
   ]
  },
  {
   "cell_type": "code",
   "execution_count": 83,
   "id": "1e7fc7a3",
   "metadata": {},
   "outputs": [],
   "source": [
    "vfmnew=vfm.copy()"
   ]
  },
  {
   "cell_type": "code",
   "execution_count": 91,
   "id": "7ee98f41",
   "metadata": {},
   "outputs": [
    {
     "name": "stdout",
     "output_type": "stream",
     "text": [
      "['Month', 'WeekOfMonth', 'DayOfWeek', 'Make', 'AccidentArea', 'DayOfWeekClaimed', 'MonthClaimed', 'WeekOfMonthClaimed', 'Sex', 'MaritalStatus', 'Fault', 'PolicyType', 'VehicleCategory', 'VehiclePrice', 'FraudFound_P', 'Deductible', 'DriverRating', 'Days_Policy_Accident', 'Days_Policy_Claim', 'PastNumberOfClaims', 'AgeOfVehicle', 'AgeOfPolicyHolder', 'PoliceReportFiled', 'WitnessPresent', 'AgentType', 'NumberOfSuppliments', 'AddressChange_Claim', 'NumberOfCars', 'Year', 'BasePolicy', 'age_bins']\n"
     ]
    }
   ],
   "source": [
    "newlist=vfmnew.columns.to_list()\n",
    "print(newlist)"
   ]
  },
  {
   "cell_type": "code",
   "execution_count": 84,
   "id": "329e5dc3",
   "metadata": {},
   "outputs": [
    {
     "name": "stdout",
     "output_type": "stream",
     "text": [
      "<class 'pandas.core.frame.DataFrame'>\n",
      "RangeIndex: 15420 entries, 0 to 15419\n",
      "Data columns (total 31 columns):\n",
      " #   Column                Non-Null Count  Dtype   \n",
      "---  ------                --------------  -----   \n",
      " 0   Month                 15420 non-null  object  \n",
      " 1   WeekOfMonth           15420 non-null  int64   \n",
      " 2   DayOfWeek             15420 non-null  object  \n",
      " 3   Make                  15420 non-null  object  \n",
      " 4   AccidentArea          15420 non-null  object  \n",
      " 5   DayOfWeekClaimed      15420 non-null  object  \n",
      " 6   MonthClaimed          15420 non-null  object  \n",
      " 7   WeekOfMonthClaimed    15420 non-null  int64   \n",
      " 8   Sex                   15420 non-null  object  \n",
      " 9   MaritalStatus         15420 non-null  object  \n",
      " 10  Fault                 15420 non-null  object  \n",
      " 11  PolicyType            15420 non-null  object  \n",
      " 12  VehicleCategory       15420 non-null  object  \n",
      " 13  VehiclePrice          15420 non-null  object  \n",
      " 14  FraudFound_P          15420 non-null  int64   \n",
      " 15  Deductible            15420 non-null  int64   \n",
      " 16  DriverRating          15420 non-null  int64   \n",
      " 17  Days_Policy_Accident  15420 non-null  object  \n",
      " 18  Days_Policy_Claim     15420 non-null  object  \n",
      " 19  PastNumberOfClaims    15420 non-null  object  \n",
      " 20  AgeOfVehicle          15420 non-null  object  \n",
      " 21  AgeOfPolicyHolder     15420 non-null  object  \n",
      " 22  PoliceReportFiled     15420 non-null  object  \n",
      " 23  WitnessPresent        15420 non-null  object  \n",
      " 24  AgentType             15420 non-null  object  \n",
      " 25  NumberOfSuppliments   15420 non-null  object  \n",
      " 26  AddressChange_Claim   15420 non-null  object  \n",
      " 27  NumberOfCars          15420 non-null  object  \n",
      " 28  Year                  15420 non-null  int64   \n",
      " 29  BasePolicy            15420 non-null  object  \n",
      " 30  age_bins              15420 non-null  category\n",
      "dtypes: category(1), int64(6), object(24)\n",
      "memory usage: 3.5+ MB\n"
     ]
    }
   ],
   "source": [
    "vfmnew.info()"
   ]
  },
  {
   "cell_type": "code",
   "execution_count": 85,
   "id": "af739f59",
   "metadata": {},
   "outputs": [],
   "source": [
    "#Peform the train test split \n",
    "#Peform the train test split \n",
    "X_tr, X_te, y_tr, y_te = train_test_split(vfmnew.drop(columns='FraudFound_P'), \n",
    "                                                    vfmnew.FraudFound_P, test_size=0.1, \n",
    "                                                    random_state=47,stratify=vfmnew.FraudFound_P)\n"
   ]
  },
  {
   "cell_type": "code",
   "execution_count": 88,
   "id": "7c088113",
   "metadata": {},
   "outputs": [
    {
     "name": "stdout",
     "output_type": "stream",
     "text": [
      "(13878, 31)\n",
      "(1542, 31)\n"
     ]
    }
   ],
   "source": [
    "Seen=pd.concat([X_tr, y_tr],axis=1)\n",
    "print(Seen.shape)\n",
    "Unseen=pd.concat([X_te, y_te],axis=1)\n",
    "print(Unseen.shape)"
   ]
  },
  {
   "cell_type": "code",
   "execution_count": null,
   "id": "b8a810cf",
   "metadata": {},
   "outputs": [],
   "source": [
    "categorical_features=['Month', 'WeekOfMonth', 'DayOfWeek', 'Make', 'AccidentArea',\n",
    "                                  'DayOfWeekClaimed', 'MonthClaimed', 'WeekOfMonthClaimed', 'Sex',\n",
    "                                  'MaritalStatus', 'Fault', 'PolicyType', 'VehicleCategory',\n",
    "                                  'VehiclePrice','Deductible', 'DriverRating',\n",
    "                                  'Days_Policy_Accident', 'Days_Policy_Claim', 'PastNumberOfClaims',\n",
    "                                  'AgeOfVehicle', 'AgeOfPolicyHolder', 'PoliceReportFiled', 'WitnessPresent', \n",
    "                                  'AgentType', 'NumberOfSuppliments', 'AddressChange_Claim', 'NumberOfCars', \n",
    "                                  'Year', 'BasePolicy', 'age_bins']\n",
    "remove_multicollinearity = True,combine_rare_levels=True,"
   ]
  },
  {
   "cell_type": "code",
   "execution_count": 140,
   "id": "c6c89091",
   "metadata": {},
   "outputs": [
    {
     "data": {
      "text/html": [
       "<style type=\"text/css\">\n",
       "#T_c5157_ th {\n",
       "  text-align: left;\n",
       "}\n",
       "#T_c5157_row0_col0, #T_c5157_row0_col2, #T_c5157_row0_col3, #T_c5157_row0_col5, #T_c5157_row0_col6, #T_c5157_row0_col7, #T_c5157_row1_col0, #T_c5157_row1_col1, #T_c5157_row1_col2, #T_c5157_row1_col3, #T_c5157_row1_col4, #T_c5157_row1_col5, #T_c5157_row1_col6, #T_c5157_row1_col7, #T_c5157_row2_col0, #T_c5157_row2_col1, #T_c5157_row2_col2, #T_c5157_row2_col3, #T_c5157_row2_col4, #T_c5157_row2_col5, #T_c5157_row2_col6, #T_c5157_row2_col7, #T_c5157_row3_col0, #T_c5157_row3_col1, #T_c5157_row3_col2, #T_c5157_row3_col3, #T_c5157_row3_col4, #T_c5157_row3_col5, #T_c5157_row3_col6, #T_c5157_row3_col7, #T_c5157_row4_col0, #T_c5157_row4_col1, #T_c5157_row4_col2, #T_c5157_row4_col3, #T_c5157_row4_col4, #T_c5157_row4_col5, #T_c5157_row4_col6, #T_c5157_row4_col7, #T_c5157_row5_col0, #T_c5157_row5_col1, #T_c5157_row5_col2, #T_c5157_row5_col3, #T_c5157_row5_col4, #T_c5157_row5_col5, #T_c5157_row5_col6, #T_c5157_row5_col7, #T_c5157_row6_col0, #T_c5157_row6_col1, #T_c5157_row6_col2, #T_c5157_row6_col3, #T_c5157_row6_col4, #T_c5157_row6_col5, #T_c5157_row6_col6, #T_c5157_row6_col7, #T_c5157_row7_col0, #T_c5157_row7_col1, #T_c5157_row7_col2, #T_c5157_row7_col3, #T_c5157_row7_col4, #T_c5157_row7_col5, #T_c5157_row7_col6, #T_c5157_row7_col7, #T_c5157_row8_col0, #T_c5157_row8_col1, #T_c5157_row8_col3, #T_c5157_row8_col4, #T_c5157_row8_col5, #T_c5157_row8_col6, #T_c5157_row8_col7, #T_c5157_row9_col0, #T_c5157_row9_col1, #T_c5157_row9_col2, #T_c5157_row9_col3, #T_c5157_row9_col4, #T_c5157_row9_col5, #T_c5157_row9_col6, #T_c5157_row9_col7, #T_c5157_row10_col0, #T_c5157_row10_col1, #T_c5157_row10_col2, #T_c5157_row10_col3, #T_c5157_row10_col4, #T_c5157_row10_col5, #T_c5157_row10_col6, #T_c5157_row10_col7, #T_c5157_row11_col0, #T_c5157_row11_col1, #T_c5157_row11_col2, #T_c5157_row11_col3, #T_c5157_row11_col4, #T_c5157_row12_col0, #T_c5157_row12_col1, #T_c5157_row12_col2, #T_c5157_row12_col3, #T_c5157_row12_col4, #T_c5157_row12_col5, #T_c5157_row12_col6, #T_c5157_row12_col7, #T_c5157_row13_col0, #T_c5157_row13_col1, #T_c5157_row13_col2, #T_c5157_row13_col4, #T_c5157_row13_col5, #T_c5157_row13_col6, #T_c5157_row13_col7 {\n",
       "  text-align: left;\n",
       "}\n",
       "#T_c5157_row0_col1, #T_c5157_row0_col4, #T_c5157_row8_col2, #T_c5157_row11_col5, #T_c5157_row11_col6, #T_c5157_row11_col7, #T_c5157_row13_col3 {\n",
       "  text-align: left;\n",
       "  background-color: yellow;\n",
       "}\n",
       "#T_c5157_row0_col8, #T_c5157_row3_col8, #T_c5157_row4_col8, #T_c5157_row5_col8, #T_c5157_row6_col8, #T_c5157_row7_col8, #T_c5157_row8_col8, #T_c5157_row9_col8, #T_c5157_row11_col8, #T_c5157_row12_col8, #T_c5157_row13_col8 {\n",
       "  text-align: left;\n",
       "  background-color: lightgrey;\n",
       "}\n",
       "#T_c5157_row1_col8, #T_c5157_row2_col8, #T_c5157_row10_col8 {\n",
       "  text-align: left;\n",
       "  background-color: yellow;\n",
       "  background-color: lightgrey;\n",
       "}\n",
       "</style>\n",
       "<table id=\"T_c5157_\">\n",
       "  <thead>\n",
       "    <tr>\n",
       "      <th class=\"blank level0\" >&nbsp;</th>\n",
       "      <th class=\"col_heading level0 col0\" >Model</th>\n",
       "      <th class=\"col_heading level0 col1\" >Accuracy</th>\n",
       "      <th class=\"col_heading level0 col2\" >AUC</th>\n",
       "      <th class=\"col_heading level0 col3\" >Recall</th>\n",
       "      <th class=\"col_heading level0 col4\" >Prec.</th>\n",
       "      <th class=\"col_heading level0 col5\" >F1</th>\n",
       "      <th class=\"col_heading level0 col6\" >Kappa</th>\n",
       "      <th class=\"col_heading level0 col7\" >MCC</th>\n",
       "      <th class=\"col_heading level0 col8\" >TT (Sec)</th>\n",
       "    </tr>\n",
       "  </thead>\n",
       "  <tbody>\n",
       "    <tr>\n",
       "      <th id=\"T_c5157_level0_row0\" class=\"row_heading level0 row0\" >rf</th>\n",
       "      <td id=\"T_c5157_row0_col0\" class=\"data row0 col0\" >Random Forest Classifier</td>\n",
       "      <td id=\"T_c5157_row0_col1\" class=\"data row0 col1\" >0.9406</td>\n",
       "      <td id=\"T_c5157_row0_col2\" class=\"data row0 col2\" >0.7888</td>\n",
       "      <td id=\"T_c5157_row0_col3\" class=\"data row0 col3\" >0.0120</td>\n",
       "      <td id=\"T_c5157_row0_col4\" class=\"data row0 col4\" >0.7333</td>\n",
       "      <td id=\"T_c5157_row0_col5\" class=\"data row0 col5\" >0.0236</td>\n",
       "      <td id=\"T_c5157_row0_col6\" class=\"data row0 col6\" >0.0219</td>\n",
       "      <td id=\"T_c5157_row0_col7\" class=\"data row0 col7\" >0.0875</td>\n",
       "      <td id=\"T_c5157_row0_col8\" class=\"data row0 col8\" >0.3420</td>\n",
       "    </tr>\n",
       "    <tr>\n",
       "      <th id=\"T_c5157_level0_row1\" class=\"row_heading level0 row1\" >ridge</th>\n",
       "      <td id=\"T_c5157_row1_col0\" class=\"data row1 col0\" >Ridge Classifier</td>\n",
       "      <td id=\"T_c5157_row1_col1\" class=\"data row1 col1\" >0.9401</td>\n",
       "      <td id=\"T_c5157_row1_col2\" class=\"data row1 col2\" >0.0000</td>\n",
       "      <td id=\"T_c5157_row1_col3\" class=\"data row1 col3\" >0.0000</td>\n",
       "      <td id=\"T_c5157_row1_col4\" class=\"data row1 col4\" >0.0000</td>\n",
       "      <td id=\"T_c5157_row1_col5\" class=\"data row1 col5\" >0.0000</td>\n",
       "      <td id=\"T_c5157_row1_col6\" class=\"data row1 col6\" >0.0000</td>\n",
       "      <td id=\"T_c5157_row1_col7\" class=\"data row1 col7\" >0.0000</td>\n",
       "      <td id=\"T_c5157_row1_col8\" class=\"data row1 col8\" >0.0100</td>\n",
       "    </tr>\n",
       "    <tr>\n",
       "      <th id=\"T_c5157_level0_row2\" class=\"row_heading level0 row2\" >dummy</th>\n",
       "      <td id=\"T_c5157_row2_col0\" class=\"data row2 col0\" >Dummy Classifier</td>\n",
       "      <td id=\"T_c5157_row2_col1\" class=\"data row2 col1\" >0.9401</td>\n",
       "      <td id=\"T_c5157_row2_col2\" class=\"data row2 col2\" >0.5000</td>\n",
       "      <td id=\"T_c5157_row2_col3\" class=\"data row2 col3\" >0.0000</td>\n",
       "      <td id=\"T_c5157_row2_col4\" class=\"data row2 col4\" >0.0000</td>\n",
       "      <td id=\"T_c5157_row2_col5\" class=\"data row2 col5\" >0.0000</td>\n",
       "      <td id=\"T_c5157_row2_col6\" class=\"data row2 col6\" >0.0000</td>\n",
       "      <td id=\"T_c5157_row2_col7\" class=\"data row2 col7\" >0.0000</td>\n",
       "      <td id=\"T_c5157_row2_col8\" class=\"data row2 col8\" >0.0100</td>\n",
       "    </tr>\n",
       "    <tr>\n",
       "      <th id=\"T_c5157_level0_row3\" class=\"row_heading level0 row3\" >ada</th>\n",
       "      <td id=\"T_c5157_row3_col0\" class=\"data row3 col0\" >Ada Boost Classifier</td>\n",
       "      <td id=\"T_c5157_row3_col1\" class=\"data row3 col1\" >0.9400</td>\n",
       "      <td id=\"T_c5157_row3_col2\" class=\"data row3 col2\" >0.7808</td>\n",
       "      <td id=\"T_c5157_row3_col3\" class=\"data row3 col3\" >0.0000</td>\n",
       "      <td id=\"T_c5157_row3_col4\" class=\"data row3 col4\" >0.0000</td>\n",
       "      <td id=\"T_c5157_row3_col5\" class=\"data row3 col5\" >0.0000</td>\n",
       "      <td id=\"T_c5157_row3_col6\" class=\"data row3 col6\" >-0.0002</td>\n",
       "      <td id=\"T_c5157_row3_col7\" class=\"data row3 col7\" >-0.0011</td>\n",
       "      <td id=\"T_c5157_row3_col8\" class=\"data row3 col8\" >0.1160</td>\n",
       "    </tr>\n",
       "    <tr>\n",
       "      <th id=\"T_c5157_level0_row4\" class=\"row_heading level0 row4\" >lr</th>\n",
       "      <td id=\"T_c5157_row4_col0\" class=\"data row4 col0\" >Logistic Regression</td>\n",
       "      <td id=\"T_c5157_row4_col1\" class=\"data row4 col1\" >0.9399</td>\n",
       "      <td id=\"T_c5157_row4_col2\" class=\"data row4 col2\" >0.7775</td>\n",
       "      <td id=\"T_c5157_row4_col3\" class=\"data row4 col3\" >0.0000</td>\n",
       "      <td id=\"T_c5157_row4_col4\" class=\"data row4 col4\" >0.0000</td>\n",
       "      <td id=\"T_c5157_row4_col5\" class=\"data row4 col5\" >0.0000</td>\n",
       "      <td id=\"T_c5157_row4_col6\" class=\"data row4 col6\" >-0.0004</td>\n",
       "      <td id=\"T_c5157_row4_col7\" class=\"data row4 col7\" >-0.0015</td>\n",
       "      <td id=\"T_c5157_row4_col8\" class=\"data row4 col8\" >0.0900</td>\n",
       "    </tr>\n",
       "    <tr>\n",
       "      <th id=\"T_c5157_level0_row5\" class=\"row_heading level0 row5\" >et</th>\n",
       "      <td id=\"T_c5157_row5_col0\" class=\"data row5 col0\" >Extra Trees Classifier</td>\n",
       "      <td id=\"T_c5157_row5_col1\" class=\"data row5 col1\" >0.9398</td>\n",
       "      <td id=\"T_c5157_row5_col2\" class=\"data row5 col2\" >0.7779</td>\n",
       "      <td id=\"T_c5157_row5_col3\" class=\"data row5 col3\" >0.0150</td>\n",
       "      <td id=\"T_c5157_row5_col4\" class=\"data row5 col4\" >0.4919</td>\n",
       "      <td id=\"T_c5157_row5_col5\" class=\"data row5 col5\" >0.0291</td>\n",
       "      <td id=\"T_c5157_row5_col6\" class=\"data row5 col6\" >0.0252</td>\n",
       "      <td id=\"T_c5157_row5_col7\" class=\"data row5 col7\" >0.0768</td>\n",
       "      <td id=\"T_c5157_row5_col8\" class=\"data row5 col8\" >0.3580</td>\n",
       "    </tr>\n",
       "    <tr>\n",
       "      <th id=\"T_c5157_level0_row6\" class=\"row_heading level0 row6\" >gbc</th>\n",
       "      <td id=\"T_c5157_row6_col0\" class=\"data row6 col0\" >Gradient Boosting Classifier</td>\n",
       "      <td id=\"T_c5157_row6_col1\" class=\"data row6 col1\" >0.9397</td>\n",
       "      <td id=\"T_c5157_row6_col2\" class=\"data row6 col2\" >0.7973</td>\n",
       "      <td id=\"T_c5157_row6_col3\" class=\"data row6 col3\" >0.0015</td>\n",
       "      <td id=\"T_c5157_row6_col4\" class=\"data row6 col4\" >0.1000</td>\n",
       "      <td id=\"T_c5157_row6_col5\" class=\"data row6 col5\" >0.0030</td>\n",
       "      <td id=\"T_c5157_row6_col6\" class=\"data row6 col6\" >0.0017</td>\n",
       "      <td id=\"T_c5157_row6_col7\" class=\"data row6 col7\" >0.0064</td>\n",
       "      <td id=\"T_c5157_row6_col8\" class=\"data row6 col8\" >0.3140</td>\n",
       "    </tr>\n",
       "    <tr>\n",
       "      <th id=\"T_c5157_level0_row7\" class=\"row_heading level0 row7\" >lda</th>\n",
       "      <td id=\"T_c5157_row7_col0\" class=\"data row7 col0\" >Linear Discriminant Analysis</td>\n",
       "      <td id=\"T_c5157_row7_col1\" class=\"data row7 col1\" >0.9397</td>\n",
       "      <td id=\"T_c5157_row7_col2\" class=\"data row7 col2\" >0.7798</td>\n",
       "      <td id=\"T_c5157_row7_col3\" class=\"data row7 col3\" >0.0030</td>\n",
       "      <td id=\"T_c5157_row7_col4\" class=\"data row7 col4\" >0.3000</td>\n",
       "      <td id=\"T_c5157_row7_col5\" class=\"data row7 col5\" >0.0059</td>\n",
       "      <td id=\"T_c5157_row7_col6\" class=\"data row7 col6\" >0.0045</td>\n",
       "      <td id=\"T_c5157_row7_col7\" class=\"data row7 col7\" >0.0256</td>\n",
       "      <td id=\"T_c5157_row7_col8\" class=\"data row7 col8\" >0.0220</td>\n",
       "    </tr>\n",
       "    <tr>\n",
       "      <th id=\"T_c5157_level0_row8\" class=\"row_heading level0 row8\" >lightgbm</th>\n",
       "      <td id=\"T_c5157_row8_col0\" class=\"data row8 col0\" >Light Gradient Boosting Machine</td>\n",
       "      <td id=\"T_c5157_row8_col1\" class=\"data row8 col1\" >0.9388</td>\n",
       "      <td id=\"T_c5157_row8_col2\" class=\"data row8 col2\" >0.7990</td>\n",
       "      <td id=\"T_c5157_row8_col3\" class=\"data row8 col3\" >0.0180</td>\n",
       "      <td id=\"T_c5157_row8_col4\" class=\"data row8 col4\" >0.3274</td>\n",
       "      <td id=\"T_c5157_row8_col5\" class=\"data row8 col5\" >0.0340</td>\n",
       "      <td id=\"T_c5157_row8_col6\" class=\"data row8 col6\" >0.0277</td>\n",
       "      <td id=\"T_c5157_row8_col7\" class=\"data row8 col7\" >0.0634</td>\n",
       "      <td id=\"T_c5157_row8_col8\" class=\"data row8 col8\" >0.0500</td>\n",
       "    </tr>\n",
       "    <tr>\n",
       "      <th id=\"T_c5157_level0_row9\" class=\"row_heading level0 row9\" >knn</th>\n",
       "      <td id=\"T_c5157_row9_col0\" class=\"data row9 col0\" >K Neighbors Classifier</td>\n",
       "      <td id=\"T_c5157_row9_col1\" class=\"data row9 col1\" >0.9352</td>\n",
       "      <td id=\"T_c5157_row9_col2\" class=\"data row9 col2\" >0.6265</td>\n",
       "      <td id=\"T_c5157_row9_col3\" class=\"data row9 col3\" >0.0406</td>\n",
       "      <td id=\"T_c5157_row9_col4\" class=\"data row9 col4\" >0.2624</td>\n",
       "      <td id=\"T_c5157_row9_col5\" class=\"data row9 col5\" >0.0701</td>\n",
       "      <td id=\"T_c5157_row9_col6\" class=\"data row9 col6\" >0.0543</td>\n",
       "      <td id=\"T_c5157_row9_col7\" class=\"data row9 col7\" >0.0817</td>\n",
       "      <td id=\"T_c5157_row9_col8\" class=\"data row9 col8\" >0.2820</td>\n",
       "    </tr>\n",
       "    <tr>\n",
       "      <th id=\"T_c5157_level0_row10\" class=\"row_heading level0 row10\" >nb</th>\n",
       "      <td id=\"T_c5157_row10_col0\" class=\"data row10 col0\" >Naive Bayes</td>\n",
       "      <td id=\"T_c5157_row10_col1\" class=\"data row10 col1\" >0.9085</td>\n",
       "      <td id=\"T_c5157_row10_col2\" class=\"data row10 col2\" >0.7489</td>\n",
       "      <td id=\"T_c5157_row10_col3\" class=\"data row10 col3\" >0.1519</td>\n",
       "      <td id=\"T_c5157_row10_col4\" class=\"data row10 col4\" >0.1835</td>\n",
       "      <td id=\"T_c5157_row10_col5\" class=\"data row10 col5\" >0.1656</td>\n",
       "      <td id=\"T_c5157_row10_col6\" class=\"data row10 col6\" >0.1178</td>\n",
       "      <td id=\"T_c5157_row10_col7\" class=\"data row10 col7\" >0.1186</td>\n",
       "      <td id=\"T_c5157_row10_col8\" class=\"data row10 col8\" >0.0100</td>\n",
       "    </tr>\n",
       "    <tr>\n",
       "      <th id=\"T_c5157_level0_row11\" class=\"row_heading level0 row11\" >qda</th>\n",
       "      <td id=\"T_c5157_row11_col0\" class=\"data row11 col0\" >Quadratic Discriminant Analysis</td>\n",
       "      <td id=\"T_c5157_row11_col1\" class=\"data row11 col1\" >0.9000</td>\n",
       "      <td id=\"T_c5157_row11_col2\" class=\"data row11 col2\" >0.7796</td>\n",
       "      <td id=\"T_c5157_row11_col3\" class=\"data row11 col3\" >0.2045</td>\n",
       "      <td id=\"T_c5157_row11_col4\" class=\"data row11 col4\" >0.1901</td>\n",
       "      <td id=\"T_c5157_row11_col5\" class=\"data row11 col5\" >0.1968</td>\n",
       "      <td id=\"T_c5157_row11_col6\" class=\"data row11 col6\" >0.1436</td>\n",
       "      <td id=\"T_c5157_row11_col7\" class=\"data row11 col7\" >0.1438</td>\n",
       "      <td id=\"T_c5157_row11_col8\" class=\"data row11 col8\" >0.0140</td>\n",
       "    </tr>\n",
       "    <tr>\n",
       "      <th id=\"T_c5157_level0_row12\" class=\"row_heading level0 row12\" >dt</th>\n",
       "      <td id=\"T_c5157_row12_col0\" class=\"data row12 col0\" >Decision Tree Classifier</td>\n",
       "      <td id=\"T_c5157_row12_col1\" class=\"data row12 col1\" >0.8875</td>\n",
       "      <td id=\"T_c5157_row12_col2\" class=\"data row12 col2\" >0.5495</td>\n",
       "      <td id=\"T_c5157_row12_col3\" class=\"data row12 col3\" >0.1654</td>\n",
       "      <td id=\"T_c5157_row12_col4\" class=\"data row12 col4\" >0.1377</td>\n",
       "      <td id=\"T_c5157_row12_col5\" class=\"data row12 col5\" >0.1498</td>\n",
       "      <td id=\"T_c5157_row12_col6\" class=\"data row12 col6\" >0.0904</td>\n",
       "      <td id=\"T_c5157_row12_col7\" class=\"data row12 col7\" >0.0909</td>\n",
       "      <td id=\"T_c5157_row12_col8\" class=\"data row12 col8\" >0.0180</td>\n",
       "    </tr>\n",
       "    <tr>\n",
       "      <th id=\"T_c5157_level0_row13\" class=\"row_heading level0 row13\" >svm</th>\n",
       "      <td id=\"T_c5157_row13_col0\" class=\"data row13 col0\" >SVM - Linear Kernel</td>\n",
       "      <td id=\"T_c5157_row13_col1\" class=\"data row13 col1\" >0.8561</td>\n",
       "      <td id=\"T_c5157_row13_col2\" class=\"data row13 col2\" >0.0000</td>\n",
       "      <td id=\"T_c5157_row13_col3\" class=\"data row13 col3\" >0.2241</td>\n",
       "      <td id=\"T_c5157_row13_col4\" class=\"data row13 col4\" >0.0474</td>\n",
       "      <td id=\"T_c5157_row13_col5\" class=\"data row13 col5\" >0.0758</td>\n",
       "      <td id=\"T_c5157_row13_col6\" class=\"data row13 col6\" >0.0417</td>\n",
       "      <td id=\"T_c5157_row13_col7\" class=\"data row13 col7\" >0.0633</td>\n",
       "      <td id=\"T_c5157_row13_col8\" class=\"data row13 col8\" >0.0360</td>\n",
       "    </tr>\n",
       "  </tbody>\n",
       "</table>\n"
      ],
      "text/plain": [
       "<pandas.io.formats.style.Styler at 0x2a43b64f5c8>"
      ]
     },
     "metadata": {},
     "output_type": "display_data"
    }
   ],
   "source": [
    "setup1 = setup(Seen, target = 'FraudFound_P',\n",
    "            fold=5,train_size=0.8,\n",
    "            feature_selection=True,\n",
    "            ignore_low_variance = True,data_split_stratify=True,\n",
    "            high_cardinality_features=['Month', 'WeekOfMonth', 'DayOfWeek', 'Make',\n",
    "                                  'DayOfWeekClaimed', 'MonthClaimed', 'WeekOfMonthClaimed', 'Sex',\n",
    "                                  'MaritalStatus', 'Fault', 'PolicyType', 'VehicleCategory',\n",
    "                                  'VehiclePrice','Deductible', 'DriverRating',\n",
    "                                  'Days_Policy_Accident', 'Days_Policy_Claim', 'PastNumberOfClaims',\n",
    "                                  'AgeOfVehicle', 'AgeOfPolicyHolder', 'PoliceReportFiled', 'WitnessPresent', \n",
    "                                  'AgentType', 'NumberOfSuppliments', 'AddressChange_Claim', 'NumberOfCars', \n",
    "                                  'Year', 'BasePolicy', 'age_bins'],session_id=1122)\n",
    "          \n",
    "setup1_bestp = compare_models(fold=5)"
   ]
  },
  {
   "cell_type": "code",
   "execution_count": 141,
   "id": "e72bc089",
   "metadata": {},
   "outputs": [
    {
     "data": {
      "text/html": [
       "<style type=\"text/css\">\n",
       "#T_87a2b_row5_col0, #T_87a2b_row5_col1, #T_87a2b_row5_col2, #T_87a2b_row5_col3, #T_87a2b_row5_col4, #T_87a2b_row5_col5, #T_87a2b_row5_col6 {\n",
       "  background: yellow;\n",
       "}\n",
       "</style>\n",
       "<table id=\"T_87a2b_\">\n",
       "  <thead>\n",
       "    <tr>\n",
       "      <th class=\"blank level0\" >&nbsp;</th>\n",
       "      <th class=\"col_heading level0 col0\" >Accuracy</th>\n",
       "      <th class=\"col_heading level0 col1\" >AUC</th>\n",
       "      <th class=\"col_heading level0 col2\" >Recall</th>\n",
       "      <th class=\"col_heading level0 col3\" >Prec.</th>\n",
       "      <th class=\"col_heading level0 col4\" >F1</th>\n",
       "      <th class=\"col_heading level0 col5\" >Kappa</th>\n",
       "      <th class=\"col_heading level0 col6\" >MCC</th>\n",
       "    </tr>\n",
       "    <tr>\n",
       "      <th class=\"index_name level0\" >Fold</th>\n",
       "      <th class=\"blank col0\" >&nbsp;</th>\n",
       "      <th class=\"blank col1\" >&nbsp;</th>\n",
       "      <th class=\"blank col2\" >&nbsp;</th>\n",
       "      <th class=\"blank col3\" >&nbsp;</th>\n",
       "      <th class=\"blank col4\" >&nbsp;</th>\n",
       "      <th class=\"blank col5\" >&nbsp;</th>\n",
       "      <th class=\"blank col6\" >&nbsp;</th>\n",
       "    </tr>\n",
       "  </thead>\n",
       "  <tbody>\n",
       "    <tr>\n",
       "      <th id=\"T_87a2b_level0_row0\" class=\"row_heading level0 row0\" >0</th>\n",
       "      <td id=\"T_87a2b_row0_col0\" class=\"data row0 col0\" >0.7015</td>\n",
       "      <td id=\"T_87a2b_row0_col1\" class=\"data row0 col1\" >0.7726</td>\n",
       "      <td id=\"T_87a2b_row0_col2\" class=\"data row0 col2\" >0.6992</td>\n",
       "      <td id=\"T_87a2b_row0_col3\" class=\"data row0 col3\" >0.1299</td>\n",
       "      <td id=\"T_87a2b_row0_col4\" class=\"data row0 col4\" >0.2191</td>\n",
       "      <td id=\"T_87a2b_row0_col5\" class=\"data row0 col5\" >0.1313</td>\n",
       "      <td id=\"T_87a2b_row0_col6\" class=\"data row0 col6\" >0.2035</td>\n",
       "    </tr>\n",
       "    <tr>\n",
       "      <th id=\"T_87a2b_level0_row1\" class=\"row_heading level0 row1\" >1</th>\n",
       "      <td id=\"T_87a2b_row1_col0\" class=\"data row1 col0\" >0.6974</td>\n",
       "      <td id=\"T_87a2b_row1_col1\" class=\"data row1 col1\" >0.7990</td>\n",
       "      <td id=\"T_87a2b_row1_col2\" class=\"data row1 col2\" >0.7895</td>\n",
       "      <td id=\"T_87a2b_row1_col3\" class=\"data row1 col3\" >0.1402</td>\n",
       "      <td id=\"T_87a2b_row1_col4\" class=\"data row1 col4\" >0.2381</td>\n",
       "      <td id=\"T_87a2b_row1_col5\" class=\"data row1 col5\" >0.1518</td>\n",
       "      <td id=\"T_87a2b_row1_col6\" class=\"data row1 col6\" >0.2414</td>\n",
       "    </tr>\n",
       "    <tr>\n",
       "      <th id=\"T_87a2b_level0_row2\" class=\"row_heading level0 row2\" >2</th>\n",
       "      <td id=\"T_87a2b_row2_col0\" class=\"data row2 col0\" >0.7135</td>\n",
       "      <td id=\"T_87a2b_row2_col1\" class=\"data row2 col1\" >0.7999</td>\n",
       "      <td id=\"T_87a2b_row2_col2\" class=\"data row2 col2\" >0.7368</td>\n",
       "      <td id=\"T_87a2b_row2_col3\" class=\"data row2 col3\" >0.1402</td>\n",
       "      <td id=\"T_87a2b_row2_col4\" class=\"data row2 col4\" >0.2356</td>\n",
       "      <td id=\"T_87a2b_row2_col5\" class=\"data row2 col5\" >0.1500</td>\n",
       "      <td id=\"T_87a2b_row2_col6\" class=\"data row2 col6\" >0.2294</td>\n",
       "    </tr>\n",
       "    <tr>\n",
       "      <th id=\"T_87a2b_level0_row3\" class=\"row_heading level0 row3\" >3</th>\n",
       "      <td id=\"T_87a2b_row3_col0\" class=\"data row3 col0\" >0.7176</td>\n",
       "      <td id=\"T_87a2b_row3_col1\" class=\"data row3 col1\" >0.7902</td>\n",
       "      <td id=\"T_87a2b_row3_col2\" class=\"data row3 col2\" >0.7444</td>\n",
       "      <td id=\"T_87a2b_row3_col3\" class=\"data row3 col3\" >0.1431</td>\n",
       "      <td id=\"T_87a2b_row3_col4\" class=\"data row3 col4\" >0.2400</td>\n",
       "      <td id=\"T_87a2b_row3_col5\" class=\"data row3 col5\" >0.1551</td>\n",
       "      <td id=\"T_87a2b_row3_col6\" class=\"data row3 col6\" >0.2358</td>\n",
       "    </tr>\n",
       "    <tr>\n",
       "      <th id=\"T_87a2b_level0_row4\" class=\"row_heading level0 row4\" >4</th>\n",
       "      <td id=\"T_87a2b_row4_col0\" class=\"data row4 col0\" >0.7018</td>\n",
       "      <td id=\"T_87a2b_row4_col1\" class=\"data row4 col1\" >0.8002</td>\n",
       "      <td id=\"T_87a2b_row4_col2\" class=\"data row4 col2\" >0.7519</td>\n",
       "      <td id=\"T_87a2b_row4_col3\" class=\"data row4 col3\" >0.1372</td>\n",
       "      <td id=\"T_87a2b_row4_col4\" class=\"data row4 col4\" >0.2320</td>\n",
       "      <td id=\"T_87a2b_row4_col5\" class=\"data row4 col5\" >0.1454</td>\n",
       "      <td id=\"T_87a2b_row4_col6\" class=\"data row4 col6\" >0.2277</td>\n",
       "    </tr>\n",
       "    <tr>\n",
       "      <th id=\"T_87a2b_level0_row5\" class=\"row_heading level0 row5\" >Mean</th>\n",
       "      <td id=\"T_87a2b_row5_col0\" class=\"data row5 col0\" >0.7064</td>\n",
       "      <td id=\"T_87a2b_row5_col1\" class=\"data row5 col1\" >0.7924</td>\n",
       "      <td id=\"T_87a2b_row5_col2\" class=\"data row5 col2\" >0.7444</td>\n",
       "      <td id=\"T_87a2b_row5_col3\" class=\"data row5 col3\" >0.1381</td>\n",
       "      <td id=\"T_87a2b_row5_col4\" class=\"data row5 col4\" >0.2330</td>\n",
       "      <td id=\"T_87a2b_row5_col5\" class=\"data row5 col5\" >0.1467</td>\n",
       "      <td id=\"T_87a2b_row5_col6\" class=\"data row5 col6\" >0.2275</td>\n",
       "    </tr>\n",
       "    <tr>\n",
       "      <th id=\"T_87a2b_level0_row6\" class=\"row_heading level0 row6\" >Std</th>\n",
       "      <td id=\"T_87a2b_row6_col0\" class=\"data row6 col0\" >0.0078</td>\n",
       "      <td id=\"T_87a2b_row6_col1\" class=\"data row6 col1\" >0.0106</td>\n",
       "      <td id=\"T_87a2b_row6_col2\" class=\"data row6 col2\" >0.0289</td>\n",
       "      <td id=\"T_87a2b_row6_col3\" class=\"data row6 col3\" >0.0045</td>\n",
       "      <td id=\"T_87a2b_row6_col4\" class=\"data row6 col4\" >0.0074</td>\n",
       "      <td id=\"T_87a2b_row6_col5\" class=\"data row6 col5\" >0.0083</td>\n",
       "      <td id=\"T_87a2b_row6_col6\" class=\"data row6 col6\" >0.0130</td>\n",
       "    </tr>\n",
       "  </tbody>\n",
       "</table>\n"
      ],
      "text/plain": [
       "<pandas.io.formats.style.Styler at 0x2a43b7445c8>"
      ]
     },
     "metadata": {},
     "output_type": "display_data"
    },
    {
     "name": "stdout",
     "output_type": "stream",
     "text": [
      "RandomForestClassifier(bootstrap=True, ccp_alpha=0.0,\n",
      "                       class_weight='balanced_subsample', criterion='gini',\n",
      "                       max_depth=8, max_features='log2', max_leaf_nodes=None,\n",
      "                       max_samples=None, min_impurity_decrease=0.0001,\n",
      "                       min_impurity_split=None, min_samples_leaf=4,\n",
      "                       min_samples_split=10, min_weight_fraction_leaf=0.0,\n",
      "                       n_estimators=160, n_jobs=-1, oob_score=False,\n",
      "                       random_state=1122, verbose=0, warm_start=False)\n"
     ]
    }
   ],
   "source": [
    "setup1_gbc = create_model('rf',fold=5)\n",
    "tuned_gbc=tune_model(setup1_gbc,optimize='Precision',fold=5)\n",
    "print(tuned_lgbm)"
   ]
  },
  {
   "cell_type": "code",
   "execution_count": 142,
   "id": "bc5d8f2f",
   "metadata": {},
   "outputs": [
    {
     "data": {
      "text/html": [
       "<style type=\"text/css\">\n",
       "</style>\n",
       "<table id=\"T_3da66_\">\n",
       "  <thead>\n",
       "    <tr>\n",
       "      <th class=\"blank level0\" >&nbsp;</th>\n",
       "      <th class=\"col_heading level0 col0\" >Model</th>\n",
       "      <th class=\"col_heading level0 col1\" >Accuracy</th>\n",
       "      <th class=\"col_heading level0 col2\" >AUC</th>\n",
       "      <th class=\"col_heading level0 col3\" >Recall</th>\n",
       "      <th class=\"col_heading level0 col4\" >Prec.</th>\n",
       "      <th class=\"col_heading level0 col5\" >F1</th>\n",
       "      <th class=\"col_heading level0 col6\" >Kappa</th>\n",
       "      <th class=\"col_heading level0 col7\" >MCC</th>\n",
       "    </tr>\n",
       "  </thead>\n",
       "  <tbody>\n",
       "    <tr>\n",
       "      <th id=\"T_3da66_level0_row0\" class=\"row_heading level0 row0\" >0</th>\n",
       "      <td id=\"T_3da66_row0_col0\" class=\"data row0 col0\" >Random Forest Classifier</td>\n",
       "      <td id=\"T_3da66_row0_col1\" class=\"data row0 col1\" >0.6877</td>\n",
       "      <td id=\"T_3da66_row0_col2\" class=\"data row0 col2\" >0.8108</td>\n",
       "      <td id=\"T_3da66_row0_col3\" class=\"data row0 col3\" >0.7952</td>\n",
       "      <td id=\"T_3da66_row0_col4\" class=\"data row0 col4\" >0.1368</td>\n",
       "      <td id=\"T_3da66_row0_col5\" class=\"data row0 col5\" >0.2334</td>\n",
       "      <td id=\"T_3da66_row0_col6\" class=\"data row0 col6\" >0.1463</td>\n",
       "      <td id=\"T_3da66_row0_col7\" class=\"data row0 col7\" >0.2370</td>\n",
       "    </tr>\n",
       "  </tbody>\n",
       "</table>\n"
      ],
      "text/plain": [
       "<pandas.io.formats.style.Styler at 0x2a4360fd288>"
      ]
     },
     "metadata": {},
     "output_type": "display_data"
    }
   ],
   "source": [
    "pred_lgbm=predict_model(tuned_gbc)"
   ]
  },
  {
   "cell_type": "code",
   "execution_count": 122,
   "id": "68af902d",
   "metadata": {},
   "outputs": [
    {
     "data": {
      "text/html": [
       "<style type=\"text/css\">\n",
       "</style>\n",
       "<table id=\"T_58495_\">\n",
       "  <thead>\n",
       "    <tr>\n",
       "      <th class=\"blank level0\" >&nbsp;</th>\n",
       "      <th class=\"col_heading level0 col0\" >Model</th>\n",
       "      <th class=\"col_heading level0 col1\" >Accuracy</th>\n",
       "      <th class=\"col_heading level0 col2\" >AUC</th>\n",
       "      <th class=\"col_heading level0 col3\" >Recall</th>\n",
       "      <th class=\"col_heading level0 col4\" >Prec.</th>\n",
       "      <th class=\"col_heading level0 col5\" >F1</th>\n",
       "      <th class=\"col_heading level0 col6\" >Kappa</th>\n",
       "      <th class=\"col_heading level0 col7\" >MCC</th>\n",
       "    </tr>\n",
       "  </thead>\n",
       "  <tbody>\n",
       "    <tr>\n",
       "      <th id=\"T_58495_level0_row0\" class=\"row_heading level0 row0\" >0</th>\n",
       "      <td id=\"T_58495_row0_col0\" class=\"data row0 col0\" >Light Gradient Boosting Machine</td>\n",
       "      <td id=\"T_58495_row0_col1\" class=\"data row0 col1\" >0.9390</td>\n",
       "      <td id=\"T_58495_row0_col2\" class=\"data row0 col2\" >0.8104</td>\n",
       "      <td id=\"T_58495_row0_col3\" class=\"data row0 col3\" >0.0217</td>\n",
       "      <td id=\"T_58495_row0_col4\" class=\"data row0 col4\" >0.3333</td>\n",
       "      <td id=\"T_58495_row0_col5\" class=\"data row0 col5\" >0.0408</td>\n",
       "      <td id=\"T_58495_row0_col6\" class=\"data row0 col6\" >0.0338</td>\n",
       "      <td id=\"T_58495_row0_col7\" class=\"data row0 col7\" >0.0722</td>\n",
       "    </tr>\n",
       "  </tbody>\n",
       "</table>\n"
      ],
      "text/plain": [
       "<pandas.io.formats.style.Styler at 0x2a43a252108>"
      ]
     },
     "metadata": {},
     "output_type": "display_data"
    }
   ],
   "source": [
    "predunseenlgbm=predict_model(tuned_gbc, data=Unseen)"
   ]
  },
  {
   "cell_type": "code",
   "execution_count": null,
   "id": "9f2e4443",
   "metadata": {},
   "outputs": [],
   "source": []
  },
  {
   "cell_type": "code",
   "execution_count": 100,
   "id": "04255e03",
   "metadata": {},
   "outputs": [
    {
     "data": {
      "text/html": [
       "<style type=\"text/css\">\n",
       "#T_07b2b_row5_col0, #T_07b2b_row5_col1, #T_07b2b_row5_col2, #T_07b2b_row5_col3, #T_07b2b_row5_col4, #T_07b2b_row5_col5, #T_07b2b_row5_col6 {\n",
       "  background: yellow;\n",
       "}\n",
       "</style>\n",
       "<table id=\"T_07b2b_\">\n",
       "  <thead>\n",
       "    <tr>\n",
       "      <th class=\"blank level0\" >&nbsp;</th>\n",
       "      <th class=\"col_heading level0 col0\" >Accuracy</th>\n",
       "      <th class=\"col_heading level0 col1\" >AUC</th>\n",
       "      <th class=\"col_heading level0 col2\" >Recall</th>\n",
       "      <th class=\"col_heading level0 col3\" >Prec.</th>\n",
       "      <th class=\"col_heading level0 col4\" >F1</th>\n",
       "      <th class=\"col_heading level0 col5\" >Kappa</th>\n",
       "      <th class=\"col_heading level0 col6\" >MCC</th>\n",
       "    </tr>\n",
       "    <tr>\n",
       "      <th class=\"index_name level0\" >Fold</th>\n",
       "      <th class=\"blank col0\" >&nbsp;</th>\n",
       "      <th class=\"blank col1\" >&nbsp;</th>\n",
       "      <th class=\"blank col2\" >&nbsp;</th>\n",
       "      <th class=\"blank col3\" >&nbsp;</th>\n",
       "      <th class=\"blank col4\" >&nbsp;</th>\n",
       "      <th class=\"blank col5\" >&nbsp;</th>\n",
       "      <th class=\"blank col6\" >&nbsp;</th>\n",
       "    </tr>\n",
       "  </thead>\n",
       "  <tbody>\n",
       "    <tr>\n",
       "      <th id=\"T_07b2b_level0_row0\" class=\"row_heading level0 row0\" >0</th>\n",
       "      <td id=\"T_07b2b_row0_col0\" class=\"data row0 col0\" >0.9627</td>\n",
       "      <td id=\"T_07b2b_row0_col1\" class=\"data row0 col1\" >0.9845</td>\n",
       "      <td id=\"T_07b2b_row0_col2\" class=\"data row0 col2\" >0.9258</td>\n",
       "      <td id=\"T_07b2b_row0_col3\" class=\"data row0 col3\" >1.0000</td>\n",
       "      <td id=\"T_07b2b_row0_col4\" class=\"data row0 col4\" >0.9615</td>\n",
       "      <td id=\"T_07b2b_row0_col5\" class=\"data row0 col5\" >0.9254</td>\n",
       "      <td id=\"T_07b2b_row0_col6\" class=\"data row0 col6\" >0.9280</td>\n",
       "    </tr>\n",
       "    <tr>\n",
       "      <th id=\"T_07b2b_level0_row1\" class=\"row_heading level0 row1\" >1</th>\n",
       "      <td id=\"T_07b2b_row1_col0\" class=\"data row1 col0\" >0.9631</td>\n",
       "      <td id=\"T_07b2b_row1_col1\" class=\"data row1 col1\" >0.9858</td>\n",
       "      <td id=\"T_07b2b_row1_col2\" class=\"data row1 col2\" >0.9265</td>\n",
       "      <td id=\"T_07b2b_row1_col3\" class=\"data row1 col3\" >1.0000</td>\n",
       "      <td id=\"T_07b2b_row1_col4\" class=\"data row1 col4\" >0.9619</td>\n",
       "      <td id=\"T_07b2b_row1_col5\" class=\"data row1 col5\" >0.9261</td>\n",
       "      <td id=\"T_07b2b_row1_col6\" class=\"data row1 col6\" >0.9287</td>\n",
       "    </tr>\n",
       "    <tr>\n",
       "      <th id=\"T_07b2b_level0_row2\" class=\"row_heading level0 row2\" >2</th>\n",
       "      <td id=\"T_07b2b_row2_col0\" class=\"data row2 col0\" >0.9613</td>\n",
       "      <td id=\"T_07b2b_row2_col1\" class=\"data row2 col1\" >0.9876</td>\n",
       "      <td id=\"T_07b2b_row2_col2\" class=\"data row2 col2\" >0.9230</td>\n",
       "      <td id=\"T_07b2b_row2_col3\" class=\"data row2 col3\" >1.0000</td>\n",
       "      <td id=\"T_07b2b_row2_col4\" class=\"data row2 col4\" >0.9599</td>\n",
       "      <td id=\"T_07b2b_row2_col5\" class=\"data row2 col5\" >0.9226</td>\n",
       "      <td id=\"T_07b2b_row2_col6\" class=\"data row2 col6\" >0.9254</td>\n",
       "    </tr>\n",
       "    <tr>\n",
       "      <th id=\"T_07b2b_level0_row3\" class=\"row_heading level0 row3\" >3</th>\n",
       "      <td id=\"T_07b2b_row3_col0\" class=\"data row3 col0\" >0.9574</td>\n",
       "      <td id=\"T_07b2b_row3_col1\" class=\"data row3 col1\" >0.9833</td>\n",
       "      <td id=\"T_07b2b_row3_col2\" class=\"data row3 col2\" >0.9153</td>\n",
       "      <td id=\"T_07b2b_row3_col3\" class=\"data row3 col3\" >1.0000</td>\n",
       "      <td id=\"T_07b2b_row3_col4\" class=\"data row3 col4\" >0.9558</td>\n",
       "      <td id=\"T_07b2b_row3_col5\" class=\"data row3 col5\" >0.9149</td>\n",
       "      <td id=\"T_07b2b_row3_col6\" class=\"data row3 col6\" >0.9182</td>\n",
       "    </tr>\n",
       "    <tr>\n",
       "      <th id=\"T_07b2b_level0_row4\" class=\"row_heading level0 row4\" >4</th>\n",
       "      <td id=\"T_07b2b_row4_col0\" class=\"data row4 col0\" >0.9592</td>\n",
       "      <td id=\"T_07b2b_row4_col1\" class=\"data row4 col1\" >0.9820</td>\n",
       "      <td id=\"T_07b2b_row4_col2\" class=\"data row4 col2\" >0.9188</td>\n",
       "      <td id=\"T_07b2b_row4_col3\" class=\"data row4 col3\" >1.0000</td>\n",
       "      <td id=\"T_07b2b_row4_col4\" class=\"data row4 col4\" >0.9577</td>\n",
       "      <td id=\"T_07b2b_row4_col5\" class=\"data row4 col5\" >0.9184</td>\n",
       "      <td id=\"T_07b2b_row4_col6\" class=\"data row4 col6\" >0.9214</td>\n",
       "    </tr>\n",
       "    <tr>\n",
       "      <th id=\"T_07b2b_level0_row5\" class=\"row_heading level0 row5\" >Mean</th>\n",
       "      <td id=\"T_07b2b_row5_col0\" class=\"data row5 col0\" >0.9607</td>\n",
       "      <td id=\"T_07b2b_row5_col1\" class=\"data row5 col1\" >0.9846</td>\n",
       "      <td id=\"T_07b2b_row5_col2\" class=\"data row5 col2\" >0.9219</td>\n",
       "      <td id=\"T_07b2b_row5_col3\" class=\"data row5 col3\" >1.0000</td>\n",
       "      <td id=\"T_07b2b_row5_col4\" class=\"data row5 col4\" >0.9593</td>\n",
       "      <td id=\"T_07b2b_row5_col5\" class=\"data row5 col5\" >0.9215</td>\n",
       "      <td id=\"T_07b2b_row5_col6\" class=\"data row5 col6\" >0.9243</td>\n",
       "    </tr>\n",
       "    <tr>\n",
       "      <th id=\"T_07b2b_level0_row6\" class=\"row_heading level0 row6\" >Std</th>\n",
       "      <td id=\"T_07b2b_row6_col0\" class=\"data row6 col0\" >0.0021</td>\n",
       "      <td id=\"T_07b2b_row6_col1\" class=\"data row6 col1\" >0.0020</td>\n",
       "      <td id=\"T_07b2b_row6_col2\" class=\"data row6 col2\" >0.0043</td>\n",
       "      <td id=\"T_07b2b_row6_col3\" class=\"data row6 col3\" >0.0000</td>\n",
       "      <td id=\"T_07b2b_row6_col4\" class=\"data row6 col4\" >0.0023</td>\n",
       "      <td id=\"T_07b2b_row6_col5\" class=\"data row6 col5\" >0.0043</td>\n",
       "      <td id=\"T_07b2b_row6_col6\" class=\"data row6 col6\" >0.0040</td>\n",
       "    </tr>\n",
       "  </tbody>\n",
       "</table>\n"
      ],
      "text/plain": [
       "<pandas.io.formats.style.Styler at 0x27a21773708>"
      ]
     },
     "metadata": {},
     "output_type": "display_data"
    },
    {
     "name": "stdout",
     "output_type": "stream",
     "text": [
      "RandomForestClassifier(bootstrap=True, ccp_alpha=0.0,\n",
      "                       class_weight='balanced_subsample', criterion='gini',\n",
      "                       max_depth=8, max_features='log2', max_leaf_nodes=None,\n",
      "                       max_samples=None, min_impurity_decrease=0.0001,\n",
      "                       min_impurity_split=None, min_samples_leaf=4,\n",
      "                       min_samples_split=10, min_weight_fraction_leaf=0.0,\n",
      "                       n_estimators=160, n_jobs=-1, oob_score=False,\n",
      "                       random_state=1122, verbose=0, warm_start=False)\n"
     ]
    }
   ],
   "source": [
    "smote_rfp = create_model('rf',fold=5)\n",
    "tuned_smote_rfp=tune_model(smote_rf,optimize='Precision',fold=5)\n",
    "print(tuned_smote_rfp)"
   ]
  },
  {
   "cell_type": "code",
   "execution_count": 97,
   "id": "0be8e38c",
   "metadata": {},
   "outputs": [
    {
     "data": {
      "text/html": [
       "<style type=\"text/css\">\n",
       "</style>\n",
       "<table id=\"T_404f3_\">\n",
       "  <thead>\n",
       "    <tr>\n",
       "      <th class=\"blank level0\" >&nbsp;</th>\n",
       "      <th class=\"col_heading level0 col0\" >Model</th>\n",
       "      <th class=\"col_heading level0 col1\" >Accuracy</th>\n",
       "      <th class=\"col_heading level0 col2\" >AUC</th>\n",
       "      <th class=\"col_heading level0 col3\" >Recall</th>\n",
       "      <th class=\"col_heading level0 col4\" >Prec.</th>\n",
       "      <th class=\"col_heading level0 col5\" >F1</th>\n",
       "      <th class=\"col_heading level0 col6\" >Kappa</th>\n",
       "      <th class=\"col_heading level0 col7\" >MCC</th>\n",
       "    </tr>\n",
       "  </thead>\n",
       "  <tbody>\n",
       "    <tr>\n",
       "      <th id=\"T_404f3_level0_row0\" class=\"row_heading level0 row0\" >0</th>\n",
       "      <td id=\"T_404f3_row0_col0\" class=\"data row0 col0\" >Random Forest Classifier</td>\n",
       "      <td id=\"T_404f3_row0_col1\" class=\"data row0 col1\" >0.9652</td>\n",
       "      <td id=\"T_404f3_row0_col2\" class=\"data row0 col2\" >0.9674</td>\n",
       "      <td id=\"T_404f3_row0_col3\" class=\"data row0 col3\" >0.9295</td>\n",
       "      <td id=\"T_404f3_row0_col4\" class=\"data row0 col4\" >1.0000</td>\n",
       "      <td id=\"T_404f3_row0_col5\" class=\"data row0 col5\" >0.9634</td>\n",
       "      <td id=\"T_404f3_row0_col6\" class=\"data row0 col6\" >0.9303</td>\n",
       "      <td id=\"T_404f3_row0_col7\" class=\"data row0 col7\" >0.9326</td>\n",
       "    </tr>\n",
       "  </tbody>\n",
       "</table>\n"
      ],
      "text/plain": [
       "<pandas.io.formats.style.Styler at 0x27a1f519348>"
      ]
     },
     "metadata": {},
     "output_type": "display_data"
    }
   ],
   "source": [
    "pred_smote_rfp=predict_model(tuned_smote_rfp)\n"
   ]
  },
  {
   "cell_type": "code",
   "execution_count": 101,
   "id": "01d592e5",
   "metadata": {},
   "outputs": [
    {
     "data": {
      "text/html": [
       "<style type=\"text/css\">\n",
       "</style>\n",
       "<table id=\"T_c9182_\">\n",
       "  <thead>\n",
       "    <tr>\n",
       "      <th class=\"blank level0\" >&nbsp;</th>\n",
       "      <th class=\"col_heading level0 col0\" >Model</th>\n",
       "      <th class=\"col_heading level0 col1\" >Accuracy</th>\n",
       "      <th class=\"col_heading level0 col2\" >AUC</th>\n",
       "      <th class=\"col_heading level0 col3\" >Recall</th>\n",
       "      <th class=\"col_heading level0 col4\" >Prec.</th>\n",
       "      <th class=\"col_heading level0 col5\" >F1</th>\n",
       "      <th class=\"col_heading level0 col6\" >Kappa</th>\n",
       "      <th class=\"col_heading level0 col7\" >MCC</th>\n",
       "    </tr>\n",
       "  </thead>\n",
       "  <tbody>\n",
       "    <tr>\n",
       "      <th id=\"T_c9182_level0_row0\" class=\"row_heading level0 row0\" >0</th>\n",
       "      <td id=\"T_c9182_row0_col0\" class=\"data row0 col0\" >Random Forest Classifier</td>\n",
       "      <td id=\"T_c9182_row0_col1\" class=\"data row0 col1\" >0.9401</td>\n",
       "      <td id=\"T_c9182_row0_col2\" class=\"data row0 col2\" >0.5355</td>\n",
       "      <td id=\"T_c9182_row0_col3\" class=\"data row0 col3\" >0.0000</td>\n",
       "      <td id=\"T_c9182_row0_col4\" class=\"data row0 col4\" >0.0000</td>\n",
       "      <td id=\"T_c9182_row0_col5\" class=\"data row0 col5\" >0.0000</td>\n",
       "      <td id=\"T_c9182_row0_col6\" class=\"data row0 col6\" >0.0000</td>\n",
       "      <td id=\"T_c9182_row0_col7\" class=\"data row0 col7\" >0.0000</td>\n",
       "    </tr>\n",
       "  </tbody>\n",
       "</table>\n"
      ],
      "text/plain": [
       "<pandas.io.formats.style.Styler at 0x27a20f1c8c8>"
      ]
     },
     "metadata": {},
     "output_type": "display_data"
    },
    {
     "name": "stdout",
     "output_type": "stream",
     "text": [
      "      Month_Aug  Month_Dec  Month_Feb  Month_Jan  Month_Jul  Month_Jun  \\\n",
      "3390          0          0          0          0          0          0   \n",
      "\n",
      "      Month_Mar  Month_May  Month_Nov  Month_Oct  ...  Deductible_500  \\\n",
      "3390          0          0          0          1  ...               0   \n",
      "\n",
      "      Deductible_700  DriverRating_2  DriverRating_3  DriverRating_4  \\\n",
      "3390               0               1               0               0   \n",
      "\n",
      "      Year_1995  Year_1996  FraudFound_P  Label   Score  \n",
      "3390          0          0             0      0  0.5928  \n",
      "\n",
      "[1 rows x 138 columns]\n"
     ]
    }
   ],
   "source": [
    "predsmoterfp=predict_model(tuned_smote_rf, data=Test)\n",
    "print(predsmoterfp.head(1))"
   ]
  },
  {
   "cell_type": "code",
   "execution_count": 104,
   "id": "7ef6ffbd",
   "metadata": {},
   "outputs": [
    {
     "data": {
      "text/plain": [
       "0    4349\n",
       "1     277\n",
       "Name: FraudFound_P, dtype: int64"
      ]
     },
     "execution_count": 104,
     "metadata": {},
     "output_type": "execute_result"
    }
   ],
   "source": [
    "y_test.value_counts()"
   ]
  },
  {
   "cell_type": "code",
   "execution_count": 93,
   "id": "2cfd41de",
   "metadata": {},
   "outputs": [
    {
     "data": {
      "text/html": [
       "<style type=\"text/css\">\n",
       "#T_d12f5_row44_col1, #T_d12f5_row58_col1 {\n",
       "  background-color: lightgreen;\n",
       "}\n",
       "</style>\n",
       "<table id=\"T_d12f5\">\n",
       "  <thead>\n",
       "    <tr>\n",
       "      <th class=\"blank level0\" >&nbsp;</th>\n",
       "      <th id=\"T_d12f5_level0_col0\" class=\"col_heading level0 col0\" >Description</th>\n",
       "      <th id=\"T_d12f5_level0_col1\" class=\"col_heading level0 col1\" >Value</th>\n",
       "    </tr>\n",
       "  </thead>\n",
       "  <tbody>\n",
       "    <tr>\n",
       "      <th id=\"T_d12f5_level0_row0\" class=\"row_heading level0 row0\" >0</th>\n",
       "      <td id=\"T_d12f5_row0_col0\" class=\"data row0 col0\" >session_id</td>\n",
       "      <td id=\"T_d12f5_row0_col1\" class=\"data row0 col1\" >1122</td>\n",
       "    </tr>\n",
       "    <tr>\n",
       "      <th id=\"T_d12f5_level0_row1\" class=\"row_heading level0 row1\" >1</th>\n",
       "      <td id=\"T_d12f5_row1_col0\" class=\"data row1 col0\" >Target</td>\n",
       "      <td id=\"T_d12f5_row1_col1\" class=\"data row1 col1\" >FraudFound_P</td>\n",
       "    </tr>\n",
       "    <tr>\n",
       "      <th id=\"T_d12f5_level0_row2\" class=\"row_heading level0 row2\" >2</th>\n",
       "      <td id=\"T_d12f5_row2_col0\" class=\"data row2 col0\" >Target Type</td>\n",
       "      <td id=\"T_d12f5_row2_col1\" class=\"data row2 col1\" >Binary</td>\n",
       "    </tr>\n",
       "    <tr>\n",
       "      <th id=\"T_d12f5_level0_row3\" class=\"row_heading level0 row3\" >3</th>\n",
       "      <td id=\"T_d12f5_row3_col0\" class=\"data row3 col0\" >Label Encoded</td>\n",
       "      <td id=\"T_d12f5_row3_col1\" class=\"data row3 col1\" >None</td>\n",
       "    </tr>\n",
       "    <tr>\n",
       "      <th id=\"T_d12f5_level0_row4\" class=\"row_heading level0 row4\" >4</th>\n",
       "      <td id=\"T_d12f5_row4_col0\" class=\"data row4 col0\" >Original Data</td>\n",
       "      <td id=\"T_d12f5_row4_col1\" class=\"data row4 col1\" >(20269, 136)</td>\n",
       "    </tr>\n",
       "    <tr>\n",
       "      <th id=\"T_d12f5_level0_row5\" class=\"row_heading level0 row5\" >5</th>\n",
       "      <td id=\"T_d12f5_row5_col0\" class=\"data row5 col0\" >Missing Values</td>\n",
       "      <td id=\"T_d12f5_row5_col1\" class=\"data row5 col1\" >False</td>\n",
       "    </tr>\n",
       "    <tr>\n",
       "      <th id=\"T_d12f5_level0_row6\" class=\"row_heading level0 row6\" >6</th>\n",
       "      <td id=\"T_d12f5_row6_col0\" class=\"data row6 col0\" >Numeric Features</td>\n",
       "      <td id=\"T_d12f5_row6_col1\" class=\"data row6 col1\" >135</td>\n",
       "    </tr>\n",
       "    <tr>\n",
       "      <th id=\"T_d12f5_level0_row7\" class=\"row_heading level0 row7\" >7</th>\n",
       "      <td id=\"T_d12f5_row7_col0\" class=\"data row7 col0\" >Categorical Features</td>\n",
       "      <td id=\"T_d12f5_row7_col1\" class=\"data row7 col1\" >0</td>\n",
       "    </tr>\n",
       "    <tr>\n",
       "      <th id=\"T_d12f5_level0_row8\" class=\"row_heading level0 row8\" >8</th>\n",
       "      <td id=\"T_d12f5_row8_col0\" class=\"data row8 col0\" >Ordinal Features</td>\n",
       "      <td id=\"T_d12f5_row8_col1\" class=\"data row8 col1\" >False</td>\n",
       "    </tr>\n",
       "    <tr>\n",
       "      <th id=\"T_d12f5_level0_row9\" class=\"row_heading level0 row9\" >9</th>\n",
       "      <td id=\"T_d12f5_row9_col0\" class=\"data row9 col0\" >High Cardinality Features</td>\n",
       "      <td id=\"T_d12f5_row9_col1\" class=\"data row9 col1\" >False</td>\n",
       "    </tr>\n",
       "    <tr>\n",
       "      <th id=\"T_d12f5_level0_row10\" class=\"row_heading level0 row10\" >10</th>\n",
       "      <td id=\"T_d12f5_row10_col0\" class=\"data row10 col0\" >High Cardinality Method</td>\n",
       "      <td id=\"T_d12f5_row10_col1\" class=\"data row10 col1\" >None</td>\n",
       "    </tr>\n",
       "    <tr>\n",
       "      <th id=\"T_d12f5_level0_row11\" class=\"row_heading level0 row11\" >11</th>\n",
       "      <td id=\"T_d12f5_row11_col0\" class=\"data row11 col0\" >Transformed Train Set</td>\n",
       "      <td id=\"T_d12f5_row11_col1\" class=\"data row11 col1\" >(14188, 134)</td>\n",
       "    </tr>\n",
       "    <tr>\n",
       "      <th id=\"T_d12f5_level0_row12\" class=\"row_heading level0 row12\" >12</th>\n",
       "      <td id=\"T_d12f5_row12_col0\" class=\"data row12 col0\" >Transformed Test Set</td>\n",
       "      <td id=\"T_d12f5_row12_col1\" class=\"data row12 col1\" >(6081, 134)</td>\n",
       "    </tr>\n",
       "    <tr>\n",
       "      <th id=\"T_d12f5_level0_row13\" class=\"row_heading level0 row13\" >13</th>\n",
       "      <td id=\"T_d12f5_row13_col0\" class=\"data row13 col0\" >Shuffle Train-Test</td>\n",
       "      <td id=\"T_d12f5_row13_col1\" class=\"data row13 col1\" >True</td>\n",
       "    </tr>\n",
       "    <tr>\n",
       "      <th id=\"T_d12f5_level0_row14\" class=\"row_heading level0 row14\" >14</th>\n",
       "      <td id=\"T_d12f5_row14_col0\" class=\"data row14 col0\" >Stratify Train-Test</td>\n",
       "      <td id=\"T_d12f5_row14_col1\" class=\"data row14 col1\" >False</td>\n",
       "    </tr>\n",
       "    <tr>\n",
       "      <th id=\"T_d12f5_level0_row15\" class=\"row_heading level0 row15\" >15</th>\n",
       "      <td id=\"T_d12f5_row15_col0\" class=\"data row15 col0\" >Fold Generator</td>\n",
       "      <td id=\"T_d12f5_row15_col1\" class=\"data row15 col1\" >StratifiedKFold</td>\n",
       "    </tr>\n",
       "    <tr>\n",
       "      <th id=\"T_d12f5_level0_row16\" class=\"row_heading level0 row16\" >16</th>\n",
       "      <td id=\"T_d12f5_row16_col0\" class=\"data row16 col0\" >Fold Number</td>\n",
       "      <td id=\"T_d12f5_row16_col1\" class=\"data row16 col1\" >10</td>\n",
       "    </tr>\n",
       "    <tr>\n",
       "      <th id=\"T_d12f5_level0_row17\" class=\"row_heading level0 row17\" >17</th>\n",
       "      <td id=\"T_d12f5_row17_col0\" class=\"data row17 col0\" >CPU Jobs</td>\n",
       "      <td id=\"T_d12f5_row17_col1\" class=\"data row17 col1\" >-1</td>\n",
       "    </tr>\n",
       "    <tr>\n",
       "      <th id=\"T_d12f5_level0_row18\" class=\"row_heading level0 row18\" >18</th>\n",
       "      <td id=\"T_d12f5_row18_col0\" class=\"data row18 col0\" >Use GPU</td>\n",
       "      <td id=\"T_d12f5_row18_col1\" class=\"data row18 col1\" >False</td>\n",
       "    </tr>\n",
       "    <tr>\n",
       "      <th id=\"T_d12f5_level0_row19\" class=\"row_heading level0 row19\" >19</th>\n",
       "      <td id=\"T_d12f5_row19_col0\" class=\"data row19 col0\" >Log Experiment</td>\n",
       "      <td id=\"T_d12f5_row19_col1\" class=\"data row19 col1\" >False</td>\n",
       "    </tr>\n",
       "    <tr>\n",
       "      <th id=\"T_d12f5_level0_row20\" class=\"row_heading level0 row20\" >20</th>\n",
       "      <td id=\"T_d12f5_row20_col0\" class=\"data row20 col0\" >Experiment Name</td>\n",
       "      <td id=\"T_d12f5_row20_col1\" class=\"data row20 col1\" >clf-default-name</td>\n",
       "    </tr>\n",
       "    <tr>\n",
       "      <th id=\"T_d12f5_level0_row21\" class=\"row_heading level0 row21\" >21</th>\n",
       "      <td id=\"T_d12f5_row21_col0\" class=\"data row21 col0\" >USI</td>\n",
       "      <td id=\"T_d12f5_row21_col1\" class=\"data row21 col1\" >70db</td>\n",
       "    </tr>\n",
       "    <tr>\n",
       "      <th id=\"T_d12f5_level0_row22\" class=\"row_heading level0 row22\" >22</th>\n",
       "      <td id=\"T_d12f5_row22_col0\" class=\"data row22 col0\" >Imputation Type</td>\n",
       "      <td id=\"T_d12f5_row22_col1\" class=\"data row22 col1\" >simple</td>\n",
       "    </tr>\n",
       "    <tr>\n",
       "      <th id=\"T_d12f5_level0_row23\" class=\"row_heading level0 row23\" >23</th>\n",
       "      <td id=\"T_d12f5_row23_col0\" class=\"data row23 col0\" >Iterative Imputation Iteration</td>\n",
       "      <td id=\"T_d12f5_row23_col1\" class=\"data row23 col1\" >None</td>\n",
       "    </tr>\n",
       "    <tr>\n",
       "      <th id=\"T_d12f5_level0_row24\" class=\"row_heading level0 row24\" >24</th>\n",
       "      <td id=\"T_d12f5_row24_col0\" class=\"data row24 col0\" >Numeric Imputer</td>\n",
       "      <td id=\"T_d12f5_row24_col1\" class=\"data row24 col1\" >mean</td>\n",
       "    </tr>\n",
       "    <tr>\n",
       "      <th id=\"T_d12f5_level0_row25\" class=\"row_heading level0 row25\" >25</th>\n",
       "      <td id=\"T_d12f5_row25_col0\" class=\"data row25 col0\" >Iterative Imputation Numeric Model</td>\n",
       "      <td id=\"T_d12f5_row25_col1\" class=\"data row25 col1\" >None</td>\n",
       "    </tr>\n",
       "    <tr>\n",
       "      <th id=\"T_d12f5_level0_row26\" class=\"row_heading level0 row26\" >26</th>\n",
       "      <td id=\"T_d12f5_row26_col0\" class=\"data row26 col0\" >Categorical Imputer</td>\n",
       "      <td id=\"T_d12f5_row26_col1\" class=\"data row26 col1\" >constant</td>\n",
       "    </tr>\n",
       "    <tr>\n",
       "      <th id=\"T_d12f5_level0_row27\" class=\"row_heading level0 row27\" >27</th>\n",
       "      <td id=\"T_d12f5_row27_col0\" class=\"data row27 col0\" >Iterative Imputation Categorical Model</td>\n",
       "      <td id=\"T_d12f5_row27_col1\" class=\"data row27 col1\" >None</td>\n",
       "    </tr>\n",
       "    <tr>\n",
       "      <th id=\"T_d12f5_level0_row28\" class=\"row_heading level0 row28\" >28</th>\n",
       "      <td id=\"T_d12f5_row28_col0\" class=\"data row28 col0\" >Unknown Categoricals Handling</td>\n",
       "      <td id=\"T_d12f5_row28_col1\" class=\"data row28 col1\" >least_frequent</td>\n",
       "    </tr>\n",
       "    <tr>\n",
       "      <th id=\"T_d12f5_level0_row29\" class=\"row_heading level0 row29\" >29</th>\n",
       "      <td id=\"T_d12f5_row29_col0\" class=\"data row29 col0\" >Normalize</td>\n",
       "      <td id=\"T_d12f5_row29_col1\" class=\"data row29 col1\" >False</td>\n",
       "    </tr>\n",
       "    <tr>\n",
       "      <th id=\"T_d12f5_level0_row30\" class=\"row_heading level0 row30\" >30</th>\n",
       "      <td id=\"T_d12f5_row30_col0\" class=\"data row30 col0\" >Normalize Method</td>\n",
       "      <td id=\"T_d12f5_row30_col1\" class=\"data row30 col1\" >None</td>\n",
       "    </tr>\n",
       "    <tr>\n",
       "      <th id=\"T_d12f5_level0_row31\" class=\"row_heading level0 row31\" >31</th>\n",
       "      <td id=\"T_d12f5_row31_col0\" class=\"data row31 col0\" >Transformation</td>\n",
       "      <td id=\"T_d12f5_row31_col1\" class=\"data row31 col1\" >False</td>\n",
       "    </tr>\n",
       "    <tr>\n",
       "      <th id=\"T_d12f5_level0_row32\" class=\"row_heading level0 row32\" >32</th>\n",
       "      <td id=\"T_d12f5_row32_col0\" class=\"data row32 col0\" >Transformation Method</td>\n",
       "      <td id=\"T_d12f5_row32_col1\" class=\"data row32 col1\" >None</td>\n",
       "    </tr>\n",
       "    <tr>\n",
       "      <th id=\"T_d12f5_level0_row33\" class=\"row_heading level0 row33\" >33</th>\n",
       "      <td id=\"T_d12f5_row33_col0\" class=\"data row33 col0\" >PCA</td>\n",
       "      <td id=\"T_d12f5_row33_col1\" class=\"data row33 col1\" >False</td>\n",
       "    </tr>\n",
       "    <tr>\n",
       "      <th id=\"T_d12f5_level0_row34\" class=\"row_heading level0 row34\" >34</th>\n",
       "      <td id=\"T_d12f5_row34_col0\" class=\"data row34 col0\" >PCA Method</td>\n",
       "      <td id=\"T_d12f5_row34_col1\" class=\"data row34 col1\" >None</td>\n",
       "    </tr>\n",
       "    <tr>\n",
       "      <th id=\"T_d12f5_level0_row35\" class=\"row_heading level0 row35\" >35</th>\n",
       "      <td id=\"T_d12f5_row35_col0\" class=\"data row35 col0\" >PCA Components</td>\n",
       "      <td id=\"T_d12f5_row35_col1\" class=\"data row35 col1\" >None</td>\n",
       "    </tr>\n",
       "    <tr>\n",
       "      <th id=\"T_d12f5_level0_row36\" class=\"row_heading level0 row36\" >36</th>\n",
       "      <td id=\"T_d12f5_row36_col0\" class=\"data row36 col0\" >Ignore Low Variance</td>\n",
       "      <td id=\"T_d12f5_row36_col1\" class=\"data row36 col1\" >False</td>\n",
       "    </tr>\n",
       "    <tr>\n",
       "      <th id=\"T_d12f5_level0_row37\" class=\"row_heading level0 row37\" >37</th>\n",
       "      <td id=\"T_d12f5_row37_col0\" class=\"data row37 col0\" >Combine Rare Levels</td>\n",
       "      <td id=\"T_d12f5_row37_col1\" class=\"data row37 col1\" >False</td>\n",
       "    </tr>\n",
       "    <tr>\n",
       "      <th id=\"T_d12f5_level0_row38\" class=\"row_heading level0 row38\" >38</th>\n",
       "      <td id=\"T_d12f5_row38_col0\" class=\"data row38 col0\" >Rare Level Threshold</td>\n",
       "      <td id=\"T_d12f5_row38_col1\" class=\"data row38 col1\" >None</td>\n",
       "    </tr>\n",
       "    <tr>\n",
       "      <th id=\"T_d12f5_level0_row39\" class=\"row_heading level0 row39\" >39</th>\n",
       "      <td id=\"T_d12f5_row39_col0\" class=\"data row39 col0\" >Numeric Binning</td>\n",
       "      <td id=\"T_d12f5_row39_col1\" class=\"data row39 col1\" >False</td>\n",
       "    </tr>\n",
       "    <tr>\n",
       "      <th id=\"T_d12f5_level0_row40\" class=\"row_heading level0 row40\" >40</th>\n",
       "      <td id=\"T_d12f5_row40_col0\" class=\"data row40 col0\" >Remove Outliers</td>\n",
       "      <td id=\"T_d12f5_row40_col1\" class=\"data row40 col1\" >False</td>\n",
       "    </tr>\n",
       "    <tr>\n",
       "      <th id=\"T_d12f5_level0_row41\" class=\"row_heading level0 row41\" >41</th>\n",
       "      <td id=\"T_d12f5_row41_col0\" class=\"data row41 col0\" >Outliers Threshold</td>\n",
       "      <td id=\"T_d12f5_row41_col1\" class=\"data row41 col1\" >None</td>\n",
       "    </tr>\n",
       "    <tr>\n",
       "      <th id=\"T_d12f5_level0_row42\" class=\"row_heading level0 row42\" >42</th>\n",
       "      <td id=\"T_d12f5_row42_col0\" class=\"data row42 col0\" >Remove Multicollinearity</td>\n",
       "      <td id=\"T_d12f5_row42_col1\" class=\"data row42 col1\" >False</td>\n",
       "    </tr>\n",
       "    <tr>\n",
       "      <th id=\"T_d12f5_level0_row43\" class=\"row_heading level0 row43\" >43</th>\n",
       "      <td id=\"T_d12f5_row43_col0\" class=\"data row43 col0\" >Multicollinearity Threshold</td>\n",
       "      <td id=\"T_d12f5_row43_col1\" class=\"data row43 col1\" >None</td>\n",
       "    </tr>\n",
       "    <tr>\n",
       "      <th id=\"T_d12f5_level0_row44\" class=\"row_heading level0 row44\" >44</th>\n",
       "      <td id=\"T_d12f5_row44_col0\" class=\"data row44 col0\" >Remove Perfect Collinearity</td>\n",
       "      <td id=\"T_d12f5_row44_col1\" class=\"data row44 col1\" >True</td>\n",
       "    </tr>\n",
       "    <tr>\n",
       "      <th id=\"T_d12f5_level0_row45\" class=\"row_heading level0 row45\" >45</th>\n",
       "      <td id=\"T_d12f5_row45_col0\" class=\"data row45 col0\" >Clustering</td>\n",
       "      <td id=\"T_d12f5_row45_col1\" class=\"data row45 col1\" >False</td>\n",
       "    </tr>\n",
       "    <tr>\n",
       "      <th id=\"T_d12f5_level0_row46\" class=\"row_heading level0 row46\" >46</th>\n",
       "      <td id=\"T_d12f5_row46_col0\" class=\"data row46 col0\" >Clustering Iteration</td>\n",
       "      <td id=\"T_d12f5_row46_col1\" class=\"data row46 col1\" >None</td>\n",
       "    </tr>\n",
       "    <tr>\n",
       "      <th id=\"T_d12f5_level0_row47\" class=\"row_heading level0 row47\" >47</th>\n",
       "      <td id=\"T_d12f5_row47_col0\" class=\"data row47 col0\" >Polynomial Features</td>\n",
       "      <td id=\"T_d12f5_row47_col1\" class=\"data row47 col1\" >False</td>\n",
       "    </tr>\n",
       "    <tr>\n",
       "      <th id=\"T_d12f5_level0_row48\" class=\"row_heading level0 row48\" >48</th>\n",
       "      <td id=\"T_d12f5_row48_col0\" class=\"data row48 col0\" >Polynomial Degree</td>\n",
       "      <td id=\"T_d12f5_row48_col1\" class=\"data row48 col1\" >None</td>\n",
       "    </tr>\n",
       "    <tr>\n",
       "      <th id=\"T_d12f5_level0_row49\" class=\"row_heading level0 row49\" >49</th>\n",
       "      <td id=\"T_d12f5_row49_col0\" class=\"data row49 col0\" >Trignometry Features</td>\n",
       "      <td id=\"T_d12f5_row49_col1\" class=\"data row49 col1\" >False</td>\n",
       "    </tr>\n",
       "    <tr>\n",
       "      <th id=\"T_d12f5_level0_row50\" class=\"row_heading level0 row50\" >50</th>\n",
       "      <td id=\"T_d12f5_row50_col0\" class=\"data row50 col0\" >Polynomial Threshold</td>\n",
       "      <td id=\"T_d12f5_row50_col1\" class=\"data row50 col1\" >None</td>\n",
       "    </tr>\n",
       "    <tr>\n",
       "      <th id=\"T_d12f5_level0_row51\" class=\"row_heading level0 row51\" >51</th>\n",
       "      <td id=\"T_d12f5_row51_col0\" class=\"data row51 col0\" >Group Features</td>\n",
       "      <td id=\"T_d12f5_row51_col1\" class=\"data row51 col1\" >False</td>\n",
       "    </tr>\n",
       "    <tr>\n",
       "      <th id=\"T_d12f5_level0_row52\" class=\"row_heading level0 row52\" >52</th>\n",
       "      <td id=\"T_d12f5_row52_col0\" class=\"data row52 col0\" >Feature Selection</td>\n",
       "      <td id=\"T_d12f5_row52_col1\" class=\"data row52 col1\" >False</td>\n",
       "    </tr>\n",
       "    <tr>\n",
       "      <th id=\"T_d12f5_level0_row53\" class=\"row_heading level0 row53\" >53</th>\n",
       "      <td id=\"T_d12f5_row53_col0\" class=\"data row53 col0\" >Feature Selection Method</td>\n",
       "      <td id=\"T_d12f5_row53_col1\" class=\"data row53 col1\" >classic</td>\n",
       "    </tr>\n",
       "    <tr>\n",
       "      <th id=\"T_d12f5_level0_row54\" class=\"row_heading level0 row54\" >54</th>\n",
       "      <td id=\"T_d12f5_row54_col0\" class=\"data row54 col0\" >Features Selection Threshold</td>\n",
       "      <td id=\"T_d12f5_row54_col1\" class=\"data row54 col1\" >None</td>\n",
       "    </tr>\n",
       "    <tr>\n",
       "      <th id=\"T_d12f5_level0_row55\" class=\"row_heading level0 row55\" >55</th>\n",
       "      <td id=\"T_d12f5_row55_col0\" class=\"data row55 col0\" >Feature Interaction</td>\n",
       "      <td id=\"T_d12f5_row55_col1\" class=\"data row55 col1\" >False</td>\n",
       "    </tr>\n",
       "    <tr>\n",
       "      <th id=\"T_d12f5_level0_row56\" class=\"row_heading level0 row56\" >56</th>\n",
       "      <td id=\"T_d12f5_row56_col0\" class=\"data row56 col0\" >Feature Ratio</td>\n",
       "      <td id=\"T_d12f5_row56_col1\" class=\"data row56 col1\" >False</td>\n",
       "    </tr>\n",
       "    <tr>\n",
       "      <th id=\"T_d12f5_level0_row57\" class=\"row_heading level0 row57\" >57</th>\n",
       "      <td id=\"T_d12f5_row57_col0\" class=\"data row57 col0\" >Interaction Threshold</td>\n",
       "      <td id=\"T_d12f5_row57_col1\" class=\"data row57 col1\" >None</td>\n",
       "    </tr>\n",
       "    <tr>\n",
       "      <th id=\"T_d12f5_level0_row58\" class=\"row_heading level0 row58\" >58</th>\n",
       "      <td id=\"T_d12f5_row58_col0\" class=\"data row58 col0\" >Fix Imbalance</td>\n",
       "      <td id=\"T_d12f5_row58_col1\" class=\"data row58 col1\" >True</td>\n",
       "    </tr>\n",
       "    <tr>\n",
       "      <th id=\"T_d12f5_level0_row59\" class=\"row_heading level0 row59\" >59</th>\n",
       "      <td id=\"T_d12f5_row59_col0\" class=\"data row59 col0\" >Fix Imbalance Method</td>\n",
       "      <td id=\"T_d12f5_row59_col1\" class=\"data row59 col1\" >SMOTE</td>\n",
       "    </tr>\n",
       "  </tbody>\n",
       "</table>\n"
      ],
      "text/plain": [
       "<pandas.io.formats.style.Styler at 0x14d8f4a4af0>"
      ]
     },
     "metadata": {},
     "output_type": "display_data"
    }
   ],
   "source": [
    "\n",
    "from pycaret.classification import *\n",
    "s = setup(Adasyn, target = 'FraudFound_P',fix_imbalance = True,session_id=1122)"
   ]
  },
  {
   "cell_type": "code",
   "execution_count": 62,
   "id": "71749cfa",
   "metadata": {},
   "outputs": [
    {
     "data": {
      "text/html": [
       "<style type=\"text/css\">\n",
       "#T_0c118_ th {\n",
       "  text-align: left;\n",
       "}\n",
       "#T_0c118_row0_col0, #T_0c118_row0_col2, #T_0c118_row0_col3, #T_0c118_row0_col5, #T_0c118_row0_col6, #T_0c118_row1_col0, #T_0c118_row1_col1, #T_0c118_row1_col2, #T_0c118_row1_col3, #T_0c118_row1_col4, #T_0c118_row1_col5, #T_0c118_row1_col6, #T_0c118_row1_col7, #T_0c118_row2_col0, #T_0c118_row2_col1, #T_0c118_row2_col3, #T_0c118_row2_col4, #T_0c118_row2_col5, #T_0c118_row2_col6, #T_0c118_row2_col7, #T_0c118_row3_col0, #T_0c118_row3_col1, #T_0c118_row3_col2, #T_0c118_row3_col3, #T_0c118_row3_col4, #T_0c118_row3_col5, #T_0c118_row3_col6, #T_0c118_row3_col7, #T_0c118_row4_col0, #T_0c118_row4_col1, #T_0c118_row4_col2, #T_0c118_row4_col3, #T_0c118_row4_col4, #T_0c118_row4_col5, #T_0c118_row4_col6, #T_0c118_row4_col7, #T_0c118_row5_col0, #T_0c118_row5_col1, #T_0c118_row5_col2, #T_0c118_row5_col3, #T_0c118_row5_col4, #T_0c118_row5_col5, #T_0c118_row5_col6, #T_0c118_row5_col7, #T_0c118_row6_col0, #T_0c118_row6_col1, #T_0c118_row6_col2, #T_0c118_row6_col3, #T_0c118_row6_col4, #T_0c118_row6_col5, #T_0c118_row6_col6, #T_0c118_row6_col7, #T_0c118_row7_col0, #T_0c118_row7_col1, #T_0c118_row7_col2, #T_0c118_row7_col3, #T_0c118_row7_col4, #T_0c118_row7_col5, #T_0c118_row7_col6, #T_0c118_row7_col7, #T_0c118_row8_col0, #T_0c118_row8_col1, #T_0c118_row8_col2, #T_0c118_row8_col3, #T_0c118_row8_col4, #T_0c118_row8_col5, #T_0c118_row8_col6, #T_0c118_row8_col7, #T_0c118_row9_col0, #T_0c118_row9_col1, #T_0c118_row9_col2, #T_0c118_row9_col3, #T_0c118_row9_col4, #T_0c118_row9_col5, #T_0c118_row9_col6, #T_0c118_row9_col7, #T_0c118_row10_col0, #T_0c118_row10_col1, #T_0c118_row10_col2, #T_0c118_row10_col3, #T_0c118_row10_col4, #T_0c118_row10_col5, #T_0c118_row10_col6, #T_0c118_row10_col7, #T_0c118_row11_col0, #T_0c118_row11_col1, #T_0c118_row11_col2, #T_0c118_row11_col3, #T_0c118_row11_col4, #T_0c118_row11_col5, #T_0c118_row11_col6, #T_0c118_row11_col7, #T_0c118_row12_col0, #T_0c118_row12_col1, #T_0c118_row12_col2, #T_0c118_row12_col3, #T_0c118_row12_col4, #T_0c118_row12_col5, #T_0c118_row12_col6, #T_0c118_row12_col7, #T_0c118_row13_col0, #T_0c118_row13_col1, #T_0c118_row13_col2, #T_0c118_row13_col4, #T_0c118_row13_col7 {\n",
       "  text-align: left;\n",
       "}\n",
       "#T_0c118_row0_col1, #T_0c118_row0_col4, #T_0c118_row0_col7, #T_0c118_row2_col2, #T_0c118_row13_col3, #T_0c118_row13_col5, #T_0c118_row13_col6 {\n",
       "  text-align: left;\n",
       "  background-color: yellow;\n",
       "}\n",
       "#T_0c118_row0_col8, #T_0c118_row1_col8, #T_0c118_row2_col8, #T_0c118_row3_col8, #T_0c118_row4_col8, #T_0c118_row5_col8, #T_0c118_row7_col8, #T_0c118_row8_col8, #T_0c118_row9_col8, #T_0c118_row10_col8, #T_0c118_row11_col8, #T_0c118_row12_col8, #T_0c118_row13_col8 {\n",
       "  text-align: left;\n",
       "  background-color: lightgrey;\n",
       "}\n",
       "#T_0c118_row6_col8 {\n",
       "  text-align: left;\n",
       "  background-color: yellow;\n",
       "  background-color: lightgrey;\n",
       "}\n",
       "</style>\n",
       "<table id=\"T_0c118_\">\n",
       "  <thead>\n",
       "    <tr>\n",
       "      <th class=\"blank level0\" >&nbsp;</th>\n",
       "      <th class=\"col_heading level0 col0\" >Model</th>\n",
       "      <th class=\"col_heading level0 col1\" >Accuracy</th>\n",
       "      <th class=\"col_heading level0 col2\" >AUC</th>\n",
       "      <th class=\"col_heading level0 col3\" >Recall</th>\n",
       "      <th class=\"col_heading level0 col4\" >Prec.</th>\n",
       "      <th class=\"col_heading level0 col5\" >F1</th>\n",
       "      <th class=\"col_heading level0 col6\" >Kappa</th>\n",
       "      <th class=\"col_heading level0 col7\" >MCC</th>\n",
       "      <th class=\"col_heading level0 col8\" >TT (Sec)</th>\n",
       "    </tr>\n",
       "  </thead>\n",
       "  <tbody>\n",
       "    <tr>\n",
       "      <th id=\"T_0c118_level0_row0\" class=\"row_heading level0 row0\" >rf</th>\n",
       "      <td id=\"T_0c118_row0_col0\" class=\"data row0 col0\" >Random Forest Classifier</td>\n",
       "      <td id=\"T_0c118_row0_col1\" class=\"data row0 col1\" >0.9436</td>\n",
       "      <td id=\"T_0c118_row0_col2\" class=\"data row0 col2\" >0.8253</td>\n",
       "      <td id=\"T_0c118_row0_col3\" class=\"data row0 col3\" >0.0426</td>\n",
       "      <td id=\"T_0c118_row0_col4\" class=\"data row0 col4\" >0.9556</td>\n",
       "      <td id=\"T_0c118_row0_col5\" class=\"data row0 col5\" >0.0811</td>\n",
       "      <td id=\"T_0c118_row0_col6\" class=\"data row0 col6\" >0.0764</td>\n",
       "      <td id=\"T_0c118_row0_col7\" class=\"data row0 col7\" >0.1908</td>\n",
       "      <td id=\"T_0c118_row0_col8\" class=\"data row0 col8\" >0.9340</td>\n",
       "    </tr>\n",
       "    <tr>\n",
       "      <th id=\"T_0c118_level0_row1\" class=\"row_heading level0 row1\" >et</th>\n",
       "      <td id=\"T_0c118_row1_col0\" class=\"data row1 col0\" >Extra Trees Classifier</td>\n",
       "      <td id=\"T_0c118_row1_col1\" class=\"data row1 col1\" >0.9430</td>\n",
       "      <td id=\"T_0c118_row1_col2\" class=\"data row1 col2\" >0.8201</td>\n",
       "      <td id=\"T_0c118_row1_col3\" class=\"data row1 col3\" >0.0473</td>\n",
       "      <td id=\"T_0c118_row1_col4\" class=\"data row1 col4\" >0.7312</td>\n",
       "      <td id=\"T_0c118_row1_col5\" class=\"data row1 col5\" >0.0887</td>\n",
       "      <td id=\"T_0c118_row1_col6\" class=\"data row1 col6\" >0.0822</td>\n",
       "      <td id=\"T_0c118_row1_col7\" class=\"data row1 col7\" >0.1759</td>\n",
       "      <td id=\"T_0c118_row1_col8\" class=\"data row1 col8\" >1.9360</td>\n",
       "    </tr>\n",
       "    <tr>\n",
       "      <th id=\"T_0c118_level0_row2\" class=\"row_heading level0 row2\" >lightgbm</th>\n",
       "      <td id=\"T_0c118_row2_col0\" class=\"data row2 col0\" >Light Gradient Boosting Machine</td>\n",
       "      <td id=\"T_0c118_row2_col1\" class=\"data row2 col1\" >0.9427</td>\n",
       "      <td id=\"T_0c118_row2_col2\" class=\"data row2 col2\" >0.8366</td>\n",
       "      <td id=\"T_0c118_row2_col3\" class=\"data row2 col3\" >0.0442</td>\n",
       "      <td id=\"T_0c118_row2_col4\" class=\"data row2 col4\" >0.6572</td>\n",
       "      <td id=\"T_0c118_row2_col5\" class=\"data row2 col5\" >0.0825</td>\n",
       "      <td id=\"T_0c118_row2_col6\" class=\"data row2 col6\" >0.0762</td>\n",
       "      <td id=\"T_0c118_row2_col7\" class=\"data row2 col7\" >0.1593</td>\n",
       "      <td id=\"T_0c118_row2_col8\" class=\"data row2 col8\" >0.3180</td>\n",
       "    </tr>\n",
       "    <tr>\n",
       "      <th id=\"T_0c118_level0_row3\" class=\"row_heading level0 row3\" >ridge</th>\n",
       "      <td id=\"T_0c118_row3_col0\" class=\"data row3 col0\" >Ridge Classifier</td>\n",
       "      <td id=\"T_0c118_row3_col1\" class=\"data row3 col1\" >0.9413</td>\n",
       "      <td id=\"T_0c118_row3_col2\" class=\"data row3 col2\" >0.0000</td>\n",
       "      <td id=\"T_0c118_row3_col3\" class=\"data row3 col3\" >0.0000</td>\n",
       "      <td id=\"T_0c118_row3_col4\" class=\"data row3 col4\" >0.0000</td>\n",
       "      <td id=\"T_0c118_row3_col5\" class=\"data row3 col5\" >0.0000</td>\n",
       "      <td id=\"T_0c118_row3_col6\" class=\"data row3 col6\" >0.0000</td>\n",
       "      <td id=\"T_0c118_row3_col7\" class=\"data row3 col7\" >0.0000</td>\n",
       "      <td id=\"T_0c118_row3_col8\" class=\"data row3 col8\" >0.0960</td>\n",
       "    </tr>\n",
       "    <tr>\n",
       "      <th id=\"T_0c118_level0_row4\" class=\"row_heading level0 row4\" >gbc</th>\n",
       "      <td id=\"T_0c118_row4_col0\" class=\"data row4 col0\" >Gradient Boosting Classifier</td>\n",
       "      <td id=\"T_0c118_row4_col1\" class=\"data row4 col1\" >0.9413</td>\n",
       "      <td id=\"T_0c118_row4_col2\" class=\"data row4 col2\" >0.8091</td>\n",
       "      <td id=\"T_0c118_row4_col3\" class=\"data row4 col3\" >0.0000</td>\n",
       "      <td id=\"T_0c118_row4_col4\" class=\"data row4 col4\" >0.0000</td>\n",
       "      <td id=\"T_0c118_row4_col5\" class=\"data row4 col5\" >0.0000</td>\n",
       "      <td id=\"T_0c118_row4_col6\" class=\"data row4 col6\" >0.0000</td>\n",
       "      <td id=\"T_0c118_row4_col7\" class=\"data row4 col7\" >0.0000</td>\n",
       "      <td id=\"T_0c118_row4_col8\" class=\"data row4 col8\" >2.0360</td>\n",
       "    </tr>\n",
       "    <tr>\n",
       "      <th id=\"T_0c118_level0_row5\" class=\"row_heading level0 row5\" >lda</th>\n",
       "      <td id=\"T_0c118_row5_col0\" class=\"data row5 col0\" >Linear Discriminant Analysis</td>\n",
       "      <td id=\"T_0c118_row5_col1\" class=\"data row5 col1\" >0.9413</td>\n",
       "      <td id=\"T_0c118_row5_col2\" class=\"data row5 col2\" >0.5206</td>\n",
       "      <td id=\"T_0c118_row5_col3\" class=\"data row5 col3\" >0.0000</td>\n",
       "      <td id=\"T_0c118_row5_col4\" class=\"data row5 col4\" >0.0000</td>\n",
       "      <td id=\"T_0c118_row5_col5\" class=\"data row5 col5\" >0.0000</td>\n",
       "      <td id=\"T_0c118_row5_col6\" class=\"data row5 col6\" >0.0000</td>\n",
       "      <td id=\"T_0c118_row5_col7\" class=\"data row5 col7\" >0.0000</td>\n",
       "      <td id=\"T_0c118_row5_col8\" class=\"data row5 col8\" >0.3240</td>\n",
       "    </tr>\n",
       "    <tr>\n",
       "      <th id=\"T_0c118_level0_row6\" class=\"row_heading level0 row6\" >dummy</th>\n",
       "      <td id=\"T_0c118_row6_col0\" class=\"data row6 col0\" >Dummy Classifier</td>\n",
       "      <td id=\"T_0c118_row6_col1\" class=\"data row6 col1\" >0.9413</td>\n",
       "      <td id=\"T_0c118_row6_col2\" class=\"data row6 col2\" >0.5000</td>\n",
       "      <td id=\"T_0c118_row6_col3\" class=\"data row6 col3\" >0.0000</td>\n",
       "      <td id=\"T_0c118_row6_col4\" class=\"data row6 col4\" >0.0000</td>\n",
       "      <td id=\"T_0c118_row6_col5\" class=\"data row6 col5\" >0.0000</td>\n",
       "      <td id=\"T_0c118_row6_col6\" class=\"data row6 col6\" >0.0000</td>\n",
       "      <td id=\"T_0c118_row6_col7\" class=\"data row6 col7\" >0.0000</td>\n",
       "      <td id=\"T_0c118_row6_col8\" class=\"data row6 col8\" >0.0620</td>\n",
       "    </tr>\n",
       "    <tr>\n",
       "      <th id=\"T_0c118_level0_row7\" class=\"row_heading level0 row7\" >lr</th>\n",
       "      <td id=\"T_0c118_row7_col0\" class=\"data row7 col0\" >Logistic Regression</td>\n",
       "      <td id=\"T_0c118_row7_col1\" class=\"data row7 col1\" >0.9396</td>\n",
       "      <td id=\"T_0c118_row7_col2\" class=\"data row7 col2\" >0.7744</td>\n",
       "      <td id=\"T_0c118_row7_col3\" class=\"data row7 col3\" >0.0095</td>\n",
       "      <td id=\"T_0c118_row7_col4\" class=\"data row7 col4\" >0.2722</td>\n",
       "      <td id=\"T_0c118_row7_col5\" class=\"data row7 col5\" >0.0182</td>\n",
       "      <td id=\"T_0c118_row7_col6\" class=\"data row7 col6\" >0.0130</td>\n",
       "      <td id=\"T_0c118_row7_col7\" class=\"data row7 col7\" >0.0385</td>\n",
       "      <td id=\"T_0c118_row7_col8\" class=\"data row7 col8\" >1.6400</td>\n",
       "    </tr>\n",
       "    <tr>\n",
       "      <th id=\"T_0c118_level0_row8\" class=\"row_heading level0 row8\" >nb</th>\n",
       "      <td id=\"T_0c118_row8_col0\" class=\"data row8 col0\" >Naive Bayes</td>\n",
       "      <td id=\"T_0c118_row8_col1\" class=\"data row8 col1\" >0.9389</td>\n",
       "      <td id=\"T_0c118_row8_col2\" class=\"data row8 col2\" >0.5134</td>\n",
       "      <td id=\"T_0c118_row8_col3\" class=\"data row8 col3\" >0.0095</td>\n",
       "      <td id=\"T_0c118_row8_col4\" class=\"data row8 col4\" >0.1771</td>\n",
       "      <td id=\"T_0c118_row8_col5\" class=\"data row8 col5\" >0.0179</td>\n",
       "      <td id=\"T_0c118_row8_col6\" class=\"data row8 col6\" >0.0115</td>\n",
       "      <td id=\"T_0c118_row8_col7\" class=\"data row8 col7\" >0.0274</td>\n",
       "      <td id=\"T_0c118_row8_col8\" class=\"data row8 col8\" >0.0880</td>\n",
       "    </tr>\n",
       "    <tr>\n",
       "      <th id=\"T_0c118_level0_row9\" class=\"row_heading level0 row9\" >knn</th>\n",
       "      <td id=\"T_0c118_row9_col0\" class=\"data row9 col0\" >K Neighbors Classifier</td>\n",
       "      <td id=\"T_0c118_row9_col1\" class=\"data row9 col1\" >0.9376</td>\n",
       "      <td id=\"T_0c118_row9_col2\" class=\"data row9 col2\" >0.6075</td>\n",
       "      <td id=\"T_0c118_row9_col3\" class=\"data row9 col3\" >0.0268</td>\n",
       "      <td id=\"T_0c118_row9_col4\" class=\"data row9 col4\" >0.2669</td>\n",
       "      <td id=\"T_0c118_row9_col5\" class=\"data row9 col5\" >0.0483</td>\n",
       "      <td id=\"T_0c118_row9_col6\" class=\"data row9 col6\" >0.0367</td>\n",
       "      <td id=\"T_0c118_row9_col7\" class=\"data row9 col7\" >0.0661</td>\n",
       "      <td id=\"T_0c118_row9_col8\" class=\"data row9 col8\" >6.0280</td>\n",
       "    </tr>\n",
       "    <tr>\n",
       "      <th id=\"T_0c118_level0_row10\" class=\"row_heading level0 row10\" >ada</th>\n",
       "      <td id=\"T_0c118_row10_col0\" class=\"data row10 col0\" >Ada Boost Classifier</td>\n",
       "      <td id=\"T_0c118_row10_col1\" class=\"data row10 col1\" >0.9359</td>\n",
       "      <td id=\"T_0c118_row10_col2\" class=\"data row10 col2\" >0.7900</td>\n",
       "      <td id=\"T_0c118_row10_col3\" class=\"data row10 col3\" >0.0142</td>\n",
       "      <td id=\"T_0c118_row10_col4\" class=\"data row10 col4\" >0.1357</td>\n",
       "      <td id=\"T_0c118_row10_col5\" class=\"data row10 col5\" >0.0255</td>\n",
       "      <td id=\"T_0c118_row10_col6\" class=\"data row10 col6\" >0.0132</td>\n",
       "      <td id=\"T_0c118_row10_col7\" class=\"data row10 col7\" >0.0241</td>\n",
       "      <td id=\"T_0c118_row10_col8\" class=\"data row10 col8\" >0.7120</td>\n",
       "    </tr>\n",
       "    <tr>\n",
       "      <th id=\"T_0c118_level0_row11\" class=\"row_heading level0 row11\" >qda</th>\n",
       "      <td id=\"T_0c118_row11_col0\" class=\"data row11 col0\" >Quadratic Discriminant Analysis</td>\n",
       "      <td id=\"T_0c118_row11_col1\" class=\"data row11 col1\" >0.9259</td>\n",
       "      <td id=\"T_0c118_row11_col2\" class=\"data row11 col2\" >0.5547</td>\n",
       "      <td id=\"T_0c118_row11_col3\" class=\"data row11 col3\" >0.0378</td>\n",
       "      <td id=\"T_0c118_row11_col4\" class=\"data row11 col4\" >0.1204</td>\n",
       "      <td id=\"T_0c118_row11_col5\" class=\"data row11 col5\" >0.0541</td>\n",
       "      <td id=\"T_0c118_row11_col6\" class=\"data row11 col6\" >0.0269</td>\n",
       "      <td id=\"T_0c118_row11_col7\" class=\"data row11 col7\" >0.0332</td>\n",
       "      <td id=\"T_0c118_row11_col8\" class=\"data row11 col8\" >0.2180</td>\n",
       "    </tr>\n",
       "    <tr>\n",
       "      <th id=\"T_0c118_level0_row12\" class=\"row_heading level0 row12\" >svm</th>\n",
       "      <td id=\"T_0c118_row12_col0\" class=\"data row12 col0\" >SVM - Linear Kernel</td>\n",
       "      <td id=\"T_0c118_row12_col1\" class=\"data row12 col1\" >0.9123</td>\n",
       "      <td id=\"T_0c118_row12_col2\" class=\"data row12 col2\" >0.0000</td>\n",
       "      <td id=\"T_0c118_row12_col3\" class=\"data row12 col3\" >0.0599</td>\n",
       "      <td id=\"T_0c118_row12_col4\" class=\"data row12 col4\" >0.0981</td>\n",
       "      <td id=\"T_0c118_row12_col5\" class=\"data row12 col5\" >0.0742</td>\n",
       "      <td id=\"T_0c118_row12_col6\" class=\"data row12 col6\" >0.0310</td>\n",
       "      <td id=\"T_0c118_row12_col7\" class=\"data row12 col7\" >0.0321</td>\n",
       "      <td id=\"T_0c118_row12_col8\" class=\"data row12 col8\" >1.0560</td>\n",
       "    </tr>\n",
       "    <tr>\n",
       "      <th id=\"T_0c118_level0_row13\" class=\"row_heading level0 row13\" >dt</th>\n",
       "      <td id=\"T_0c118_row13_col0\" class=\"data row13 col0\" >Decision Tree Classifier</td>\n",
       "      <td id=\"T_0c118_row13_col1\" class=\"data row13 col1\" >0.9025</td>\n",
       "      <td id=\"T_0c118_row13_col2\" class=\"data row13 col2\" >0.5778</td>\n",
       "      <td id=\"T_0c118_row13_col3\" class=\"data row13 col3\" >0.2098</td>\n",
       "      <td id=\"T_0c118_row13_col4\" class=\"data row13 col4\" >0.1951</td>\n",
       "      <td id=\"T_0c118_row13_col5\" class=\"data row13 col5\" >0.2017</td>\n",
       "      <td id=\"T_0c118_row13_col6\" class=\"data row13 col6\" >0.1500</td>\n",
       "      <td id=\"T_0c118_row13_col7\" class=\"data row13 col7\" >0.1503</td>\n",
       "      <td id=\"T_0c118_row13_col8\" class=\"data row13 col8\" >0.1580</td>\n",
       "    </tr>\n",
       "  </tbody>\n",
       "</table>\n"
      ],
      "text/plain": [
       "<pandas.io.formats.style.Styler at 0x24c3276fc08>"
      ]
     },
     "metadata": {},
     "output_type": "display_data"
    }
   ],
   "source": [
    "best = compare_models(fold=5)"
   ]
  },
  {
   "cell_type": "markdown",
   "id": "23eb5af4",
   "metadata": {},
   "source": [
    "***Based on initial results :***\n",
    "\n",
    "best accuracy is with Light Gradient Boosting Machine\t0.9426\n",
    "\n",
    "best  AUC is with Light Gradient Boosting Machine 0.8507\t\n",
    "best precision is with Extra Trees Classifier 0.6898\n",
    "\n",
    "best F1 is with Logistic Regression 0.2290\n",
    "\n",
    "https://medium.com/codex/machine-learning-case-study-credit-card-fraud-detection-f913de370f6\n",
    "https://towardsdatascience.com/introduction-to-binary-classification-with-pycaret-a37b3e89ad8d#:~:text=setup%20must%20be%20called%20before,to%20customize%20the%20preprocessing%20pipeline."
   ]
  },
  {
   "cell_type": "code",
   "execution_count": 94,
   "id": "4a53cc99",
   "metadata": {},
   "outputs": [
    {
     "data": {
      "text/html": [
       "<style type=\"text/css\">\n",
       "#T_fc9f1_row5_col0, #T_fc9f1_row5_col1, #T_fc9f1_row5_col2, #T_fc9f1_row5_col3, #T_fc9f1_row5_col4, #T_fc9f1_row5_col5, #T_fc9f1_row5_col6 {\n",
       "  background: yellow;\n",
       "}\n",
       "</style>\n",
       "<table id=\"T_fc9f1\">\n",
       "  <thead>\n",
       "    <tr>\n",
       "      <th class=\"blank level0\" >&nbsp;</th>\n",
       "      <th id=\"T_fc9f1_level0_col0\" class=\"col_heading level0 col0\" >Accuracy</th>\n",
       "      <th id=\"T_fc9f1_level0_col1\" class=\"col_heading level0 col1\" >AUC</th>\n",
       "      <th id=\"T_fc9f1_level0_col2\" class=\"col_heading level0 col2\" >Recall</th>\n",
       "      <th id=\"T_fc9f1_level0_col3\" class=\"col_heading level0 col3\" >Prec.</th>\n",
       "      <th id=\"T_fc9f1_level0_col4\" class=\"col_heading level0 col4\" >F1</th>\n",
       "      <th id=\"T_fc9f1_level0_col5\" class=\"col_heading level0 col5\" >Kappa</th>\n",
       "      <th id=\"T_fc9f1_level0_col6\" class=\"col_heading level0 col6\" >MCC</th>\n",
       "    </tr>\n",
       "    <tr>\n",
       "      <th class=\"index_name level0\" >Fold</th>\n",
       "      <th class=\"blank col0\" >&nbsp;</th>\n",
       "      <th class=\"blank col1\" >&nbsp;</th>\n",
       "      <th class=\"blank col2\" >&nbsp;</th>\n",
       "      <th class=\"blank col3\" >&nbsp;</th>\n",
       "      <th class=\"blank col4\" >&nbsp;</th>\n",
       "      <th class=\"blank col5\" >&nbsp;</th>\n",
       "      <th class=\"blank col6\" >&nbsp;</th>\n",
       "    </tr>\n",
       "  </thead>\n",
       "  <tbody>\n",
       "    <tr>\n",
       "      <th id=\"T_fc9f1_level0_row0\" class=\"row_heading level0 row0\" >0</th>\n",
       "      <td id=\"T_fc9f1_row0_col0\" class=\"data row0 col0\" >0.9676</td>\n",
       "      <td id=\"T_fc9f1_row0_col1\" class=\"data row0 col1\" >0.9881</td>\n",
       "      <td id=\"T_fc9f1_row0_col2\" class=\"data row0 col2\" >0.9364</td>\n",
       "      <td id=\"T_fc9f1_row0_col3\" class=\"data row0 col3\" >0.9985</td>\n",
       "      <td id=\"T_fc9f1_row0_col4\" class=\"data row0 col4\" >0.9665</td>\n",
       "      <td id=\"T_fc9f1_row0_col5\" class=\"data row0 col5\" >0.9352</td>\n",
       "      <td id=\"T_fc9f1_row0_col6\" class=\"data row0 col6\" >0.9370</td>\n",
       "    </tr>\n",
       "    <tr>\n",
       "      <th id=\"T_fc9f1_level0_row1\" class=\"row_heading level0 row1\" >1</th>\n",
       "      <td id=\"T_fc9f1_row1_col0\" class=\"data row1 col0\" >0.9704</td>\n",
       "      <td id=\"T_fc9f1_row1_col1\" class=\"data row1 col1\" >0.9888</td>\n",
       "      <td id=\"T_fc9f1_row1_col2\" class=\"data row1 col2\" >0.9428</td>\n",
       "      <td id=\"T_fc9f1_row1_col3\" class=\"data row1 col3\" >0.9978</td>\n",
       "      <td id=\"T_fc9f1_row1_col4\" class=\"data row1 col4\" >0.9695</td>\n",
       "      <td id=\"T_fc9f1_row1_col5\" class=\"data row1 col5\" >0.9408</td>\n",
       "      <td id=\"T_fc9f1_row1_col6\" class=\"data row1 col6\" >0.9422</td>\n",
       "    </tr>\n",
       "    <tr>\n",
       "      <th id=\"T_fc9f1_level0_row2\" class=\"row_heading level0 row2\" >2</th>\n",
       "      <td id=\"T_fc9f1_row2_col0\" class=\"data row2 col0\" >0.9683</td>\n",
       "      <td id=\"T_fc9f1_row2_col1\" class=\"data row2 col1\" >0.9894</td>\n",
       "      <td id=\"T_fc9f1_row2_col2\" class=\"data row2 col2\" >0.9372</td>\n",
       "      <td id=\"T_fc9f1_row2_col3\" class=\"data row2 col3\" >0.9992</td>\n",
       "      <td id=\"T_fc9f1_row2_col4\" class=\"data row2 col4\" >0.9672</td>\n",
       "      <td id=\"T_fc9f1_row2_col5\" class=\"data row2 col5\" >0.9366</td>\n",
       "      <td id=\"T_fc9f1_row2_col6\" class=\"data row2 col6\" >0.9384</td>\n",
       "    </tr>\n",
       "    <tr>\n",
       "      <th id=\"T_fc9f1_level0_row3\" class=\"row_heading level0 row3\" >3</th>\n",
       "      <td id=\"T_fc9f1_row3_col0\" class=\"data row3 col0\" >0.9658</td>\n",
       "      <td id=\"T_fc9f1_row3_col1\" class=\"data row3 col1\" >0.9891</td>\n",
       "      <td id=\"T_fc9f1_row3_col2\" class=\"data row3 col2\" >0.9315</td>\n",
       "      <td id=\"T_fc9f1_row3_col3\" class=\"data row3 col3\" >1.0000</td>\n",
       "      <td id=\"T_fc9f1_row3_col4\" class=\"data row3 col4\" >0.9645</td>\n",
       "      <td id=\"T_fc9f1_row3_col5\" class=\"data row3 col5\" >0.9316</td>\n",
       "      <td id=\"T_fc9f1_row3_col6\" class=\"data row3 col6\" >0.9338</td>\n",
       "    </tr>\n",
       "    <tr>\n",
       "      <th id=\"T_fc9f1_level0_row4\" class=\"row_heading level0 row4\" >4</th>\n",
       "      <td id=\"T_fc9f1_row4_col0\" class=\"data row4 col0\" >0.9700</td>\n",
       "      <td id=\"T_fc9f1_row4_col1\" class=\"data row4 col1\" >0.9877</td>\n",
       "      <td id=\"T_fc9f1_row4_col2\" class=\"data row4 col2\" >0.9407</td>\n",
       "      <td id=\"T_fc9f1_row4_col3\" class=\"data row4 col3\" >0.9992</td>\n",
       "      <td id=\"T_fc9f1_row4_col4\" class=\"data row4 col4\" >0.9691</td>\n",
       "      <td id=\"T_fc9f1_row4_col5\" class=\"data row4 col5\" >0.9401</td>\n",
       "      <td id=\"T_fc9f1_row4_col6\" class=\"data row4 col6\" >0.9417</td>\n",
       "    </tr>\n",
       "    <tr>\n",
       "      <th id=\"T_fc9f1_level0_row5\" class=\"row_heading level0 row5\" >Mean</th>\n",
       "      <td id=\"T_fc9f1_row5_col0\" class=\"data row5 col0\" >0.9684</td>\n",
       "      <td id=\"T_fc9f1_row5_col1\" class=\"data row5 col1\" >0.9886</td>\n",
       "      <td id=\"T_fc9f1_row5_col2\" class=\"data row5 col2\" >0.9377</td>\n",
       "      <td id=\"T_fc9f1_row5_col3\" class=\"data row5 col3\" >0.9990</td>\n",
       "      <td id=\"T_fc9f1_row5_col4\" class=\"data row5 col4\" >0.9674</td>\n",
       "      <td id=\"T_fc9f1_row5_col5\" class=\"data row5 col5\" >0.9368</td>\n",
       "      <td id=\"T_fc9f1_row5_col6\" class=\"data row5 col6\" >0.9386</td>\n",
       "    </tr>\n",
       "    <tr>\n",
       "      <th id=\"T_fc9f1_level0_row6\" class=\"row_heading level0 row6\" >Std</th>\n",
       "      <td id=\"T_fc9f1_row6_col0\" class=\"data row6 col0\" >0.0017</td>\n",
       "      <td id=\"T_fc9f1_row6_col1\" class=\"data row6 col1\" >0.0006</td>\n",
       "      <td id=\"T_fc9f1_row6_col2\" class=\"data row6 col2\" >0.0039</td>\n",
       "      <td id=\"T_fc9f1_row6_col3\" class=\"data row6 col3\" >0.0008</td>\n",
       "      <td id=\"T_fc9f1_row6_col4\" class=\"data row6 col4\" >0.0018</td>\n",
       "      <td id=\"T_fc9f1_row6_col5\" class=\"data row6 col5\" >0.0034</td>\n",
       "      <td id=\"T_fc9f1_row6_col6\" class=\"data row6 col6\" >0.0031</td>\n",
       "    </tr>\n",
       "  </tbody>\n",
       "</table>\n"
      ],
      "text/plain": [
       "<pandas.io.formats.style.Styler at 0x14d8dbe31c0>"
      ]
     },
     "metadata": {},
     "output_type": "display_data"
    }
   ],
   "source": [
    "rf=create_model('rf',fold=5)"
   ]
  },
  {
   "cell_type": "code",
   "execution_count": 95,
   "id": "fea56bd4",
   "metadata": {},
   "outputs": [
    {
     "data": {
      "text/html": [
       "<style type=\"text/css\">\n",
       "#T_80cff_row5_col0, #T_80cff_row5_col1, #T_80cff_row5_col2, #T_80cff_row5_col3, #T_80cff_row5_col4, #T_80cff_row5_col5, #T_80cff_row5_col6 {\n",
       "  background: yellow;\n",
       "}\n",
       "</style>\n",
       "<table id=\"T_80cff\">\n",
       "  <thead>\n",
       "    <tr>\n",
       "      <th class=\"blank level0\" >&nbsp;</th>\n",
       "      <th id=\"T_80cff_level0_col0\" class=\"col_heading level0 col0\" >Accuracy</th>\n",
       "      <th id=\"T_80cff_level0_col1\" class=\"col_heading level0 col1\" >AUC</th>\n",
       "      <th id=\"T_80cff_level0_col2\" class=\"col_heading level0 col2\" >Recall</th>\n",
       "      <th id=\"T_80cff_level0_col3\" class=\"col_heading level0 col3\" >Prec.</th>\n",
       "      <th id=\"T_80cff_level0_col4\" class=\"col_heading level0 col4\" >F1</th>\n",
       "      <th id=\"T_80cff_level0_col5\" class=\"col_heading level0 col5\" >Kappa</th>\n",
       "      <th id=\"T_80cff_level0_col6\" class=\"col_heading level0 col6\" >MCC</th>\n",
       "    </tr>\n",
       "    <tr>\n",
       "      <th class=\"index_name level0\" >Fold</th>\n",
       "      <th class=\"blank col0\" >&nbsp;</th>\n",
       "      <th class=\"blank col1\" >&nbsp;</th>\n",
       "      <th class=\"blank col2\" >&nbsp;</th>\n",
       "      <th class=\"blank col3\" >&nbsp;</th>\n",
       "      <th class=\"blank col4\" >&nbsp;</th>\n",
       "      <th class=\"blank col5\" >&nbsp;</th>\n",
       "      <th class=\"blank col6\" >&nbsp;</th>\n",
       "    </tr>\n",
       "  </thead>\n",
       "  <tbody>\n",
       "    <tr>\n",
       "      <th id=\"T_80cff_level0_row0\" class=\"row_heading level0 row0\" >0</th>\n",
       "      <td id=\"T_80cff_row0_col0\" class=\"data row0 col0\" >0.9588</td>\n",
       "      <td id=\"T_80cff_row0_col1\" class=\"data row0 col1\" >0.9831</td>\n",
       "      <td id=\"T_80cff_row0_col2\" class=\"data row0 col2\" >0.9174</td>\n",
       "      <td id=\"T_80cff_row0_col3\" class=\"data row0 col3\" >1.0000</td>\n",
       "      <td id=\"T_80cff_row0_col4\" class=\"data row0 col4\" >0.9569</td>\n",
       "      <td id=\"T_80cff_row0_col5\" class=\"data row0 col5\" >0.9175</td>\n",
       "      <td id=\"T_80cff_row0_col6\" class=\"data row0 col6\" >0.9207</td>\n",
       "    </tr>\n",
       "    <tr>\n",
       "      <th id=\"T_80cff_level0_row1\" class=\"row_heading level0 row1\" >1</th>\n",
       "      <td id=\"T_80cff_row1_col0\" class=\"data row1 col0\" >0.9588</td>\n",
       "      <td id=\"T_80cff_row1_col1\" class=\"data row1 col1\" >0.9832</td>\n",
       "      <td id=\"T_80cff_row1_col2\" class=\"data row1 col2\" >0.9174</td>\n",
       "      <td id=\"T_80cff_row1_col3\" class=\"data row1 col3\" >1.0000</td>\n",
       "      <td id=\"T_80cff_row1_col4\" class=\"data row1 col4\" >0.9569</td>\n",
       "      <td id=\"T_80cff_row1_col5\" class=\"data row1 col5\" >0.9175</td>\n",
       "      <td id=\"T_80cff_row1_col6\" class=\"data row1 col6\" >0.9207</td>\n",
       "    </tr>\n",
       "    <tr>\n",
       "      <th id=\"T_80cff_level0_row2\" class=\"row_heading level0 row2\" >2</th>\n",
       "      <td id=\"T_80cff_row2_col0\" class=\"data row2 col0\" >0.9616</td>\n",
       "      <td id=\"T_80cff_row2_col1\" class=\"data row2 col1\" >0.9860</td>\n",
       "      <td id=\"T_80cff_row2_col2\" class=\"data row2 col2\" >0.9231</td>\n",
       "      <td id=\"T_80cff_row2_col3\" class=\"data row2 col3\" >1.0000</td>\n",
       "      <td id=\"T_80cff_row2_col4\" class=\"data row2 col4\" >0.9600</td>\n",
       "      <td id=\"T_80cff_row2_col5\" class=\"data row2 col5\" >0.9232</td>\n",
       "      <td id=\"T_80cff_row2_col6\" class=\"data row2 col6\" >0.9259</td>\n",
       "    </tr>\n",
       "    <tr>\n",
       "      <th id=\"T_80cff_level0_row3\" class=\"row_heading level0 row3\" >3</th>\n",
       "      <td id=\"T_80cff_row3_col0\" class=\"data row3 col0\" >0.9581</td>\n",
       "      <td id=\"T_80cff_row3_col1\" class=\"data row3 col1\" >0.9824</td>\n",
       "      <td id=\"T_80cff_row3_col2\" class=\"data row3 col2\" >0.9160</td>\n",
       "      <td id=\"T_80cff_row3_col3\" class=\"data row3 col3\" >1.0000</td>\n",
       "      <td id=\"T_80cff_row3_col4\" class=\"data row3 col4\" >0.9561</td>\n",
       "      <td id=\"T_80cff_row3_col5\" class=\"data row3 col5\" >0.9161</td>\n",
       "      <td id=\"T_80cff_row3_col6\" class=\"data row3 col6\" >0.9193</td>\n",
       "    </tr>\n",
       "    <tr>\n",
       "      <th id=\"T_80cff_level0_row4\" class=\"row_heading level0 row4\" >4</th>\n",
       "      <td id=\"T_80cff_row4_col0\" class=\"data row4 col0\" >0.9609</td>\n",
       "      <td id=\"T_80cff_row4_col1\" class=\"data row4 col1\" >0.9818</td>\n",
       "      <td id=\"T_80cff_row4_col2\" class=\"data row4 col2\" >0.9216</td>\n",
       "      <td id=\"T_80cff_row4_col3\" class=\"data row4 col3\" >1.0000</td>\n",
       "      <td id=\"T_80cff_row4_col4\" class=\"data row4 col4\" >0.9592</td>\n",
       "      <td id=\"T_80cff_row4_col5\" class=\"data row4 col5\" >0.9217</td>\n",
       "      <td id=\"T_80cff_row4_col6\" class=\"data row4 col6\" >0.9246</td>\n",
       "    </tr>\n",
       "    <tr>\n",
       "      <th id=\"T_80cff_level0_row5\" class=\"row_heading level0 row5\" >Mean</th>\n",
       "      <td id=\"T_80cff_row5_col0\" class=\"data row5 col0\" >0.9596</td>\n",
       "      <td id=\"T_80cff_row5_col1\" class=\"data row5 col1\" >0.9833</td>\n",
       "      <td id=\"T_80cff_row5_col2\" class=\"data row5 col2\" >0.9191</td>\n",
       "      <td id=\"T_80cff_row5_col3\" class=\"data row5 col3\" >1.0000</td>\n",
       "      <td id=\"T_80cff_row5_col4\" class=\"data row5 col4\" >0.9578</td>\n",
       "      <td id=\"T_80cff_row5_col5\" class=\"data row5 col5\" >0.9192</td>\n",
       "      <td id=\"T_80cff_row5_col6\" class=\"data row5 col6\" >0.9222</td>\n",
       "    </tr>\n",
       "    <tr>\n",
       "      <th id=\"T_80cff_level0_row6\" class=\"row_heading level0 row6\" >Std</th>\n",
       "      <td id=\"T_80cff_row6_col0\" class=\"data row6 col0\" >0.0014</td>\n",
       "      <td id=\"T_80cff_row6_col1\" class=\"data row6 col1\" >0.0015</td>\n",
       "      <td id=\"T_80cff_row6_col2\" class=\"data row6 col2\" >0.0027</td>\n",
       "      <td id=\"T_80cff_row6_col3\" class=\"data row6 col3\" >0.0000</td>\n",
       "      <td id=\"T_80cff_row6_col4\" class=\"data row6 col4\" >0.0015</td>\n",
       "      <td id=\"T_80cff_row6_col5\" class=\"data row6 col5\" >0.0027</td>\n",
       "      <td id=\"T_80cff_row6_col6\" class=\"data row6 col6\" >0.0025</td>\n",
       "    </tr>\n",
       "  </tbody>\n",
       "</table>\n"
      ],
      "text/plain": [
       "<pandas.io.formats.style.Styler at 0x14d87d35220>"
      ]
     },
     "metadata": {},
     "output_type": "display_data"
    }
   ],
   "source": [
    "tuned_rf=tune_model(rf,optimize='Precision',fold=5)"
   ]
  },
  {
   "cell_type": "code",
   "execution_count": 96,
   "id": "fb382043",
   "metadata": {
    "scrolled": true
   },
   "outputs": [
    {
     "data": {
      "image/png": "[encoded data removed]",
      "text/plain": [
       "<Figure size 576x396 with 1 Axes>"
      ]
     },
     "metadata": {},
     "output_type": "display_data"
    }
   ],
   "source": [
    "plot_model(tuned_rf)"
   ]
  },
  {
   "cell_type": "markdown",
   "id": "357f9caf",
   "metadata": {},
   "source": [
    "#### Trying undersampling method for imbalance in dataset\n"
   ]
  },
  {
   "cell_type": "code",
   "execution_count": null,
   "id": "a1cbce69",
   "metadata": {},
   "outputs": [],
   "source": [
    "et=create_model('et')\n"
   ]
  },
  {
   "cell_type": "code",
   "execution_count": null,
   "id": "f7216e18",
   "metadata": {},
   "outputs": [],
   "source": [
    "classifier=create_model('lightgbm')\n",
    "print(classifier)"
   ]
  },
  {
   "cell_type": "code",
   "execution_count": null,
   "id": "cbe5d868",
   "metadata": {},
   "outputs": [],
   "source": [
    "classifier=create_model('gbc')\n",
    "print(classifier)"
   ]
  },
  {
   "cell_type": "code",
   "execution_count": null,
   "id": "6b89571d",
   "metadata": {},
   "outputs": [],
   "source": [
    "VP = vf['VehiclePrice'].value_counts(normalize=True)\n",
    "print(VP)"
   ]
  },
  {
   "cell_type": "code",
   "execution_count": null,
   "id": "872994de",
   "metadata": {},
   "outputs": [],
   "source": [
    "sns.set(style=\"whitegrid\") \n",
    "plt.figure(figsize=(15,4))\n",
    "ax=sns.barplot(x = 'VehiclePrice', y = 'FraudFound_P', data = vf,\n",
    "            palette = 'hls',\n",
    "            capsize = 0.05,             \n",
    "            saturation = 8,             \n",
    "            errcolor = 'gray', errwidth = 2,\n",
    "            order=vf['VehiclePrice'].value_counts().index,\n",
    "            ci = 'sd'   \n",
    "            )\n",
    "\n",
    "print('Mean',vf.groupby(['VehiclePrice']).mean()['FraudFound_P'])\n",
    "print('std dev',vf.groupby(['VehiclePrice']).std()['FraudFound_P'])\n",
    "plt.tight_layout()\n",
    "plt.show()"
   ]
  },
  {
   "cell_type": "code",
   "execution_count": null,
   "id": "bb434b9c",
   "metadata": {},
   "outputs": [],
   "source": [
    "classifier=create_model('rf')\n",
    "print(classifier)"
   ]
  },
  {
   "cell_type": "code",
   "execution_count": null,
   "id": "583c3f93",
   "metadata": {},
   "outputs": [],
   "source": [
    "from pycaret.classification import *"
   ]
  },
  {
   "cell_type": "code",
   "execution_count": null,
   "id": "f5b78857",
   "metadata": {},
   "outputs": [],
   "source": []
  }
 ],
 "metadata": {
  "kernelspec": {
   "display_name": "Python 3 (ipykernel)",
   "language": "python",
   "name": "python3"
  },
  "language_info": {
   "codemirror_mode": {
    "name": "ipython",
    "version": 3
   },
   "file_extension": ".py",
   "mimetype": "text/x-python",
   "name": "python",
   "nbconvert_exporter": "python",
   "pygments_lexer": "ipython3",
   "version": "3.7.13"
  }
 },
 "nbformat": 4,
 "nbformat_minor": 5
}
