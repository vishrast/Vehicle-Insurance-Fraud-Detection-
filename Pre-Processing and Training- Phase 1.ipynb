{
 "cells": [
  {
   "cell_type": "markdown",
   "id": "1f94a124",
   "metadata": {},
   "source": [
    "## 3.1 Introduction<a id='2.2_Introduction'></a>"
   ]
  },
  {
   "cell_type": "markdown",
   "id": "81d86fa5",
   "metadata": {},
   "source": [
    "\n",
    "This step focuses on pre-processing and training the data"
   ]
  },
  {
   "cell_type": "markdown",
   "id": "ee764214",
   "metadata": {},
   "source": [
    "### 3.2  Recap Of Data Science Problem<a id='2.2.1_Recap_Of_Data_Science_Problem'></a>\n"
   ]
  },
  {
   "cell_type": "markdown",
   "id": "278e9bb4",
   "metadata": {},
   "source": [
    "In this project, we are trying to create a fraud detection system to predict fraud from the data provided on kaggle \n",
    "https://www.kaggle.com/shivamb/vehicle-claim-fraud-detection"
   ]
  },
  {
   "cell_type": "markdown",
   "id": "6723f88c",
   "metadata": {},
   "source": [
    "## 3.3 Objectives<a id='2.4_Objectives'></a>"
   ]
  },
  {
   "cell_type": "markdown",
   "id": "07ff2c49",
   "metadata": {},
   "source": [
    "The objectives of this step is to do necessary pre-processing and training the data by selecting features and running differnt models to determine which models are  appropriate for detection of fraudelent claims transactions."
   ]
  },
  {
   "cell_type": "markdown",
   "id": "6ef4b617",
   "metadata": {},
   "source": [
    "## 3.4.Load The Vehicle Claim Data "
   ]
  },
  {
   "cell_type": "code",
   "execution_count": 1,
   "id": "b2ff7564",
   "metadata": {},
   "outputs": [],
   "source": [
    "import pandas as pd\n",
    "vf = pd.read_csv(\"fraud_oracle.csv\")"
   ]
  },
  {
   "cell_type": "code",
   "execution_count": 2,
   "id": "91cb9e02",
   "metadata": {},
   "outputs": [
    {
     "name": "stdout",
     "output_type": "stream",
     "text": [
      "<class 'pandas.core.frame.DataFrame'>\n",
      "RangeIndex: 15420 entries, 0 to 15419\n",
      "Data columns (total 33 columns):\n",
      " #   Column                Non-Null Count  Dtype \n",
      "---  ------                --------------  ----- \n",
      " 0   Month                 15420 non-null  object\n",
      " 1   WeekOfMonth           15420 non-null  int64 \n",
      " 2   DayOfWeek             15420 non-null  object\n",
      " 3   Make                  15420 non-null  object\n",
      " 4   AccidentArea          15420 non-null  object\n",
      " 5   DayOfWeekClaimed      15420 non-null  object\n",
      " 6   MonthClaimed          15420 non-null  object\n",
      " 7   WeekOfMonthClaimed    15420 non-null  int64 \n",
      " 8   Sex                   15420 non-null  object\n",
      " 9   MaritalStatus         15420 non-null  object\n",
      " 10  Age                   15420 non-null  int64 \n",
      " 11  Fault                 15420 non-null  object\n",
      " 12  PolicyType            15420 non-null  object\n",
      " 13  VehicleCategory       15420 non-null  object\n",
      " 14  VehiclePrice          15420 non-null  object\n",
      " 15  FraudFound_P          15420 non-null  int64 \n",
      " 16  PolicyNumber          15420 non-null  int64 \n",
      " 17  RepNumber             15420 non-null  int64 \n",
      " 18  Deductible            15420 non-null  int64 \n",
      " 19  DriverRating          15420 non-null  int64 \n",
      " 20  Days_Policy_Accident  15420 non-null  object\n",
      " 21  Days_Policy_Claim     15420 non-null  object\n",
      " 22  PastNumberOfClaims    15420 non-null  object\n",
      " 23  AgeOfVehicle          15420 non-null  object\n",
      " 24  AgeOfPolicyHolder     15420 non-null  object\n",
      " 25  PoliceReportFiled     15420 non-null  object\n",
      " 26  WitnessPresent        15420 non-null  object\n",
      " 27  AgentType             15420 non-null  object\n",
      " 28  NumberOfSuppliments   15420 non-null  object\n",
      " 29  AddressChange_Claim   15420 non-null  object\n",
      " 30  NumberOfCars          15420 non-null  object\n",
      " 31  Year                  15420 non-null  int64 \n",
      " 32  BasePolicy            15420 non-null  object\n",
      "dtypes: int64(9), object(24)\n",
      "memory usage: 3.9+ MB\n"
     ]
    }
   ],
   "source": [
    "#Calling  the info method on vf to see info about the data\n",
    "vf.info()"
   ]
  },
  {
   "cell_type": "markdown",
   "id": "d87b84c9",
   "metadata": {},
   "source": [
    "## 3.5 Pre-Processing and Training Data"
   ]
  },
  {
   "cell_type": "markdown",
   "id": "eb01e30f",
   "metadata": {},
   "source": [
    "## 3.5.1 Imports"
   ]
  },
  {
   "cell_type": "code",
   "execution_count": 3,
   "id": "f1fbaf47",
   "metadata": {},
   "outputs": [],
   "source": [
    "import pandas as pd\n",
    "import numpy as np\n",
    "import os\n",
    "import pickle\n",
    "import matplotlib.pyplot as plt\n",
    "import seaborn as sns\n",
    "from sklearn import __version__ as sklearn_version\n",
    "from sklearn.decomposition import PCA\n",
    "from sklearn.preprocessing import scale\n",
    "from sklearn.model_selection import train_test_split, cross_validate, GridSearchCV, learning_curve\n",
    "from sklearn.preprocessing import StandardScaler, MinMaxScaler\n",
    "from sklearn.dummy import DummyRegressor\n",
    "from sklearn.linear_model import LinearRegression\n",
    "from sklearn.ensemble import RandomForestRegressor\n",
    "from sklearn.metrics import r2_score, mean_squared_error, mean_absolute_error\n",
    "from sklearn.pipeline import make_pipeline\n",
    "from sklearn.impute import SimpleImputer\n",
    "from sklearn.feature_selection import SelectKBest, f_regression\n",
    "import datetime\n"
   ]
  },
  {
   "cell_type": "markdown",
   "id": "fd570234",
   "metadata": {},
   "source": [
    "## 3.5.2  Feature Engineering\n",
    "\n",
    "### 3.5.2.1 Converting age column into 4 bins"
   ]
  },
  {
   "cell_type": "code",
   "execution_count": 4,
   "id": "398501a6",
   "metadata": {},
   "outputs": [],
   "source": [
    "## Converting age column into bins \n",
    "vf['age_bins'] = pd.cut(x=vf['Age'], bins=[-1,21,41,61,81], labels=['teens', 'young', 'middle','old'])"
   ]
  },
  {
   "cell_type": "markdown",
   "id": "512cb216",
   "metadata": {},
   "source": [
    "#### Checking the histogram to look at the distribution"
   ]
  },
  {
   "cell_type": "code",
   "execution_count": 5,
   "id": "1a0ba214",
   "metadata": {},
   "outputs": [
    {
     "data": {
      "image/png": "[encoded data removed]",
      "text/plain": [
       "<Figure size 360x360 with 1 Axes>"
      ]
     },
     "metadata": {
      "needs_background": "light"
     },
     "output_type": "display_data"
    }
   ],
   "source": [
    "vf.age_bins.hist(figsize=(5,5))\n",
    "plt.show()"
   ]
  },
  {
   "cell_type": "code",
   "execution_count": 6,
   "id": "a88a8ecd",
   "metadata": {},
   "outputs": [
    {
     "data": {
      "text/plain": [
       "(15420, 34)"
      ]
     },
     "execution_count": 6,
     "metadata": {},
     "output_type": "execute_result"
    }
   ],
   "source": [
    "vf.shape"
   ]
  },
  {
   "cell_type": "markdown",
   "id": "5bd6ce4d",
   "metadata": {},
   "source": [
    "## 3.5.2.2 Making a copy of original data frame\n"
   ]
  },
  {
   "cell_type": "code",
   "execution_count": 7,
   "id": "d3d52ad4",
   "metadata": {},
   "outputs": [],
   "source": [
    "vfm=vf.copy()"
   ]
  },
  {
   "cell_type": "code",
   "execution_count": 8,
   "id": "c560568b",
   "metadata": {},
   "outputs": [],
   "source": [
    "vflabel=vf.copy()"
   ]
  },
  {
   "cell_type": "markdown",
   "id": "57b2ef63",
   "metadata": {},
   "source": [
    "### Dropping features which are not adding any value"
   ]
  },
  {
   "cell_type": "code",
   "execution_count": 9,
   "id": "4e50a00a",
   "metadata": {},
   "outputs": [],
   "source": [
    "vflabel.drop(['PolicyNumber','RepNumber','Age'],axis=1,inplace=True)"
   ]
  },
  {
   "cell_type": "markdown",
   "id": "90e4e820",
   "metadata": {},
   "source": [
    "### Checking the columns in new dataframe"
   ]
  },
  {
   "cell_type": "code",
   "execution_count": 10,
   "id": "acf79596",
   "metadata": {},
   "outputs": [
    {
     "data": {
      "text/plain": [
       "Index(['Month', 'WeekOfMonth', 'DayOfWeek', 'Make', 'AccidentArea',\n",
       "       'DayOfWeekClaimed', 'MonthClaimed', 'WeekOfMonthClaimed', 'Sex',\n",
       "       'MaritalStatus', 'Fault', 'PolicyType', 'VehicleCategory',\n",
       "       'VehiclePrice', 'FraudFound_P', 'Deductible', 'DriverRating',\n",
       "       'Days_Policy_Accident', 'Days_Policy_Claim', 'PastNumberOfClaims',\n",
       "       'AgeOfVehicle', 'AgeOfPolicyHolder', 'PoliceReportFiled',\n",
       "       'WitnessPresent', 'AgentType', 'NumberOfSuppliments',\n",
       "       'AddressChange_Claim', 'NumberOfCars', 'Year', 'BasePolicy',\n",
       "       'age_bins'],\n",
       "      dtype='object')"
      ]
     },
     "execution_count": 10,
     "metadata": {},
     "output_type": "execute_result"
    }
   ],
   "source": [
    "vflabel.columns"
   ]
  },
  {
   "cell_type": "markdown",
   "id": "fbfca21c",
   "metadata": {},
   "source": [
    "### Installing category encoders for doing necessary encoding for categorical features"
   ]
  },
  {
   "cell_type": "code",
   "execution_count": 11,
   "id": "173e0c7b",
   "metadata": {},
   "outputs": [
    {
     "name": "stdout",
     "output_type": "stream",
     "text": [
      "Requirement already satisfied: category_encoders in c:\\users\\vrastogi\\anaconda3\\envs\\pycaret37\\lib\\site-packages (2.5.0)\n",
      "Requirement already satisfied: statsmodels>=0.9.0 in c:\\users\\vrastogi\\anaconda3\\envs\\pycaret37\\lib\\site-packages (from category_encoders) (0.13.2)\n",
      "Requirement already satisfied: scikit-learn>=0.20.0 in c:\\users\\vrastogi\\anaconda3\\envs\\pycaret37\\lib\\site-packages (from category_encoders) (0.23.2)\n",
      "Requirement already satisfied: scipy>=1.0.0 in c:\\users\\vrastogi\\anaconda3\\envs\\pycaret37\\lib\\site-packages (from category_encoders) (1.5.4)\n",
      "Requirement already satisfied: pandas>=1.0.5 in c:\\users\\vrastogi\\anaconda3\\envs\\pycaret37\\lib\\site-packages (from category_encoders) (1.3.5)\n",
      "Requirement already satisfied: patsy>=0.5.1 in c:\\users\\vrastogi\\anaconda3\\envs\\pycaret37\\lib\\site-packages (from category_encoders) (0.5.2)\n",
      "Requirement already satisfied: numpy>=1.14.0 in c:\\users\\vrastogi\\anaconda3\\envs\\pycaret37\\lib\\site-packages (from category_encoders) (1.19.5)\n",
      "Requirement already satisfied: python-dateutil>=2.7.3 in c:\\users\\vrastogi\\anaconda3\\envs\\pycaret37\\lib\\site-packages (from pandas>=1.0.5->category_encoders) (2.8.2)\n",
      "Requirement already satisfied: pytz>=2017.3 in c:\\users\\vrastogi\\anaconda3\\envs\\pycaret37\\lib\\site-packages (from pandas>=1.0.5->category_encoders) (2022.1)\n",
      "Requirement already satisfied: six in c:\\users\\vrastogi\\anaconda3\\envs\\pycaret37\\lib\\site-packages (from patsy>=0.5.1->category_encoders) (1.16.0)\n",
      "Requirement already satisfied: threadpoolctl>=2.0.0 in c:\\users\\vrastogi\\anaconda3\\envs\\pycaret37\\lib\\site-packages (from scikit-learn>=0.20.0->category_encoders) (3.1.0)\n",
      "Requirement already satisfied: joblib>=0.11 in c:\\users\\vrastogi\\anaconda3\\envs\\pycaret37\\lib\\site-packages (from scikit-learn>=0.20.0->category_encoders) (1.1.0)\n",
      "Requirement already satisfied: packaging>=21.3 in c:\\users\\vrastogi\\anaconda3\\envs\\pycaret37\\lib\\site-packages (from statsmodels>=0.9.0->category_encoders) (21.3)\n",
      "Requirement already satisfied: pyparsing!=3.0.5,>=2.0.2 in c:\\users\\vrastogi\\anaconda3\\envs\\pycaret37\\lib\\site-packages (from packaging>=21.3->statsmodels>=0.9.0->category_encoders) (3.0.9)\n"
     ]
    }
   ],
   "source": [
    "!pip install category_encoders"
   ]
  },
  {
   "cell_type": "code",
   "execution_count": 12,
   "id": "6be7f351",
   "metadata": {},
   "outputs": [],
   "source": [
    "import category_encoders as ce"
   ]
  },
  {
   "cell_type": "code",
   "execution_count": 13,
   "id": "1dae6b0a",
   "metadata": {},
   "outputs": [],
   "source": [
    "cols=['Month', 'WeekOfMonth', 'DayOfWeek', 'Make', 'AccidentArea',\n",
    "       'DayOfWeekClaimed', 'MonthClaimed', 'WeekOfMonthClaimed', 'Sex',\n",
    "       'MaritalStatus', 'Fault', 'PolicyType', 'VehicleCategory',\n",
    "       'VehiclePrice', 'Deductible', 'DriverRating',\n",
    "       'Days_Policy_Accident', 'Days_Policy_Claim', 'PastNumberOfClaims',\n",
    "       'AgeOfVehicle', 'AgeOfPolicyHolder', 'PoliceReportFiled',\n",
    "       'WitnessPresent', 'AgentType', 'NumberOfSuppliments',\n",
    "       'AddressChange_Claim', 'NumberOfCars', 'Year', 'BasePolicy',\n",
    "       'age_bins']"
   ]
  },
  {
   "cell_type": "markdown",
   "id": "e0d612ad",
   "metadata": {},
   "source": [
    "###  Using Target Encoder for encoding the categorical features"
   ]
  },
  {
   "cell_type": "code",
   "execution_count": 14,
   "id": "ae345904",
   "metadata": {},
   "outputs": [
    {
     "name": "stderr",
     "output_type": "stream",
     "text": [
      "C:\\Users\\vrastogi\\Anaconda3\\envs\\Pycaret37\\lib\\site-packages\\category_encoders\\target_encoder.py:94: FutureWarning: Default parameter min_samples_leaf will change in version 2.6.See https://github.com/scikit-learn-contrib/category_encoders/issues/327\n",
      "  category=FutureWarning)\n",
      "C:\\Users\\vrastogi\\Anaconda3\\envs\\Pycaret37\\lib\\site-packages\\category_encoders\\target_encoder.py:99: FutureWarning: Default parameter smoothing will change in version 2.6.See https://github.com/scikit-learn-contrib/category_encoders/issues/327\n",
      "  category=FutureWarning)\n"
     ]
    }
   ],
   "source": [
    "enc = ce.TargetEncoder(cols=cols)"
   ]
  },
  {
   "cell_type": "markdown",
   "id": "013fe732",
   "metadata": {},
   "source": [
    "###  Splitting the data into train and test and stratifying by target variable"
   ]
  },
  {
   "cell_type": "code",
   "execution_count": 15,
   "id": "e84520fd",
   "metadata": {},
   "outputs": [],
   "source": [
    "#Peform the train test split \n",
    "X_trl, X_tel, y_trl, y_tel = train_test_split(vflabel.drop(columns='FraudFound_P'), \n",
    "                                                    vflabel.FraudFound_P, test_size=0.2, \n",
    "                                                    random_state=47,stratify=vflabel.FraudFound_P)"
   ]
  },
  {
   "cell_type": "markdown",
   "id": "9fdf6784",
   "metadata": {},
   "source": [
    "###  Transforming train and test features "
   ]
  },
  {
   "cell_type": "code",
   "execution_count": 16,
   "id": "cfab97b1",
   "metadata": {},
   "outputs": [],
   "source": [
    "lab_train = enc.fit_transform(X_trl, y_trl)\n",
    "lab_test=enc.transform(X_tel)"
   ]
  },
  {
   "cell_type": "markdown",
   "id": "c312df2f",
   "metadata": {},
   "source": [
    "###  Checking the info for train data"
   ]
  },
  {
   "cell_type": "code",
   "execution_count": 17,
   "id": "c43b6109",
   "metadata": {},
   "outputs": [
    {
     "name": "stdout",
     "output_type": "stream",
     "text": [
      "<class 'pandas.core.frame.DataFrame'>\n",
      "Int64Index: 12336 entries, 1010 to 3219\n",
      "Data columns (total 30 columns):\n",
      " #   Column                Non-Null Count  Dtype  \n",
      "---  ------                --------------  -----  \n",
      " 0   Month                 12336 non-null  float64\n",
      " 1   WeekOfMonth           12336 non-null  float64\n",
      " 2   DayOfWeek             12336 non-null  float64\n",
      " 3   Make                  12336 non-null  float64\n",
      " 4   AccidentArea          12336 non-null  float64\n",
      " 5   DayOfWeekClaimed      12336 non-null  float64\n",
      " 6   MonthClaimed          12336 non-null  float64\n",
      " 7   WeekOfMonthClaimed    12336 non-null  float64\n",
      " 8   Sex                   12336 non-null  float64\n",
      " 9   MaritalStatus         12336 non-null  float64\n",
      " 10  Fault                 12336 non-null  float64\n",
      " 11  PolicyType            12336 non-null  float64\n",
      " 12  VehicleCategory       12336 non-null  float64\n",
      " 13  VehiclePrice          12336 non-null  float64\n",
      " 14  Deductible            12336 non-null  float64\n",
      " 15  DriverRating          12336 non-null  float64\n",
      " 16  Days_Policy_Accident  12336 non-null  float64\n",
      " 17  Days_Policy_Claim     12336 non-null  float64\n",
      " 18  PastNumberOfClaims    12336 non-null  float64\n",
      " 19  AgeOfVehicle          12336 non-null  float64\n",
      " 20  AgeOfPolicyHolder     12336 non-null  float64\n",
      " 21  PoliceReportFiled     12336 non-null  float64\n",
      " 22  WitnessPresent        12336 non-null  float64\n",
      " 23  AgentType             12336 non-null  float64\n",
      " 24  NumberOfSuppliments   12336 non-null  float64\n",
      " 25  AddressChange_Claim   12336 non-null  float64\n",
      " 26  NumberOfCars          12336 non-null  float64\n",
      " 27  Year                  12336 non-null  float64\n",
      " 28  BasePolicy            12336 non-null  float64\n",
      " 29  age_bins              12336 non-null  float64\n",
      "dtypes: float64(30)\n",
      "memory usage: 2.9 MB\n"
     ]
    }
   ],
   "source": [
    "lab_train.info()"
   ]
  },
  {
   "cell_type": "markdown",
   "id": "929d4e4d",
   "metadata": {},
   "source": [
    "### Checking the info for test data"
   ]
  },
  {
   "cell_type": "code",
   "execution_count": 18,
   "id": "4bb61b9b",
   "metadata": {},
   "outputs": [
    {
     "name": "stdout",
     "output_type": "stream",
     "text": [
      "<class 'pandas.core.frame.DataFrame'>\n",
      "Int64Index: 3084 entries, 14424 to 13338\n",
      "Data columns (total 30 columns):\n",
      " #   Column                Non-Null Count  Dtype  \n",
      "---  ------                --------------  -----  \n",
      " 0   Month                 3084 non-null   float64\n",
      " 1   WeekOfMonth           3084 non-null   float64\n",
      " 2   DayOfWeek             3084 non-null   float64\n",
      " 3   Make                  3084 non-null   float64\n",
      " 4   AccidentArea          3084 non-null   float64\n",
      " 5   DayOfWeekClaimed      3084 non-null   float64\n",
      " 6   MonthClaimed          3084 non-null   float64\n",
      " 7   WeekOfMonthClaimed    3084 non-null   float64\n",
      " 8   Sex                   3084 non-null   float64\n",
      " 9   MaritalStatus         3084 non-null   float64\n",
      " 10  Fault                 3084 non-null   float64\n",
      " 11  PolicyType            3084 non-null   float64\n",
      " 12  VehicleCategory       3084 non-null   float64\n",
      " 13  VehiclePrice          3084 non-null   float64\n",
      " 14  Deductible            3084 non-null   float64\n",
      " 15  DriverRating          3084 non-null   float64\n",
      " 16  Days_Policy_Accident  3084 non-null   float64\n",
      " 17  Days_Policy_Claim     3084 non-null   float64\n",
      " 18  PastNumberOfClaims    3084 non-null   float64\n",
      " 19  AgeOfVehicle          3084 non-null   float64\n",
      " 20  AgeOfPolicyHolder     3084 non-null   float64\n",
      " 21  PoliceReportFiled     3084 non-null   float64\n",
      " 22  WitnessPresent        3084 non-null   float64\n",
      " 23  AgentType             3084 non-null   float64\n",
      " 24  NumberOfSuppliments   3084 non-null   float64\n",
      " 25  AddressChange_Claim   3084 non-null   float64\n",
      " 26  NumberOfCars          3084 non-null   float64\n",
      " 27  Year                  3084 non-null   float64\n",
      " 28  BasePolicy            3084 non-null   float64\n",
      " 29  age_bins              3084 non-null   float64\n",
      "dtypes: float64(30)\n",
      "memory usage: 746.9 KB\n"
     ]
    }
   ],
   "source": [
    "lab_test.info()"
   ]
  },
  {
   "cell_type": "markdown",
   "id": "1b2321e6",
   "metadata": {},
   "source": [
    "### Merging the independent and target variables in the data frame for both train and test data and checking first 5 rows"
   ]
  },
  {
   "cell_type": "code",
   "execution_count": 19,
   "id": "65e89e99",
   "metadata": {},
   "outputs": [
    {
     "data": {
      "text/html": [
       "<div>\n",
       "<style scoped>\n",
       "    .dataframe tbody tr th:only-of-type {\n",
       "        vertical-align: middle;\n",
       "    }\n",
       "\n",
       "    .dataframe tbody tr th {\n",
       "        vertical-align: top;\n",
       "    }\n",
       "\n",
       "    .dataframe thead th {\n",
       "        text-align: right;\n",
       "    }\n",
       "</style>\n",
       "<table border=\"1\" class=\"dataframe\">\n",
       "  <thead>\n",
       "    <tr style=\"text-align: right;\">\n",
       "      <th></th>\n",
       "      <th>1010</th>\n",
       "      <th>14605</th>\n",
       "      <th>5450</th>\n",
       "      <th>3474</th>\n",
       "      <th>3842</th>\n",
       "    </tr>\n",
       "  </thead>\n",
       "  <tbody>\n",
       "    <tr>\n",
       "      <th>Month</th>\n",
       "      <td>0.048924</td>\n",
       "      <td>0.070780</td>\n",
       "      <td>0.074661</td>\n",
       "      <td>0.070780</td>\n",
       "      <td>0.059629</td>\n",
       "    </tr>\n",
       "    <tr>\n",
       "      <th>WeekOfMonth</th>\n",
       "      <td>0.059866</td>\n",
       "      <td>0.055094</td>\n",
       "      <td>0.059866</td>\n",
       "      <td>0.059866</td>\n",
       "      <td>0.057064</td>\n",
       "    </tr>\n",
       "    <tr>\n",
       "      <th>DayOfWeek</th>\n",
       "      <td>0.070664</td>\n",
       "      <td>0.064614</td>\n",
       "      <td>0.062681</td>\n",
       "      <td>0.064614</td>\n",
       "      <td>0.053916</td>\n",
       "    </tr>\n",
       "    <tr>\n",
       "      <th>Make</th>\n",
       "      <td>0.063669</td>\n",
       "      <td>0.057018</td>\n",
       "      <td>0.132597</td>\n",
       "      <td>0.053402</td>\n",
       "      <td>0.056928</td>\n",
       "    </tr>\n",
       "    <tr>\n",
       "      <th>AccidentArea</th>\n",
       "      <td>0.057073</td>\n",
       "      <td>0.057073</td>\n",
       "      <td>0.057073</td>\n",
       "      <td>0.057073</td>\n",
       "      <td>0.083594</td>\n",
       "    </tr>\n",
       "    <tr>\n",
       "      <th>DayOfWeekClaimed</th>\n",
       "      <td>0.057944</td>\n",
       "      <td>0.063532</td>\n",
       "      <td>0.068307</td>\n",
       "      <td>0.063532</td>\n",
       "      <td>0.063532</td>\n",
       "    </tr>\n",
       "    <tr>\n",
       "      <th>MonthClaimed</th>\n",
       "      <td>0.043908</td>\n",
       "      <td>0.057900</td>\n",
       "      <td>0.081264</td>\n",
       "      <td>0.070320</td>\n",
       "      <td>0.077876</td>\n",
       "    </tr>\n",
       "    <tr>\n",
       "      <th>WeekOfMonthClaimed</th>\n",
       "      <td>0.064304</td>\n",
       "      <td>0.057325</td>\n",
       "      <td>0.055276</td>\n",
       "      <td>0.059437</td>\n",
       "      <td>0.064304</td>\n",
       "    </tr>\n",
       "    <tr>\n",
       "      <th>Sex</th>\n",
       "      <td>0.041841</td>\n",
       "      <td>0.063124</td>\n",
       "      <td>0.063124</td>\n",
       "      <td>0.063124</td>\n",
       "      <td>0.063124</td>\n",
       "    </tr>\n",
       "    <tr>\n",
       "      <th>MaritalStatus</th>\n",
       "      <td>0.060319</td>\n",
       "      <td>0.060319</td>\n",
       "      <td>0.060319</td>\n",
       "      <td>0.058529</td>\n",
       "      <td>0.058529</td>\n",
       "    </tr>\n",
       "    <tr>\n",
       "      <th>Fault</th>\n",
       "      <td>0.009564</td>\n",
       "      <td>0.078532</td>\n",
       "      <td>0.078532</td>\n",
       "      <td>0.078532</td>\n",
       "      <td>0.078532</td>\n",
       "    </tr>\n",
       "    <tr>\n",
       "      <th>PolicyType</th>\n",
       "      <td>0.096118</td>\n",
       "      <td>0.006211</td>\n",
       "      <td>0.122302</td>\n",
       "      <td>0.122302</td>\n",
       "      <td>0.073099</td>\n",
       "    </tr>\n",
       "    <tr>\n",
       "      <th>VehicleCategory</th>\n",
       "      <td>0.082813</td>\n",
       "      <td>0.015018</td>\n",
       "      <td>0.113924</td>\n",
       "      <td>0.113924</td>\n",
       "      <td>0.082813</td>\n",
       "    </tr>\n",
       "    <tr>\n",
       "      <th>VehiclePrice</th>\n",
       "      <td>0.052802</td>\n",
       "      <td>0.051255</td>\n",
       "      <td>0.086732</td>\n",
       "      <td>0.086732</td>\n",
       "      <td>0.052802</td>\n",
       "    </tr>\n",
       "    <tr>\n",
       "      <th>Deductible</th>\n",
       "      <td>0.057446</td>\n",
       "      <td>0.057446</td>\n",
       "      <td>0.057446</td>\n",
       "      <td>0.057446</td>\n",
       "      <td>0.057446</td>\n",
       "    </tr>\n",
       "    <tr>\n",
       "      <th>DriverRating</th>\n",
       "      <td>0.061988</td>\n",
       "      <td>0.056398</td>\n",
       "      <td>0.056398</td>\n",
       "      <td>0.056398</td>\n",
       "      <td>0.057643</td>\n",
       "    </tr>\n",
       "    <tr>\n",
       "      <th>Days_Policy_Accident</th>\n",
       "      <td>0.059421</td>\n",
       "      <td>0.059421</td>\n",
       "      <td>0.059421</td>\n",
       "      <td>0.059421</td>\n",
       "      <td>0.059421</td>\n",
       "    </tr>\n",
       "    <tr>\n",
       "      <th>Days_Policy_Claim</th>\n",
       "      <td>0.059394</td>\n",
       "      <td>0.059394</td>\n",
       "      <td>0.059394</td>\n",
       "      <td>0.059394</td>\n",
       "      <td>0.059394</td>\n",
       "    </tr>\n",
       "    <tr>\n",
       "      <th>PastNumberOfClaims</th>\n",
       "      <td>0.077430</td>\n",
       "      <td>0.053825</td>\n",
       "      <td>0.061784</td>\n",
       "      <td>0.053825</td>\n",
       "      <td>0.077430</td>\n",
       "    </tr>\n",
       "    <tr>\n",
       "      <th>AgeOfVehicle</th>\n",
       "      <td>0.055508</td>\n",
       "      <td>0.065691</td>\n",
       "      <td>0.055508</td>\n",
       "      <td>0.055508</td>\n",
       "      <td>0.055508</td>\n",
       "    </tr>\n",
       "    <tr>\n",
       "      <th>AgeOfPolicyHolder</th>\n",
       "      <td>0.054921</td>\n",
       "      <td>0.066343</td>\n",
       "      <td>0.066343</td>\n",
       "      <td>0.066343</td>\n",
       "      <td>0.066343</td>\n",
       "    </tr>\n",
       "    <tr>\n",
       "      <th>PoliceReportFiled</th>\n",
       "      <td>0.060333</td>\n",
       "      <td>0.060333</td>\n",
       "      <td>0.060333</td>\n",
       "      <td>0.060333</td>\n",
       "      <td>0.060333</td>\n",
       "    </tr>\n",
       "    <tr>\n",
       "      <th>WitnessPresent</th>\n",
       "      <td>0.059932</td>\n",
       "      <td>0.059932</td>\n",
       "      <td>0.059932</td>\n",
       "      <td>0.059932</td>\n",
       "      <td>0.059932</td>\n",
       "    </tr>\n",
       "    <tr>\n",
       "      <th>AgentType</th>\n",
       "      <td>0.060416</td>\n",
       "      <td>0.060416</td>\n",
       "      <td>0.060416</td>\n",
       "      <td>0.060416</td>\n",
       "      <td>0.060416</td>\n",
       "    </tr>\n",
       "    <tr>\n",
       "      <th>NumberOfSuppliments</th>\n",
       "      <td>0.050129</td>\n",
       "      <td>0.050129</td>\n",
       "      <td>0.068262</td>\n",
       "      <td>0.062532</td>\n",
       "      <td>0.050129</td>\n",
       "    </tr>\n",
       "    <tr>\n",
       "      <th>AddressChange_Claim</th>\n",
       "      <td>0.057640</td>\n",
       "      <td>0.057640</td>\n",
       "      <td>0.057640</td>\n",
       "      <td>0.057640</td>\n",
       "      <td>0.057640</td>\n",
       "    </tr>\n",
       "    <tr>\n",
       "      <th>NumberOfCars</th>\n",
       "      <td>0.059729</td>\n",
       "      <td>0.059729</td>\n",
       "      <td>0.059729</td>\n",
       "      <td>0.059729</td>\n",
       "      <td>0.059729</td>\n",
       "    </tr>\n",
       "    <tr>\n",
       "      <th>Year</th>\n",
       "      <td>0.065614</td>\n",
       "      <td>0.051809</td>\n",
       "      <td>0.065614</td>\n",
       "      <td>0.065614</td>\n",
       "      <td>0.065614</td>\n",
       "    </tr>\n",
       "    <tr>\n",
       "      <th>BasePolicy</th>\n",
       "      <td>0.097630</td>\n",
       "      <td>0.006185</td>\n",
       "      <td>0.097630</td>\n",
       "      <td>0.097630</td>\n",
       "      <td>0.077263</td>\n",
       "    </tr>\n",
       "    <tr>\n",
       "      <th>age_bins</th>\n",
       "      <td>0.049282</td>\n",
       "      <td>0.063935</td>\n",
       "      <td>0.063935</td>\n",
       "      <td>0.063935</td>\n",
       "      <td>0.063935</td>\n",
       "    </tr>\n",
       "    <tr>\n",
       "      <th>FraudFound_P</th>\n",
       "      <td>0.000000</td>\n",
       "      <td>0.000000</td>\n",
       "      <td>1.000000</td>\n",
       "      <td>0.000000</td>\n",
       "      <td>0.000000</td>\n",
       "    </tr>\n",
       "  </tbody>\n",
       "</table>\n",
       "</div>"
      ],
      "text/plain": [
       "                         1010      14605     5450      3474      3842 \n",
       "Month                 0.048924  0.070780  0.074661  0.070780  0.059629\n",
       "WeekOfMonth           0.059866  0.055094  0.059866  0.059866  0.057064\n",
       "DayOfWeek             0.070664  0.064614  0.062681  0.064614  0.053916\n",
       "Make                  0.063669  0.057018  0.132597  0.053402  0.056928\n",
       "AccidentArea          0.057073  0.057073  0.057073  0.057073  0.083594\n",
       "DayOfWeekClaimed      0.057944  0.063532  0.068307  0.063532  0.063532\n",
       "MonthClaimed          0.043908  0.057900  0.081264  0.070320  0.077876\n",
       "WeekOfMonthClaimed    0.064304  0.057325  0.055276  0.059437  0.064304\n",
       "Sex                   0.041841  0.063124  0.063124  0.063124  0.063124\n",
       "MaritalStatus         0.060319  0.060319  0.060319  0.058529  0.058529\n",
       "Fault                 0.009564  0.078532  0.078532  0.078532  0.078532\n",
       "PolicyType            0.096118  0.006211  0.122302  0.122302  0.073099\n",
       "VehicleCategory       0.082813  0.015018  0.113924  0.113924  0.082813\n",
       "VehiclePrice          0.052802  0.051255  0.086732  0.086732  0.052802\n",
       "Deductible            0.057446  0.057446  0.057446  0.057446  0.057446\n",
       "DriverRating          0.061988  0.056398  0.056398  0.056398  0.057643\n",
       "Days_Policy_Accident  0.059421  0.059421  0.059421  0.059421  0.059421\n",
       "Days_Policy_Claim     0.059394  0.059394  0.059394  0.059394  0.059394\n",
       "PastNumberOfClaims    0.077430  0.053825  0.061784  0.053825  0.077430\n",
       "AgeOfVehicle          0.055508  0.065691  0.055508  0.055508  0.055508\n",
       "AgeOfPolicyHolder     0.054921  0.066343  0.066343  0.066343  0.066343\n",
       "PoliceReportFiled     0.060333  0.060333  0.060333  0.060333  0.060333\n",
       "WitnessPresent        0.059932  0.059932  0.059932  0.059932  0.059932\n",
       "AgentType             0.060416  0.060416  0.060416  0.060416  0.060416\n",
       "NumberOfSuppliments   0.050129  0.050129  0.068262  0.062532  0.050129\n",
       "AddressChange_Claim   0.057640  0.057640  0.057640  0.057640  0.057640\n",
       "NumberOfCars          0.059729  0.059729  0.059729  0.059729  0.059729\n",
       "Year                  0.065614  0.051809  0.065614  0.065614  0.065614\n",
       "BasePolicy            0.097630  0.006185  0.097630  0.097630  0.077263\n",
       "age_bins              0.049282  0.063935  0.063935  0.063935  0.063935\n",
       "FraudFound_P          0.000000  0.000000  1.000000  0.000000  0.000000"
      ]
     },
     "execution_count": 19,
     "metadata": {},
     "output_type": "execute_result"
    }
   ],
   "source": [
    "lab_traindf=pd.concat([lab_train,y_trl],axis='columns')\n",
    "lab_testdf=pd.concat([lab_test,y_tel],axis='columns')\n",
    "lab_traindf.head(5).T"
   ]
  },
  {
   "cell_type": "markdown",
   "id": "4a8ab902",
   "metadata": {},
   "source": [
    "### Using pycaret for quickly checking the impact of targer encoder on different model performance: \n",
    "#### We are doing this exercise only on train data "
   ]
  },
  {
   "cell_type": "code",
   "execution_count": 22,
   "id": "88c80011",
   "metadata": {},
   "outputs": [
    {
     "data": {
      "text/html": [
       "<style type=\"text/css\">\n",
       "#T_40c46_row37_col1, #T_40c46_row42_col1, #T_40c46_row44_col1, #T_40c46_row52_col1, #T_40c46_row58_col1 {\n",
       "  background-color: lightgreen;\n",
       "}\n",
       "</style>\n",
       "<table id=\"T_40c46_\">\n",
       "  <thead>\n",
       "    <tr>\n",
       "      <th class=\"blank level0\" >&nbsp;</th>\n",
       "      <th class=\"col_heading level0 col0\" >Description</th>\n",
       "      <th class=\"col_heading level0 col1\" >Value</th>\n",
       "    </tr>\n",
       "  </thead>\n",
       "  <tbody>\n",
       "    <tr>\n",
       "      <th id=\"T_40c46_level0_row0\" class=\"row_heading level0 row0\" >0</th>\n",
       "      <td id=\"T_40c46_row0_col0\" class=\"data row0 col0\" >session_id</td>\n",
       "      <td id=\"T_40c46_row0_col1\" class=\"data row0 col1\" >1122</td>\n",
       "    </tr>\n",
       "    <tr>\n",
       "      <th id=\"T_40c46_level0_row1\" class=\"row_heading level0 row1\" >1</th>\n",
       "      <td id=\"T_40c46_row1_col0\" class=\"data row1 col0\" >Target</td>\n",
       "      <td id=\"T_40c46_row1_col1\" class=\"data row1 col1\" >FraudFound_P</td>\n",
       "    </tr>\n",
       "    <tr>\n",
       "      <th id=\"T_40c46_level0_row2\" class=\"row_heading level0 row2\" >2</th>\n",
       "      <td id=\"T_40c46_row2_col0\" class=\"data row2 col0\" >Target Type</td>\n",
       "      <td id=\"T_40c46_row2_col1\" class=\"data row2 col1\" >Binary</td>\n",
       "    </tr>\n",
       "    <tr>\n",
       "      <th id=\"T_40c46_level0_row3\" class=\"row_heading level0 row3\" >3</th>\n",
       "      <td id=\"T_40c46_row3_col0\" class=\"data row3 col0\" >Label Encoded</td>\n",
       "      <td id=\"T_40c46_row3_col1\" class=\"data row3 col1\" >None</td>\n",
       "    </tr>\n",
       "    <tr>\n",
       "      <th id=\"T_40c46_level0_row4\" class=\"row_heading level0 row4\" >4</th>\n",
       "      <td id=\"T_40c46_row4_col0\" class=\"data row4 col0\" >Original Data</td>\n",
       "      <td id=\"T_40c46_row4_col1\" class=\"data row4 col1\" >(12336, 31)</td>\n",
       "    </tr>\n",
       "    <tr>\n",
       "      <th id=\"T_40c46_level0_row5\" class=\"row_heading level0 row5\" >5</th>\n",
       "      <td id=\"T_40c46_row5_col0\" class=\"data row5 col0\" >Missing Values</td>\n",
       "      <td id=\"T_40c46_row5_col1\" class=\"data row5 col1\" >False</td>\n",
       "    </tr>\n",
       "    <tr>\n",
       "      <th id=\"T_40c46_level0_row6\" class=\"row_heading level0 row6\" >6</th>\n",
       "      <td id=\"T_40c46_row6_col0\" class=\"data row6 col0\" >Numeric Features</td>\n",
       "      <td id=\"T_40c46_row6_col1\" class=\"data row6 col1\" >24</td>\n",
       "    </tr>\n",
       "    <tr>\n",
       "      <th id=\"T_40c46_level0_row7\" class=\"row_heading level0 row7\" >7</th>\n",
       "      <td id=\"T_40c46_row7_col0\" class=\"data row7 col0\" >Categorical Features</td>\n",
       "      <td id=\"T_40c46_row7_col1\" class=\"data row7 col1\" >6</td>\n",
       "    </tr>\n",
       "    <tr>\n",
       "      <th id=\"T_40c46_level0_row8\" class=\"row_heading level0 row8\" >8</th>\n",
       "      <td id=\"T_40c46_row8_col0\" class=\"data row8 col0\" >Ordinal Features</td>\n",
       "      <td id=\"T_40c46_row8_col1\" class=\"data row8 col1\" >False</td>\n",
       "    </tr>\n",
       "    <tr>\n",
       "      <th id=\"T_40c46_level0_row9\" class=\"row_heading level0 row9\" >9</th>\n",
       "      <td id=\"T_40c46_row9_col0\" class=\"data row9 col0\" >High Cardinality Features</td>\n",
       "      <td id=\"T_40c46_row9_col1\" class=\"data row9 col1\" >False</td>\n",
       "    </tr>\n",
       "    <tr>\n",
       "      <th id=\"T_40c46_level0_row10\" class=\"row_heading level0 row10\" >10</th>\n",
       "      <td id=\"T_40c46_row10_col0\" class=\"data row10 col0\" >High Cardinality Method</td>\n",
       "      <td id=\"T_40c46_row10_col1\" class=\"data row10 col1\" >None</td>\n",
       "    </tr>\n",
       "    <tr>\n",
       "      <th id=\"T_40c46_level0_row11\" class=\"row_heading level0 row11\" >11</th>\n",
       "      <td id=\"T_40c46_row11_col0\" class=\"data row11 col0\" >Transformed Train Set</td>\n",
       "      <td id=\"T_40c46_row11_col1\" class=\"data row11 col1\" >(9868, 15)</td>\n",
       "    </tr>\n",
       "    <tr>\n",
       "      <th id=\"T_40c46_level0_row12\" class=\"row_heading level0 row12\" >12</th>\n",
       "      <td id=\"T_40c46_row12_col0\" class=\"data row12 col0\" >Transformed Test Set</td>\n",
       "      <td id=\"T_40c46_row12_col1\" class=\"data row12 col1\" >(2468, 15)</td>\n",
       "    </tr>\n",
       "    <tr>\n",
       "      <th id=\"T_40c46_level0_row13\" class=\"row_heading level0 row13\" >13</th>\n",
       "      <td id=\"T_40c46_row13_col0\" class=\"data row13 col0\" >Shuffle Train-Test</td>\n",
       "      <td id=\"T_40c46_row13_col1\" class=\"data row13 col1\" >True</td>\n",
       "    </tr>\n",
       "    <tr>\n",
       "      <th id=\"T_40c46_level0_row14\" class=\"row_heading level0 row14\" >14</th>\n",
       "      <td id=\"T_40c46_row14_col0\" class=\"data row14 col0\" >Stratify Train-Test</td>\n",
       "      <td id=\"T_40c46_row14_col1\" class=\"data row14 col1\" >True</td>\n",
       "    </tr>\n",
       "    <tr>\n",
       "      <th id=\"T_40c46_level0_row15\" class=\"row_heading level0 row15\" >15</th>\n",
       "      <td id=\"T_40c46_row15_col0\" class=\"data row15 col0\" >Fold Generator</td>\n",
       "      <td id=\"T_40c46_row15_col1\" class=\"data row15 col1\" >StratifiedKFold</td>\n",
       "    </tr>\n",
       "    <tr>\n",
       "      <th id=\"T_40c46_level0_row16\" class=\"row_heading level0 row16\" >16</th>\n",
       "      <td id=\"T_40c46_row16_col0\" class=\"data row16 col0\" >Fold Number</td>\n",
       "      <td id=\"T_40c46_row16_col1\" class=\"data row16 col1\" >10</td>\n",
       "    </tr>\n",
       "    <tr>\n",
       "      <th id=\"T_40c46_level0_row17\" class=\"row_heading level0 row17\" >17</th>\n",
       "      <td id=\"T_40c46_row17_col0\" class=\"data row17 col0\" >CPU Jobs</td>\n",
       "      <td id=\"T_40c46_row17_col1\" class=\"data row17 col1\" >-1</td>\n",
       "    </tr>\n",
       "    <tr>\n",
       "      <th id=\"T_40c46_level0_row18\" class=\"row_heading level0 row18\" >18</th>\n",
       "      <td id=\"T_40c46_row18_col0\" class=\"data row18 col0\" >Use GPU</td>\n",
       "      <td id=\"T_40c46_row18_col1\" class=\"data row18 col1\" >False</td>\n",
       "    </tr>\n",
       "    <tr>\n",
       "      <th id=\"T_40c46_level0_row19\" class=\"row_heading level0 row19\" >19</th>\n",
       "      <td id=\"T_40c46_row19_col0\" class=\"data row19 col0\" >Log Experiment</td>\n",
       "      <td id=\"T_40c46_row19_col1\" class=\"data row19 col1\" >False</td>\n",
       "    </tr>\n",
       "    <tr>\n",
       "      <th id=\"T_40c46_level0_row20\" class=\"row_heading level0 row20\" >20</th>\n",
       "      <td id=\"T_40c46_row20_col0\" class=\"data row20 col0\" >Experiment Name</td>\n",
       "      <td id=\"T_40c46_row20_col1\" class=\"data row20 col1\" >clf-default-name</td>\n",
       "    </tr>\n",
       "    <tr>\n",
       "      <th id=\"T_40c46_level0_row21\" class=\"row_heading level0 row21\" >21</th>\n",
       "      <td id=\"T_40c46_row21_col0\" class=\"data row21 col0\" >USI</td>\n",
       "      <td id=\"T_40c46_row21_col1\" class=\"data row21 col1\" >7ba8</td>\n",
       "    </tr>\n",
       "    <tr>\n",
       "      <th id=\"T_40c46_level0_row22\" class=\"row_heading level0 row22\" >22</th>\n",
       "      <td id=\"T_40c46_row22_col0\" class=\"data row22 col0\" >Imputation Type</td>\n",
       "      <td id=\"T_40c46_row22_col1\" class=\"data row22 col1\" >simple</td>\n",
       "    </tr>\n",
       "    <tr>\n",
       "      <th id=\"T_40c46_level0_row23\" class=\"row_heading level0 row23\" >23</th>\n",
       "      <td id=\"T_40c46_row23_col0\" class=\"data row23 col0\" >Iterative Imputation Iteration</td>\n",
       "      <td id=\"T_40c46_row23_col1\" class=\"data row23 col1\" >None</td>\n",
       "    </tr>\n",
       "    <tr>\n",
       "      <th id=\"T_40c46_level0_row24\" class=\"row_heading level0 row24\" >24</th>\n",
       "      <td id=\"T_40c46_row24_col0\" class=\"data row24 col0\" >Numeric Imputer</td>\n",
       "      <td id=\"T_40c46_row24_col1\" class=\"data row24 col1\" >mean</td>\n",
       "    </tr>\n",
       "    <tr>\n",
       "      <th id=\"T_40c46_level0_row25\" class=\"row_heading level0 row25\" >25</th>\n",
       "      <td id=\"T_40c46_row25_col0\" class=\"data row25 col0\" >Iterative Imputation Numeric Model</td>\n",
       "      <td id=\"T_40c46_row25_col1\" class=\"data row25 col1\" >None</td>\n",
       "    </tr>\n",
       "    <tr>\n",
       "      <th id=\"T_40c46_level0_row26\" class=\"row_heading level0 row26\" >26</th>\n",
       "      <td id=\"T_40c46_row26_col0\" class=\"data row26 col0\" >Categorical Imputer</td>\n",
       "      <td id=\"T_40c46_row26_col1\" class=\"data row26 col1\" >constant</td>\n",
       "    </tr>\n",
       "    <tr>\n",
       "      <th id=\"T_40c46_level0_row27\" class=\"row_heading level0 row27\" >27</th>\n",
       "      <td id=\"T_40c46_row27_col0\" class=\"data row27 col0\" >Iterative Imputation Categorical Model</td>\n",
       "      <td id=\"T_40c46_row27_col1\" class=\"data row27 col1\" >None</td>\n",
       "    </tr>\n",
       "    <tr>\n",
       "      <th id=\"T_40c46_level0_row28\" class=\"row_heading level0 row28\" >28</th>\n",
       "      <td id=\"T_40c46_row28_col0\" class=\"data row28 col0\" >Unknown Categoricals Handling</td>\n",
       "      <td id=\"T_40c46_row28_col1\" class=\"data row28 col1\" >least_frequent</td>\n",
       "    </tr>\n",
       "    <tr>\n",
       "      <th id=\"T_40c46_level0_row29\" class=\"row_heading level0 row29\" >29</th>\n",
       "      <td id=\"T_40c46_row29_col0\" class=\"data row29 col0\" >Normalize</td>\n",
       "      <td id=\"T_40c46_row29_col1\" class=\"data row29 col1\" >False</td>\n",
       "    </tr>\n",
       "    <tr>\n",
       "      <th id=\"T_40c46_level0_row30\" class=\"row_heading level0 row30\" >30</th>\n",
       "      <td id=\"T_40c46_row30_col0\" class=\"data row30 col0\" >Normalize Method</td>\n",
       "      <td id=\"T_40c46_row30_col1\" class=\"data row30 col1\" >None</td>\n",
       "    </tr>\n",
       "    <tr>\n",
       "      <th id=\"T_40c46_level0_row31\" class=\"row_heading level0 row31\" >31</th>\n",
       "      <td id=\"T_40c46_row31_col0\" class=\"data row31 col0\" >Transformation</td>\n",
       "      <td id=\"T_40c46_row31_col1\" class=\"data row31 col1\" >False</td>\n",
       "    </tr>\n",
       "    <tr>\n",
       "      <th id=\"T_40c46_level0_row32\" class=\"row_heading level0 row32\" >32</th>\n",
       "      <td id=\"T_40c46_row32_col0\" class=\"data row32 col0\" >Transformation Method</td>\n",
       "      <td id=\"T_40c46_row32_col1\" class=\"data row32 col1\" >None</td>\n",
       "    </tr>\n",
       "    <tr>\n",
       "      <th id=\"T_40c46_level0_row33\" class=\"row_heading level0 row33\" >33</th>\n",
       "      <td id=\"T_40c46_row33_col0\" class=\"data row33 col0\" >PCA</td>\n",
       "      <td id=\"T_40c46_row33_col1\" class=\"data row33 col1\" >False</td>\n",
       "    </tr>\n",
       "    <tr>\n",
       "      <th id=\"T_40c46_level0_row34\" class=\"row_heading level0 row34\" >34</th>\n",
       "      <td id=\"T_40c46_row34_col0\" class=\"data row34 col0\" >PCA Method</td>\n",
       "      <td id=\"T_40c46_row34_col1\" class=\"data row34 col1\" >None</td>\n",
       "    </tr>\n",
       "    <tr>\n",
       "      <th id=\"T_40c46_level0_row35\" class=\"row_heading level0 row35\" >35</th>\n",
       "      <td id=\"T_40c46_row35_col0\" class=\"data row35 col0\" >PCA Components</td>\n",
       "      <td id=\"T_40c46_row35_col1\" class=\"data row35 col1\" >None</td>\n",
       "    </tr>\n",
       "    <tr>\n",
       "      <th id=\"T_40c46_level0_row36\" class=\"row_heading level0 row36\" >36</th>\n",
       "      <td id=\"T_40c46_row36_col0\" class=\"data row36 col0\" >Ignore Low Variance</td>\n",
       "      <td id=\"T_40c46_row36_col1\" class=\"data row36 col1\" >False</td>\n",
       "    </tr>\n",
       "    <tr>\n",
       "      <th id=\"T_40c46_level0_row37\" class=\"row_heading level0 row37\" >37</th>\n",
       "      <td id=\"T_40c46_row37_col0\" class=\"data row37 col0\" >Combine Rare Levels</td>\n",
       "      <td id=\"T_40c46_row37_col1\" class=\"data row37 col1\" >True</td>\n",
       "    </tr>\n",
       "    <tr>\n",
       "      <th id=\"T_40c46_level0_row38\" class=\"row_heading level0 row38\" >38</th>\n",
       "      <td id=\"T_40c46_row38_col0\" class=\"data row38 col0\" >Rare Level Threshold</td>\n",
       "      <td id=\"T_40c46_row38_col1\" class=\"data row38 col1\" >0.100000</td>\n",
       "    </tr>\n",
       "    <tr>\n",
       "      <th id=\"T_40c46_level0_row39\" class=\"row_heading level0 row39\" >39</th>\n",
       "      <td id=\"T_40c46_row39_col0\" class=\"data row39 col0\" >Numeric Binning</td>\n",
       "      <td id=\"T_40c46_row39_col1\" class=\"data row39 col1\" >False</td>\n",
       "    </tr>\n",
       "    <tr>\n",
       "      <th id=\"T_40c46_level0_row40\" class=\"row_heading level0 row40\" >40</th>\n",
       "      <td id=\"T_40c46_row40_col0\" class=\"data row40 col0\" >Remove Outliers</td>\n",
       "      <td id=\"T_40c46_row40_col1\" class=\"data row40 col1\" >False</td>\n",
       "    </tr>\n",
       "    <tr>\n",
       "      <th id=\"T_40c46_level0_row41\" class=\"row_heading level0 row41\" >41</th>\n",
       "      <td id=\"T_40c46_row41_col0\" class=\"data row41 col0\" >Outliers Threshold</td>\n",
       "      <td id=\"T_40c46_row41_col1\" class=\"data row41 col1\" >None</td>\n",
       "    </tr>\n",
       "    <tr>\n",
       "      <th id=\"T_40c46_level0_row42\" class=\"row_heading level0 row42\" >42</th>\n",
       "      <td id=\"T_40c46_row42_col0\" class=\"data row42 col0\" >Remove Multicollinearity</td>\n",
       "      <td id=\"T_40c46_row42_col1\" class=\"data row42 col1\" >True</td>\n",
       "    </tr>\n",
       "    <tr>\n",
       "      <th id=\"T_40c46_level0_row43\" class=\"row_heading level0 row43\" >43</th>\n",
       "      <td id=\"T_40c46_row43_col0\" class=\"data row43 col0\" >Multicollinearity Threshold</td>\n",
       "      <td id=\"T_40c46_row43_col1\" class=\"data row43 col1\" >0.900000</td>\n",
       "    </tr>\n",
       "    <tr>\n",
       "      <th id=\"T_40c46_level0_row44\" class=\"row_heading level0 row44\" >44</th>\n",
       "      <td id=\"T_40c46_row44_col0\" class=\"data row44 col0\" >Remove Perfect Collinearity</td>\n",
       "      <td id=\"T_40c46_row44_col1\" class=\"data row44 col1\" >True</td>\n",
       "    </tr>\n",
       "    <tr>\n",
       "      <th id=\"T_40c46_level0_row45\" class=\"row_heading level0 row45\" >45</th>\n",
       "      <td id=\"T_40c46_row45_col0\" class=\"data row45 col0\" >Clustering</td>\n",
       "      <td id=\"T_40c46_row45_col1\" class=\"data row45 col1\" >False</td>\n",
       "    </tr>\n",
       "    <tr>\n",
       "      <th id=\"T_40c46_level0_row46\" class=\"row_heading level0 row46\" >46</th>\n",
       "      <td id=\"T_40c46_row46_col0\" class=\"data row46 col0\" >Clustering Iteration</td>\n",
       "      <td id=\"T_40c46_row46_col1\" class=\"data row46 col1\" >None</td>\n",
       "    </tr>\n",
       "    <tr>\n",
       "      <th id=\"T_40c46_level0_row47\" class=\"row_heading level0 row47\" >47</th>\n",
       "      <td id=\"T_40c46_row47_col0\" class=\"data row47 col0\" >Polynomial Features</td>\n",
       "      <td id=\"T_40c46_row47_col1\" class=\"data row47 col1\" >False</td>\n",
       "    </tr>\n",
       "    <tr>\n",
       "      <th id=\"T_40c46_level0_row48\" class=\"row_heading level0 row48\" >48</th>\n",
       "      <td id=\"T_40c46_row48_col0\" class=\"data row48 col0\" >Polynomial Degree</td>\n",
       "      <td id=\"T_40c46_row48_col1\" class=\"data row48 col1\" >None</td>\n",
       "    </tr>\n",
       "    <tr>\n",
       "      <th id=\"T_40c46_level0_row49\" class=\"row_heading level0 row49\" >49</th>\n",
       "      <td id=\"T_40c46_row49_col0\" class=\"data row49 col0\" >Trignometry Features</td>\n",
       "      <td id=\"T_40c46_row49_col1\" class=\"data row49 col1\" >False</td>\n",
       "    </tr>\n",
       "    <tr>\n",
       "      <th id=\"T_40c46_level0_row50\" class=\"row_heading level0 row50\" >50</th>\n",
       "      <td id=\"T_40c46_row50_col0\" class=\"data row50 col0\" >Polynomial Threshold</td>\n",
       "      <td id=\"T_40c46_row50_col1\" class=\"data row50 col1\" >None</td>\n",
       "    </tr>\n",
       "    <tr>\n",
       "      <th id=\"T_40c46_level0_row51\" class=\"row_heading level0 row51\" >51</th>\n",
       "      <td id=\"T_40c46_row51_col0\" class=\"data row51 col0\" >Group Features</td>\n",
       "      <td id=\"T_40c46_row51_col1\" class=\"data row51 col1\" >False</td>\n",
       "    </tr>\n",
       "    <tr>\n",
       "      <th id=\"T_40c46_level0_row52\" class=\"row_heading level0 row52\" >52</th>\n",
       "      <td id=\"T_40c46_row52_col0\" class=\"data row52 col0\" >Feature Selection</td>\n",
       "      <td id=\"T_40c46_row52_col1\" class=\"data row52 col1\" >True</td>\n",
       "    </tr>\n",
       "    <tr>\n",
       "      <th id=\"T_40c46_level0_row53\" class=\"row_heading level0 row53\" >53</th>\n",
       "      <td id=\"T_40c46_row53_col0\" class=\"data row53 col0\" >Feature Selection Method</td>\n",
       "      <td id=\"T_40c46_row53_col1\" class=\"data row53 col1\" >classic</td>\n",
       "    </tr>\n",
       "    <tr>\n",
       "      <th id=\"T_40c46_level0_row54\" class=\"row_heading level0 row54\" >54</th>\n",
       "      <td id=\"T_40c46_row54_col0\" class=\"data row54 col0\" >Features Selection Threshold</td>\n",
       "      <td id=\"T_40c46_row54_col1\" class=\"data row54 col1\" >0.300000</td>\n",
       "    </tr>\n",
       "    <tr>\n",
       "      <th id=\"T_40c46_level0_row55\" class=\"row_heading level0 row55\" >55</th>\n",
       "      <td id=\"T_40c46_row55_col0\" class=\"data row55 col0\" >Feature Interaction</td>\n",
       "      <td id=\"T_40c46_row55_col1\" class=\"data row55 col1\" >False</td>\n",
       "    </tr>\n",
       "    <tr>\n",
       "      <th id=\"T_40c46_level0_row56\" class=\"row_heading level0 row56\" >56</th>\n",
       "      <td id=\"T_40c46_row56_col0\" class=\"data row56 col0\" >Feature Ratio</td>\n",
       "      <td id=\"T_40c46_row56_col1\" class=\"data row56 col1\" >False</td>\n",
       "    </tr>\n",
       "    <tr>\n",
       "      <th id=\"T_40c46_level0_row57\" class=\"row_heading level0 row57\" >57</th>\n",
       "      <td id=\"T_40c46_row57_col0\" class=\"data row57 col0\" >Interaction Threshold</td>\n",
       "      <td id=\"T_40c46_row57_col1\" class=\"data row57 col1\" >None</td>\n",
       "    </tr>\n",
       "    <tr>\n",
       "      <th id=\"T_40c46_level0_row58\" class=\"row_heading level0 row58\" >58</th>\n",
       "      <td id=\"T_40c46_row58_col0\" class=\"data row58 col0\" >Fix Imbalance</td>\n",
       "      <td id=\"T_40c46_row58_col1\" class=\"data row58 col1\" >True</td>\n",
       "    </tr>\n",
       "    <tr>\n",
       "      <th id=\"T_40c46_level0_row59\" class=\"row_heading level0 row59\" >59</th>\n",
       "      <td id=\"T_40c46_row59_col0\" class=\"data row59 col0\" >Fix Imbalance Method</td>\n",
       "      <td id=\"T_40c46_row59_col1\" class=\"data row59 col1\" >SMOTE</td>\n",
       "    </tr>\n",
       "  </tbody>\n",
       "</table>\n"
      ],
      "text/plain": [
       "<pandas.io.formats.style.Styler at 0x181db6bd688>"
      ]
     },
     "metadata": {},
     "output_type": "display_data"
    }
   ],
   "source": [
    "\n",
    "from pycaret.classification import *\n",
    "s = setup(lab_traindf, target = 'FraudFound_P',data_split_stratify=True,\n",
    "          fix_imbalance = True,train_size=0.8,fold_shuffle=True,\n",
    "            feature_selection=True,feature_selection_threshold=0.3,\n",
    "            ignore_low_variance =False,remove_multicollinearity = True,combine_rare_levels=True,session_id=1122)"
   ]
  },
  {
   "cell_type": "code",
   "execution_count": 23,
   "id": "05488908",
   "metadata": {
    "scrolled": true
   },
   "outputs": [
    {
     "data": {
      "text/html": [
       "<style type=\"text/css\">\n",
       "#T_38499_ th {\n",
       "  text-align: left;\n",
       "}\n",
       "#T_38499_row0_col0, #T_38499_row0_col3, #T_38499_row0_col4, #T_38499_row0_col5, #T_38499_row0_col6, #T_38499_row0_col7, #T_38499_row1_col0, #T_38499_row1_col1, #T_38499_row1_col2, #T_38499_row1_col3, #T_38499_row1_col5, #T_38499_row1_col6, #T_38499_row1_col7, #T_38499_row2_col0, #T_38499_row2_col1, #T_38499_row2_col2, #T_38499_row2_col3, #T_38499_row2_col4, #T_38499_row2_col5, #T_38499_row2_col6, #T_38499_row2_col7, #T_38499_row3_col0, #T_38499_row3_col1, #T_38499_row3_col2, #T_38499_row3_col3, #T_38499_row3_col4, #T_38499_row3_col5, #T_38499_row3_col6, #T_38499_row3_col7, #T_38499_row4_col0, #T_38499_row4_col1, #T_38499_row4_col2, #T_38499_row4_col3, #T_38499_row4_col4, #T_38499_row4_col5, #T_38499_row4_col6, #T_38499_row4_col7, #T_38499_row5_col0, #T_38499_row5_col1, #T_38499_row5_col2, #T_38499_row5_col3, #T_38499_row5_col4, #T_38499_row5_col5, #T_38499_row5_col6, #T_38499_row5_col7, #T_38499_row6_col0, #T_38499_row6_col1, #T_38499_row6_col2, #T_38499_row6_col3, #T_38499_row6_col4, #T_38499_row6_col5, #T_38499_row6_col6, #T_38499_row6_col7, #T_38499_row7_col0, #T_38499_row7_col1, #T_38499_row7_col2, #T_38499_row7_col3, #T_38499_row7_col4, #T_38499_row7_col5, #T_38499_row7_col7, #T_38499_row8_col0, #T_38499_row8_col1, #T_38499_row8_col2, #T_38499_row8_col3, #T_38499_row8_col4, #T_38499_row8_col6, #T_38499_row8_col7, #T_38499_row9_col0, #T_38499_row9_col1, #T_38499_row9_col2, #T_38499_row9_col3, #T_38499_row9_col4, #T_38499_row9_col5, #T_38499_row9_col6, #T_38499_row9_col7, #T_38499_row10_col0, #T_38499_row10_col1, #T_38499_row10_col2, #T_38499_row10_col3, #T_38499_row10_col4, #T_38499_row10_col5, #T_38499_row10_col6, #T_38499_row11_col0, #T_38499_row11_col1, #T_38499_row11_col2, #T_38499_row11_col3, #T_38499_row11_col4, #T_38499_row11_col5, #T_38499_row11_col6, #T_38499_row11_col7, #T_38499_row12_col0, #T_38499_row12_col1, #T_38499_row12_col2, #T_38499_row12_col3, #T_38499_row12_col4, #T_38499_row12_col5, #T_38499_row12_col6, #T_38499_row12_col7, #T_38499_row13_col0, #T_38499_row13_col1, #T_38499_row13_col2, #T_38499_row13_col4, #T_38499_row13_col5, #T_38499_row13_col6, #T_38499_row13_col7 {\n",
       "  text-align: left;\n",
       "}\n",
       "#T_38499_row0_col1, #T_38499_row0_col2, #T_38499_row1_col4, #T_38499_row7_col6, #T_38499_row8_col5, #T_38499_row10_col7, #T_38499_row13_col3 {\n",
       "  text-align: left;\n",
       "  background-color: yellow;\n",
       "}\n",
       "#T_38499_row0_col8, #T_38499_row1_col8, #T_38499_row3_col8, #T_38499_row4_col8, #T_38499_row5_col8, #T_38499_row6_col8, #T_38499_row7_col8, #T_38499_row8_col8, #T_38499_row9_col8, #T_38499_row10_col8, #T_38499_row11_col8, #T_38499_row12_col8, #T_38499_row13_col8 {\n",
       "  text-align: left;\n",
       "  background-color: lightgrey;\n",
       "}\n",
       "#T_38499_row2_col8 {\n",
       "  text-align: left;\n",
       "  background-color: yellow;\n",
       "  background-color: lightgrey;\n",
       "}\n",
       "</style>\n",
       "<table id=\"T_38499_\">\n",
       "  <thead>\n",
       "    <tr>\n",
       "      <th class=\"blank level0\" >&nbsp;</th>\n",
       "      <th class=\"col_heading level0 col0\" >Model</th>\n",
       "      <th class=\"col_heading level0 col1\" >Accuracy</th>\n",
       "      <th class=\"col_heading level0 col2\" >AUC</th>\n",
       "      <th class=\"col_heading level0 col3\" >Recall</th>\n",
       "      <th class=\"col_heading level0 col4\" >Prec.</th>\n",
       "      <th class=\"col_heading level0 col5\" >F1</th>\n",
       "      <th class=\"col_heading level0 col6\" >Kappa</th>\n",
       "      <th class=\"col_heading level0 col7\" >MCC</th>\n",
       "      <th class=\"col_heading level0 col8\" >TT (Sec)</th>\n",
       "    </tr>\n",
       "  </thead>\n",
       "  <tbody>\n",
       "    <tr>\n",
       "      <th id=\"T_38499_level0_row0\" class=\"row_heading level0 row0\" >lightgbm</th>\n",
       "      <td id=\"T_38499_row0_col0\" class=\"data row0 col0\" >Light Gradient Boosting Machine</td>\n",
       "      <td id=\"T_38499_row0_col1\" class=\"data row0 col1\" >0.9406</td>\n",
       "      <td id=\"T_38499_row0_col2\" class=\"data row0 col2\" >0.8225</td>\n",
       "      <td id=\"T_38499_row0_col3\" class=\"data row0 col3\" >0.0712</td>\n",
       "      <td id=\"T_38499_row0_col4\" class=\"data row0 col4\" >0.5642</td>\n",
       "      <td id=\"T_38499_row0_col5\" class=\"data row0 col5\" >0.1252</td>\n",
       "      <td id=\"T_38499_row0_col6\" class=\"data row0 col6\" >0.1126</td>\n",
       "      <td id=\"T_38499_row0_col7\" class=\"data row0 col7\" >0.1825</td>\n",
       "      <td id=\"T_38499_row0_col8\" class=\"data row0 col8\" >0.1010</td>\n",
       "    </tr>\n",
       "    <tr>\n",
       "      <th id=\"T_38499_level0_row1\" class=\"row_heading level0 row1\" >gbc</th>\n",
       "      <td id=\"T_38499_row1_col0\" class=\"data row1 col0\" >Gradient Boosting Classifier</td>\n",
       "      <td id=\"T_38499_row1_col1\" class=\"data row1 col1\" >0.9404</td>\n",
       "      <td id=\"T_38499_row1_col2\" class=\"data row1 col2\" >0.8197</td>\n",
       "      <td id=\"T_38499_row1_col3\" class=\"data row1 col3\" >0.0373</td>\n",
       "      <td id=\"T_38499_row1_col4\" class=\"data row1 col4\" >0.6069</td>\n",
       "      <td id=\"T_38499_row1_col5\" class=\"data row1 col5\" >0.0688</td>\n",
       "      <td id=\"T_38499_row1_col6\" class=\"data row1 col6\" >0.0616</td>\n",
       "      <td id=\"T_38499_row1_col7\" class=\"data row1 col7\" >0.1327</td>\n",
       "      <td id=\"T_38499_row1_col8\" class=\"data row1 col8\" >0.9260</td>\n",
       "    </tr>\n",
       "    <tr>\n",
       "      <th id=\"T_38499_level0_row2\" class=\"row_heading level0 row2\" >dummy</th>\n",
       "      <td id=\"T_38499_row2_col0\" class=\"data row2 col0\" >Dummy Classifier</td>\n",
       "      <td id=\"T_38499_row2_col1\" class=\"data row2 col1\" >0.9402</td>\n",
       "      <td id=\"T_38499_row2_col2\" class=\"data row2 col2\" >0.5000</td>\n",
       "      <td id=\"T_38499_row2_col3\" class=\"data row2 col3\" >0.0000</td>\n",
       "      <td id=\"T_38499_row2_col4\" class=\"data row2 col4\" >0.0000</td>\n",
       "      <td id=\"T_38499_row2_col5\" class=\"data row2 col5\" >0.0000</td>\n",
       "      <td id=\"T_38499_row2_col6\" class=\"data row2 col6\" >0.0000</td>\n",
       "      <td id=\"T_38499_row2_col7\" class=\"data row2 col7\" >0.0000</td>\n",
       "      <td id=\"T_38499_row2_col8\" class=\"data row2 col8\" >0.0130</td>\n",
       "    </tr>\n",
       "    <tr>\n",
       "      <th id=\"T_38499_level0_row3\" class=\"row_heading level0 row3\" >rf</th>\n",
       "      <td id=\"T_38499_row3_col0\" class=\"data row3 col0\" >Random Forest Classifier</td>\n",
       "      <td id=\"T_38499_row3_col1\" class=\"data row3 col1\" >0.9399</td>\n",
       "      <td id=\"T_38499_row3_col2\" class=\"data row3 col2\" >0.8093</td>\n",
       "      <td id=\"T_38499_row3_col3\" class=\"data row3 col3\" >0.0593</td>\n",
       "      <td id=\"T_38499_row3_col4\" class=\"data row3 col4\" >0.4988</td>\n",
       "      <td id=\"T_38499_row3_col5\" class=\"data row3 col5\" >0.1045</td>\n",
       "      <td id=\"T_38499_row3_col6\" class=\"data row3 col6\" >0.0928</td>\n",
       "      <td id=\"T_38499_row3_col7\" class=\"data row3 col7\" >0.1531</td>\n",
       "      <td id=\"T_38499_row3_col8\" class=\"data row3 col8\" >0.6490</td>\n",
       "    </tr>\n",
       "    <tr>\n",
       "      <th id=\"T_38499_level0_row4\" class=\"row_heading level0 row4\" >et</th>\n",
       "      <td id=\"T_38499_row4_col0\" class=\"data row4 col0\" >Extra Trees Classifier</td>\n",
       "      <td id=\"T_38499_row4_col1\" class=\"data row4 col1\" >0.9361</td>\n",
       "      <td id=\"T_38499_row4_col2\" class=\"data row4 col2\" >0.8116</td>\n",
       "      <td id=\"T_38499_row4_col3\" class=\"data row4 col3\" >0.0763</td>\n",
       "      <td id=\"T_38499_row4_col4\" class=\"data row4 col4\" >0.3418</td>\n",
       "      <td id=\"T_38499_row4_col5\" class=\"data row4 col5\" >0.1237</td>\n",
       "      <td id=\"T_38499_row4_col6\" class=\"data row4 col6\" >0.1045</td>\n",
       "      <td id=\"T_38499_row4_col7\" class=\"data row4 col7\" >0.1375</td>\n",
       "      <td id=\"T_38499_row4_col8\" class=\"data row4 col8\" >0.4940</td>\n",
       "    </tr>\n",
       "    <tr>\n",
       "      <th id=\"T_38499_level0_row5\" class=\"row_heading level0 row5\" >ada</th>\n",
       "      <td id=\"T_38499_row5_col0\" class=\"data row5 col0\" >Ada Boost Classifier</td>\n",
       "      <td id=\"T_38499_row5_col1\" class=\"data row5 col1\" >0.9058</td>\n",
       "      <td id=\"T_38499_row5_col2\" class=\"data row5 col2\" >0.7851</td>\n",
       "      <td id=\"T_38499_row5_col3\" class=\"data row5 col3\" >0.1627</td>\n",
       "      <td id=\"T_38499_row5_col4\" class=\"data row5 col4\" >0.1833</td>\n",
       "      <td id=\"T_38499_row5_col5\" class=\"data row5 col5\" >0.1708</td>\n",
       "      <td id=\"T_38499_row5_col6\" class=\"data row5 col6\" >0.1215</td>\n",
       "      <td id=\"T_38499_row5_col7\" class=\"data row5 col7\" >0.1224</td>\n",
       "      <td id=\"T_38499_row5_col8\" class=\"data row5 col8\" >0.2370</td>\n",
       "    </tr>\n",
       "    <tr>\n",
       "      <th id=\"T_38499_level0_row6\" class=\"row_heading level0 row6\" >dt</th>\n",
       "      <td id=\"T_38499_row6_col0\" class=\"data row6 col0\" >Decision Tree Classifier</td>\n",
       "      <td id=\"T_38499_row6_col1\" class=\"data row6 col1\" >0.8821</td>\n",
       "      <td id=\"T_38499_row6_col2\" class=\"data row6 col2\" >0.5580</td>\n",
       "      <td id=\"T_38499_row6_col3\" class=\"data row6 col3\" >0.1898</td>\n",
       "      <td id=\"T_38499_row6_col4\" class=\"data row6 col4\" >0.1417</td>\n",
       "      <td id=\"T_38499_row6_col5\" class=\"data row6 col5\" >0.1619</td>\n",
       "      <td id=\"T_38499_row6_col6\" class=\"data row6 col6\" >0.1002</td>\n",
       "      <td id=\"T_38499_row6_col7\" class=\"data row6 col7\" >0.1015</td>\n",
       "      <td id=\"T_38499_row6_col8\" class=\"data row6 col8\" >0.0330</td>\n",
       "    </tr>\n",
       "    <tr>\n",
       "      <th id=\"T_38499_level0_row7\" class=\"row_heading level0 row7\" >nb</th>\n",
       "      <td id=\"T_38499_row7_col0\" class=\"data row7 col0\" >Naive Bayes</td>\n",
       "      <td id=\"T_38499_row7_col1\" class=\"data row7 col1\" >0.8724</td>\n",
       "      <td id=\"T_38499_row7_col2\" class=\"data row7 col2\" >0.8080</td>\n",
       "      <td id=\"T_38499_row7_col3\" class=\"data row7 col3\" >0.3237</td>\n",
       "      <td id=\"T_38499_row7_col4\" class=\"data row7 col4\" >0.1818</td>\n",
       "      <td id=\"T_38499_row7_col5\" class=\"data row7 col5\" >0.2313</td>\n",
       "      <td id=\"T_38499_row7_col6\" class=\"data row7 col6\" >0.1680</td>\n",
       "      <td id=\"T_38499_row7_col7\" class=\"data row7 col7\" >0.1772</td>\n",
       "      <td id=\"T_38499_row7_col8\" class=\"data row7 col8\" >0.0140</td>\n",
       "    </tr>\n",
       "    <tr>\n",
       "      <th id=\"T_38499_level0_row8\" class=\"row_heading level0 row8\" >qda</th>\n",
       "      <td id=\"T_38499_row8_col0\" class=\"data row8 col0\" >Quadratic Discriminant Analysis</td>\n",
       "      <td id=\"T_38499_row8_col1\" class=\"data row8 col1\" >0.8282</td>\n",
       "      <td id=\"T_38499_row8_col2\" class=\"data row8 col2\" >0.8051</td>\n",
       "      <td id=\"T_38499_row8_col3\" class=\"data row8 col3\" >0.4559</td>\n",
       "      <td id=\"T_38499_row8_col4\" class=\"data row8 col4\" >0.1655</td>\n",
       "      <td id=\"T_38499_row8_col5\" class=\"data row8 col5\" >0.2402</td>\n",
       "      <td id=\"T_38499_row8_col6\" class=\"data row8 col6\" >0.1678</td>\n",
       "      <td id=\"T_38499_row8_col7\" class=\"data row8 col7\" >0.1966</td>\n",
       "      <td id=\"T_38499_row8_col8\" class=\"data row8 col8\" >0.0170</td>\n",
       "    </tr>\n",
       "    <tr>\n",
       "      <th id=\"T_38499_level0_row9\" class=\"row_heading level0 row9\" >knn</th>\n",
       "      <td id=\"T_38499_row9_col0\" class=\"data row9 col0\" >K Neighbors Classifier</td>\n",
       "      <td id=\"T_38499_row9_col1\" class=\"data row9 col1\" >0.7997</td>\n",
       "      <td id=\"T_38499_row9_col2\" class=\"data row9 col2\" >0.7180</td>\n",
       "      <td id=\"T_38499_row9_col3\" class=\"data row9 col3\" >0.5051</td>\n",
       "      <td id=\"T_38499_row9_col4\" class=\"data row9 col4\" >0.1512</td>\n",
       "      <td id=\"T_38499_row9_col5\" class=\"data row9 col5\" >0.2326</td>\n",
       "      <td id=\"T_38499_row9_col6\" class=\"data row9 col6\" >0.1547</td>\n",
       "      <td id=\"T_38499_row9_col7\" class=\"data row9 col7\" >0.1921</td>\n",
       "      <td id=\"T_38499_row9_col8\" class=\"data row9 col8\" >0.2840</td>\n",
       "    </tr>\n",
       "    <tr>\n",
       "      <th id=\"T_38499_level0_row10\" class=\"row_heading level0 row10\" >lda</th>\n",
       "      <td id=\"T_38499_row10_col0\" class=\"data row10 col0\" >Linear Discriminant Analysis</td>\n",
       "      <td id=\"T_38499_row10_col1\" class=\"data row10 col1\" >0.6497</td>\n",
       "      <td id=\"T_38499_row10_col2\" class=\"data row10 col2\" >0.8213</td>\n",
       "      <td id=\"T_38499_row10_col3\" class=\"data row10 col3\" >0.9000</td>\n",
       "      <td id=\"T_38499_row10_col4\" class=\"data row10 col4\" >0.1353</td>\n",
       "      <td id=\"T_38499_row10_col5\" class=\"data row10 col5\" >0.2353</td>\n",
       "      <td id=\"T_38499_row10_col6\" class=\"data row10 col6\" >0.1466</td>\n",
       "      <td id=\"T_38499_row10_col7\" class=\"data row10 col7\" >0.2587</td>\n",
       "      <td id=\"T_38499_row10_col8\" class=\"data row10 col8\" >0.0280</td>\n",
       "    </tr>\n",
       "    <tr>\n",
       "      <th id=\"T_38499_level0_row11\" class=\"row_heading level0 row11\" >ridge</th>\n",
       "      <td id=\"T_38499_row11_col0\" class=\"data row11 col0\" >Ridge Classifier</td>\n",
       "      <td id=\"T_38499_row11_col1\" class=\"data row11 col1\" >0.6263</td>\n",
       "      <td id=\"T_38499_row11_col2\" class=\"data row11 col2\" >0.0000</td>\n",
       "      <td id=\"T_38499_row11_col3\" class=\"data row11 col3\" >0.9288</td>\n",
       "      <td id=\"T_38499_row11_col4\" class=\"data row11 col4\" >0.1308</td>\n",
       "      <td id=\"T_38499_row11_col5\" class=\"data row11 col5\" >0.2293</td>\n",
       "      <td id=\"T_38499_row11_col6\" class=\"data row11 col6\" >0.1391</td>\n",
       "      <td id=\"T_38499_row11_col7\" class=\"data row11 col7\" >0.2572</td>\n",
       "      <td id=\"T_38499_row11_col8\" class=\"data row11 col8\" >0.0140</td>\n",
       "    </tr>\n",
       "    <tr>\n",
       "      <th id=\"T_38499_level0_row12\" class=\"row_heading level0 row12\" >lr</th>\n",
       "      <td id=\"T_38499_row12_col0\" class=\"data row12 col0\" >Logistic Regression</td>\n",
       "      <td id=\"T_38499_row12_col1\" class=\"data row12 col1\" >0.6073</td>\n",
       "      <td id=\"T_38499_row12_col2\" class=\"data row12 col2\" >0.8138</td>\n",
       "      <td id=\"T_38499_row12_col3\" class=\"data row12 col3\" >0.9441</td>\n",
       "      <td id=\"T_38499_row12_col4\" class=\"data row12 col4\" >0.1268</td>\n",
       "      <td id=\"T_38499_row12_col5\" class=\"data row12 col5\" >0.2235</td>\n",
       "      <td id=\"T_38499_row12_col6\" class=\"data row12 col6\" >0.1320</td>\n",
       "      <td id=\"T_38499_row12_col7\" class=\"data row12 col7\" >0.2530</td>\n",
       "      <td id=\"T_38499_row12_col8\" class=\"data row12 col8\" >0.5510</td>\n",
       "    </tr>\n",
       "    <tr>\n",
       "      <th id=\"T_38499_level0_row13\" class=\"row_heading level0 row13\" >svm</th>\n",
       "      <td id=\"T_38499_row13_col0\" class=\"data row13 col0\" >SVM - Linear Kernel</td>\n",
       "      <td id=\"T_38499_row13_col1\" class=\"data row13 col1\" >0.5990</td>\n",
       "      <td id=\"T_38499_row13_col2\" class=\"data row13 col2\" >0.0000</td>\n",
       "      <td id=\"T_38499_row13_col3\" class=\"data row13 col3\" >0.9593</td>\n",
       "      <td id=\"T_38499_row13_col4\" class=\"data row13 col4\" >0.1260</td>\n",
       "      <td id=\"T_38499_row13_col5\" class=\"data row13 col5\" >0.2227</td>\n",
       "      <td id=\"T_38499_row13_col6\" class=\"data row13 col6\" >0.1308</td>\n",
       "      <td id=\"T_38499_row13_col7\" class=\"data row13 col7\" >0.2551</td>\n",
       "      <td id=\"T_38499_row13_col8\" class=\"data row13 col8\" >0.0190</td>\n",
       "    </tr>\n",
       "  </tbody>\n",
       "</table>\n"
      ],
      "text/plain": [
       "<pandas.io.formats.style.Styler at 0x181db0b8208>"
      ]
     },
     "metadata": {},
     "output_type": "display_data"
    }
   ],
   "source": [
    "setup_label = compare_models()"
   ]
  },
  {
   "cell_type": "markdown",
   "id": "d48b6403",
   "metadata": {},
   "source": [
    "### Selecting the best model based on recall and tuning it"
   ]
  },
  {
   "cell_type": "code",
   "execution_count": 24,
   "id": "d8edd90d",
   "metadata": {},
   "outputs": [
    {
     "data": {
      "text/html": [
       "<style type=\"text/css\">\n",
       "#T_7e281_row10_col0, #T_7e281_row10_col1, #T_7e281_row10_col2, #T_7e281_row10_col3, #T_7e281_row10_col4, #T_7e281_row10_col5, #T_7e281_row10_col6 {\n",
       "  background: yellow;\n",
       "}\n",
       "</style>\n",
       "<table id=\"T_7e281_\">\n",
       "  <thead>\n",
       "    <tr>\n",
       "      <th class=\"blank level0\" >&nbsp;</th>\n",
       "      <th class=\"col_heading level0 col0\" >Accuracy</th>\n",
       "      <th class=\"col_heading level0 col1\" >AUC</th>\n",
       "      <th class=\"col_heading level0 col2\" >Recall</th>\n",
       "      <th class=\"col_heading level0 col3\" >Prec.</th>\n",
       "      <th class=\"col_heading level0 col4\" >F1</th>\n",
       "      <th class=\"col_heading level0 col5\" >Kappa</th>\n",
       "      <th class=\"col_heading level0 col6\" >MCC</th>\n",
       "    </tr>\n",
       "    <tr>\n",
       "      <th class=\"index_name level0\" >Fold</th>\n",
       "      <th class=\"blank col0\" >&nbsp;</th>\n",
       "      <th class=\"blank col1\" >&nbsp;</th>\n",
       "      <th class=\"blank col2\" >&nbsp;</th>\n",
       "      <th class=\"blank col3\" >&nbsp;</th>\n",
       "      <th class=\"blank col4\" >&nbsp;</th>\n",
       "      <th class=\"blank col5\" >&nbsp;</th>\n",
       "      <th class=\"blank col6\" >&nbsp;</th>\n",
       "    </tr>\n",
       "  </thead>\n",
       "  <tbody>\n",
       "    <tr>\n",
       "      <th id=\"T_7e281_level0_row0\" class=\"row_heading level0 row0\" >0</th>\n",
       "      <td id=\"T_7e281_row0_col0\" class=\"data row0 col0\" >0.4002</td>\n",
       "      <td id=\"T_7e281_row0_col1\" class=\"data row0 col1\" >0.6572</td>\n",
       "      <td id=\"T_7e281_row0_col2\" class=\"data row0 col2\" >0.9492</td>\n",
       "      <td id=\"T_7e281_row0_col3\" class=\"data row0 col3\" >0.0868</td>\n",
       "      <td id=\"T_7e281_row0_col4\" class=\"data row0 col4\" >0.1591</td>\n",
       "      <td id=\"T_7e281_row0_col5\" class=\"data row0 col5\" >0.0557</td>\n",
       "      <td id=\"T_7e281_row0_col6\" class=\"data row0 col6\" >0.1567</td>\n",
       "    </tr>\n",
       "    <tr>\n",
       "      <th id=\"T_7e281_level0_row1\" class=\"row_heading level0 row1\" >1</th>\n",
       "      <td id=\"T_7e281_row1_col0\" class=\"data row1 col0\" >0.3951</td>\n",
       "      <td id=\"T_7e281_row1_col1\" class=\"data row1 col1\" >0.6783</td>\n",
       "      <td id=\"T_7e281_row1_col2\" class=\"data row1 col2\" >1.0000</td>\n",
       "      <td id=\"T_7e281_row1_col3\" class=\"data row1 col3\" >0.0899</td>\n",
       "      <td id=\"T_7e281_row1_col4\" class=\"data row1 col4\" >0.1650</td>\n",
       "      <td id=\"T_7e281_row1_col5\" class=\"data row1 col5\" >0.0622</td>\n",
       "      <td id=\"T_7e281_row1_col6\" class=\"data row1 col6\" >0.1791</td>\n",
       "    </tr>\n",
       "    <tr>\n",
       "      <th id=\"T_7e281_level0_row2\" class=\"row_heading level0 row2\" >2</th>\n",
       "      <td id=\"T_7e281_row2_col0\" class=\"data row2 col0\" >0.3830</td>\n",
       "      <td id=\"T_7e281_row2_col1\" class=\"data row2 col1\" >0.6322</td>\n",
       "      <td id=\"T_7e281_row2_col2\" class=\"data row2 col2\" >0.9153</td>\n",
       "      <td id=\"T_7e281_row2_col3\" class=\"data row2 col3\" >0.0821</td>\n",
       "      <td id=\"T_7e281_row2_col4\" class=\"data row2 col4\" >0.1506</td>\n",
       "      <td id=\"T_7e281_row2_col5\" class=\"data row2 col5\" >0.0460</td>\n",
       "      <td id=\"T_7e281_row2_col6\" class=\"data row2 col6\" >0.1330</td>\n",
       "    </tr>\n",
       "    <tr>\n",
       "      <th id=\"T_7e281_level0_row3\" class=\"row_heading level0 row3\" >3</th>\n",
       "      <td id=\"T_7e281_row3_col0\" class=\"data row3 col0\" >0.3658</td>\n",
       "      <td id=\"T_7e281_row3_col1\" class=\"data row3 col1\" >0.6548</td>\n",
       "      <td id=\"T_7e281_row3_col2\" class=\"data row3 col2\" >0.9831</td>\n",
       "      <td id=\"T_7e281_row3_col3\" class=\"data row3 col3\" >0.0849</td>\n",
       "      <td id=\"T_7e281_row3_col4\" class=\"data row3 col4\" >0.1563</td>\n",
       "      <td id=\"T_7e281_row3_col5\" class=\"data row3 col5\" >0.0520</td>\n",
       "      <td id=\"T_7e281_row3_col6\" class=\"data row3 col6\" >0.1590</td>\n",
       "    </tr>\n",
       "    <tr>\n",
       "      <th id=\"T_7e281_level0_row4\" class=\"row_heading level0 row4\" >4</th>\n",
       "      <td id=\"T_7e281_row4_col0\" class=\"data row4 col0\" >0.4032</td>\n",
       "      <td id=\"T_7e281_row4_col1\" class=\"data row4 col1\" >0.6747</td>\n",
       "      <td id=\"T_7e281_row4_col2\" class=\"data row4 col2\" >0.9831</td>\n",
       "      <td id=\"T_7e281_row4_col3\" class=\"data row4 col3\" >0.0898</td>\n",
       "      <td id=\"T_7e281_row4_col4\" class=\"data row4 col4\" >0.1645</td>\n",
       "      <td id=\"T_7e281_row4_col5\" class=\"data row4 col5\" >0.0618</td>\n",
       "      <td id=\"T_7e281_row4_col6\" class=\"data row4 col6\" >0.1742</td>\n",
       "    </tr>\n",
       "    <tr>\n",
       "      <th id=\"T_7e281_level0_row5\" class=\"row_heading level0 row5\" >5</th>\n",
       "      <td id=\"T_7e281_row5_col0\" class=\"data row5 col0\" >0.3880</td>\n",
       "      <td id=\"T_7e281_row5_col1\" class=\"data row5 col1\" >0.6666</td>\n",
       "      <td id=\"T_7e281_row5_col2\" class=\"data row5 col2\" >0.9831</td>\n",
       "      <td id=\"T_7e281_row5_col3\" class=\"data row5 col3\" >0.0877</td>\n",
       "      <td id=\"T_7e281_row5_col4\" class=\"data row5 col4\" >0.1611</td>\n",
       "      <td id=\"T_7e281_row5_col5\" class=\"data row5 col5\" >0.0577</td>\n",
       "      <td id=\"T_7e281_row5_col6\" class=\"data row5 col6\" >0.1680</td>\n",
       "    </tr>\n",
       "    <tr>\n",
       "      <th id=\"T_7e281_level0_row6\" class=\"row_heading level0 row6\" >6</th>\n",
       "      <td id=\"T_7e281_row6_col0\" class=\"data row6 col0\" >0.3931</td>\n",
       "      <td id=\"T_7e281_row6_col1\" class=\"data row6 col1\" >0.6693</td>\n",
       "      <td id=\"T_7e281_row6_col2\" class=\"data row6 col2\" >0.9831</td>\n",
       "      <td id=\"T_7e281_row6_col3\" class=\"data row6 col3\" >0.0884</td>\n",
       "      <td id=\"T_7e281_row6_col4\" class=\"data row6 col4\" >0.1622</td>\n",
       "      <td id=\"T_7e281_row6_col5\" class=\"data row6 col5\" >0.0590</td>\n",
       "      <td id=\"T_7e281_row6_col6\" class=\"data row6 col6\" >0.1701</td>\n",
       "    </tr>\n",
       "    <tr>\n",
       "      <th id=\"T_7e281_level0_row7\" class=\"row_heading level0 row7\" >7</th>\n",
       "      <td id=\"T_7e281_row7_col0\" class=\"data row7 col0\" >0.4002</td>\n",
       "      <td id=\"T_7e281_row7_col1\" class=\"data row7 col1\" >0.6652</td>\n",
       "      <td id=\"T_7e281_row7_col2\" class=\"data row7 col2\" >0.9661</td>\n",
       "      <td id=\"T_7e281_row7_col3\" class=\"data row7 col3\" >0.0881</td>\n",
       "      <td id=\"T_7e281_row7_col4\" class=\"data row7 col4\" >0.1615</td>\n",
       "      <td id=\"T_7e281_row7_col5\" class=\"data row7 col5\" >0.0583</td>\n",
       "      <td id=\"T_7e281_row7_col6\" class=\"data row7 col6\" >0.1648</td>\n",
       "    </tr>\n",
       "    <tr>\n",
       "      <th id=\"T_7e281_level0_row8\" class=\"row_heading level0 row8\" >8</th>\n",
       "      <td id=\"T_7e281_row8_col0\" class=\"data row8 col0\" >0.3651</td>\n",
       "      <td id=\"T_7e281_row8_col1\" class=\"data row8 col1\" >0.6385</td>\n",
       "      <td id=\"T_7e281_row8_col2\" class=\"data row8 col2\" >0.9492</td>\n",
       "      <td id=\"T_7e281_row8_col3\" class=\"data row8 col3\" >0.0825</td>\n",
       "      <td id=\"T_7e281_row8_col4\" class=\"data row8 col4\" >0.1518</td>\n",
       "      <td id=\"T_7e281_row8_col5\" class=\"data row8 col5\" >0.0468</td>\n",
       "      <td id=\"T_7e281_row8_col6\" class=\"data row8 col6\" >0.1419</td>\n",
       "    </tr>\n",
       "    <tr>\n",
       "      <th id=\"T_7e281_level0_row9\" class=\"row_heading level0 row9\" >9</th>\n",
       "      <td id=\"T_7e281_row9_col0\" class=\"data row9 col0\" >0.3671</td>\n",
       "      <td id=\"T_7e281_row9_col1\" class=\"data row9 col1\" >0.6158</td>\n",
       "      <td id=\"T_7e281_row9_col2\" class=\"data row9 col2\" >0.8983</td>\n",
       "      <td id=\"T_7e281_row9_col3\" class=\"data row9 col3\" >0.0790</td>\n",
       "      <td id=\"T_7e281_row9_col4\" class=\"data row9 col4\" >0.1452</td>\n",
       "      <td id=\"T_7e281_row9_col5\" class=\"data row9 col5\" >0.0396</td>\n",
       "      <td id=\"T_7e281_row9_col6\" class=\"data row9 col6\" >0.1178</td>\n",
       "    </tr>\n",
       "    <tr>\n",
       "      <th id=\"T_7e281_level0_row10\" class=\"row_heading level0 row10\" >Mean</th>\n",
       "      <td id=\"T_7e281_row10_col0\" class=\"data row10 col0\" >0.3861</td>\n",
       "      <td id=\"T_7e281_row10_col1\" class=\"data row10 col1\" >0.6553</td>\n",
       "      <td id=\"T_7e281_row10_col2\" class=\"data row10 col2\" >0.9610</td>\n",
       "      <td id=\"T_7e281_row10_col3\" class=\"data row10 col3\" >0.0859</td>\n",
       "      <td id=\"T_7e281_row10_col4\" class=\"data row10 col4\" >0.1577</td>\n",
       "      <td id=\"T_7e281_row10_col5\" class=\"data row10 col5\" >0.0539</td>\n",
       "      <td id=\"T_7e281_row10_col6\" class=\"data row10 col6\" >0.1565</td>\n",
       "    </tr>\n",
       "    <tr>\n",
       "      <th id=\"T_7e281_level0_row11\" class=\"row_heading level0 row11\" >Std</th>\n",
       "      <td id=\"T_7e281_row11_col0\" class=\"data row11 col0\" >0.0143</td>\n",
       "      <td id=\"T_7e281_row11_col1\" class=\"data row11 col1\" >0.0193</td>\n",
       "      <td id=\"T_7e281_row11_col2\" class=\"data row11 col2\" >0.0313</td>\n",
       "      <td id=\"T_7e281_row11_col3\" class=\"data row11 col3\" >0.0035</td>\n",
       "      <td id=\"T_7e281_row11_col4\" class=\"data row11 col4\" >0.0063</td>\n",
       "      <td id=\"T_7e281_row11_col5\" class=\"data row11 col5\" >0.0072</td>\n",
       "      <td id=\"T_7e281_row11_col6\" class=\"data row11 col6\" >0.0186</td>\n",
       "    </tr>\n",
       "  </tbody>\n",
       "</table>\n"
      ],
      "text/plain": [
       "<pandas.io.formats.style.Styler at 0x181da8997c8>"
      ]
     },
     "metadata": {},
     "output_type": "display_data"
    },
    {
     "name": "stdout",
     "output_type": "stream",
     "text": [
      "GradientBoostingClassifier(ccp_alpha=0.0, criterion='friedman_mse', init=None,\n",
      "                           learning_rate=0.0001, loss='deviance', max_depth=1,\n",
      "                           max_features=1.0, max_leaf_nodes=None,\n",
      "                           min_impurity_decrease=0.5, min_impurity_split=None,\n",
      "                           min_samples_leaf=1, min_samples_split=4,\n",
      "                           min_weight_fraction_leaf=0.0, n_estimators=260,\n",
      "                           n_iter_no_change=None, presort='deprecated',\n",
      "                           random_state=1122, subsample=0.45, tol=0.0001,\n",
      "                           validation_fraction=0.1, verbose=0,\n",
      "                           warm_start=False)\n"
     ]
    }
   ],
   "source": [
    "label_gbc = create_model('gbc',fold=10)\n",
    "tuned_label_gbc=tune_model(label_gbc,optimize='Recall',fold=10)\n",
    "print(tuned_label_gbc)"
   ]
  },
  {
   "cell_type": "markdown",
   "id": "bcee97c8",
   "metadata": {},
   "source": [
    "### Checking the model for prediction"
   ]
  },
  {
   "cell_type": "code",
   "execution_count": 25,
   "id": "6240ae72",
   "metadata": {},
   "outputs": [
    {
     "data": {
      "text/html": [
       "<style type=\"text/css\">\n",
       "</style>\n",
       "<table id=\"T_f91e1_\">\n",
       "  <thead>\n",
       "    <tr>\n",
       "      <th class=\"blank level0\" >&nbsp;</th>\n",
       "      <th class=\"col_heading level0 col0\" >Model</th>\n",
       "      <th class=\"col_heading level0 col1\" >Accuracy</th>\n",
       "      <th class=\"col_heading level0 col2\" >AUC</th>\n",
       "      <th class=\"col_heading level0 col3\" >Recall</th>\n",
       "      <th class=\"col_heading level0 col4\" >Prec.</th>\n",
       "      <th class=\"col_heading level0 col5\" >F1</th>\n",
       "      <th class=\"col_heading level0 col6\" >Kappa</th>\n",
       "      <th class=\"col_heading level0 col7\" >MCC</th>\n",
       "    </tr>\n",
       "  </thead>\n",
       "  <tbody>\n",
       "    <tr>\n",
       "      <th id=\"T_f91e1_level0_row0\" class=\"row_heading level0 row0\" >0</th>\n",
       "      <td id=\"T_f91e1_row0_col0\" class=\"data row0 col0\" >Gradient Boosting Classifier</td>\n",
       "      <td id=\"T_f91e1_row0_col1\" class=\"data row0 col1\" >0.3805</td>\n",
       "      <td id=\"T_f91e1_row0_col2\" class=\"data row0 col2\" >0.6641</td>\n",
       "      <td id=\"T_f91e1_row0_col3\" class=\"data row0 col3\" >0.9865</td>\n",
       "      <td id=\"T_f91e1_row0_col4\" class=\"data row0 col4\" >0.0873</td>\n",
       "      <td id=\"T_f91e1_row0_col5\" class=\"data row0 col5\" >0.1604</td>\n",
       "      <td id=\"T_f91e1_row0_col6\" class=\"data row0 col6\" >0.0564</td>\n",
       "      <td id=\"T_f91e1_row0_col7\" class=\"data row0 col7\" >0.1668</td>\n",
       "    </tr>\n",
       "  </tbody>\n",
       "</table>\n"
      ],
      "text/plain": [
       "<pandas.io.formats.style.Styler at 0x181d5eb4d88>"
      ]
     },
     "metadata": {},
     "output_type": "display_data"
    }
   ],
   "source": [
    "pred_label_gbc=predict_model(tuned_label_gbc)"
   ]
  },
  {
   "cell_type": "markdown",
   "id": "abfc7872",
   "metadata": {},
   "source": [
    "### Testing the model on unseen data "
   ]
  },
  {
   "cell_type": "code",
   "execution_count": 26,
   "id": "22dd8fb5",
   "metadata": {},
   "outputs": [
    {
     "data": {
      "text/html": [
       "<style type=\"text/css\">\n",
       "</style>\n",
       "<table id=\"T_80928_\">\n",
       "  <thead>\n",
       "    <tr>\n",
       "      <th class=\"blank level0\" >&nbsp;</th>\n",
       "      <th class=\"col_heading level0 col0\" >Model</th>\n",
       "      <th class=\"col_heading level0 col1\" >Accuracy</th>\n",
       "      <th class=\"col_heading level0 col2\" >AUC</th>\n",
       "      <th class=\"col_heading level0 col3\" >Recall</th>\n",
       "      <th class=\"col_heading level0 col4\" >Prec.</th>\n",
       "      <th class=\"col_heading level0 col5\" >F1</th>\n",
       "      <th class=\"col_heading level0 col6\" >Kappa</th>\n",
       "      <th class=\"col_heading level0 col7\" >MCC</th>\n",
       "    </tr>\n",
       "  </thead>\n",
       "  <tbody>\n",
       "    <tr>\n",
       "      <th id=\"T_80928_level0_row0\" class=\"row_heading level0 row0\" >0</th>\n",
       "      <td id=\"T_80928_row0_col0\" class=\"data row0 col0\" >Gradient Boosting Classifier</td>\n",
       "      <td id=\"T_80928_row0_col1\" class=\"data row0 col1\" >0.3671</td>\n",
       "      <td id=\"T_80928_row0_col2\" class=\"data row0 col2\" >0.6355</td>\n",
       "      <td id=\"T_80928_row0_col3\" class=\"data row0 col3\" >0.9405</td>\n",
       "      <td id=\"T_80928_row0_col4\" class=\"data row0 col4\" >0.0823</td>\n",
       "      <td id=\"T_80928_row0_col5\" class=\"data row0 col5\" >0.1513</td>\n",
       "      <td id=\"T_80928_row0_col6\" class=\"data row0 col6\" >0.0461</td>\n",
       "      <td id=\"T_80928_row0_col7\" class=\"data row0 col7\" >0.1386</td>\n",
       "    </tr>\n",
       "  </tbody>\n",
       "</table>\n"
      ],
      "text/plain": [
       "<pandas.io.formats.style.Styler at 0x181da8913c8>"
      ]
     },
     "metadata": {},
     "output_type": "display_data"
    }
   ],
   "source": [
    "pred_label_gbc=predict_model(tuned_label_gbc,data=lab_testdf)"
   ]
  },
  {
   "cell_type": "markdown",
   "id": "fc542a37",
   "metadata": {},
   "source": [
    "### The model  although performed well for recall but precision and F1 SCORES are very low\n",
    "\n",
    "#### Saving the vflabel dataframe to csv"
   ]
  },
  {
   "cell_type": "code",
   "execution_count": 33,
   "id": "1539bd0b",
   "metadata": {},
   "outputs": [],
   "source": [
    "vflabel.to_csv('C:/Users/vrastogi/GitHubFiles/Vehicle Fraud Capstone/vflabel.csv')"
   ]
  },
  {
   "cell_type": "markdown",
   "id": "1a5fc04e",
   "metadata": {},
   "source": [
    "###  Earlier we noticed that MonthClaimed had 13 values, which cannot be true"
   ]
  },
  {
   "cell_type": "code",
   "execution_count": 34,
   "id": "dc5a999a",
   "metadata": {},
   "outputs": [
    {
     "name": "stdout",
     "output_type": "stream",
     "text": [
      "Jan    0.093774\n",
      "May    0.091505\n",
      "Mar    0.087419\n",
      "Oct    0.086835\n",
      "Jun    0.083852\n",
      "Feb    0.083463\n",
      "Nov    0.083333\n",
      "Apr    0.082425\n",
      "Sep    0.080545\n",
      "Jul    0.079442\n",
      "Dec    0.074319\n",
      "Aug    0.073022\n",
      "0      0.000065\n",
      "Name: MonthClaimed, dtype: float64\n"
     ]
    }
   ],
   "source": [
    "item_month_claimed = vf['MonthClaimed'].value_counts(normalize=True)\n",
    "print(item_month_claimed)"
   ]
  },
  {
   "cell_type": "code",
   "execution_count": 35,
   "id": "907aaa0f",
   "metadata": {},
   "outputs": [
    {
     "name": "stdout",
     "output_type": "stream",
     "text": [
      "Jan    1446\n",
      "May    1411\n",
      "Mar    1348\n",
      "Oct    1339\n",
      "Jun    1293\n",
      "Feb    1287\n",
      "Nov    1285\n",
      "Apr    1271\n",
      "Sep    1242\n",
      "Jul    1225\n",
      "Dec    1146\n",
      "Aug    1126\n",
      "0         1\n",
      "Name: MonthClaimed, dtype: int64\n"
     ]
    }
   ],
   "source": [
    "item_month_claimed1 = vf['MonthClaimed'].value_counts()\n",
    "print(item_month_claimed1)"
   ]
  },
  {
   "cell_type": "markdown",
   "id": "73b0ba1e",
   "metadata": {},
   "source": [
    "***We have one entry with month 0, but it may not impact our results***\n",
    "\n",
    "***We can impute or drop that row***\n"
   ]
  },
  {
   "cell_type": "markdown",
   "id": "7a3651ca",
   "metadata": {},
   "source": [
    "## Trying dummy variable approach to see if it works better for our model"
   ]
  },
  {
   "cell_type": "code",
   "execution_count": 36,
   "id": "af8bd041",
   "metadata": {},
   "outputs": [],
   "source": [
    "vfm_dummies=pd.get_dummies(vfm[['Month', 'WeekOfMonth', 'DayOfWeek', 'Make', 'AccidentArea',\n",
    "       'DayOfWeekClaimed', 'MonthClaimed', 'WeekOfMonthClaimed', 'Sex',\n",
    "       'MaritalStatus', 'Fault', 'PolicyType', 'VehicleCategory',\n",
    "       'VehiclePrice','Deductible','FraudFound_P', 'DriverRating',\n",
    "       'Days_Policy_Accident', 'Days_Policy_Claim', 'PastNumberOfClaims',\n",
    "       'AgeOfVehicle', 'AgeOfPolicyHolder', 'PoliceReportFiled',\n",
    "       'WitnessPresent', 'AgentType', 'NumberOfSuppliments',\n",
    "       'AddressChange_Claim', 'NumberOfCars', 'Year', 'BasePolicy',\n",
    "       'age_bins']],drop_first=True)"
   ]
  },
  {
   "cell_type": "markdown",
   "id": "7cb56ca2",
   "metadata": {},
   "source": [
    "***Making a list of dummy features***"
   ]
  },
  {
   "cell_type": "code",
   "execution_count": 37,
   "id": "14d7d4db",
   "metadata": {},
   "outputs": [
    {
     "data": {
      "text/plain": [
       "['WeekOfMonth',\n",
       " 'WeekOfMonthClaimed',\n",
       " 'Deductible',\n",
       " 'FraudFound_P',\n",
       " 'DriverRating',\n",
       " 'Year',\n",
       " 'Month_Aug',\n",
       " 'Month_Dec',\n",
       " 'Month_Feb',\n",
       " 'Month_Jan',\n",
       " 'Month_Jul',\n",
       " 'Month_Jun',\n",
       " 'Month_Mar',\n",
       " 'Month_May',\n",
       " 'Month_Nov',\n",
       " 'Month_Oct',\n",
       " 'Month_Sep',\n",
       " 'DayOfWeek_Monday',\n",
       " 'DayOfWeek_Saturday',\n",
       " 'DayOfWeek_Sunday',\n",
       " 'DayOfWeek_Thursday',\n",
       " 'DayOfWeek_Tuesday',\n",
       " 'DayOfWeek_Wednesday',\n",
       " 'Make_BMW',\n",
       " 'Make_Chevrolet',\n",
       " 'Make_Dodge',\n",
       " 'Make_Ferrari',\n",
       " 'Make_Ford',\n",
       " 'Make_Honda',\n",
       " 'Make_Jaguar',\n",
       " 'Make_Lexus',\n",
       " 'Make_Mazda',\n",
       " 'Make_Mecedes',\n",
       " 'Make_Mercury',\n",
       " 'Make_Nisson',\n",
       " 'Make_Pontiac',\n",
       " 'Make_Porche',\n",
       " 'Make_Saab',\n",
       " 'Make_Saturn',\n",
       " 'Make_Toyota',\n",
       " 'Make_VW',\n",
       " 'AccidentArea_Urban',\n",
       " 'DayOfWeekClaimed_Friday',\n",
       " 'DayOfWeekClaimed_Monday',\n",
       " 'DayOfWeekClaimed_Saturday',\n",
       " 'DayOfWeekClaimed_Sunday',\n",
       " 'DayOfWeekClaimed_Thursday',\n",
       " 'DayOfWeekClaimed_Tuesday',\n",
       " 'DayOfWeekClaimed_Wednesday',\n",
       " 'MonthClaimed_Apr',\n",
       " 'MonthClaimed_Aug',\n",
       " 'MonthClaimed_Dec',\n",
       " 'MonthClaimed_Feb',\n",
       " 'MonthClaimed_Jan',\n",
       " 'MonthClaimed_Jul',\n",
       " 'MonthClaimed_Jun',\n",
       " 'MonthClaimed_Mar',\n",
       " 'MonthClaimed_May',\n",
       " 'MonthClaimed_Nov',\n",
       " 'MonthClaimed_Oct',\n",
       " 'MonthClaimed_Sep',\n",
       " 'Sex_Male',\n",
       " 'MaritalStatus_Married',\n",
       " 'MaritalStatus_Single',\n",
       " 'MaritalStatus_Widow',\n",
       " 'Fault_Third Party',\n",
       " 'PolicyType_Sedan - Collision',\n",
       " 'PolicyType_Sedan - Liability',\n",
       " 'PolicyType_Sport - All Perils',\n",
       " 'PolicyType_Sport - Collision',\n",
       " 'PolicyType_Sport - Liability',\n",
       " 'PolicyType_Utility - All Perils',\n",
       " 'PolicyType_Utility - Collision',\n",
       " 'PolicyType_Utility - Liability',\n",
       " 'VehicleCategory_Sport',\n",
       " 'VehicleCategory_Utility',\n",
       " 'VehiclePrice_30000 to 39000',\n",
       " 'VehiclePrice_40000 to 59000',\n",
       " 'VehiclePrice_60000 to 69000',\n",
       " 'VehiclePrice_less than 20000',\n",
       " 'VehiclePrice_more than 69000',\n",
       " 'Days_Policy_Accident_15 to 30',\n",
       " 'Days_Policy_Accident_8 to 15',\n",
       " 'Days_Policy_Accident_more than 30',\n",
       " 'Days_Policy_Accident_none',\n",
       " 'Days_Policy_Claim_8 to 15',\n",
       " 'Days_Policy_Claim_more than 30',\n",
       " 'Days_Policy_Claim_none',\n",
       " 'PastNumberOfClaims_2 to 4',\n",
       " 'PastNumberOfClaims_more than 4',\n",
       " 'PastNumberOfClaims_none',\n",
       " 'AgeOfVehicle_3 years',\n",
       " 'AgeOfVehicle_4 years',\n",
       " 'AgeOfVehicle_5 years',\n",
       " 'AgeOfVehicle_6 years',\n",
       " 'AgeOfVehicle_7 years',\n",
       " 'AgeOfVehicle_more than 7',\n",
       " 'AgeOfVehicle_new',\n",
       " 'AgeOfPolicyHolder_18 to 20',\n",
       " 'AgeOfPolicyHolder_21 to 25',\n",
       " 'AgeOfPolicyHolder_26 to 30',\n",
       " 'AgeOfPolicyHolder_31 to 35',\n",
       " 'AgeOfPolicyHolder_36 to 40',\n",
       " 'AgeOfPolicyHolder_41 to 50',\n",
       " 'AgeOfPolicyHolder_51 to 65',\n",
       " 'AgeOfPolicyHolder_over 65',\n",
       " 'PoliceReportFiled_Yes',\n",
       " 'WitnessPresent_Yes',\n",
       " 'AgentType_Internal',\n",
       " 'NumberOfSuppliments_3 to 5',\n",
       " 'NumberOfSuppliments_more than 5',\n",
       " 'NumberOfSuppliments_none',\n",
       " 'AddressChange_Claim_2 to 3 years',\n",
       " 'AddressChange_Claim_4 to 8 years',\n",
       " 'AddressChange_Claim_no change',\n",
       " 'AddressChange_Claim_under 6 months',\n",
       " 'NumberOfCars_2 vehicles',\n",
       " 'NumberOfCars_3 to 4',\n",
       " 'NumberOfCars_5 to 8',\n",
       " 'NumberOfCars_more than 8',\n",
       " 'BasePolicy_Collision',\n",
       " 'BasePolicy_Liability',\n",
       " 'age_bins_young',\n",
       " 'age_bins_middle',\n",
       " 'age_bins_old']"
      ]
     },
     "execution_count": 37,
     "metadata": {},
     "output_type": "execute_result"
    }
   ],
   "source": [
    "## making a list of dummy features to ensure the process is done properly\n",
    "vfm_dummies.columns.to_list()"
   ]
  },
  {
   "cell_type": "markdown",
   "id": "bbbe833c",
   "metadata": {},
   "source": [
    "***We can see that 'WeekOfMonth','WeekOfMonthClaimed','Deductible','DriverRating','Year' are still there and they are not converted to dummies***\n",
    "\n",
    "***Converting these features to categories***"
   ]
  },
  {
   "cell_type": "code",
   "execution_count": 38,
   "id": "1913fb12",
   "metadata": {},
   "outputs": [],
   "source": [
    "## Converting the columns to categories \n",
    "for col in ['WeekOfMonth','WeekOfMonthClaimed','Deductible','DriverRating','Year']:\n",
    "    vfm_dummies[col] = vfm_dummies[col].astype('category')"
   ]
  },
  {
   "cell_type": "markdown",
   "id": "46fb77e0",
   "metadata": {},
   "source": [
    "***Creating dummy features for these categorical features now***"
   ]
  },
  {
   "cell_type": "code",
   "execution_count": 39,
   "id": "e04c298d",
   "metadata": {},
   "outputs": [],
   "source": [
    "### Creating dummy features\n",
    "vfm_dummies1=pd.get_dummies(vfm_dummies[['WeekOfMonth','WeekOfMonthClaimed','Deductible','DriverRating','Year']],drop_first=True)"
   ]
  },
  {
   "cell_type": "markdown",
   "id": "d72b17c5",
   "metadata": {},
   "source": [
    "***Checking to see the list of these dummy features***"
   ]
  },
  {
   "cell_type": "code",
   "execution_count": 40,
   "id": "b41e1910",
   "metadata": {},
   "outputs": [
    {
     "data": {
      "text/plain": [
       "['WeekOfMonth_2',\n",
       " 'WeekOfMonth_3',\n",
       " 'WeekOfMonth_4',\n",
       " 'WeekOfMonth_5',\n",
       " 'WeekOfMonthClaimed_2',\n",
       " 'WeekOfMonthClaimed_3',\n",
       " 'WeekOfMonthClaimed_4',\n",
       " 'WeekOfMonthClaimed_5',\n",
       " 'Deductible_400',\n",
       " 'Deductible_500',\n",
       " 'Deductible_700',\n",
       " 'DriverRating_2',\n",
       " 'DriverRating_3',\n",
       " 'DriverRating_4',\n",
       " 'Year_1995',\n",
       " 'Year_1996']"
      ]
     },
     "execution_count": 40,
     "metadata": {},
     "output_type": "execute_result"
    }
   ],
   "source": [
    "vfm_dummies1.columns.to_list()"
   ]
  },
  {
   "cell_type": "markdown",
   "id": "7a49aec0",
   "metadata": {},
   "source": [
    "***Making a new dataframe with all dummy features***"
   ]
  },
  {
   "cell_type": "code",
   "execution_count": 41,
   "id": "e0be1c02",
   "metadata": {},
   "outputs": [],
   "source": [
    "### Merging the dataframe with new dummy features with old one\n",
    "vfmerged=pd.concat([vfm_dummies,vfm_dummies1],axis='columns')"
   ]
  },
  {
   "cell_type": "markdown",
   "id": "49cf3ddc",
   "metadata": {},
   "source": [
    "***Dropping original features as we do not need them***"
   ]
  },
  {
   "cell_type": "code",
   "execution_count": 42,
   "id": "05a967d7",
   "metadata": {},
   "outputs": [],
   "source": [
    "### Dropping the original features so only dummy features are in the dataframe\n",
    "vfmerged.drop(['WeekOfMonth','WeekOfMonthClaimed','Deductible','DriverRating','Year'],axis=1, inplace=True)"
   ]
  },
  {
   "cell_type": "markdown",
   "id": "78c5b7eb",
   "metadata": {},
   "source": [
    "***Checking to see if all dummy features are there as we anticipated***"
   ]
  },
  {
   "cell_type": "code",
   "execution_count": 43,
   "id": "58b3ae82",
   "metadata": {},
   "outputs": [
    {
     "data": {
      "text/plain": [
       "['FraudFound_P',\n",
       " 'Month_Aug',\n",
       " 'Month_Dec',\n",
       " 'Month_Feb',\n",
       " 'Month_Jan',\n",
       " 'Month_Jul',\n",
       " 'Month_Jun',\n",
       " 'Month_Mar',\n",
       " 'Month_May',\n",
       " 'Month_Nov',\n",
       " 'Month_Oct',\n",
       " 'Month_Sep',\n",
       " 'DayOfWeek_Monday',\n",
       " 'DayOfWeek_Saturday',\n",
       " 'DayOfWeek_Sunday',\n",
       " 'DayOfWeek_Thursday',\n",
       " 'DayOfWeek_Tuesday',\n",
       " 'DayOfWeek_Wednesday',\n",
       " 'Make_BMW',\n",
       " 'Make_Chevrolet',\n",
       " 'Make_Dodge',\n",
       " 'Make_Ferrari',\n",
       " 'Make_Ford',\n",
       " 'Make_Honda',\n",
       " 'Make_Jaguar',\n",
       " 'Make_Lexus',\n",
       " 'Make_Mazda',\n",
       " 'Make_Mecedes',\n",
       " 'Make_Mercury',\n",
       " 'Make_Nisson',\n",
       " 'Make_Pontiac',\n",
       " 'Make_Porche',\n",
       " 'Make_Saab',\n",
       " 'Make_Saturn',\n",
       " 'Make_Toyota',\n",
       " 'Make_VW',\n",
       " 'AccidentArea_Urban',\n",
       " 'DayOfWeekClaimed_Friday',\n",
       " 'DayOfWeekClaimed_Monday',\n",
       " 'DayOfWeekClaimed_Saturday',\n",
       " 'DayOfWeekClaimed_Sunday',\n",
       " 'DayOfWeekClaimed_Thursday',\n",
       " 'DayOfWeekClaimed_Tuesday',\n",
       " 'DayOfWeekClaimed_Wednesday',\n",
       " 'MonthClaimed_Apr',\n",
       " 'MonthClaimed_Aug',\n",
       " 'MonthClaimed_Dec',\n",
       " 'MonthClaimed_Feb',\n",
       " 'MonthClaimed_Jan',\n",
       " 'MonthClaimed_Jul',\n",
       " 'MonthClaimed_Jun',\n",
       " 'MonthClaimed_Mar',\n",
       " 'MonthClaimed_May',\n",
       " 'MonthClaimed_Nov',\n",
       " 'MonthClaimed_Oct',\n",
       " 'MonthClaimed_Sep',\n",
       " 'Sex_Male',\n",
       " 'MaritalStatus_Married',\n",
       " 'MaritalStatus_Single',\n",
       " 'MaritalStatus_Widow',\n",
       " 'Fault_Third Party',\n",
       " 'PolicyType_Sedan - Collision',\n",
       " 'PolicyType_Sedan - Liability',\n",
       " 'PolicyType_Sport - All Perils',\n",
       " 'PolicyType_Sport - Collision',\n",
       " 'PolicyType_Sport - Liability',\n",
       " 'PolicyType_Utility - All Perils',\n",
       " 'PolicyType_Utility - Collision',\n",
       " 'PolicyType_Utility - Liability',\n",
       " 'VehicleCategory_Sport',\n",
       " 'VehicleCategory_Utility',\n",
       " 'VehiclePrice_30000 to 39000',\n",
       " 'VehiclePrice_40000 to 59000',\n",
       " 'VehiclePrice_60000 to 69000',\n",
       " 'VehiclePrice_less than 20000',\n",
       " 'VehiclePrice_more than 69000',\n",
       " 'Days_Policy_Accident_15 to 30',\n",
       " 'Days_Policy_Accident_8 to 15',\n",
       " 'Days_Policy_Accident_more than 30',\n",
       " 'Days_Policy_Accident_none',\n",
       " 'Days_Policy_Claim_8 to 15',\n",
       " 'Days_Policy_Claim_more than 30',\n",
       " 'Days_Policy_Claim_none',\n",
       " 'PastNumberOfClaims_2 to 4',\n",
       " 'PastNumberOfClaims_more than 4',\n",
       " 'PastNumberOfClaims_none',\n",
       " 'AgeOfVehicle_3 years',\n",
       " 'AgeOfVehicle_4 years',\n",
       " 'AgeOfVehicle_5 years',\n",
       " 'AgeOfVehicle_6 years',\n",
       " 'AgeOfVehicle_7 years',\n",
       " 'AgeOfVehicle_more than 7',\n",
       " 'AgeOfVehicle_new',\n",
       " 'AgeOfPolicyHolder_18 to 20',\n",
       " 'AgeOfPolicyHolder_21 to 25',\n",
       " 'AgeOfPolicyHolder_26 to 30',\n",
       " 'AgeOfPolicyHolder_31 to 35',\n",
       " 'AgeOfPolicyHolder_36 to 40',\n",
       " 'AgeOfPolicyHolder_41 to 50',\n",
       " 'AgeOfPolicyHolder_51 to 65',\n",
       " 'AgeOfPolicyHolder_over 65',\n",
       " 'PoliceReportFiled_Yes',\n",
       " 'WitnessPresent_Yes',\n",
       " 'AgentType_Internal',\n",
       " 'NumberOfSuppliments_3 to 5',\n",
       " 'NumberOfSuppliments_more than 5',\n",
       " 'NumberOfSuppliments_none',\n",
       " 'AddressChange_Claim_2 to 3 years',\n",
       " 'AddressChange_Claim_4 to 8 years',\n",
       " 'AddressChange_Claim_no change',\n",
       " 'AddressChange_Claim_under 6 months',\n",
       " 'NumberOfCars_2 vehicles',\n",
       " 'NumberOfCars_3 to 4',\n",
       " 'NumberOfCars_5 to 8',\n",
       " 'NumberOfCars_more than 8',\n",
       " 'BasePolicy_Collision',\n",
       " 'BasePolicy_Liability',\n",
       " 'age_bins_young',\n",
       " 'age_bins_middle',\n",
       " 'age_bins_old',\n",
       " 'WeekOfMonth_2',\n",
       " 'WeekOfMonth_3',\n",
       " 'WeekOfMonth_4',\n",
       " 'WeekOfMonth_5',\n",
       " 'WeekOfMonthClaimed_2',\n",
       " 'WeekOfMonthClaimed_3',\n",
       " 'WeekOfMonthClaimed_4',\n",
       " 'WeekOfMonthClaimed_5',\n",
       " 'Deductible_400',\n",
       " 'Deductible_500',\n",
       " 'Deductible_700',\n",
       " 'DriverRating_2',\n",
       " 'DriverRating_3',\n",
       " 'DriverRating_4',\n",
       " 'Year_1995',\n",
       " 'Year_1996']"
      ]
     },
     "execution_count": 43,
     "metadata": {},
     "output_type": "execute_result"
    }
   ],
   "source": [
    "vfmerged.columns.to_list()"
   ]
  },
  {
   "cell_type": "code",
   "execution_count": 44,
   "id": "d937c2b8",
   "metadata": {},
   "outputs": [
    {
     "data": {
      "text/plain": [
       "(15420, 136)"
      ]
     },
     "execution_count": 44,
     "metadata": {},
     "output_type": "execute_result"
    }
   ],
   "source": [
    "vfmerged.shape"
   ]
  },
  {
   "cell_type": "markdown",
   "id": "859cdaf3",
   "metadata": {},
   "source": [
    "***New DataFrame has 136 features***"
   ]
  },
  {
   "cell_type": "markdown",
   "id": "fdcfb577",
   "metadata": {},
   "source": [
    "###  4.4.4  Splitting the data into train and test"
   ]
  },
  {
   "cell_type": "code",
   "execution_count": 45,
   "id": "832d8c41",
   "metadata": {},
   "outputs": [],
   "source": [
    "#Peform the train test split \n",
    "X_train, X_test, y_train, y_test = train_test_split(vfmerged.drop(columns='FraudFound_P'), \n",
    "                                                    vfmerged.FraudFound_P, test_size=0.1, \n",
    "                                                    random_state=47,stratify=vfmerged.FraudFound_P)"
   ]
  },
  {
   "cell_type": "code",
   "execution_count": 46,
   "id": "d09fba3d",
   "metadata": {},
   "outputs": [
    {
     "name": "stdout",
     "output_type": "stream",
     "text": [
      "train data shape:(13878, 135)\n",
      "Test data shape:(1542, 135)\n"
     ]
    }
   ],
   "source": [
    "### checking the shape after train, test split\n",
    "print(f\"train data shape:{X_train.shape}\")\n",
    "print(f\"Test data shape:{X_test.shape}\")\n"
   ]
  },
  {
   "cell_type": "code",
   "execution_count": 47,
   "id": "fd2ba3f3",
   "metadata": {},
   "outputs": [
    {
     "name": "stdout",
     "output_type": "stream",
     "text": [
      "train target shape:(13878,)\n",
      "Test target shape:(1542,)\n"
     ]
    }
   ],
   "source": [
    "### checking the shape after train, test split\n",
    "print(f\"train target shape:{y_train.shape}\")\n",
    "print(f\"Test target shape:{y_test.shape}\")\n"
   ]
  },
  {
   "cell_type": "markdown",
   "id": "4545d323",
   "metadata": {},
   "source": [
    "### Balancing the target  class using different approaches"
   ]
  },
  {
   "cell_type": "markdown",
   "id": "2e7821f7",
   "metadata": {},
   "source": [
    "We can handle imbalanced classes by balancing the classes by increasing minority or decreasing majority.\n",
    "\n",
    "We can do that by following few techniques\n",
    "\n",
    "Random Under-Sampling\n",
    "Random Over-Sampling\n",
    "SMOTE - Synthetic Minority Oversampling Technique\n",
    "ADASYN - Adaptive Synthetic Sampling Method\n",
    "SMOTETomek - Over-sampling followed by under-sampling\n",
    "Unddersampling tends to loss of data so we will not use that. We will go with Random Over-Sampling, SMOTE - Synthetic Minority Oversampling Technique, ADASYN - Adaptive Synthetic Sampling Method and see which technique works better."
   ]
  },
  {
   "cell_type": "markdown",
   "id": "6316be43",
   "metadata": {},
   "source": [
    "###  Installing and importing necessary libraries"
   ]
  },
  {
   "cell_type": "code",
   "execution_count": 50,
   "id": "ad78edcc",
   "metadata": {},
   "outputs": [
    {
     "name": "stdout",
     "output_type": "stream",
     "text": [
      "Requirement already satisfied: imbalanced-learn in c:\\users\\vrastogi\\anaconda3\\envs\\pycaret37\\lib\\site-packages (0.7.0)\n",
      "Requirement already satisfied: scipy>=0.19.1 in c:\\users\\vrastogi\\anaconda3\\envs\\pycaret37\\lib\\site-packages (from imbalanced-learn) (1.5.4)\n",
      "Requirement already satisfied: numpy>=1.13.3 in c:\\users\\vrastogi\\anaconda3\\envs\\pycaret37\\lib\\site-packages (from imbalanced-learn) (1.19.5)\n",
      "Requirement already satisfied: scikit-learn>=0.23 in c:\\users\\vrastogi\\anaconda3\\envs\\pycaret37\\lib\\site-packages (from imbalanced-learn) (0.23.2)\n",
      "Requirement already satisfied: joblib>=0.11 in c:\\users\\vrastogi\\anaconda3\\envs\\pycaret37\\lib\\site-packages (from imbalanced-learn) (1.1.0)\n",
      "Requirement already satisfied: threadpoolctl>=2.0.0 in c:\\users\\vrastogi\\anaconda3\\envs\\pycaret37\\lib\\site-packages (from scikit-learn>=0.23->imbalanced-learn) (3.1.0)\n"
     ]
    }
   ],
   "source": [
    "! pip install imbalanced-learn"
   ]
  },
  {
   "cell_type": "code",
   "execution_count": 51,
   "id": "9c4ecce6",
   "metadata": {},
   "outputs": [],
   "source": [
    "from imblearn.over_sampling import RandomOverSampler,ADASYN,SMOTE\n",
    "from collections import Counter\n",
    "from imblearn.under_sampling import RandomUnderSampler"
   ]
  },
  {
   "cell_type": "markdown",
   "id": "415418ed",
   "metadata": {},
   "source": [
    "### Creating 4 different training dataset with different sampling techniques\n",
    "\n",
    "#### Using Smote over sampling"
   ]
  },
  {
   "cell_type": "code",
   "execution_count": 57,
   "id": "87f5fec3",
   "metadata": {},
   "outputs": [
    {
     "name": "stdout",
     "output_type": "stream",
     "text": [
      "Total length of len:26094\n",
      "New Distribution of out target label:[(0, 13047), (1, 13047)]\n"
     ]
    }
   ],
   "source": [
    "### https://github.com/pujappathak/Credit-Card-Fraud-Detection/blob/main/Puja%20Pathak%20-%20Capstone%20Project%20-%20Credit%20Card%20Fraud%20Detection.ipynb\n",
    "## SMOTE OVER SAMPLING\n",
    "smt = SMOTE(random_state=45, k_neighbors=5)\n",
    "X_resampled_sm, y_resampled_sm = smt.fit_resample(X_train, y_train)\n",
    "print(f\"Total length of len:{len(X_resampled_sm)}\")\n",
    "print(f\"New Distribution of out target label:{sorted(Counter(y_resampled_sm).items())}\")                        \n",
    "                            \n"
   ]
  },
  {
   "cell_type": "markdown",
   "id": "7d028140",
   "metadata": {},
   "source": [
    "### Using Random Over Sampler"
   ]
  },
  {
   "cell_type": "code",
   "execution_count": 52,
   "id": "42b130ce",
   "metadata": {},
   "outputs": [
    {
     "name": "stdout",
     "output_type": "stream",
     "text": [
      "Total length of len:26094\n",
      "New Distribution of out target label:[(0, 13047), (1, 13047)]\n"
     ]
    }
   ],
   "source": [
    "### https://github.com/pujappathak/Credit-Card-Fraud-Detection/blob/main/Puja%20Pathak%20-%20Capstone%20Project%20-%20Credit%20Card%20Fraud%20Detection.ipynb\n",
    "## Random Over Sampling\n",
    "over_sample = RandomOverSampler(sampling_strategy = 1)\n",
    "X_resampled_ro, y_resampled_ro = over_sample.fit_resample(X_train, y_train)\n",
    "print(f\"Total length of len:{len(X_resampled_ro)}\")\n",
    "print(f\"New Distribution of out target label:{sorted(Counter(y_resampled_ro).items())}\")"
   ]
  },
  {
   "cell_type": "markdown",
   "id": "fe516faf",
   "metadata": {},
   "source": [
    "***Important to remember sampling strategy=1.0 makes equal number of data points for both classes***\n",
    "\n",
    "\n",
    "***sampling strategy=0.5 had majority class= 2* minority class***\n",
    "\n",
    "## Using ADASYN method for over  sampling"
   ]
  },
  {
   "cell_type": "code",
   "execution_count": 53,
   "id": "8e105c1d",
   "metadata": {},
   "outputs": [
    {
     "name": "stdout",
     "output_type": "stream",
     "text": [
      "Total length of len:26135\n",
      "New Distribution of out target label:[(0, 13047), (1, 13088)]\n"
     ]
    }
   ],
   "source": [
    "### https://github.com/pujappathak/Credit-Card-Fraud-Detection/blob/main/Puja%20Pathak%20-%20Capstone%20Project%20-%20Credit%20Card%20Fraud%20Detection.ipynb\n",
    "## ADASYN\n",
    "ada = ADASYN(random_state=45, n_neighbors=5)\n",
    "X_resampled_ad, y_resampled_ad = ada.fit_resample(X_train, y_train)\n",
    "print(f\"Total length of len:{len(X_resampled_ad)}\")\n",
    "print(f\"New Distribution of out target label:{sorted(Counter(y_resampled_ad).items())}\")"
   ]
  },
  {
   "cell_type": "markdown",
   "id": "7d38c51a",
   "metadata": {},
   "source": [
    "### Using Random Under Sampler"
   ]
  },
  {
   "cell_type": "code",
   "execution_count": 54,
   "id": "14a0066f",
   "metadata": {},
   "outputs": [
    {
     "name": "stdout",
     "output_type": "stream",
     "text": [
      "Total length of len:1662\n",
      "New Distribution of out target label:[(0, 831), (1, 831)]\n"
     ]
    }
   ],
   "source": [
    "### https://machinelearningmastery.com/smote-oversampling-for-imbalanced-classification/\n",
    "under = RandomUnderSampler(sampling_strategy=1.0)\n",
    "X_resampled_u, y_resampled_u = under.fit_resample(X_train, y_train)\n",
    "print(f\"Total length of len:{len(X_resampled_u)}\")\n",
    "print(f\"New Distribution of out target label:{sorted(Counter(y_resampled_u).items())}\")"
   ]
  },
  {
   "cell_type": "markdown",
   "id": "14c1f1ec",
   "metadata": {},
   "source": [
    "#### Making Dataframe for SMOTE"
   ]
  },
  {
   "cell_type": "code",
   "execution_count": 58,
   "id": "13c589c6",
   "metadata": {},
   "outputs": [
    {
     "data": {
      "text/plain": [
       "(26094, 136)"
      ]
     },
     "execution_count": 58,
     "metadata": {},
     "output_type": "execute_result"
    }
   ],
   "source": [
    "### Dataframe for smote\n",
    "smote=pd.concat([X_resampled_sm, y_resampled_sm],axis=1)\n",
    "smote.shape"
   ]
  },
  {
   "cell_type": "markdown",
   "id": "fd8da223",
   "metadata": {},
   "source": [
    "### Making Data Frame for Random Over Sampler"
   ]
  },
  {
   "cell_type": "code",
   "execution_count": 60,
   "id": "f31c1bb8",
   "metadata": {},
   "outputs": [
    {
     "data": {
      "text/plain": [
       "(26094, 136)"
      ]
     },
     "execution_count": 60,
     "metadata": {},
     "output_type": "execute_result"
    }
   ],
   "source": [
    "### Dataframe for Random Over Sampling\n",
    "os=pd.concat([X_resampled_ro, y_resampled_ro],axis=1)\n",
    "os.shape"
   ]
  },
  {
   "cell_type": "markdown",
   "id": "e60cdd78",
   "metadata": {},
   "source": [
    "### Making Data Frame for ADASYN"
   ]
  },
  {
   "cell_type": "code",
   "execution_count": 63,
   "id": "f6d67d8c",
   "metadata": {},
   "outputs": [
    {
     "data": {
      "text/plain": [
       "(26135, 136)"
      ]
     },
     "execution_count": 63,
     "metadata": {},
     "output_type": "execute_result"
    }
   ],
   "source": [
    "Adasyn=pd.concat([X_resampled_ad, y_resampled_ad],axis=1)\n",
    "Adasyn.shape"
   ]
  },
  {
   "cell_type": "markdown",
   "id": "bed5cc31",
   "metadata": {},
   "source": [
    "#### Making Data Frame for Random Under Sampler"
   ]
  },
  {
   "cell_type": "code",
   "execution_count": 64,
   "id": "cf5a6530",
   "metadata": {},
   "outputs": [
    {
     "data": {
      "text/plain": [
       "(1662, 136)"
      ]
     },
     "execution_count": 64,
     "metadata": {},
     "output_type": "execute_result"
    }
   ],
   "source": [
    "un=pd.concat([X_resampled_u, y_resampled_u],axis=1)\n",
    "un.shape"
   ]
  },
  {
   "cell_type": "markdown",
   "id": "986fc8ed",
   "metadata": {},
   "source": [
    "###  Running pycaret models for the classification with new dataframe with features converted into dummy variabels\n",
    "\n",
    "1. SMOTE"
   ]
  },
  {
   "cell_type": "code",
   "execution_count": 65,
   "id": "1ed5da6e",
   "metadata": {
    "scrolled": true
   },
   "outputs": [
    {
     "data": {
      "text/html": [
       "<style type=\"text/css\">\n",
       "#T_b0686_ th {\n",
       "  text-align: left;\n",
       "}\n",
       "#T_b0686_row0_col0, #T_b0686_row0_col2, #T_b0686_row0_col3, #T_b0686_row0_col4, #T_b0686_row1_col0, #T_b0686_row1_col1, #T_b0686_row1_col2, #T_b0686_row1_col3, #T_b0686_row1_col4, #T_b0686_row1_col5, #T_b0686_row1_col6, #T_b0686_row1_col7, #T_b0686_row2_col0, #T_b0686_row2_col1, #T_b0686_row2_col2, #T_b0686_row2_col3, #T_b0686_row2_col4, #T_b0686_row2_col5, #T_b0686_row2_col6, #T_b0686_row2_col7, #T_b0686_row3_col0, #T_b0686_row3_col1, #T_b0686_row3_col2, #T_b0686_row3_col3, #T_b0686_row3_col4, #T_b0686_row3_col5, #T_b0686_row3_col6, #T_b0686_row3_col7, #T_b0686_row4_col0, #T_b0686_row4_col1, #T_b0686_row4_col2, #T_b0686_row4_col3, #T_b0686_row4_col4, #T_b0686_row4_col5, #T_b0686_row4_col6, #T_b0686_row4_col7, #T_b0686_row5_col0, #T_b0686_row5_col1, #T_b0686_row5_col2, #T_b0686_row5_col3, #T_b0686_row5_col5, #T_b0686_row5_col6, #T_b0686_row5_col7, #T_b0686_row6_col0, #T_b0686_row6_col1, #T_b0686_row6_col3, #T_b0686_row6_col5, #T_b0686_row6_col6, #T_b0686_row6_col7, #T_b0686_row7_col0, #T_b0686_row7_col1, #T_b0686_row7_col2, #T_b0686_row7_col3, #T_b0686_row7_col4, #T_b0686_row7_col5, #T_b0686_row7_col6, #T_b0686_row7_col7, #T_b0686_row8_col0, #T_b0686_row8_col1, #T_b0686_row8_col2, #T_b0686_row8_col3, #T_b0686_row8_col5, #T_b0686_row8_col6, #T_b0686_row8_col7, #T_b0686_row9_col0, #T_b0686_row9_col1, #T_b0686_row9_col2, #T_b0686_row9_col4, #T_b0686_row9_col5, #T_b0686_row9_col6, #T_b0686_row9_col7, #T_b0686_row10_col0, #T_b0686_row10_col1, #T_b0686_row10_col2, #T_b0686_row10_col3, #T_b0686_row10_col4, #T_b0686_row10_col5, #T_b0686_row10_col6, #T_b0686_row10_col7, #T_b0686_row11_col0, #T_b0686_row11_col1, #T_b0686_row11_col2, #T_b0686_row11_col3, #T_b0686_row11_col5, #T_b0686_row11_col6, #T_b0686_row11_col7, #T_b0686_row12_col0, #T_b0686_row12_col1, #T_b0686_row12_col2, #T_b0686_row12_col3, #T_b0686_row12_col5, #T_b0686_row12_col6, #T_b0686_row12_col7, #T_b0686_row13_col0, #T_b0686_row13_col1, #T_b0686_row13_col2, #T_b0686_row13_col3, #T_b0686_row13_col4, #T_b0686_row13_col5, #T_b0686_row13_col6, #T_b0686_row13_col7 {\n",
       "  text-align: left;\n",
       "}\n",
       "#T_b0686_row0_col1, #T_b0686_row0_col5, #T_b0686_row0_col6, #T_b0686_row0_col7, #T_b0686_row5_col4, #T_b0686_row6_col2, #T_b0686_row6_col4, #T_b0686_row8_col4, #T_b0686_row9_col3, #T_b0686_row11_col4, #T_b0686_row12_col4 {\n",
       "  text-align: left;\n",
       "  background-color: yellow;\n",
       "}\n",
       "#T_b0686_row0_col8, #T_b0686_row1_col8, #T_b0686_row2_col8, #T_b0686_row3_col8, #T_b0686_row4_col8, #T_b0686_row5_col8, #T_b0686_row6_col8, #T_b0686_row7_col8, #T_b0686_row8_col8, #T_b0686_row9_col8, #T_b0686_row10_col8, #T_b0686_row11_col8, #T_b0686_row12_col8 {\n",
       "  text-align: left;\n",
       "  background-color: lightgrey;\n",
       "}\n",
       "#T_b0686_row13_col8 {\n",
       "  text-align: left;\n",
       "  background-color: yellow;\n",
       "  background-color: lightgrey;\n",
       "}\n",
       "</style>\n",
       "<table id=\"T_b0686_\">\n",
       "  <thead>\n",
       "    <tr>\n",
       "      <th class=\"blank level0\" >&nbsp;</th>\n",
       "      <th class=\"col_heading level0 col0\" >Model</th>\n",
       "      <th class=\"col_heading level0 col1\" >Accuracy</th>\n",
       "      <th class=\"col_heading level0 col2\" >AUC</th>\n",
       "      <th class=\"col_heading level0 col3\" >Recall</th>\n",
       "      <th class=\"col_heading level0 col4\" >Prec.</th>\n",
       "      <th class=\"col_heading level0 col5\" >F1</th>\n",
       "      <th class=\"col_heading level0 col6\" >Kappa</th>\n",
       "      <th class=\"col_heading level0 col7\" >MCC</th>\n",
       "      <th class=\"col_heading level0 col8\" >TT (Sec)</th>\n",
       "    </tr>\n",
       "  </thead>\n",
       "  <tbody>\n",
       "    <tr>\n",
       "      <th id=\"T_b0686_level0_row0\" class=\"row_heading level0 row0\" >rf</th>\n",
       "      <td id=\"T_b0686_row0_col0\" class=\"data row0 col0\" >Random Forest Classifier</td>\n",
       "      <td id=\"T_b0686_row0_col1\" class=\"data row0 col1\" >0.9665</td>\n",
       "      <td id=\"T_b0686_row0_col2\" class=\"data row0 col2\" >0.9697</td>\n",
       "      <td id=\"T_b0686_row0_col3\" class=\"data row0 col3\" >0.9342</td>\n",
       "      <td id=\"T_b0686_row0_col4\" class=\"data row0 col4\" >0.9987</td>\n",
       "      <td id=\"T_b0686_row0_col5\" class=\"data row0 col5\" >0.9654</td>\n",
       "      <td id=\"T_b0686_row0_col6\" class=\"data row0 col6\" >0.9330</td>\n",
       "      <td id=\"T_b0686_row0_col7\" class=\"data row0 col7\" >0.9349</td>\n",
       "      <td id=\"T_b0686_row0_col8\" class=\"data row0 col8\" >0.5220</td>\n",
       "    </tr>\n",
       "    <tr>\n",
       "      <th id=\"T_b0686_level0_row1\" class=\"row_heading level0 row1\" >et</th>\n",
       "      <td id=\"T_b0686_row1_col0\" class=\"data row1 col0\" >Extra Trees Classifier</td>\n",
       "      <td id=\"T_b0686_row1_col1\" class=\"data row1 col1\" >0.9656</td>\n",
       "      <td id=\"T_b0686_row1_col2\" class=\"data row1 col2\" >0.9696</td>\n",
       "      <td id=\"T_b0686_row1_col3\" class=\"data row1 col3\" >0.9333</td>\n",
       "      <td id=\"T_b0686_row1_col4\" class=\"data row1 col4\" >0.9977</td>\n",
       "      <td id=\"T_b0686_row1_col5\" class=\"data row1 col5\" >0.9644</td>\n",
       "      <td id=\"T_b0686_row1_col6\" class=\"data row1 col6\" >0.9311</td>\n",
       "      <td id=\"T_b0686_row1_col7\" class=\"data row1 col7\" >0.9331</td>\n",
       "      <td id=\"T_b0686_row1_col8\" class=\"data row1 col8\" >0.3460</td>\n",
       "    </tr>\n",
       "    <tr>\n",
       "      <th id=\"T_b0686_level0_row2\" class=\"row_heading level0 row2\" >gbc</th>\n",
       "      <td id=\"T_b0686_row2_col0\" class=\"data row2 col0\" >Gradient Boosting Classifier</td>\n",
       "      <td id=\"T_b0686_row2_col1\" class=\"data row2 col1\" >0.9651</td>\n",
       "      <td id=\"T_b0686_row2_col2\" class=\"data row2 col2\" >0.9711</td>\n",
       "      <td id=\"T_b0686_row2_col3\" class=\"data row2 col3\" >0.9311</td>\n",
       "      <td id=\"T_b0686_row2_col4\" class=\"data row2 col4\" >0.9989</td>\n",
       "      <td id=\"T_b0686_row2_col5\" class=\"data row2 col5\" >0.9638</td>\n",
       "      <td id=\"T_b0686_row2_col6\" class=\"data row2 col6\" >0.9301</td>\n",
       "      <td id=\"T_b0686_row2_col7\" class=\"data row2 col7\" >0.9323</td>\n",
       "      <td id=\"T_b0686_row2_col8\" class=\"data row2 col8\" >0.4500</td>\n",
       "    </tr>\n",
       "    <tr>\n",
       "      <th id=\"T_b0686_level0_row3\" class=\"row_heading level0 row3\" >ada</th>\n",
       "      <td id=\"T_b0686_row3_col0\" class=\"data row3 col0\" >Ada Boost Classifier</td>\n",
       "      <td id=\"T_b0686_row3_col1\" class=\"data row3 col1\" >0.9649</td>\n",
       "      <td id=\"T_b0686_row3_col2\" class=\"data row3 col2\" >0.9702</td>\n",
       "      <td id=\"T_b0686_row3_col3\" class=\"data row3 col3\" >0.9309</td>\n",
       "      <td id=\"T_b0686_row3_col4\" class=\"data row3 col4\" >0.9987</td>\n",
       "      <td id=\"T_b0686_row3_col5\" class=\"data row3 col5\" >0.9636</td>\n",
       "      <td id=\"T_b0686_row3_col6\" class=\"data row3 col6\" >0.9297</td>\n",
       "      <td id=\"T_b0686_row3_col7\" class=\"data row3 col7\" >0.9319</td>\n",
       "      <td id=\"T_b0686_row3_col8\" class=\"data row3 col8\" >0.1580</td>\n",
       "    </tr>\n",
       "    <tr>\n",
       "      <th id=\"T_b0686_level0_row4\" class=\"row_heading level0 row4\" >lightgbm</th>\n",
       "      <td id=\"T_b0686_row4_col0\" class=\"data row4 col0\" >Light Gradient Boosting Machine</td>\n",
       "      <td id=\"T_b0686_row4_col1\" class=\"data row4 col1\" >0.9641</td>\n",
       "      <td id=\"T_b0686_row4_col2\" class=\"data row4 col2\" >0.9690</td>\n",
       "      <td id=\"T_b0686_row4_col3\" class=\"data row4 col3\" >0.9304</td>\n",
       "      <td id=\"T_b0686_row4_col4\" class=\"data row4 col4\" >0.9978</td>\n",
       "      <td id=\"T_b0686_row4_col5\" class=\"data row4 col5\" >0.9629</td>\n",
       "      <td id=\"T_b0686_row4_col6\" class=\"data row4 col6\" >0.9283</td>\n",
       "      <td id=\"T_b0686_row4_col7\" class=\"data row4 col7\" >0.9304</td>\n",
       "      <td id=\"T_b0686_row4_col8\" class=\"data row4 col8\" >0.0540</td>\n",
       "    </tr>\n",
       "    <tr>\n",
       "      <th id=\"T_b0686_level0_row5\" class=\"row_heading level0 row5\" >qda</th>\n",
       "      <td id=\"T_b0686_row5_col0\" class=\"data row5 col0\" >Quadratic Discriminant Analysis</td>\n",
       "      <td id=\"T_b0686_row5_col1\" class=\"data row5 col1\" >0.9638</td>\n",
       "      <td id=\"T_b0686_row5_col2\" class=\"data row5 col2\" >0.9727</td>\n",
       "      <td id=\"T_b0686_row5_col3\" class=\"data row5 col3\" >0.9276</td>\n",
       "      <td id=\"T_b0686_row5_col4\" class=\"data row5 col4\" >1.0000</td>\n",
       "      <td id=\"T_b0686_row5_col5\" class=\"data row5 col5\" >0.9624</td>\n",
       "      <td id=\"T_b0686_row5_col6\" class=\"data row5 col6\" >0.9276</td>\n",
       "      <td id=\"T_b0686_row5_col7\" class=\"data row5 col7\" >0.9301</td>\n",
       "      <td id=\"T_b0686_row5_col8\" class=\"data row5 col8\" >0.0100</td>\n",
       "    </tr>\n",
       "    <tr>\n",
       "      <th id=\"T_b0686_level0_row6\" class=\"row_heading level0 row6\" >nb</th>\n",
       "      <td id=\"T_b0686_row6_col0\" class=\"data row6 col0\" >Naive Bayes</td>\n",
       "      <td id=\"T_b0686_row6_col1\" class=\"data row6 col1\" >0.9637</td>\n",
       "      <td id=\"T_b0686_row6_col2\" class=\"data row6 col2\" >0.9730</td>\n",
       "      <td id=\"T_b0686_row6_col3\" class=\"data row6 col3\" >0.9274</td>\n",
       "      <td id=\"T_b0686_row6_col4\" class=\"data row6 col4\" >1.0000</td>\n",
       "      <td id=\"T_b0686_row6_col5\" class=\"data row6 col5\" >0.9623</td>\n",
       "      <td id=\"T_b0686_row6_col6\" class=\"data row6 col6\" >0.9274</td>\n",
       "      <td id=\"T_b0686_row6_col7\" class=\"data row6 col7\" >0.9299</td>\n",
       "      <td id=\"T_b0686_row6_col8\" class=\"data row6 col8\" >0.0100</td>\n",
       "    </tr>\n",
       "    <tr>\n",
       "      <th id=\"T_b0686_level0_row7\" class=\"row_heading level0 row7\" >knn</th>\n",
       "      <td id=\"T_b0686_row7_col0\" class=\"data row7 col0\" >K Neighbors Classifier</td>\n",
       "      <td id=\"T_b0686_row7_col1\" class=\"data row7 col1\" >0.9634</td>\n",
       "      <td id=\"T_b0686_row7_col2\" class=\"data row7 col2\" >0.9668</td>\n",
       "      <td id=\"T_b0686_row7_col3\" class=\"data row7 col3\" >0.9301</td>\n",
       "      <td id=\"T_b0686_row7_col4\" class=\"data row7 col4\" >0.9965</td>\n",
       "      <td id=\"T_b0686_row7_col5\" class=\"data row7 col5\" >0.9622</td>\n",
       "      <td id=\"T_b0686_row7_col6\" class=\"data row7 col6\" >0.9269</td>\n",
       "      <td id=\"T_b0686_row7_col7\" class=\"data row7 col7\" >0.9289</td>\n",
       "      <td id=\"T_b0686_row7_col8\" class=\"data row7 col8\" >0.5560</td>\n",
       "    </tr>\n",
       "    <tr>\n",
       "      <th id=\"T_b0686_level0_row8\" class=\"row_heading level0 row8\" >lr</th>\n",
       "      <td id=\"T_b0686_row8_col0\" class=\"data row8 col0\" >Logistic Regression</td>\n",
       "      <td id=\"T_b0686_row8_col1\" class=\"data row8 col1\" >0.9626</td>\n",
       "      <td id=\"T_b0686_row8_col2\" class=\"data row8 col2\" >0.9651</td>\n",
       "      <td id=\"T_b0686_row8_col3\" class=\"data row8 col3\" >0.9251</td>\n",
       "      <td id=\"T_b0686_row8_col4\" class=\"data row8 col4\" >1.0000</td>\n",
       "      <td id=\"T_b0686_row8_col5\" class=\"data row8 col5\" >0.9611</td>\n",
       "      <td id=\"T_b0686_row8_col6\" class=\"data row8 col6\" >0.9251</td>\n",
       "      <td id=\"T_b0686_row8_col7\" class=\"data row8 col7\" >0.9277</td>\n",
       "      <td id=\"T_b0686_row8_col8\" class=\"data row8 col8\" >0.7720</td>\n",
       "    </tr>\n",
       "    <tr>\n",
       "      <th id=\"T_b0686_level0_row9\" class=\"row_heading level0 row9\" >dt</th>\n",
       "      <td id=\"T_b0686_row9_col0\" class=\"data row9 col0\" >Decision Tree Classifier</td>\n",
       "      <td id=\"T_b0686_row9_col1\" class=\"data row9 col1\" >0.9374</td>\n",
       "      <td id=\"T_b0686_row9_col2\" class=\"data row9 col2\" >0.9374</td>\n",
       "      <td id=\"T_b0686_row9_col3\" class=\"data row9 col3\" >0.9393</td>\n",
       "      <td id=\"T_b0686_row9_col4\" class=\"data row9 col4\" >0.9358</td>\n",
       "      <td id=\"T_b0686_row9_col5\" class=\"data row9 col5\" >0.9375</td>\n",
       "      <td id=\"T_b0686_row9_col6\" class=\"data row9 col6\" >0.8748</td>\n",
       "      <td id=\"T_b0686_row9_col7\" class=\"data row9 col7\" >0.8749</td>\n",
       "      <td id=\"T_b0686_row9_col8\" class=\"data row9 col8\" >0.0240</td>\n",
       "    </tr>\n",
       "    <tr>\n",
       "      <th id=\"T_b0686_level0_row10\" class=\"row_heading level0 row10\" >svm</th>\n",
       "      <td id=\"T_b0686_row10_col0\" class=\"data row10 col0\" >SVM - Linear Kernel</td>\n",
       "      <td id=\"T_b0686_row10_col1\" class=\"data row10 col1\" >0.9340</td>\n",
       "      <td id=\"T_b0686_row10_col2\" class=\"data row10 col2\" >0.0000</td>\n",
       "      <td id=\"T_b0686_row10_col3\" class=\"data row10 col3\" >0.9367</td>\n",
       "      <td id=\"T_b0686_row10_col4\" class=\"data row10 col4\" >0.9396</td>\n",
       "      <td id=\"T_b0686_row10_col5\" class=\"data row10 col5\" >0.9362</td>\n",
       "      <td id=\"T_b0686_row10_col6\" class=\"data row10 col6\" >0.8679</td>\n",
       "      <td id=\"T_b0686_row10_col7\" class=\"data row10 col7\" >0.8718</td>\n",
       "      <td id=\"T_b0686_row10_col8\" class=\"data row10 col8\" >0.0240</td>\n",
       "    </tr>\n",
       "    <tr>\n",
       "      <th id=\"T_b0686_level0_row11\" class=\"row_heading level0 row11\" >ridge</th>\n",
       "      <td id=\"T_b0686_row11_col0\" class=\"data row11 col0\" >Ridge Classifier</td>\n",
       "      <td id=\"T_b0686_row11_col1\" class=\"data row11 col1\" >0.8417</td>\n",
       "      <td id=\"T_b0686_row11_col2\" class=\"data row11 col2\" >0.0000</td>\n",
       "      <td id=\"T_b0686_row11_col3\" class=\"data row11 col3\" >0.6834</td>\n",
       "      <td id=\"T_b0686_row11_col4\" class=\"data row11 col4\" >1.0000</td>\n",
       "      <td id=\"T_b0686_row11_col5\" class=\"data row11 col5\" >0.8119</td>\n",
       "      <td id=\"T_b0686_row11_col6\" class=\"data row11 col6\" >0.6834</td>\n",
       "      <td id=\"T_b0686_row11_col7\" class=\"data row11 col7\" >0.7205</td>\n",
       "      <td id=\"T_b0686_row11_col8\" class=\"data row11 col8\" >0.0100</td>\n",
       "    </tr>\n",
       "    <tr>\n",
       "      <th id=\"T_b0686_level0_row12\" class=\"row_heading level0 row12\" >lda</th>\n",
       "      <td id=\"T_b0686_row12_col0\" class=\"data row12 col0\" >Linear Discriminant Analysis</td>\n",
       "      <td id=\"T_b0686_row12_col1\" class=\"data row12 col1\" >0.8417</td>\n",
       "      <td id=\"T_b0686_row12_col2\" class=\"data row12 col2\" >0.9652</td>\n",
       "      <td id=\"T_b0686_row12_col3\" class=\"data row12 col3\" >0.6834</td>\n",
       "      <td id=\"T_b0686_row12_col4\" class=\"data row12 col4\" >1.0000</td>\n",
       "      <td id=\"T_b0686_row12_col5\" class=\"data row12 col5\" >0.8119</td>\n",
       "      <td id=\"T_b0686_row12_col6\" class=\"data row12 col6\" >0.6834</td>\n",
       "      <td id=\"T_b0686_row12_col7\" class=\"data row12 col7\" >0.7205</td>\n",
       "      <td id=\"T_b0686_row12_col8\" class=\"data row12 col8\" >0.0100</td>\n",
       "    </tr>\n",
       "    <tr>\n",
       "      <th id=\"T_b0686_level0_row13\" class=\"row_heading level0 row13\" >dummy</th>\n",
       "      <td id=\"T_b0686_row13_col0\" class=\"data row13 col0\" >Dummy Classifier</td>\n",
       "      <td id=\"T_b0686_row13_col1\" class=\"data row13 col1\" >0.5000</td>\n",
       "      <td id=\"T_b0686_row13_col2\" class=\"data row13 col2\" >0.5000</td>\n",
       "      <td id=\"T_b0686_row13_col3\" class=\"data row13 col3\" >0.0000</td>\n",
       "      <td id=\"T_b0686_row13_col4\" class=\"data row13 col4\" >0.0000</td>\n",
       "      <td id=\"T_b0686_row13_col5\" class=\"data row13 col5\" >0.0000</td>\n",
       "      <td id=\"T_b0686_row13_col6\" class=\"data row13 col6\" >0.0000</td>\n",
       "      <td id=\"T_b0686_row13_col7\" class=\"data row13 col7\" >0.0000</td>\n",
       "      <td id=\"T_b0686_row13_col8\" class=\"data row13 col8\" >0.0080</td>\n",
       "    </tr>\n",
       "  </tbody>\n",
       "</table>\n"
      ],
      "text/plain": [
       "<pandas.io.formats.style.Styler at 0x181db5a5ec8>"
      ]
     },
     "metadata": {},
     "output_type": "display_data"
    }
   ],
   "source": [
    "from pycaret.classification import *\n",
    "sm = setup(smote, target = 'FraudFound_P',data_split_stratify=True,pca = True, pca_components =3,session_id=1122)\n",
    "smote_best = compare_models(fold=5)"
   ]
  },
  {
   "cell_type": "markdown",
   "id": "0112f271",
   "metadata": {},
   "source": [
    "#### Optimizing Random Forest Model"
   ]
  },
  {
   "cell_type": "code",
   "execution_count": 66,
   "id": "2caa111b",
   "metadata": {},
   "outputs": [
    {
     "data": {
      "text/html": [
       "<style type=\"text/css\">\n",
       "#T_5a55d_row5_col0, #T_5a55d_row5_col1, #T_5a55d_row5_col2, #T_5a55d_row5_col3, #T_5a55d_row5_col4, #T_5a55d_row5_col5, #T_5a55d_row5_col6 {\n",
       "  background: yellow;\n",
       "}\n",
       "</style>\n",
       "<table id=\"T_5a55d_\">\n",
       "  <thead>\n",
       "    <tr>\n",
       "      <th class=\"blank level0\" >&nbsp;</th>\n",
       "      <th class=\"col_heading level0 col0\" >Accuracy</th>\n",
       "      <th class=\"col_heading level0 col1\" >AUC</th>\n",
       "      <th class=\"col_heading level0 col2\" >Recall</th>\n",
       "      <th class=\"col_heading level0 col3\" >Prec.</th>\n",
       "      <th class=\"col_heading level0 col4\" >F1</th>\n",
       "      <th class=\"col_heading level0 col5\" >Kappa</th>\n",
       "      <th class=\"col_heading level0 col6\" >MCC</th>\n",
       "    </tr>\n",
       "    <tr>\n",
       "      <th class=\"index_name level0\" >Fold</th>\n",
       "      <th class=\"blank col0\" >&nbsp;</th>\n",
       "      <th class=\"blank col1\" >&nbsp;</th>\n",
       "      <th class=\"blank col2\" >&nbsp;</th>\n",
       "      <th class=\"blank col3\" >&nbsp;</th>\n",
       "      <th class=\"blank col4\" >&nbsp;</th>\n",
       "      <th class=\"blank col5\" >&nbsp;</th>\n",
       "      <th class=\"blank col6\" >&nbsp;</th>\n",
       "    </tr>\n",
       "  </thead>\n",
       "  <tbody>\n",
       "    <tr>\n",
       "      <th id=\"T_5a55d_level0_row0\" class=\"row_heading level0 row0\" >0</th>\n",
       "      <td id=\"T_5a55d_row0_col0\" class=\"data row0 col0\" >0.9669</td>\n",
       "      <td id=\"T_5a55d_row0_col1\" class=\"data row0 col1\" >0.9668</td>\n",
       "      <td id=\"T_5a55d_row0_col2\" class=\"data row0 col2\" >0.9337</td>\n",
       "      <td id=\"T_5a55d_row0_col3\" class=\"data row0 col3\" >1.0000</td>\n",
       "      <td id=\"T_5a55d_row0_col4\" class=\"data row0 col4\" >0.9657</td>\n",
       "      <td id=\"T_5a55d_row0_col5\" class=\"data row0 col5\" >0.9338</td>\n",
       "      <td id=\"T_5a55d_row0_col6\" class=\"data row0 col6\" >0.9358</td>\n",
       "    </tr>\n",
       "    <tr>\n",
       "      <th id=\"T_5a55d_level0_row1\" class=\"row_heading level0 row1\" >1</th>\n",
       "      <td id=\"T_5a55d_row1_col0\" class=\"data row1 col0\" >0.9650</td>\n",
       "      <td id=\"T_5a55d_row1_col1\" class=\"data row1 col1\" >0.9652</td>\n",
       "      <td id=\"T_5a55d_row1_col2\" class=\"data row1 col2\" >0.9310</td>\n",
       "      <td id=\"T_5a55d_row1_col3\" class=\"data row1 col3\" >0.9988</td>\n",
       "      <td id=\"T_5a55d_row1_col4\" class=\"data row1 col4\" >0.9637</td>\n",
       "      <td id=\"T_5a55d_row1_col5\" class=\"data row1 col5\" >0.9299</td>\n",
       "      <td id=\"T_5a55d_row1_col6\" class=\"data row1 col6\" >0.9321</td>\n",
       "    </tr>\n",
       "    <tr>\n",
       "      <th id=\"T_5a55d_level0_row2\" class=\"row_heading level0 row2\" >2</th>\n",
       "      <td id=\"T_5a55d_row2_col0\" class=\"data row2 col0\" >0.9663</td>\n",
       "      <td id=\"T_5a55d_row2_col1\" class=\"data row2 col1\" >0.9663</td>\n",
       "      <td id=\"T_5a55d_row2_col2\" class=\"data row2 col2\" >0.9326</td>\n",
       "      <td id=\"T_5a55d_row2_col3\" class=\"data row2 col3\" >1.0000</td>\n",
       "      <td id=\"T_5a55d_row2_col4\" class=\"data row2 col4\" >0.9651</td>\n",
       "      <td id=\"T_5a55d_row2_col5\" class=\"data row2 col5\" >0.9327</td>\n",
       "      <td id=\"T_5a55d_row2_col6\" class=\"data row2 col6\" >0.9348</td>\n",
       "    </tr>\n",
       "    <tr>\n",
       "      <th id=\"T_5a55d_level0_row3\" class=\"row_heading level0 row3\" >3</th>\n",
       "      <td id=\"T_5a55d_row3_col0\" class=\"data row3 col0\" >0.9644</td>\n",
       "      <td id=\"T_5a55d_row3_col1\" class=\"data row3 col1\" >0.9647</td>\n",
       "      <td id=\"T_5a55d_row3_col2\" class=\"data row3 col2\" >0.9288</td>\n",
       "      <td id=\"T_5a55d_row3_col3\" class=\"data row3 col3\" >1.0000</td>\n",
       "      <td id=\"T_5a55d_row3_col4\" class=\"data row3 col4\" >0.9631</td>\n",
       "      <td id=\"T_5a55d_row3_col5\" class=\"data row3 col5\" >0.9288</td>\n",
       "      <td id=\"T_5a55d_row3_col6\" class=\"data row3 col6\" >0.9312</td>\n",
       "    </tr>\n",
       "    <tr>\n",
       "      <th id=\"T_5a55d_level0_row4\" class=\"row_heading level0 row4\" >4</th>\n",
       "      <td id=\"T_5a55d_row4_col0\" class=\"data row4 col0\" >0.9625</td>\n",
       "      <td id=\"T_5a55d_row4_col1\" class=\"data row4 col1\" >0.9628</td>\n",
       "      <td id=\"T_5a55d_row4_col2\" class=\"data row4 col2\" >0.9250</td>\n",
       "      <td id=\"T_5a55d_row4_col3\" class=\"data row4 col3\" >1.0000</td>\n",
       "      <td id=\"T_5a55d_row4_col4\" class=\"data row4 col4\" >0.9610</td>\n",
       "      <td id=\"T_5a55d_row4_col5\" class=\"data row4 col5\" >0.9250</td>\n",
       "      <td id=\"T_5a55d_row4_col6\" class=\"data row4 col6\" >0.9276</td>\n",
       "    </tr>\n",
       "    <tr>\n",
       "      <th id=\"T_5a55d_level0_row5\" class=\"row_heading level0 row5\" >Mean</th>\n",
       "      <td id=\"T_5a55d_row5_col0\" class=\"data row5 col0\" >0.9650</td>\n",
       "      <td id=\"T_5a55d_row5_col1\" class=\"data row5 col1\" >0.9652</td>\n",
       "      <td id=\"T_5a55d_row5_col2\" class=\"data row5 col2\" >0.9302</td>\n",
       "      <td id=\"T_5a55d_row5_col3\" class=\"data row5 col3\" >0.9998</td>\n",
       "      <td id=\"T_5a55d_row5_col4\" class=\"data row5 col4\" >0.9638</td>\n",
       "      <td id=\"T_5a55d_row5_col5\" class=\"data row5 col5\" >0.9300</td>\n",
       "      <td id=\"T_5a55d_row5_col6\" class=\"data row5 col6\" >0.9323</td>\n",
       "    </tr>\n",
       "    <tr>\n",
       "      <th id=\"T_5a55d_level0_row6\" class=\"row_heading level0 row6\" >Std</th>\n",
       "      <td id=\"T_5a55d_row6_col0\" class=\"data row6 col0\" >0.0015</td>\n",
       "      <td id=\"T_5a55d_row6_col1\" class=\"data row6 col1\" >0.0014</td>\n",
       "      <td id=\"T_5a55d_row6_col2\" class=\"data row6 col2\" >0.0031</td>\n",
       "      <td id=\"T_5a55d_row6_col3\" class=\"data row6 col3\" >0.0005</td>\n",
       "      <td id=\"T_5a55d_row6_col4\" class=\"data row6 col4\" >0.0016</td>\n",
       "      <td id=\"T_5a55d_row6_col5\" class=\"data row6 col5\" >0.0031</td>\n",
       "      <td id=\"T_5a55d_row6_col6\" class=\"data row6 col6\" >0.0029</td>\n",
       "    </tr>\n",
       "  </tbody>\n",
       "</table>\n"
      ],
      "text/plain": [
       "<pandas.io.formats.style.Styler at 0x181d8df8108>"
      ]
     },
     "metadata": {},
     "output_type": "display_data"
    },
    {
     "name": "stdout",
     "output_type": "stream",
     "text": [
      "RandomForestClassifier(bootstrap=True, ccp_alpha=0.0,\n",
      "                       class_weight='balanced_subsample', criterion='gini',\n",
      "                       max_depth=10, max_features='sqrt', max_leaf_nodes=None,\n",
      "                       max_samples=None, min_impurity_decrease=0.2,\n",
      "                       min_impurity_split=None, min_samples_leaf=6,\n",
      "                       min_samples_split=9, min_weight_fraction_leaf=0.0,\n",
      "                       n_estimators=20, n_jobs=-1, oob_score=False,\n",
      "                       random_state=1122, verbose=0, warm_start=False)\n"
     ]
    }
   ],
   "source": [
    "### Random Forest Classifier gave best prediction. Use it for hyper parameter tuning\n",
    "smote_rf = create_model('rf',fold=5)\n",
    "tuned_smote_rf=tune_model(smote_rf,optimize='Precision',fold=5)\n",
    "print(tuned_smote_rf)\n"
   ]
  },
  {
   "cell_type": "markdown",
   "id": "3f339936",
   "metadata": {},
   "source": [
    "*** The model seems to be over fitting ***\n",
    "\n",
    "### Prediction using tuned random forest model"
   ]
  },
  {
   "cell_type": "code",
   "execution_count": 68,
   "id": "1151205e",
   "metadata": {},
   "outputs": [
    {
     "data": {
      "text/html": [
       "<style type=\"text/css\">\n",
       "</style>\n",
       "<table id=\"T_9ed4a_\">\n",
       "  <thead>\n",
       "    <tr>\n",
       "      <th class=\"blank level0\" >&nbsp;</th>\n",
       "      <th class=\"col_heading level0 col0\" >Model</th>\n",
       "      <th class=\"col_heading level0 col1\" >Accuracy</th>\n",
       "      <th class=\"col_heading level0 col2\" >AUC</th>\n",
       "      <th class=\"col_heading level0 col3\" >Recall</th>\n",
       "      <th class=\"col_heading level0 col4\" >Prec.</th>\n",
       "      <th class=\"col_heading level0 col5\" >F1</th>\n",
       "      <th class=\"col_heading level0 col6\" >Kappa</th>\n",
       "      <th class=\"col_heading level0 col7\" >MCC</th>\n",
       "    </tr>\n",
       "  </thead>\n",
       "  <tbody>\n",
       "    <tr>\n",
       "      <th id=\"T_9ed4a_level0_row0\" class=\"row_heading level0 row0\" >0</th>\n",
       "      <td id=\"T_9ed4a_row0_col0\" class=\"data row0 col0\" >Random Forest Classifier</td>\n",
       "      <td id=\"T_9ed4a_row0_col1\" class=\"data row0 col1\" >0.9664</td>\n",
       "      <td id=\"T_9ed4a_row0_col2\" class=\"data row0 col2\" >0.9665</td>\n",
       "      <td id=\"T_9ed4a_row0_col3\" class=\"data row0 col3\" >0.9331</td>\n",
       "      <td id=\"T_9ed4a_row0_col4\" class=\"data row0 col4\" >0.9997</td>\n",
       "      <td id=\"T_9ed4a_row0_col5\" class=\"data row0 col5\" >0.9653</td>\n",
       "      <td id=\"T_9ed4a_row0_col6\" class=\"data row0 col6\" >0.9328</td>\n",
       "      <td id=\"T_9ed4a_row0_col7\" class=\"data row0 col7\" >0.9349</td>\n",
       "    </tr>\n",
       "  </tbody>\n",
       "</table>\n"
      ],
      "text/plain": [
       "<pandas.io.formats.style.Styler at 0x181db09d388>"
      ]
     },
     "metadata": {},
     "output_type": "display_data"
    }
   ],
   "source": [
    "pred_smote_rf=predict_model(tuned_smote_rf)\n"
   ]
  },
  {
   "cell_type": "markdown",
   "id": "4ef5c37f",
   "metadata": {},
   "source": [
    "*** The model performed well for the data splitted for test data set***"
   ]
  },
  {
   "cell_type": "markdown",
   "id": "7645654b",
   "metadata": {},
   "source": [
    "### Testing the model on unseen data we hold out earlier\n",
    "\n",
    "### Preparing dataframe for validation: Hold out data"
   ]
  },
  {
   "cell_type": "code",
   "execution_count": 70,
   "id": "9b2f4bef",
   "metadata": {},
   "outputs": [
    {
     "data": {
      "text/plain": [
       "(1542, 136)"
      ]
     },
     "execution_count": 70,
     "metadata": {},
     "output_type": "execute_result"
    }
   ],
   "source": [
    "Test=pd.concat([X_test,y_test],axis=1)\n",
    "Test.shape"
   ]
  },
  {
   "cell_type": "markdown",
   "id": "5ad12169",
   "metadata": {},
   "source": [
    "#### Predicting using tuned random forest model on unseen validation data set"
   ]
  },
  {
   "cell_type": "code",
   "execution_count": 72,
   "id": "873562fa",
   "metadata": {},
   "outputs": [
    {
     "data": {
      "text/html": [
       "<style type=\"text/css\">\n",
       "</style>\n",
       "<table id=\"T_00fa7_\">\n",
       "  <thead>\n",
       "    <tr>\n",
       "      <th class=\"blank level0\" >&nbsp;</th>\n",
       "      <th class=\"col_heading level0 col0\" >Model</th>\n",
       "      <th class=\"col_heading level0 col1\" >Accuracy</th>\n",
       "      <th class=\"col_heading level0 col2\" >AUC</th>\n",
       "      <th class=\"col_heading level0 col3\" >Recall</th>\n",
       "      <th class=\"col_heading level0 col4\" >Prec.</th>\n",
       "      <th class=\"col_heading level0 col5\" >F1</th>\n",
       "      <th class=\"col_heading level0 col6\" >Kappa</th>\n",
       "      <th class=\"col_heading level0 col7\" >MCC</th>\n",
       "    </tr>\n",
       "  </thead>\n",
       "  <tbody>\n",
       "    <tr>\n",
       "      <th id=\"T_00fa7_level0_row0\" class=\"row_heading level0 row0\" >0</th>\n",
       "      <td id=\"T_00fa7_row0_col0\" class=\"data row0 col0\" >Random Forest Classifier</td>\n",
       "      <td id=\"T_00fa7_row0_col1\" class=\"data row0 col1\" >0.9403</td>\n",
       "      <td id=\"T_00fa7_row0_col2\" class=\"data row0 col2\" >0.4983</td>\n",
       "      <td id=\"T_00fa7_row0_col3\" class=\"data row0 col3\" >0.0000</td>\n",
       "      <td id=\"T_00fa7_row0_col4\" class=\"data row0 col4\" >0.0000</td>\n",
       "      <td id=\"T_00fa7_row0_col5\" class=\"data row0 col5\" >0.0000</td>\n",
       "      <td id=\"T_00fa7_row0_col6\" class=\"data row0 col6\" >0.0000</td>\n",
       "      <td id=\"T_00fa7_row0_col7\" class=\"data row0 col7\" >0.0000</td>\n",
       "    </tr>\n",
       "  </tbody>\n",
       "</table>\n"
      ],
      "text/plain": [
       "<pandas.io.formats.style.Styler at 0x181db603e48>"
      ]
     },
     "metadata": {},
     "output_type": "display_data"
    }
   ],
   "source": [
    "predunseenlgbm=predict_model(tuned_smote_rf, data=Test)"
   ]
  },
  {
   "cell_type": "markdown",
   "id": "eb7399db",
   "metadata": {},
   "source": [
    "***This model did not generalize at all on unseen data ***"
   ]
  },
  {
   "cell_type": "markdown",
   "id": "7a6154de",
   "metadata": {},
   "source": [
    "### Potential issues :\n",
    "1. Overfitting\n",
    "2. Distribution of data set in unseen data is not the same \n",
    "3. May be number of features are too high as dimensionality increased significantly\n"
   ]
  },
  {
   "cell_type": "markdown",
   "id": "78d2a914",
   "metadata": {},
   "source": [
    "### Summary"
   ]
  },
  {
   "cell_type": "markdown",
   "id": "59199d19",
   "metadata": {},
   "source": []
  }
 ],
 "metadata": {
  "kernelspec": {
   "display_name": "Python 3 (ipykernel)",
   "language": "python",
   "name": "python3"
  },
  "language_info": {
   "codemirror_mode": {
    "name": "ipython",
    "version": 3
   },
   "file_extension": ".py",
   "mimetype": "text/x-python",
   "name": "python",
   "nbconvert_exporter": "python",
   "pygments_lexer": "ipython3",
   "version": "3.7.13"
  }
 },
 "nbformat": 4,
 "nbformat_minor": 5
}
